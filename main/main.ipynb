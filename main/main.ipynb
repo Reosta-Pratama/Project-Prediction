{
 "cells": [
  {
   "cell_type": "markdown",
   "metadata": {},
   "source": [
    "# 1. Read and import data"
   ]
  },
  {
   "cell_type": "code",
   "execution_count": 1,
   "metadata": {},
   "outputs": [],
   "source": [
    "import math  \n",
    "import numpy as np\n",
    "import pandas as pd\n",
    "\n",
    "import matplotlib.pyplot as plt\n",
    "import seaborn as sns\n",
    "\n",
    "import statsmodels.api as sm\n",
    "\n",
    "from sklearn.linear_model import LinearRegression\n",
    "from sklearn.ensemble import RandomForestRegressor\n",
    "from sklearn.preprocessing import OneHotEncoder\n",
    "from sklearn.model_selection import train_test_split\n",
    "from sklearn.metrics import mean_squared_error\n",
    "from sklearn.metrics import mean_absolute_error"
   ]
  },
  {
   "cell_type": "code",
   "execution_count": 2,
   "metadata": {},
   "outputs": [],
   "source": [
    "dataset = pd.read_csv('../data/salary.csv', sep='|')"
   ]
  },
  {
   "cell_type": "markdown",
   "metadata": {},
   "source": [
    "**Cek Cek Dulu**"
   ]
  },
  {
   "cell_type": "code",
   "execution_count": 3,
   "metadata": {},
   "outputs": [
    {
     "data": {
      "text/html": [
       "<div>\n",
       "<style scoped>\n",
       "    .dataframe tbody tr th:only-of-type {\n",
       "        vertical-align: middle;\n",
       "    }\n",
       "\n",
       "    .dataframe tbody tr th {\n",
       "        vertical-align: top;\n",
       "    }\n",
       "\n",
       "    .dataframe thead th {\n",
       "        text-align: right;\n",
       "    }\n",
       "</style>\n",
       "<table border=\"1\" class=\"dataframe\">\n",
       "  <thead>\n",
       "    <tr style=\"text-align: right;\">\n",
       "      <th></th>\n",
       "      <th>id</th>\n",
       "      <th>job_title</th>\n",
       "      <th>location</th>\n",
       "      <th>salary_currency</th>\n",
       "      <th>career_level</th>\n",
       "      <th>experience_level</th>\n",
       "      <th>education_level</th>\n",
       "      <th>employment_type</th>\n",
       "      <th>job_function</th>\n",
       "      <th>job_benefits</th>\n",
       "      <th>company_process_time</th>\n",
       "      <th>company_size</th>\n",
       "      <th>company_industry</th>\n",
       "      <th>job_description</th>\n",
       "      <th>salary</th>\n",
       "    </tr>\n",
       "  </thead>\n",
       "  <tbody>\n",
       "    <tr>\n",
       "      <th>0</th>\n",
       "      <td>1</td>\n",
       "      <td>Facility Maintenance &amp; Smart Warehouse Manager</td>\n",
       "      <td>Bandung</td>\n",
       "      <td>IDR</td>\n",
       "      <td>Manajer/Asisten Manajer</td>\n",
       "      <td>5 tahun</td>\n",
       "      <td>Sertifikat Professional, D3 (Diploma), D4 (Dip...</td>\n",
       "      <td>Penuh Waktu</td>\n",
       "      <td>Manufaktur,Pemeliharaan</td>\n",
       "      <td>NaN</td>\n",
       "      <td>NaN</td>\n",
       "      <td>NaN</td>\n",
       "      <td>NaN</td>\n",
       "      <td>Deskripsi PekerjaanRequirements :D3/SI from re...</td>\n",
       "      <td>NaN</td>\n",
       "    </tr>\n",
       "    <tr>\n",
       "      <th>1</th>\n",
       "      <td>2</td>\n",
       "      <td>Procurement Department Head</td>\n",
       "      <td>Jakarta Raya</td>\n",
       "      <td>IDR</td>\n",
       "      <td>Manajer/Asisten Manajer</td>\n",
       "      <td>5 tahun</td>\n",
       "      <td>Sarjana (S1), Diploma Pascasarjana, Gelar Prof...</td>\n",
       "      <td>Penuh Waktu</td>\n",
       "      <td>Manufaktur,Pembelian/Manajemen Material</td>\n",
       "      <td>NaN</td>\n",
       "      <td>25 days</td>\n",
       "      <td>51 - 200 pekerja</td>\n",
       "      <td>Manajemen/Konsulting HR</td>\n",
       "      <td>Job Role: 1. Responsible for material availabi...</td>\n",
       "      <td>NaN</td>\n",
       "    </tr>\n",
       "    <tr>\n",
       "      <th>2</th>\n",
       "      <td>3</td>\n",
       "      <td>SALES ADMIN</td>\n",
       "      <td>Jakarta Barat</td>\n",
       "      <td>IDR</td>\n",
       "      <td>Supervisor/Koordinator</td>\n",
       "      <td>4 tahun</td>\n",
       "      <td>Sarjana (S1)</td>\n",
       "      <td>Penuh Waktu</td>\n",
       "      <td>Penjualan / Pemasaran,Penjualan Ritel</td>\n",
       "      <td>Waktu regular, Senin - Jumat;Bisnis (contoh: K...</td>\n",
       "      <td>30 days</td>\n",
       "      <td>51 - 200 pekerja</td>\n",
       "      <td>Umum &amp; Grosir</td>\n",
       "      <td>Internal Sales &amp; AdminJob Description :We are ...</td>\n",
       "      <td>NaN</td>\n",
       "    </tr>\n",
       "    <tr>\n",
       "      <th>3</th>\n",
       "      <td>4</td>\n",
       "      <td>City Operation Lead Shopee Express (Cirebon)</td>\n",
       "      <td>Cirebon</td>\n",
       "      <td>IDR</td>\n",
       "      <td>Supervisor/Koordinator</td>\n",
       "      <td>5 tahun</td>\n",
       "      <td>Sarjana (S1), Diploma Pascasarjana, Gelar Prof...</td>\n",
       "      <td>Penuh Waktu</td>\n",
       "      <td>Pelayanan,Logistik/Rantai Pasokan</td>\n",
       "      <td>Tip;Waktu regular, Senin - Jumat;Kasual (conto...</td>\n",
       "      <td>21 days</td>\n",
       "      <td>2001 - 5000 pekerja</td>\n",
       "      <td>Retail/Merchandise</td>\n",
       "      <td>Job Description:Responsible for HSE implementa...</td>\n",
       "      <td>NaN</td>\n",
       "    </tr>\n",
       "    <tr>\n",
       "      <th>4</th>\n",
       "      <td>5</td>\n",
       "      <td>Japanese Interpreter</td>\n",
       "      <td>Bekasi</td>\n",
       "      <td>IDR</td>\n",
       "      <td>Pegawai (non-manajemen &amp; non-supervisor)</td>\n",
       "      <td>2 tahun</td>\n",
       "      <td>Sertifikat Professional, D3 (Diploma), D4 (Dip...</td>\n",
       "      <td>Penuh Waktu</td>\n",
       "      <td>Lainnya,Jurnalis/Editor</td>\n",
       "      <td>NaN</td>\n",
       "      <td>23 days</td>\n",
       "      <td>201 - 500 pekerja</td>\n",
       "      <td>Manajemen/Konsulting HR</td>\n",
       "      <td>Overview: Our clients is manufacture for autom...</td>\n",
       "      <td>NaN</td>\n",
       "    </tr>\n",
       "  </tbody>\n",
       "</table>\n",
       "</div>"
      ],
      "text/plain": [
       "   id                                       job_title       location  \\\n",
       "0   1  Facility Maintenance & Smart Warehouse Manager        Bandung   \n",
       "1   2                     Procurement Department Head   Jakarta Raya   \n",
       "2   3                                     SALES ADMIN  Jakarta Barat   \n",
       "3   4    City Operation Lead Shopee Express (Cirebon)        Cirebon   \n",
       "4   5                            Japanese Interpreter         Bekasi   \n",
       "\n",
       "  salary_currency                              career_level experience_level  \\\n",
       "0             IDR                   Manajer/Asisten Manajer          5 tahun   \n",
       "1             IDR                   Manajer/Asisten Manajer          5 tahun   \n",
       "2             IDR                    Supervisor/Koordinator          4 tahun   \n",
       "3             IDR                    Supervisor/Koordinator          5 tahun   \n",
       "4             IDR  Pegawai (non-manajemen & non-supervisor)          2 tahun   \n",
       "\n",
       "                                     education_level employment_type  \\\n",
       "0  Sertifikat Professional, D3 (Diploma), D4 (Dip...     Penuh Waktu   \n",
       "1  Sarjana (S1), Diploma Pascasarjana, Gelar Prof...     Penuh Waktu   \n",
       "2                                       Sarjana (S1)     Penuh Waktu   \n",
       "3  Sarjana (S1), Diploma Pascasarjana, Gelar Prof...     Penuh Waktu   \n",
       "4  Sertifikat Professional, D3 (Diploma), D4 (Dip...     Penuh Waktu   \n",
       "\n",
       "                              job_function  \\\n",
       "0                  Manufaktur,Pemeliharaan   \n",
       "1  Manufaktur,Pembelian/Manajemen Material   \n",
       "2    Penjualan / Pemasaran,Penjualan Ritel   \n",
       "3        Pelayanan,Logistik/Rantai Pasokan   \n",
       "4                  Lainnya,Jurnalis/Editor   \n",
       "\n",
       "                                        job_benefits company_process_time  \\\n",
       "0                                                NaN                  NaN   \n",
       "1                                                NaN              25 days   \n",
       "2  Waktu regular, Senin - Jumat;Bisnis (contoh: K...              30 days   \n",
       "3  Tip;Waktu regular, Senin - Jumat;Kasual (conto...              21 days   \n",
       "4                                                NaN              23 days   \n",
       "\n",
       "          company_size         company_industry  \\\n",
       "0                  NaN                      NaN   \n",
       "1     51 - 200 pekerja  Manajemen/Konsulting HR   \n",
       "2     51 - 200 pekerja            Umum & Grosir   \n",
       "3  2001 - 5000 pekerja       Retail/Merchandise   \n",
       "4    201 - 500 pekerja  Manajemen/Konsulting HR   \n",
       "\n",
       "                                     job_description  salary  \n",
       "0  Deskripsi PekerjaanRequirements :D3/SI from re...     NaN  \n",
       "1  Job Role: 1. Responsible for material availabi...     NaN  \n",
       "2  Internal Sales & AdminJob Description :We are ...     NaN  \n",
       "3  Job Description:Responsible for HSE implementa...     NaN  \n",
       "4  Overview: Our clients is manufacture for autom...     NaN  "
      ]
     },
     "execution_count": 3,
     "metadata": {},
     "output_type": "execute_result"
    }
   ],
   "source": [
    "dataset.head()"
   ]
  },
  {
   "cell_type": "code",
   "execution_count": 4,
   "metadata": {},
   "outputs": [
    {
     "name": "stdout",
     "output_type": "stream",
     "text": [
      "<class 'pandas.core.frame.DataFrame'>\n",
      "RangeIndex: 34746 entries, 0 to 34745\n",
      "Data columns (total 15 columns):\n",
      " #   Column                Non-Null Count  Dtype  \n",
      "---  ------                --------------  -----  \n",
      " 0   id                    34746 non-null  int64  \n",
      " 1   job_title             34746 non-null  object \n",
      " 2   location              34746 non-null  object \n",
      " 3   salary_currency       34742 non-null  object \n",
      " 4   career_level          34746 non-null  object \n",
      " 5   experience_level      30205 non-null  object \n",
      " 6   education_level       34746 non-null  object \n",
      " 7   employment_type       33402 non-null  object \n",
      " 8   job_function          34746 non-null  object \n",
      " 9   job_benefits          27330 non-null  object \n",
      " 10  company_process_time  24555 non-null  object \n",
      " 11  company_size          29103 non-null  object \n",
      " 12  company_industry      33132 non-null  object \n",
      " 13  job_description       34745 non-null  object \n",
      " 14  salary                9352 non-null   float64\n",
      "dtypes: float64(1), int64(1), object(13)\n",
      "memory usage: 4.0+ MB\n"
     ]
    }
   ],
   "source": [
    "dataset.info()"
   ]
  },
  {
   "cell_type": "code",
   "execution_count": 5,
   "metadata": {},
   "outputs": [
    {
     "data": {
      "text/plain": [
       "id                          0\n",
       "job_title                   0\n",
       "location                    0\n",
       "salary_currency             4\n",
       "career_level                0\n",
       "experience_level         4541\n",
       "education_level             0\n",
       "employment_type          1344\n",
       "job_function                0\n",
       "job_benefits             7416\n",
       "company_process_time    10191\n",
       "company_size             5643\n",
       "company_industry         1614\n",
       "job_description             1\n",
       "salary                  25394\n",
       "dtype: int64"
      ]
     },
     "execution_count": 5,
     "metadata": {},
     "output_type": "execute_result"
    }
   ],
   "source": [
    "dataset.isna().sum()"
   ]
  },
  {
   "cell_type": "markdown",
   "metadata": {},
   "source": [
    "# 2. Cleaning the data"
   ]
  },
  {
   "cell_type": "markdown",
   "metadata": {},
   "source": [
    "**Drop kolom yang tidak diperlukan**"
   ]
  },
  {
   "cell_type": "code",
   "execution_count": 6,
   "metadata": {},
   "outputs": [],
   "source": [
    "dataset = dataset.drop(labels=[\"id\", \"salary_currency\", \"job_benefits\", \"job_function\", \"job_description\",\n",
    "\"company_process_time\", \"company_size\", \"company_industry\", \"location\"], axis=1)"
   ]
  },
  {
   "cell_type": "code",
   "execution_count": 7,
   "metadata": {},
   "outputs": [
    {
     "name": "stderr",
     "output_type": "stream",
     "text": [
      "C:\\Users\\reost\\AppData\\Local\\Temp\\ipykernel_20100\\1617876946.py:1: FutureWarning: The default value of regex will change from True to False in a future version.\n",
      "  dataset[\"experience_level\"] = dataset[\"experience_level\"].str.replace(\"\\D\", \"\")\n"
     ]
    }
   ],
   "source": [
    "dataset[\"experience_level\"] = dataset[\"experience_level\"].str.replace(\"\\D\", \"\")"
   ]
  },
  {
   "cell_type": "markdown",
   "metadata": {},
   "source": [
    "**Mengisi Missing Value Salary**"
   ]
  },
  {
   "cell_type": "code",
   "execution_count": 8,
   "metadata": {},
   "outputs": [
    {
     "data": {
      "image/png": "[encoded data removed]",
      "text/plain": [
       "<Figure size 1000x500 with 1 Axes>"
      ]
     },
     "metadata": {},
     "output_type": "display_data"
    }
   ],
   "source": [
    "sns.set(rc={'figure.figsize':(10, 5)})\n",
    "sns.boxplot(dataset[\"salary\"])\n",
    "plt.show()"
   ]
  },
  {
   "cell_type": "code",
   "execution_count": 9,
   "metadata": {},
   "outputs": [],
   "source": [
    "dataset['salary'].fillna(dataset.groupby([\"career_level\"])['salary'].transform('median'), inplace=True)"
   ]
  },
  {
   "cell_type": "markdown",
   "metadata": {},
   "source": [
    "**Mapping Education Level**"
   ]
  },
  {
   "cell_type": "code",
   "execution_count": 10,
   "metadata": {},
   "outputs": [],
   "source": [
    "edu = []\n",
    "for i in dataset['education_level']:\n",
    "    if i == \"Sertifikat Professional, D3 (Diploma), D4 (Diploma), Sarjana (S1)\":\n",
    "        edu.append('D3 - S2')\n",
    "    elif i == \"Sarjana (S1), Diploma Pascasarjana, Gelar Professional, Magister (S2)\":\n",
    "        edu.append(\"S1 - S2\")\n",
    "    elif i == \"Sarjana (S1)\":\n",
    "        edu.append(\"S1\")     \n",
    "    elif i == \"SMA, SMU/SMK/STM\":\n",
    "        edu.append(\"SMA/SMU\")      \n",
    "    elif i == \"SMA, SMU/SMK/STM, Sertifikat Professional, D3 (Diploma), D4 (Diploma), Sarjana (S1)\":\n",
    "        edu.append(\"SMA/SMU - S1\")  \n",
    "    elif i == \"SMA, SMU/SMK/STM, Sertifikat Professional, D3 (Diploma), D4 (Diploma)\":\n",
    "        edu.append(\"SMA/SMU - S1\")\n",
    "    elif i == \"Sertifikat Professional, D3 (Diploma), D4 (Diploma), Sarjana (S1), Diploma Pascasarjana, Gelar Professional, Magister (S2)\":\n",
    "        edu.append(\"D3 - S2\") \n",
    "    elif i == \"Sertifikat Professional, D3 (Diploma), D4 (Diploma)\":\n",
    "        edu.append(\"D3 - S1\") \n",
    "    elif i == \"SMA, SMU/SMK/STM, Sarjana (S1)\":\n",
    "        edu.append(\"SMA/SMU - S1\") \n",
    "    elif i == \"Sarjana (S1), Diploma Pascasarjana, Gelar Professional, Magister (S2), Doktor (S3)\":\n",
    "        edu.append(\"S1 - S3\")   \n",
    "    elif i == \"Diploma Pascasarjana, Gelar Professional, Magister (S2)\":\n",
    "        edu.append(\"S1 - S2\")  \n",
    "    elif i == \"Sarjana (S1), Doktor (S3)\":\n",
    "        edu.append(\"S1 - S3\")  \n",
    "    elif i == \"Sertifikat Professional, D3 (Diploma), D4 (Diploma), Diploma Pascasarjana, Gelar Professional, Magister (S2)\":\n",
    "        edu.append(\"D3 - S2\")         \n",
    "    elif i == \"Diploma Pascasarjana, Gelar Professional, Magister (S2), Doktor (S3)\":\n",
    "        edu.append(\"S1 - S2\")   \n",
    "    elif i == \"Doktor (S3)\":\n",
    "        edu.append(\"S3\")     \n",
    "    elif i == \"SMA, SMU/SMK/STM, Sertifikat Professional, D3 (Diploma), D4 (Diploma), Diploma Pascasarjana, Gelar Professional, Magister (S2)\":\n",
    "        edu.append(\"SMA/SMU - S2\")  \n",
    "    elif i == \"SMA, SMU/SMK/STM, Sarjana (S1), Diploma Pascasarjana, Gelar Professional, Magister (S2)\":\n",
    "        edu.append(\"SMA/SMU - S2\")\n",
    "    elif i == \"SMA, SMU/SMK/STM, Sarjana (S1), Doktor (S3)\":\n",
    "        edu.append(\"S1 - S3\")                                                                                                                                                                                         \n",
    "    else:\n",
    "        edu.append('Tidak terspesifikasi')\n",
    "dataset['education_level'] = edu"
   ]
  },
  {
   "cell_type": "markdown",
   "metadata": {},
   "source": [
    "**Outlier**"
   ]
  },
  {
   "cell_type": "code",
   "execution_count": 11,
   "metadata": {},
   "outputs": [
    {
     "data": {
      "text/plain": [
       "job_title              0\n",
       "career_level           0\n",
       "experience_level    4541\n",
       "education_level        0\n",
       "employment_type     1344\n",
       "salary              1399\n",
       "dtype: int64"
      ]
     },
     "execution_count": 11,
     "metadata": {},
     "output_type": "execute_result"
    }
   ],
   "source": [
    "dataset.isna().sum()"
   ]
  },
  {
   "cell_type": "code",
   "execution_count": 12,
   "metadata": {},
   "outputs": [],
   "source": [
    "dataset.dropna(inplace=True)"
   ]
  },
  {
   "cell_type": "code",
   "execution_count": 13,
   "metadata": {},
   "outputs": [
    {
     "data": {
      "image/png": "[encoded data removed]",
      "text/plain": [
       "<Figure size 1000x500 with 1 Axes>"
      ]
     },
     "metadata": {},
     "output_type": "display_data"
    }
   ],
   "source": [
    "# Salary\n",
    "per25Salary = dataset['salary'].quantile(0.25)\n",
    "per75Salary = dataset['salary'].quantile(0.75)\n",
    "iqrSalary = per75Salary - per25Salary\n",
    "\n",
    "lower_limit = per25Salary - 1.5 * iqrSalary\n",
    "upper_limit = per75Salary + 1.5 * iqrSalary\n",
    "\n",
    "dataset = dataset[~((dataset[\"salary\"] < (lower_limit)) | (dataset[\"salary\"] > (upper_limit)))]\n",
    "dataset.reset_index(drop=True, inplace=True)\n",
    "\n",
    "sns.boxplot(dataset[\"salary\"])\n",
    "plt.show()"
   ]
  },
  {
   "cell_type": "markdown",
   "metadata": {},
   "source": [
    "**Cek Duplikasi Data**"
   ]
  },
  {
   "cell_type": "code",
   "execution_count": 14,
   "metadata": {},
   "outputs": [
    {
     "name": "stdout",
     "output_type": "stream",
     "text": [
      "Duplikasi Sebelum Di Drop:  5105\n",
      "Duplikasi Setelah Di Drop:  0\n"
     ]
    }
   ],
   "source": [
    "print(\"Duplikasi Sebelum Di Drop: \", dataset.duplicated().sum())\n",
    "dataset.drop_duplicates(keep='first', inplace=True)\n",
    "print(\"Duplikasi Setelah Di Drop: \", dataset.duplicated().sum())"
   ]
  },
  {
   "cell_type": "markdown",
   "metadata": {},
   "source": [
    "# 3. Discovering Data"
   ]
  },
  {
   "cell_type": "code",
   "execution_count": 15,
   "metadata": {},
   "outputs": [
    {
     "name": "stdout",
     "output_type": "stream",
     "text": [
      "<class 'pandas.core.frame.DataFrame'>\n",
      "Int64Index: 19749 entries, 0 to 24853\n",
      "Data columns (total 6 columns):\n",
      " #   Column            Non-Null Count  Dtype  \n",
      "---  ------            --------------  -----  \n",
      " 0   job_title         19749 non-null  object \n",
      " 1   career_level      19749 non-null  object \n",
      " 2   experience_level  19749 non-null  object \n",
      " 3   education_level   19749 non-null  object \n",
      " 4   employment_type   19749 non-null  object \n",
      " 5   salary            19749 non-null  float64\n",
      "dtypes: float64(1), object(5)\n",
      "memory usage: 1.1+ MB\n"
     ]
    }
   ],
   "source": [
    "dataset.info()"
   ]
  },
  {
   "cell_type": "markdown",
   "metadata": {},
   "source": [
    "**Grouping Categorical & Numerical**"
   ]
  },
  {
   "cell_type": "code",
   "execution_count": 16,
   "metadata": {},
   "outputs": [
    {
     "name": "stdout",
     "output_type": "stream",
     "text": [
      "['job_title', 'career_level', 'experience_level', 'education_level', 'employment_type']\n"
     ]
    }
   ],
   "source": [
    "categorical = list(dataset.select_dtypes(include='object'))\n",
    "print(categorical)"
   ]
  },
  {
   "cell_type": "code",
   "execution_count": 17,
   "metadata": {},
   "outputs": [
    {
     "data": {
      "text/html": [
       "<div>\n",
       "<style scoped>\n",
       "    .dataframe tbody tr th:only-of-type {\n",
       "        vertical-align: middle;\n",
       "    }\n",
       "\n",
       "    .dataframe tbody tr th {\n",
       "        vertical-align: top;\n",
       "    }\n",
       "\n",
       "    .dataframe thead th {\n",
       "        text-align: right;\n",
       "    }\n",
       "</style>\n",
       "<table border=\"1\" class=\"dataframe\">\n",
       "  <thead>\n",
       "    <tr style=\"text-align: right;\">\n",
       "      <th></th>\n",
       "      <th>job_title</th>\n",
       "      <th>career_level</th>\n",
       "      <th>experience_level</th>\n",
       "      <th>education_level</th>\n",
       "      <th>employment_type</th>\n",
       "    </tr>\n",
       "  </thead>\n",
       "  <tbody>\n",
       "    <tr>\n",
       "      <th>count</th>\n",
       "      <td>19749</td>\n",
       "      <td>19749</td>\n",
       "      <td>19749</td>\n",
       "      <td>19749</td>\n",
       "      <td>19749</td>\n",
       "    </tr>\n",
       "    <tr>\n",
       "      <th>unique</th>\n",
       "      <td>14640</td>\n",
       "      <td>5</td>\n",
       "      <td>15</td>\n",
       "      <td>10</td>\n",
       "      <td>7</td>\n",
       "    </tr>\n",
       "    <tr>\n",
       "      <th>top</th>\n",
       "      <td>Sales Executive</td>\n",
       "      <td>Pegawai (non-manajemen &amp; non-supervisor)</td>\n",
       "      <td>1</td>\n",
       "      <td>S1</td>\n",
       "      <td>Penuh Waktu</td>\n",
       "    </tr>\n",
       "    <tr>\n",
       "      <th>freq</th>\n",
       "      <td>84</td>\n",
       "      <td>14048</td>\n",
       "      <td>7810</td>\n",
       "      <td>6615</td>\n",
       "      <td>16747</td>\n",
       "    </tr>\n",
       "  </tbody>\n",
       "</table>\n",
       "</div>"
      ],
      "text/plain": [
       "              job_title                              career_level  \\\n",
       "count             19749                                     19749   \n",
       "unique            14640                                         5   \n",
       "top     Sales Executive  Pegawai (non-manajemen & non-supervisor)   \n",
       "freq                 84                                     14048   \n",
       "\n",
       "       experience_level education_level employment_type  \n",
       "count             19749           19749           19749  \n",
       "unique               15              10               7  \n",
       "top                   1              S1     Penuh Waktu  \n",
       "freq               7810            6615           16747  "
      ]
     },
     "execution_count": 17,
     "metadata": {},
     "output_type": "execute_result"
    }
   ],
   "source": [
    "dataset[categorical].describe() "
   ]
  },
  {
   "cell_type": "code",
   "execution_count": 18,
   "metadata": {},
   "outputs": [
    {
     "name": "stdout",
     "output_type": "stream",
     "text": [
      "['salary']\n"
     ]
    }
   ],
   "source": [
    "numerical = dataset.columns[dataset.dtypes != 'object'].tolist()\n",
    "print(numerical)"
   ]
  },
  {
   "cell_type": "code",
   "execution_count": 19,
   "metadata": {},
   "outputs": [
    {
     "data": {
      "text/html": [
       "<div>\n",
       "<style scoped>\n",
       "    .dataframe tbody tr th:only-of-type {\n",
       "        vertical-align: middle;\n",
       "    }\n",
       "\n",
       "    .dataframe tbody tr th {\n",
       "        vertical-align: top;\n",
       "    }\n",
       "\n",
       "    .dataframe thead th {\n",
       "        text-align: right;\n",
       "    }\n",
       "</style>\n",
       "<table border=\"1\" class=\"dataframe\">\n",
       "  <thead>\n",
       "    <tr style=\"text-align: right;\">\n",
       "      <th></th>\n",
       "      <th>salary</th>\n",
       "    </tr>\n",
       "  </thead>\n",
       "  <tbody>\n",
       "    <tr>\n",
       "      <th>count</th>\n",
       "      <td>1.974900e+04</td>\n",
       "    </tr>\n",
       "    <tr>\n",
       "      <th>mean</th>\n",
       "      <td>5.363955e+06</td>\n",
       "    </tr>\n",
       "    <tr>\n",
       "      <th>std</th>\n",
       "      <td>1.202457e+06</td>\n",
       "    </tr>\n",
       "    <tr>\n",
       "      <th>min</th>\n",
       "      <td>2.000000e+06</td>\n",
       "    </tr>\n",
       "    <tr>\n",
       "      <th>25%</th>\n",
       "      <td>4.850000e+06</td>\n",
       "    </tr>\n",
       "    <tr>\n",
       "      <th>50%</th>\n",
       "      <td>4.850000e+06</td>\n",
       "    </tr>\n",
       "    <tr>\n",
       "      <th>75%</th>\n",
       "      <td>6.750000e+06</td>\n",
       "    </tr>\n",
       "    <tr>\n",
       "      <th>max</th>\n",
       "      <td>9.600000e+06</td>\n",
       "    </tr>\n",
       "  </tbody>\n",
       "</table>\n",
       "</div>"
      ],
      "text/plain": [
       "             salary\n",
       "count  1.974900e+04\n",
       "mean   5.363955e+06\n",
       "std    1.202457e+06\n",
       "min    2.000000e+06\n",
       "25%    4.850000e+06\n",
       "50%    4.850000e+06\n",
       "75%    6.750000e+06\n",
       "max    9.600000e+06"
      ]
     },
     "execution_count": 19,
     "metadata": {},
     "output_type": "execute_result"
    }
   ],
   "source": [
    "dataset[numerical].describe()"
   ]
  },
  {
   "cell_type": "markdown",
   "metadata": {},
   "source": [
    "# 4. Data Preprocessing"
   ]
  },
  {
   "cell_type": "code",
   "execution_count": 20,
   "metadata": {},
   "outputs": [],
   "source": [
    "X = dataset.drop([\"salary\", \"job_title\"], axis=1)\n",
    "y = dataset['salary']"
   ]
  },
  {
   "cell_type": "code",
   "execution_count": 21,
   "metadata": {},
   "outputs": [
    {
     "name": "stdout",
     "output_type": "stream",
     "text": [
      "Traning Data: (15799, 4)\n",
      "Testing Data: (3950, 4)\n"
     ]
    }
   ],
   "source": [
    "X_train,X_test, y_train, y_test= train_test_split(X, y, test_size=0.2, random_state=0)\n",
    "\n",
    "print(f'Traning Data: {X_train.shape}')\n",
    "print(f'Testing Data: {X_test.shape}')"
   ]
  },
  {
   "cell_type": "markdown",
   "metadata": {},
   "source": [
    "**Split Career Level**"
   ]
  },
  {
   "cell_type": "code",
   "execution_count": 22,
   "metadata": {},
   "outputs": [
    {
     "data": {
      "text/html": [
       "<div>\n",
       "<style scoped>\n",
       "    .dataframe tbody tr th:only-of-type {\n",
       "        vertical-align: middle;\n",
       "    }\n",
       "\n",
       "    .dataframe tbody tr th {\n",
       "        vertical-align: top;\n",
       "    }\n",
       "\n",
       "    .dataframe thead th {\n",
       "        text-align: right;\n",
       "    }\n",
       "</style>\n",
       "<table border=\"1\" class=\"dataframe\">\n",
       "  <thead>\n",
       "    <tr style=\"text-align: right;\">\n",
       "      <th></th>\n",
       "      <th>job_title</th>\n",
       "      <th>career_level</th>\n",
       "      <th>experience_level</th>\n",
       "      <th>education_level</th>\n",
       "      <th>employment_type</th>\n",
       "      <th>salary</th>\n",
       "    </tr>\n",
       "  </thead>\n",
       "  <tbody>\n",
       "    <tr>\n",
       "      <th>0</th>\n",
       "      <td>SALES ADMIN</td>\n",
       "      <td>Supervisor/Koordinator</td>\n",
       "      <td>4</td>\n",
       "      <td>S1</td>\n",
       "      <td>Penuh Waktu</td>\n",
       "      <td>6750000.0</td>\n",
       "    </tr>\n",
       "    <tr>\n",
       "      <th>1</th>\n",
       "      <td>City Operation Lead Shopee Express (Cirebon)</td>\n",
       "      <td>Supervisor/Koordinator</td>\n",
       "      <td>5</td>\n",
       "      <td>S1 - S2</td>\n",
       "      <td>Penuh Waktu</td>\n",
       "      <td>6750000.0</td>\n",
       "    </tr>\n",
       "    <tr>\n",
       "      <th>2</th>\n",
       "      <td>Japanese Interpreter</td>\n",
       "      <td>Pegawai (non-manajemen &amp; non-supervisor)</td>\n",
       "      <td>2</td>\n",
       "      <td>D3 - S2</td>\n",
       "      <td>Penuh Waktu</td>\n",
       "      <td>4850000.0</td>\n",
       "    </tr>\n",
       "    <tr>\n",
       "      <th>3</th>\n",
       "      <td>Admin Online Shop</td>\n",
       "      <td>Pegawai (non-manajemen &amp; non-supervisor)</td>\n",
       "      <td>1</td>\n",
       "      <td>SMA/SMU</td>\n",
       "      <td>Penuh Waktu</td>\n",
       "      <td>4850000.0</td>\n",
       "    </tr>\n",
       "    <tr>\n",
       "      <th>4</th>\n",
       "      <td>Accounting Staff</td>\n",
       "      <td>Pegawai (non-manajemen &amp; non-supervisor)</td>\n",
       "      <td>2</td>\n",
       "      <td>S1</td>\n",
       "      <td>Penuh Waktu</td>\n",
       "      <td>4850000.0</td>\n",
       "    </tr>\n",
       "    <tr>\n",
       "      <th>...</th>\n",
       "      <td>...</td>\n",
       "      <td>...</td>\n",
       "      <td>...</td>\n",
       "      <td>...</td>\n",
       "      <td>...</td>\n",
       "      <td>...</td>\n",
       "    </tr>\n",
       "    <tr>\n",
       "      <th>24847</th>\n",
       "      <td>Accountant</td>\n",
       "      <td>Pegawai (non-manajemen &amp; non-supervisor)</td>\n",
       "      <td>1</td>\n",
       "      <td>Tidak terspesifikasi</td>\n",
       "      <td>Penuh Waktu</td>\n",
       "      <td>3100000.0</td>\n",
       "    </tr>\n",
       "    <tr>\n",
       "      <th>24849</th>\n",
       "      <td>Accounting</td>\n",
       "      <td>Supervisor/Koordinator</td>\n",
       "      <td>2</td>\n",
       "      <td>S1</td>\n",
       "      <td>Kontrak</td>\n",
       "      <td>7000000.0</td>\n",
       "    </tr>\n",
       "    <tr>\n",
       "      <th>24850</th>\n",
       "      <td>Staff Accounting</td>\n",
       "      <td>Pegawai (non-manajemen &amp; non-supervisor)</td>\n",
       "      <td>2</td>\n",
       "      <td>S1</td>\n",
       "      <td>Kontrak</td>\n",
       "      <td>4500000.0</td>\n",
       "    </tr>\n",
       "    <tr>\n",
       "      <th>24851</th>\n",
       "      <td>Account Manager</td>\n",
       "      <td>Pegawai (non-manajemen &amp; non-supervisor)</td>\n",
       "      <td>2</td>\n",
       "      <td>S1</td>\n",
       "      <td>Penuh Waktu</td>\n",
       "      <td>6250000.0</td>\n",
       "    </tr>\n",
       "    <tr>\n",
       "      <th>24853</th>\n",
       "      <td>Credit Marketing Officer (CMO) - Tangerang &amp; C...</td>\n",
       "      <td>Pegawai (non-manajemen &amp; non-supervisor)</td>\n",
       "      <td>1</td>\n",
       "      <td>SMA/SMU - S1</td>\n",
       "      <td>Kontrak</td>\n",
       "      <td>5200000.0</td>\n",
       "    </tr>\n",
       "  </tbody>\n",
       "</table>\n",
       "<p>19749 rows × 6 columns</p>\n",
       "</div>"
      ],
      "text/plain": [
       "                                               job_title  \\\n",
       "0                                            SALES ADMIN   \n",
       "1           City Operation Lead Shopee Express (Cirebon)   \n",
       "2                                   Japanese Interpreter   \n",
       "3                                      Admin Online Shop   \n",
       "4                                       Accounting Staff   \n",
       "...                                                  ...   \n",
       "24847                                         Accountant   \n",
       "24849                                         Accounting   \n",
       "24850                                   Staff Accounting   \n",
       "24851                                    Account Manager   \n",
       "24853  Credit Marketing Officer (CMO) - Tangerang & C...   \n",
       "\n",
       "                                   career_level experience_level  \\\n",
       "0                        Supervisor/Koordinator                4   \n",
       "1                        Supervisor/Koordinator                5   \n",
       "2      Pegawai (non-manajemen & non-supervisor)                2   \n",
       "3      Pegawai (non-manajemen & non-supervisor)                1   \n",
       "4      Pegawai (non-manajemen & non-supervisor)                2   \n",
       "...                                         ...              ...   \n",
       "24847  Pegawai (non-manajemen & non-supervisor)                1   \n",
       "24849                    Supervisor/Koordinator                2   \n",
       "24850  Pegawai (non-manajemen & non-supervisor)                2   \n",
       "24851  Pegawai (non-manajemen & non-supervisor)                2   \n",
       "24853  Pegawai (non-manajemen & non-supervisor)                1   \n",
       "\n",
       "            education_level employment_type     salary  \n",
       "0                        S1     Penuh Waktu  6750000.0  \n",
       "1                   S1 - S2     Penuh Waktu  6750000.0  \n",
       "2                   D3 - S2     Penuh Waktu  4850000.0  \n",
       "3                   SMA/SMU     Penuh Waktu  4850000.0  \n",
       "4                        S1     Penuh Waktu  4850000.0  \n",
       "...                     ...             ...        ...  \n",
       "24847  Tidak terspesifikasi     Penuh Waktu  3100000.0  \n",
       "24849                    S1         Kontrak  7000000.0  \n",
       "24850                    S1         Kontrak  4500000.0  \n",
       "24851                    S1     Penuh Waktu  6250000.0  \n",
       "24853          SMA/SMU - S1         Kontrak  5200000.0  \n",
       "\n",
       "[19749 rows x 6 columns]"
      ]
     },
     "execution_count": 22,
     "metadata": {},
     "output_type": "execute_result"
    }
   ],
   "source": [
    "dataset"
   ]
  },
  {
   "cell_type": "code",
   "execution_count": 23,
   "metadata": {},
   "outputs": [
    {
     "data": {
      "text/plain": [
       "array([[0., 0., 0., 1., 0.],\n",
       "       [0., 0., 0., 1., 0.],\n",
       "       [0., 0., 0., 1., 0.],\n",
       "       ...,\n",
       "       [0., 0., 0., 1., 0.],\n",
       "       [0., 0., 0., 1., 0.],\n",
       "       [0., 0., 0., 0., 1.]])"
      ]
     },
     "execution_count": 23,
     "metadata": {},
     "output_type": "execute_result"
    }
   ],
   "source": [
    "enc_1 = OneHotEncoder(sparse_output=False)\n",
    "\n",
    "X_train_career = enc_1.fit_transform(X_train[['career_level']])\n",
    "X_test_career = enc_1.transform(X_test[['career_level']])\n",
    "X_train_career"
   ]
  },
  {
   "cell_type": "code",
   "execution_count": 24,
   "metadata": {},
   "outputs": [
    {
     "data": {
      "text/html": [
       "<div>\n",
       "<style scoped>\n",
       "    .dataframe tbody tr th:only-of-type {\n",
       "        vertical-align: middle;\n",
       "    }\n",
       "\n",
       "    .dataframe tbody tr th {\n",
       "        vertical-align: top;\n",
       "    }\n",
       "\n",
       "    .dataframe thead th {\n",
       "        text-align: right;\n",
       "    }\n",
       "</style>\n",
       "<table border=\"1\" class=\"dataframe\">\n",
       "  <thead>\n",
       "    <tr style=\"text-align: right;\">\n",
       "      <th></th>\n",
       "      <th>career_level_CEO/GM/Direktur/Manajer Senior</th>\n",
       "      <th>career_level_Lulusan baru/Pengalaman kerja kurang dari 1 tahun</th>\n",
       "      <th>career_level_Manajer/Asisten Manajer</th>\n",
       "      <th>career_level_Pegawai (non-manajemen &amp; non-supervisor)</th>\n",
       "      <th>career_level_Supervisor/Koordinator</th>\n",
       "    </tr>\n",
       "  </thead>\n",
       "  <tbody>\n",
       "    <tr>\n",
       "      <th>0</th>\n",
       "      <td>0.0</td>\n",
       "      <td>0.0</td>\n",
       "      <td>0.0</td>\n",
       "      <td>1.0</td>\n",
       "      <td>0.0</td>\n",
       "    </tr>\n",
       "    <tr>\n",
       "      <th>1</th>\n",
       "      <td>0.0</td>\n",
       "      <td>0.0</td>\n",
       "      <td>0.0</td>\n",
       "      <td>1.0</td>\n",
       "      <td>0.0</td>\n",
       "    </tr>\n",
       "    <tr>\n",
       "      <th>2</th>\n",
       "      <td>0.0</td>\n",
       "      <td>0.0</td>\n",
       "      <td>0.0</td>\n",
       "      <td>1.0</td>\n",
       "      <td>0.0</td>\n",
       "    </tr>\n",
       "    <tr>\n",
       "      <th>3</th>\n",
       "      <td>0.0</td>\n",
       "      <td>0.0</td>\n",
       "      <td>0.0</td>\n",
       "      <td>1.0</td>\n",
       "      <td>0.0</td>\n",
       "    </tr>\n",
       "    <tr>\n",
       "      <th>4</th>\n",
       "      <td>0.0</td>\n",
       "      <td>0.0</td>\n",
       "      <td>0.0</td>\n",
       "      <td>1.0</td>\n",
       "      <td>0.0</td>\n",
       "    </tr>\n",
       "  </tbody>\n",
       "</table>\n",
       "</div>"
      ],
      "text/plain": [
       "   career_level_CEO/GM/Direktur/Manajer Senior  \\\n",
       "0                                          0.0   \n",
       "1                                          0.0   \n",
       "2                                          0.0   \n",
       "3                                          0.0   \n",
       "4                                          0.0   \n",
       "\n",
       "   career_level_Lulusan baru/Pengalaman kerja kurang dari 1 tahun  \\\n",
       "0                                                0.0                \n",
       "1                                                0.0                \n",
       "2                                                0.0                \n",
       "3                                                0.0                \n",
       "4                                                0.0                \n",
       "\n",
       "   career_level_Manajer/Asisten Manajer  \\\n",
       "0                                   0.0   \n",
       "1                                   0.0   \n",
       "2                                   0.0   \n",
       "3                                   0.0   \n",
       "4                                   0.0   \n",
       "\n",
       "   career_level_Pegawai (non-manajemen & non-supervisor)  \\\n",
       "0                                                1.0       \n",
       "1                                                1.0       \n",
       "2                                                1.0       \n",
       "3                                                1.0       \n",
       "4                                                1.0       \n",
       "\n",
       "   career_level_Supervisor/Koordinator  \n",
       "0                                  0.0  \n",
       "1                                  0.0  \n",
       "2                                  0.0  \n",
       "3                                  0.0  \n",
       "4                                  0.0  "
      ]
     },
     "execution_count": 24,
     "metadata": {},
     "output_type": "execute_result"
    }
   ],
   "source": [
    "career_level = enc_1.get_feature_names_out(input_features=['career_level'])\n",
    "\n",
    "X_train_career = pd.DataFrame(X_train_career, columns=career_level)\n",
    "X_test_career = pd.DataFrame(X_test_career, columns=career_level)\n",
    "\n",
    "X_train_career.head()"
   ]
  },
  {
   "cell_type": "markdown",
   "metadata": {},
   "source": [
    "**Split Experience Level**"
   ]
  },
  {
   "cell_type": "code",
   "execution_count": 25,
   "metadata": {},
   "outputs": [
    {
     "data": {
      "text/plain": [
       "array([[0., 0., 0., ..., 0., 0., 0.],\n",
       "       [1., 0., 0., ..., 0., 0., 0.],\n",
       "       [1., 0., 0., ..., 0., 0., 0.],\n",
       "       ...,\n",
       "       [1., 0., 0., ..., 0., 0., 0.],\n",
       "       [1., 0., 0., ..., 0., 0., 0.],\n",
       "       [0., 0., 0., ..., 0., 0., 0.]])"
      ]
     },
     "execution_count": 25,
     "metadata": {},
     "output_type": "execute_result"
    }
   ],
   "source": [
    "enc_2 = OneHotEncoder(sparse_output=False, handle_unknown='ignore')\n",
    "\n",
    "X_train_experience = enc_2.fit_transform(X_train[['experience_level']])\n",
    "X_test_experience = enc_2.transform(X_test[['experience_level']])\n",
    "X_train_experience"
   ]
  },
  {
   "cell_type": "code",
   "execution_count": 26,
   "metadata": {},
   "outputs": [
    {
     "data": {
      "text/html": [
       "<div>\n",
       "<style scoped>\n",
       "    .dataframe tbody tr th:only-of-type {\n",
       "        vertical-align: middle;\n",
       "    }\n",
       "\n",
       "    .dataframe tbody tr th {\n",
       "        vertical-align: top;\n",
       "    }\n",
       "\n",
       "    .dataframe thead th {\n",
       "        text-align: right;\n",
       "    }\n",
       "</style>\n",
       "<table border=\"1\" class=\"dataframe\">\n",
       "  <thead>\n",
       "    <tr style=\"text-align: right;\">\n",
       "      <th></th>\n",
       "      <th>experience_level_1</th>\n",
       "      <th>experience_level_10</th>\n",
       "      <th>experience_level_12</th>\n",
       "      <th>experience_level_15</th>\n",
       "      <th>experience_level_17</th>\n",
       "      <th>experience_level_18</th>\n",
       "      <th>experience_level_2</th>\n",
       "      <th>experience_level_20</th>\n",
       "      <th>experience_level_3</th>\n",
       "      <th>experience_level_4</th>\n",
       "      <th>experience_level_5</th>\n",
       "      <th>experience_level_6</th>\n",
       "      <th>experience_level_7</th>\n",
       "      <th>experience_level_8</th>\n",
       "      <th>experience_level_9</th>\n",
       "    </tr>\n",
       "  </thead>\n",
       "  <tbody>\n",
       "    <tr>\n",
       "      <th>0</th>\n",
       "      <td>0.0</td>\n",
       "      <td>0.0</td>\n",
       "      <td>0.0</td>\n",
       "      <td>0.0</td>\n",
       "      <td>0.0</td>\n",
       "      <td>0.0</td>\n",
       "      <td>1.0</td>\n",
       "      <td>0.0</td>\n",
       "      <td>0.0</td>\n",
       "      <td>0.0</td>\n",
       "      <td>0.0</td>\n",
       "      <td>0.0</td>\n",
       "      <td>0.0</td>\n",
       "      <td>0.0</td>\n",
       "      <td>0.0</td>\n",
       "    </tr>\n",
       "    <tr>\n",
       "      <th>1</th>\n",
       "      <td>1.0</td>\n",
       "      <td>0.0</td>\n",
       "      <td>0.0</td>\n",
       "      <td>0.0</td>\n",
       "      <td>0.0</td>\n",
       "      <td>0.0</td>\n",
       "      <td>0.0</td>\n",
       "      <td>0.0</td>\n",
       "      <td>0.0</td>\n",
       "      <td>0.0</td>\n",
       "      <td>0.0</td>\n",
       "      <td>0.0</td>\n",
       "      <td>0.0</td>\n",
       "      <td>0.0</td>\n",
       "      <td>0.0</td>\n",
       "    </tr>\n",
       "    <tr>\n",
       "      <th>2</th>\n",
       "      <td>1.0</td>\n",
       "      <td>0.0</td>\n",
       "      <td>0.0</td>\n",
       "      <td>0.0</td>\n",
       "      <td>0.0</td>\n",
       "      <td>0.0</td>\n",
       "      <td>0.0</td>\n",
       "      <td>0.0</td>\n",
       "      <td>0.0</td>\n",
       "      <td>0.0</td>\n",
       "      <td>0.0</td>\n",
       "      <td>0.0</td>\n",
       "      <td>0.0</td>\n",
       "      <td>0.0</td>\n",
       "      <td>0.0</td>\n",
       "    </tr>\n",
       "    <tr>\n",
       "      <th>3</th>\n",
       "      <td>0.0</td>\n",
       "      <td>0.0</td>\n",
       "      <td>0.0</td>\n",
       "      <td>0.0</td>\n",
       "      <td>0.0</td>\n",
       "      <td>0.0</td>\n",
       "      <td>0.0</td>\n",
       "      <td>0.0</td>\n",
       "      <td>1.0</td>\n",
       "      <td>0.0</td>\n",
       "      <td>0.0</td>\n",
       "      <td>0.0</td>\n",
       "      <td>0.0</td>\n",
       "      <td>0.0</td>\n",
       "      <td>0.0</td>\n",
       "    </tr>\n",
       "    <tr>\n",
       "      <th>4</th>\n",
       "      <td>0.0</td>\n",
       "      <td>0.0</td>\n",
       "      <td>0.0</td>\n",
       "      <td>0.0</td>\n",
       "      <td>0.0</td>\n",
       "      <td>0.0</td>\n",
       "      <td>0.0</td>\n",
       "      <td>0.0</td>\n",
       "      <td>0.0</td>\n",
       "      <td>0.0</td>\n",
       "      <td>1.0</td>\n",
       "      <td>0.0</td>\n",
       "      <td>0.0</td>\n",
       "      <td>0.0</td>\n",
       "      <td>0.0</td>\n",
       "    </tr>\n",
       "  </tbody>\n",
       "</table>\n",
       "</div>"
      ],
      "text/plain": [
       "   experience_level_1  experience_level_10  experience_level_12  \\\n",
       "0                 0.0                  0.0                  0.0   \n",
       "1                 1.0                  0.0                  0.0   \n",
       "2                 1.0                  0.0                  0.0   \n",
       "3                 0.0                  0.0                  0.0   \n",
       "4                 0.0                  0.0                  0.0   \n",
       "\n",
       "   experience_level_15  experience_level_17  experience_level_18  \\\n",
       "0                  0.0                  0.0                  0.0   \n",
       "1                  0.0                  0.0                  0.0   \n",
       "2                  0.0                  0.0                  0.0   \n",
       "3                  0.0                  0.0                  0.0   \n",
       "4                  0.0                  0.0                  0.0   \n",
       "\n",
       "   experience_level_2  experience_level_20  experience_level_3  \\\n",
       "0                 1.0                  0.0                 0.0   \n",
       "1                 0.0                  0.0                 0.0   \n",
       "2                 0.0                  0.0                 0.0   \n",
       "3                 0.0                  0.0                 1.0   \n",
       "4                 0.0                  0.0                 0.0   \n",
       "\n",
       "   experience_level_4  experience_level_5  experience_level_6  \\\n",
       "0                 0.0                 0.0                 0.0   \n",
       "1                 0.0                 0.0                 0.0   \n",
       "2                 0.0                 0.0                 0.0   \n",
       "3                 0.0                 0.0                 0.0   \n",
       "4                 0.0                 1.0                 0.0   \n",
       "\n",
       "   experience_level_7  experience_level_8  experience_level_9  \n",
       "0                 0.0                 0.0                 0.0  \n",
       "1                 0.0                 0.0                 0.0  \n",
       "2                 0.0                 0.0                 0.0  \n",
       "3                 0.0                 0.0                 0.0  \n",
       "4                 0.0                 0.0                 0.0  "
      ]
     },
     "execution_count": 26,
     "metadata": {},
     "output_type": "execute_result"
    }
   ],
   "source": [
    "experience_level = enc_2.get_feature_names_out(input_features=['experience_level'])\n",
    "\n",
    "X_train_experience = pd.DataFrame(X_train_experience, columns=experience_level)\n",
    "X_test_experience = pd.DataFrame(X_test_experience, columns=experience_level)\n",
    "\n",
    "X_train_experience.head()"
   ]
  },
  {
   "cell_type": "markdown",
   "metadata": {},
   "source": [
    "**Split Employment Type**"
   ]
  },
  {
   "cell_type": "code",
   "execution_count": 27,
   "metadata": {},
   "outputs": [
    {
     "data": {
      "text/plain": [
       "array([[0., 0., 1., 0., 0., 0.],\n",
       "       [0., 0., 1., 0., 0., 0.],\n",
       "       [0., 0., 1., 0., 0., 0.],\n",
       "       ...,\n",
       "       [0., 0., 1., 0., 0., 0.],\n",
       "       [0., 0., 1., 0., 0., 0.],\n",
       "       [0., 0., 1., 0., 0., 0.]])"
      ]
     },
     "execution_count": 27,
     "metadata": {},
     "output_type": "execute_result"
    }
   ],
   "source": [
    "enc_3 = OneHotEncoder(sparse_output=False, handle_unknown='ignore')\n",
    "\n",
    "X_train_employment = enc_3.fit_transform(X_train[['employment_type']])\n",
    "X_test_employment = enc_3.transform(X_test[['employment_type']])\n",
    "X_train_employment"
   ]
  },
  {
   "cell_type": "code",
   "execution_count": 28,
   "metadata": {},
   "outputs": [
    {
     "data": {
      "text/html": [
       "<div>\n",
       "<style scoped>\n",
       "    .dataframe tbody tr th:only-of-type {\n",
       "        vertical-align: middle;\n",
       "    }\n",
       "\n",
       "    .dataframe tbody tr th {\n",
       "        vertical-align: top;\n",
       "    }\n",
       "\n",
       "    .dataframe thead th {\n",
       "        text-align: right;\n",
       "    }\n",
       "</style>\n",
       "<table border=\"1\" class=\"dataframe\">\n",
       "  <thead>\n",
       "    <tr style=\"text-align: right;\">\n",
       "      <th></th>\n",
       "      <th>employment_type_Kontrak</th>\n",
       "      <th>employment_type_Paruh Waktu</th>\n",
       "      <th>employment_type_Penuh Waktu</th>\n",
       "      <th>employment_type_Penuh Waktu, Kontrak</th>\n",
       "      <th>employment_type_Penuh Waktu, Paruh Waktu</th>\n",
       "      <th>employment_type_Temporer</th>\n",
       "    </tr>\n",
       "  </thead>\n",
       "  <tbody>\n",
       "    <tr>\n",
       "      <th>0</th>\n",
       "      <td>0.0</td>\n",
       "      <td>0.0</td>\n",
       "      <td>1.0</td>\n",
       "      <td>0.0</td>\n",
       "      <td>0.0</td>\n",
       "      <td>0.0</td>\n",
       "    </tr>\n",
       "    <tr>\n",
       "      <th>1</th>\n",
       "      <td>0.0</td>\n",
       "      <td>0.0</td>\n",
       "      <td>1.0</td>\n",
       "      <td>0.0</td>\n",
       "      <td>0.0</td>\n",
       "      <td>0.0</td>\n",
       "    </tr>\n",
       "    <tr>\n",
       "      <th>2</th>\n",
       "      <td>0.0</td>\n",
       "      <td>0.0</td>\n",
       "      <td>1.0</td>\n",
       "      <td>0.0</td>\n",
       "      <td>0.0</td>\n",
       "      <td>0.0</td>\n",
       "    </tr>\n",
       "    <tr>\n",
       "      <th>3</th>\n",
       "      <td>0.0</td>\n",
       "      <td>0.0</td>\n",
       "      <td>1.0</td>\n",
       "      <td>0.0</td>\n",
       "      <td>0.0</td>\n",
       "      <td>0.0</td>\n",
       "    </tr>\n",
       "    <tr>\n",
       "      <th>4</th>\n",
       "      <td>0.0</td>\n",
       "      <td>0.0</td>\n",
       "      <td>1.0</td>\n",
       "      <td>0.0</td>\n",
       "      <td>0.0</td>\n",
       "      <td>0.0</td>\n",
       "    </tr>\n",
       "  </tbody>\n",
       "</table>\n",
       "</div>"
      ],
      "text/plain": [
       "   employment_type_Kontrak  employment_type_Paruh Waktu  \\\n",
       "0                      0.0                          0.0   \n",
       "1                      0.0                          0.0   \n",
       "2                      0.0                          0.0   \n",
       "3                      0.0                          0.0   \n",
       "4                      0.0                          0.0   \n",
       "\n",
       "   employment_type_Penuh Waktu  employment_type_Penuh Waktu, Kontrak  \\\n",
       "0                          1.0                                   0.0   \n",
       "1                          1.0                                   0.0   \n",
       "2                          1.0                                   0.0   \n",
       "3                          1.0                                   0.0   \n",
       "4                          1.0                                   0.0   \n",
       "\n",
       "   employment_type_Penuh Waktu, Paruh Waktu  employment_type_Temporer  \n",
       "0                                       0.0                       0.0  \n",
       "1                                       0.0                       0.0  \n",
       "2                                       0.0                       0.0  \n",
       "3                                       0.0                       0.0  \n",
       "4                                       0.0                       0.0  "
      ]
     },
     "execution_count": 28,
     "metadata": {},
     "output_type": "execute_result"
    }
   ],
   "source": [
    "employment_type = enc_3.get_feature_names_out(input_features=['employment_type'])\n",
    "\n",
    "X_train_employment = pd.DataFrame(X_train_employment, columns=employment_type)\n",
    "X_test_employment = pd.DataFrame(X_test_employment, columns=employment_type)\n",
    "\n",
    "X_train_employment.head()"
   ]
  },
  {
   "cell_type": "markdown",
   "metadata": {},
   "source": [
    "**Split Education Level**"
   ]
  },
  {
   "cell_type": "code",
   "execution_count": 29,
   "metadata": {},
   "outputs": [
    {
     "data": {
      "text/plain": [
       "array([[0., 0., 1., ..., 0., 0., 0.],\n",
       "       [0., 0., 1., ..., 0., 0., 0.],\n",
       "       [0., 0., 1., ..., 0., 0., 0.],\n",
       "       ...,\n",
       "       [0., 0., 0., ..., 0., 0., 1.],\n",
       "       [0., 0., 0., ..., 0., 0., 0.],\n",
       "       [0., 0., 1., ..., 0., 0., 0.]])"
      ]
     },
     "execution_count": 29,
     "metadata": {},
     "output_type": "execute_result"
    }
   ],
   "source": [
    "enc_4 = OneHotEncoder(sparse_output=False, handle_unknown='ignore')\n",
    "\n",
    "X_train_education = enc_4.fit_transform(X_train[['education_level']])\n",
    "X_test_education = enc_4.transform(X_test[['education_level']])\n",
    "X_train_education"
   ]
  },
  {
   "cell_type": "code",
   "execution_count": 30,
   "metadata": {},
   "outputs": [
    {
     "data": {
      "text/html": [
       "<div>\n",
       "<style scoped>\n",
       "    .dataframe tbody tr th:only-of-type {\n",
       "        vertical-align: middle;\n",
       "    }\n",
       "\n",
       "    .dataframe tbody tr th {\n",
       "        vertical-align: top;\n",
       "    }\n",
       "\n",
       "    .dataframe thead th {\n",
       "        text-align: right;\n",
       "    }\n",
       "</style>\n",
       "<table border=\"1\" class=\"dataframe\">\n",
       "  <thead>\n",
       "    <tr style=\"text-align: right;\">\n",
       "      <th></th>\n",
       "      <th>education_level_D3 - S1</th>\n",
       "      <th>education_level_D3 - S2</th>\n",
       "      <th>education_level_S1</th>\n",
       "      <th>education_level_S1 - S2</th>\n",
       "      <th>education_level_S1 - S3</th>\n",
       "      <th>education_level_S3</th>\n",
       "      <th>education_level_SMA/SMU</th>\n",
       "      <th>education_level_SMA/SMU - S1</th>\n",
       "      <th>education_level_SMA/SMU - S2</th>\n",
       "      <th>education_level_Tidak terspesifikasi</th>\n",
       "    </tr>\n",
       "  </thead>\n",
       "  <tbody>\n",
       "    <tr>\n",
       "      <th>0</th>\n",
       "      <td>0.0</td>\n",
       "      <td>0.0</td>\n",
       "      <td>1.0</td>\n",
       "      <td>0.0</td>\n",
       "      <td>0.0</td>\n",
       "      <td>0.0</td>\n",
       "      <td>0.0</td>\n",
       "      <td>0.0</td>\n",
       "      <td>0.0</td>\n",
       "      <td>0.0</td>\n",
       "    </tr>\n",
       "    <tr>\n",
       "      <th>1</th>\n",
       "      <td>0.0</td>\n",
       "      <td>0.0</td>\n",
       "      <td>1.0</td>\n",
       "      <td>0.0</td>\n",
       "      <td>0.0</td>\n",
       "      <td>0.0</td>\n",
       "      <td>0.0</td>\n",
       "      <td>0.0</td>\n",
       "      <td>0.0</td>\n",
       "      <td>0.0</td>\n",
       "    </tr>\n",
       "    <tr>\n",
       "      <th>2</th>\n",
       "      <td>0.0</td>\n",
       "      <td>0.0</td>\n",
       "      <td>1.0</td>\n",
       "      <td>0.0</td>\n",
       "      <td>0.0</td>\n",
       "      <td>0.0</td>\n",
       "      <td>0.0</td>\n",
       "      <td>0.0</td>\n",
       "      <td>0.0</td>\n",
       "      <td>0.0</td>\n",
       "    </tr>\n",
       "    <tr>\n",
       "      <th>3</th>\n",
       "      <td>0.0</td>\n",
       "      <td>0.0</td>\n",
       "      <td>0.0</td>\n",
       "      <td>0.0</td>\n",
       "      <td>0.0</td>\n",
       "      <td>0.0</td>\n",
       "      <td>0.0</td>\n",
       "      <td>0.0</td>\n",
       "      <td>0.0</td>\n",
       "      <td>1.0</td>\n",
       "    </tr>\n",
       "    <tr>\n",
       "      <th>4</th>\n",
       "      <td>0.0</td>\n",
       "      <td>0.0</td>\n",
       "      <td>0.0</td>\n",
       "      <td>0.0</td>\n",
       "      <td>0.0</td>\n",
       "      <td>0.0</td>\n",
       "      <td>0.0</td>\n",
       "      <td>0.0</td>\n",
       "      <td>0.0</td>\n",
       "      <td>1.0</td>\n",
       "    </tr>\n",
       "  </tbody>\n",
       "</table>\n",
       "</div>"
      ],
      "text/plain": [
       "   education_level_D3 - S1  education_level_D3 - S2  education_level_S1  \\\n",
       "0                      0.0                      0.0                 1.0   \n",
       "1                      0.0                      0.0                 1.0   \n",
       "2                      0.0                      0.0                 1.0   \n",
       "3                      0.0                      0.0                 0.0   \n",
       "4                      0.0                      0.0                 0.0   \n",
       "\n",
       "   education_level_S1 - S2  education_level_S1 - S3  education_level_S3  \\\n",
       "0                      0.0                      0.0                 0.0   \n",
       "1                      0.0                      0.0                 0.0   \n",
       "2                      0.0                      0.0                 0.0   \n",
       "3                      0.0                      0.0                 0.0   \n",
       "4                      0.0                      0.0                 0.0   \n",
       "\n",
       "   education_level_SMA/SMU  education_level_SMA/SMU - S1  \\\n",
       "0                      0.0                           0.0   \n",
       "1                      0.0                           0.0   \n",
       "2                      0.0                           0.0   \n",
       "3                      0.0                           0.0   \n",
       "4                      0.0                           0.0   \n",
       "\n",
       "   education_level_SMA/SMU - S2  education_level_Tidak terspesifikasi  \n",
       "0                           0.0                                   0.0  \n",
       "1                           0.0                                   0.0  \n",
       "2                           0.0                                   0.0  \n",
       "3                           0.0                                   1.0  \n",
       "4                           0.0                                   1.0  "
      ]
     },
     "execution_count": 30,
     "metadata": {},
     "output_type": "execute_result"
    }
   ],
   "source": [
    "education_level = enc_4.get_feature_names_out(input_features=['education_level'])\n",
    "\n",
    "X_train_education = pd.DataFrame(X_train_education, columns=education_level)\n",
    "X_test_education = pd.DataFrame(X_test_education, columns=education_level)\n",
    "\n",
    "X_train_education.head()"
   ]
  },
  {
   "cell_type": "markdown",
   "metadata": {},
   "source": [
    "**Reset Index**"
   ]
  },
  {
   "cell_type": "code",
   "execution_count": 31,
   "metadata": {},
   "outputs": [],
   "source": [
    "X_train.reset_index(drop=True, inplace=True)\n",
    "X_test.reset_index(drop=True, inplace=True)\n",
    "\n",
    "y_train.reset_index(drop=True, inplace=True)\n",
    "y_test.reset_index(drop=True, inplace=True)"
   ]
  },
  {
   "cell_type": "code",
   "execution_count": 32,
   "metadata": {},
   "outputs": [
    {
     "data": {
      "text/html": [
       "<div>\n",
       "<style scoped>\n",
       "    .dataframe tbody tr th:only-of-type {\n",
       "        vertical-align: middle;\n",
       "    }\n",
       "\n",
       "    .dataframe tbody tr th {\n",
       "        vertical-align: top;\n",
       "    }\n",
       "\n",
       "    .dataframe thead th {\n",
       "        text-align: right;\n",
       "    }\n",
       "</style>\n",
       "<table border=\"1\" class=\"dataframe\">\n",
       "  <thead>\n",
       "    <tr style=\"text-align: right;\">\n",
       "      <th></th>\n",
       "      <th>career_level_CEO/GM/Direktur/Manajer Senior</th>\n",
       "      <th>career_level_Lulusan baru/Pengalaman kerja kurang dari 1 tahun</th>\n",
       "      <th>career_level_Manajer/Asisten Manajer</th>\n",
       "      <th>career_level_Pegawai (non-manajemen &amp; non-supervisor)</th>\n",
       "      <th>career_level_Supervisor/Koordinator</th>\n",
       "      <th>experience_level_1</th>\n",
       "      <th>experience_level_10</th>\n",
       "      <th>experience_level_12</th>\n",
       "      <th>experience_level_15</th>\n",
       "      <th>experience_level_17</th>\n",
       "      <th>...</th>\n",
       "      <th>education_level_D3 - S1</th>\n",
       "      <th>education_level_D3 - S2</th>\n",
       "      <th>education_level_S1</th>\n",
       "      <th>education_level_S1 - S2</th>\n",
       "      <th>education_level_S1 - S3</th>\n",
       "      <th>education_level_S3</th>\n",
       "      <th>education_level_SMA/SMU</th>\n",
       "      <th>education_level_SMA/SMU - S1</th>\n",
       "      <th>education_level_SMA/SMU - S2</th>\n",
       "      <th>education_level_Tidak terspesifikasi</th>\n",
       "    </tr>\n",
       "  </thead>\n",
       "  <tbody>\n",
       "    <tr>\n",
       "      <th>0</th>\n",
       "      <td>0.0</td>\n",
       "      <td>0.0</td>\n",
       "      <td>0.0</td>\n",
       "      <td>1.0</td>\n",
       "      <td>0.0</td>\n",
       "      <td>0.0</td>\n",
       "      <td>0.0</td>\n",
       "      <td>0.0</td>\n",
       "      <td>0.0</td>\n",
       "      <td>0.0</td>\n",
       "      <td>...</td>\n",
       "      <td>0.0</td>\n",
       "      <td>0.0</td>\n",
       "      <td>1.0</td>\n",
       "      <td>0.0</td>\n",
       "      <td>0.0</td>\n",
       "      <td>0.0</td>\n",
       "      <td>0.0</td>\n",
       "      <td>0.0</td>\n",
       "      <td>0.0</td>\n",
       "      <td>0.0</td>\n",
       "    </tr>\n",
       "    <tr>\n",
       "      <th>1</th>\n",
       "      <td>0.0</td>\n",
       "      <td>0.0</td>\n",
       "      <td>0.0</td>\n",
       "      <td>1.0</td>\n",
       "      <td>0.0</td>\n",
       "      <td>1.0</td>\n",
       "      <td>0.0</td>\n",
       "      <td>0.0</td>\n",
       "      <td>0.0</td>\n",
       "      <td>0.0</td>\n",
       "      <td>...</td>\n",
       "      <td>0.0</td>\n",
       "      <td>0.0</td>\n",
       "      <td>1.0</td>\n",
       "      <td>0.0</td>\n",
       "      <td>0.0</td>\n",
       "      <td>0.0</td>\n",
       "      <td>0.0</td>\n",
       "      <td>0.0</td>\n",
       "      <td>0.0</td>\n",
       "      <td>0.0</td>\n",
       "    </tr>\n",
       "    <tr>\n",
       "      <th>2</th>\n",
       "      <td>0.0</td>\n",
       "      <td>0.0</td>\n",
       "      <td>0.0</td>\n",
       "      <td>1.0</td>\n",
       "      <td>0.0</td>\n",
       "      <td>1.0</td>\n",
       "      <td>0.0</td>\n",
       "      <td>0.0</td>\n",
       "      <td>0.0</td>\n",
       "      <td>0.0</td>\n",
       "      <td>...</td>\n",
       "      <td>0.0</td>\n",
       "      <td>0.0</td>\n",
       "      <td>1.0</td>\n",
       "      <td>0.0</td>\n",
       "      <td>0.0</td>\n",
       "      <td>0.0</td>\n",
       "      <td>0.0</td>\n",
       "      <td>0.0</td>\n",
       "      <td>0.0</td>\n",
       "      <td>0.0</td>\n",
       "    </tr>\n",
       "    <tr>\n",
       "      <th>3</th>\n",
       "      <td>0.0</td>\n",
       "      <td>0.0</td>\n",
       "      <td>0.0</td>\n",
       "      <td>1.0</td>\n",
       "      <td>0.0</td>\n",
       "      <td>0.0</td>\n",
       "      <td>0.0</td>\n",
       "      <td>0.0</td>\n",
       "      <td>0.0</td>\n",
       "      <td>0.0</td>\n",
       "      <td>...</td>\n",
       "      <td>0.0</td>\n",
       "      <td>0.0</td>\n",
       "      <td>0.0</td>\n",
       "      <td>0.0</td>\n",
       "      <td>0.0</td>\n",
       "      <td>0.0</td>\n",
       "      <td>0.0</td>\n",
       "      <td>0.0</td>\n",
       "      <td>0.0</td>\n",
       "      <td>1.0</td>\n",
       "    </tr>\n",
       "    <tr>\n",
       "      <th>4</th>\n",
       "      <td>0.0</td>\n",
       "      <td>0.0</td>\n",
       "      <td>0.0</td>\n",
       "      <td>1.0</td>\n",
       "      <td>0.0</td>\n",
       "      <td>0.0</td>\n",
       "      <td>0.0</td>\n",
       "      <td>0.0</td>\n",
       "      <td>0.0</td>\n",
       "      <td>0.0</td>\n",
       "      <td>...</td>\n",
       "      <td>0.0</td>\n",
       "      <td>0.0</td>\n",
       "      <td>0.0</td>\n",
       "      <td>0.0</td>\n",
       "      <td>0.0</td>\n",
       "      <td>0.0</td>\n",
       "      <td>0.0</td>\n",
       "      <td>0.0</td>\n",
       "      <td>0.0</td>\n",
       "      <td>1.0</td>\n",
       "    </tr>\n",
       "  </tbody>\n",
       "</table>\n",
       "<p>5 rows × 36 columns</p>\n",
       "</div>"
      ],
      "text/plain": [
       "   career_level_CEO/GM/Direktur/Manajer Senior  \\\n",
       "0                                          0.0   \n",
       "1                                          0.0   \n",
       "2                                          0.0   \n",
       "3                                          0.0   \n",
       "4                                          0.0   \n",
       "\n",
       "   career_level_Lulusan baru/Pengalaman kerja kurang dari 1 tahun  \\\n",
       "0                                                0.0                \n",
       "1                                                0.0                \n",
       "2                                                0.0                \n",
       "3                                                0.0                \n",
       "4                                                0.0                \n",
       "\n",
       "   career_level_Manajer/Asisten Manajer  \\\n",
       "0                                   0.0   \n",
       "1                                   0.0   \n",
       "2                                   0.0   \n",
       "3                                   0.0   \n",
       "4                                   0.0   \n",
       "\n",
       "   career_level_Pegawai (non-manajemen & non-supervisor)  \\\n",
       "0                                                1.0       \n",
       "1                                                1.0       \n",
       "2                                                1.0       \n",
       "3                                                1.0       \n",
       "4                                                1.0       \n",
       "\n",
       "   career_level_Supervisor/Koordinator  experience_level_1  \\\n",
       "0                                  0.0                 0.0   \n",
       "1                                  0.0                 1.0   \n",
       "2                                  0.0                 1.0   \n",
       "3                                  0.0                 0.0   \n",
       "4                                  0.0                 0.0   \n",
       "\n",
       "   experience_level_10  experience_level_12  experience_level_15  \\\n",
       "0                  0.0                  0.0                  0.0   \n",
       "1                  0.0                  0.0                  0.0   \n",
       "2                  0.0                  0.0                  0.0   \n",
       "3                  0.0                  0.0                  0.0   \n",
       "4                  0.0                  0.0                  0.0   \n",
       "\n",
       "   experience_level_17  ...  education_level_D3 - S1  education_level_D3 - S2  \\\n",
       "0                  0.0  ...                      0.0                      0.0   \n",
       "1                  0.0  ...                      0.0                      0.0   \n",
       "2                  0.0  ...                      0.0                      0.0   \n",
       "3                  0.0  ...                      0.0                      0.0   \n",
       "4                  0.0  ...                      0.0                      0.0   \n",
       "\n",
       "   education_level_S1  education_level_S1 - S2  education_level_S1 - S3  \\\n",
       "0                 1.0                      0.0                      0.0   \n",
       "1                 1.0                      0.0                      0.0   \n",
       "2                 1.0                      0.0                      0.0   \n",
       "3                 0.0                      0.0                      0.0   \n",
       "4                 0.0                      0.0                      0.0   \n",
       "\n",
       "   education_level_S3  education_level_SMA/SMU  education_level_SMA/SMU - S1  \\\n",
       "0                 0.0                      0.0                           0.0   \n",
       "1                 0.0                      0.0                           0.0   \n",
       "2                 0.0                      0.0                           0.0   \n",
       "3                 0.0                      0.0                           0.0   \n",
       "4                 0.0                      0.0                           0.0   \n",
       "\n",
       "   education_level_SMA/SMU - S2  education_level_Tidak terspesifikasi  \n",
       "0                           0.0                                   0.0  \n",
       "1                           0.0                                   0.0  \n",
       "2                           0.0                                   0.0  \n",
       "3                           0.0                                   1.0  \n",
       "4                           0.0                                   1.0  \n",
       "\n",
       "[5 rows x 36 columns]"
      ]
     },
     "execution_count": 32,
     "metadata": {},
     "output_type": "execute_result"
    }
   ],
   "source": [
    "X_train_new = pd.concat([X_train, X_train_career, X_train_experience, X_train_employment, X_train_education], axis=1)\n",
    "X_train_new.drop(columns=['career_level', 'experience_level', 'employment_type', 'education_level'],inplace=True)\n",
    "\n",
    "X_test_new = pd.concat([X_test, X_test_career, X_test_experience, X_test_employment, X_test_education], axis=1)\n",
    "X_test_new.drop(columns=['career_level', 'experience_level', 'employment_type', 'education_level'],inplace=True)\n",
    "\n",
    "X_train_new.head()"
   ]
  },
  {
   "cell_type": "markdown",
   "metadata": {},
   "source": [
    "# 5. Predict Data OLS"
   ]
  },
  {
   "cell_type": "code",
   "execution_count": 33,
   "metadata": {},
   "outputs": [],
   "source": [
    "X_train_ols = sm.add_constant(X_train_new)\n",
    "ModelOLS = sm.OLS(y_train, X_train_ols).fit()"
   ]
  },
  {
   "cell_type": "code",
   "execution_count": 34,
   "metadata": {},
   "outputs": [
    {
     "name": "stdout",
     "output_type": "stream",
     "text": [
      "                            OLS Regression Results                            \n",
      "==============================================================================\n",
      "Dep. Variable:                 salary   R-squared:                       0.478\n",
      "Model:                            OLS   Adj. R-squared:                  0.477\n",
      "Method:                 Least Squares   F-statistic:                     450.8\n",
      "Date:                Tue, 20 Jun 2023   Prob (F-statistic):               0.00\n",
      "Time:                        21:14:53   Log-Likelihood:            -2.3847e+05\n",
      "No. Observations:               15799   AIC:                         4.770e+05\n",
      "Df Residuals:                   15766   BIC:                         4.773e+05\n",
      "Df Model:                          32                                         \n",
      "Covariance Type:            nonrobust                                         \n",
      "==================================================================================================================================\n",
      "                                                                     coef    std err          t      P>|t|      [0.025      0.975]\n",
      "----------------------------------------------------------------------------------------------------------------------------------\n",
      "const                                                           3.872e+06   1.18e+05     32.825      0.000    3.64e+06     4.1e+06\n",
      "career_level_CEO/GM/Direktur/Manajer Senior                     2.316e+06   2.73e+05      8.479      0.000    1.78e+06    2.85e+06\n",
      "career_level_Lulusan baru/Pengalaman kerja kurang dari 1 tahun -1.031e+06   7.27e+04    -14.184      0.000   -1.17e+06   -8.89e+05\n",
      "career_level_Manajer/Asisten Manajer                            1.661e+06   7.47e+04     22.226      0.000    1.51e+06    1.81e+06\n",
      "career_level_Pegawai (non-manajemen & non-supervisor)            -3.3e+05   6.31e+04     -5.232      0.000   -4.54e+05   -2.06e+05\n",
      "career_level_Supervisor/Koordinator                             1.257e+06   6.35e+04     19.786      0.000    1.13e+06    1.38e+06\n",
      "experience_level_1                                              2.208e+05   1.16e+05      1.907      0.057   -6160.124    4.48e+05\n",
      "experience_level_10                                             7.404e+05   1.73e+05      4.290      0.000    4.02e+05    1.08e+06\n",
      "experience_level_12                                            -3.161e+05   5.86e+05     -0.539      0.590   -1.46e+06    8.33e+05\n",
      "experience_level_15                                              3.01e+05   4.83e+05      0.623      0.533   -6.46e+05    1.25e+06\n",
      "experience_level_17                                            -2.412e+06   8.21e+05     -2.938      0.003   -4.02e+06   -8.03e+05\n",
      "experience_level_18                                             2.784e+05   8.21e+05      0.339      0.734   -1.33e+06    1.89e+06\n",
      "experience_level_2                                              3.418e+05   1.16e+05      2.953      0.003    1.15e+05    5.69e+05\n",
      "experience_level_20                                             9.921e+05   4.84e+05      2.050      0.040    4.35e+04    1.94e+06\n",
      "experience_level_3                                              4.681e+05   1.16e+05      4.034      0.000    2.41e+05    6.96e+05\n",
      "experience_level_4                                              4.749e+05   1.22e+05      3.894      0.000    2.36e+05    7.14e+05\n",
      "experience_level_5                                              5.647e+05   1.18e+05      4.794      0.000    3.34e+05    7.96e+05\n",
      "experience_level_6                                              3.965e+05   1.68e+05      2.358      0.018    6.69e+04    7.26e+05\n",
      "experience_level_7                                              4.757e+05   1.79e+05      2.654      0.008    1.24e+05    8.27e+05\n",
      "experience_level_8                                              7.841e+05   1.97e+05      3.986      0.000    3.99e+05    1.17e+06\n",
      "experience_level_9                                              5.611e+05   8.21e+05      0.684      0.494   -1.05e+06    2.17e+06\n",
      "employment_type_Kontrak                                         7.607e+05      1e+05      7.601      0.000    5.65e+05    9.57e+05\n",
      "employment_type_Paruh Waktu                                     5.339e+05   1.27e+05      4.213      0.000    2.85e+05    7.82e+05\n",
      "employment_type_Penuh Waktu                                     7.802e+05   9.91e+04      7.871      0.000    5.86e+05    9.74e+05\n",
      "employment_type_Penuh Waktu, Kontrak                            7.914e+05   1.79e+05      4.424      0.000    4.41e+05    1.14e+06\n",
      "employment_type_Penuh Waktu, Paruh Waktu                        2.376e+05   5.25e+05      0.452      0.651   -7.92e+05    1.27e+06\n",
      "employment_type_Temporer                                        7.682e+05   1.36e+05      5.643      0.000    5.01e+05    1.04e+06\n",
      "education_level_D3 - S1                                         1.807e+05   4.98e+04      3.629      0.000    8.31e+04    2.78e+05\n",
      "education_level_D3 - S2                                         2.996e+05   4.46e+04      6.721      0.000    2.12e+05    3.87e+05\n",
      "education_level_S1                                              4.181e+05   4.41e+04      9.486      0.000    3.32e+05    5.04e+05\n",
      "education_level_S1 - S2                                         4.711e+05   5.05e+04      9.338      0.000    3.72e+05     5.7e+05\n",
      "education_level_S1 - S3                                         6.044e+05   1.52e+05      3.980      0.000    3.07e+05    9.02e+05\n",
      "education_level_S3                                              9.922e+05   2.81e+05      3.535      0.000    4.42e+05    1.54e+06\n",
      "education_level_SMA/SMU                                         -2.44e+04   4.97e+04     -0.491      0.623   -1.22e+05    7.29e+04\n",
      "education_level_SMA/SMU - S1                                    1.388e+05   4.65e+04      2.985      0.003    4.77e+04     2.3e+05\n",
      "education_level_SMA/SMU - S2                                     5.42e+05   2.41e+05      2.253      0.024    7.05e+04    1.01e+06\n",
      "education_level_Tidak terspesifikasi                            2.495e+05   4.58e+04      5.446      0.000     1.6e+05    3.39e+05\n",
      "==============================================================================\n",
      "Omnibus:                     3784.636   Durbin-Watson:                   2.018\n",
      "Prob(Omnibus):                  0.000   Jarque-Bera (JB):            33439.986\n",
      "Skew:                           0.901   Prob(JB):                         0.00\n",
      "Kurtosis:                       9.896   Cond. No.                     1.39e+16\n",
      "==============================================================================\n",
      "\n",
      "Notes:\n",
      "[1] Standard Errors assume that the covariance matrix of the errors is correctly specified.\n",
      "[2] The smallest eigenvalue is 2.36e-28. This might indicate that there are\n",
      "strong multicollinearity problems or that the design matrix is singular.\n"
     ]
    }
   ],
   "source": [
    "print(ModelOLS.summary())"
   ]
  },
  {
   "cell_type": "markdown",
   "metadata": {},
   "source": [
    "**Deteksi Data yang kurang signifikan**"
   ]
  },
  {
   "cell_type": "code",
   "execution_count": 35,
   "metadata": {},
   "outputs": [
    {
     "name": "stdout",
     "output_type": "stream",
     "text": [
      "experience_level_1                          0.056550\n",
      "experience_level_12                         0.589713\n",
      "experience_level_15                         0.533282\n",
      "experience_level_18                         0.734486\n",
      "experience_level_9                          0.494286\n",
      "employment_type_Penuh Waktu, Paruh Waktu    0.650962\n",
      "education_level_SMA/SMU                     0.623179\n",
      "dtype: float64\n"
     ]
    }
   ],
   "source": [
    "p_values = ModelOLS.pvalues\n",
    "high_p_value_vars = p_values[p_values > 0.05]\n",
    "print(high_p_value_vars)"
   ]
  },
  {
   "cell_type": "markdown",
   "metadata": {},
   "source": [
    "**Deteksi Multikolinearitas**"
   ]
  },
  {
   "cell_type": "code",
   "execution_count": 36,
   "metadata": {},
   "outputs": [
    {
     "name": "stderr",
     "output_type": "stream",
     "text": [
      "c:\\Users\\reost\\anaconda3\\lib\\site-packages\\statsmodels\\stats\\outliers_influence.py:195: RuntimeWarning: divide by zero encountered in double_scalars\n",
      "  vif = 1. / (1. - r_squared_i)\n"
     ]
    },
    {
     "name": "stdout",
     "output_type": "stream",
     "text": [
      "                                              feature           VIF\n",
      "0         career_level_CEO/GM/Direktur/Manajer Senior  5.128800e+11\n",
      "1   career_level_Lulusan baru/Pengalaman kerja kur...  1.064456e+10\n",
      "2                career_level_Manajer/Asisten Manajer  5.455602e+10\n",
      "3   career_level_Pegawai (non-manajemen & non-supe...           inf\n",
      "4                 career_level_Supervisor/Koordinator           inf\n",
      "5                                  experience_level_1           inf\n",
      "6                                 experience_level_10           inf\n",
      "7                                 experience_level_12           inf\n",
      "8                                 experience_level_15           inf\n",
      "9                                 experience_level_17           inf\n",
      "10                                experience_level_18           inf\n",
      "11                                 experience_level_2           inf\n",
      "12                                experience_level_20           inf\n",
      "13                                 experience_level_3           inf\n",
      "14                                 experience_level_4           inf\n",
      "15                                 experience_level_5           inf\n",
      "16                                 experience_level_6           inf\n",
      "17                                 experience_level_7           inf\n",
      "18                                 experience_level_8           inf\n",
      "19                                 experience_level_9           inf\n",
      "20                            employment_type_Kontrak  4.489895e+08\n",
      "21                        employment_type_Paruh Waktu  1.473185e+10\n",
      "22                        employment_type_Penuh Waktu  2.570727e+04\n",
      "23               employment_type_Penuh Waktu, Kontrak  1.009263e+10\n",
      "24           employment_type_Penuh Waktu, Paruh Waktu           inf\n",
      "25                           employment_type_Temporer  6.917988e+09\n",
      "26                            education_level_D3 - S1  2.107307e+08\n",
      "27                            education_level_D3 - S2  1.056440e+07\n",
      "28                                 education_level_S1  7.182309e+06\n",
      "29                            education_level_S1 - S2  1.561428e+06\n",
      "30                            education_level_S1 - S3  3.444976e+10\n",
      "31                                 education_level_S3  3.453151e+11\n",
      "32                            education_level_SMA/SMU  2.709256e+06\n",
      "33                       education_level_SMA/SMU - S1  1.618171e+08\n",
      "34                       education_level_SMA/SMU - S2  8.101529e+10\n",
      "35               education_level_Tidak terspesifikasi  6.635607e+04\n"
     ]
    }
   ],
   "source": [
    "from statsmodels.stats.outliers_influence import variance_inflation_factor\n",
    "\n",
    "VIF = pd.DataFrame()\n",
    "VIF['feature']  = X_train_new.columns\n",
    "VIF['VIF']      = [variance_inflation_factor(X_train_new.values, i) for i in range(X_train_new.shape[1])]\n",
    "print(VIF)"
   ]
  },
  {
   "cell_type": "markdown",
   "metadata": {},
   "source": [
    "**Visualisasi Data Koefisien**"
   ]
  },
  {
   "cell_type": "code",
   "execution_count": 37,
   "metadata": {},
   "outputs": [
    {
     "data": {
      "image/png": "[encoded data removed]",
      "text/plain": [
       "<Figure size 1000x1000 with 1 Axes>"
      ]
     },
     "metadata": {},
     "output_type": "display_data"
    }
   ],
   "source": [
    "resultOLS = pd.DataFrame({'Variable': ModelOLS.params.index, 'Coefficient': ModelOLS.params.values})\n",
    "resultOLS = resultOLS.sort_values(by='Coefficient', ascending=False)\n",
    "color_palette = sns.color_palette(\"coolwarm\", len(ModelOLS.params.values))\n",
    "\n",
    "sns.set(style='whitegrid')\n",
    "plt.figure(figsize=(10, 10)) \n",
    "sns.barplot(x='Coefficient', y='Variable', data=resultOLS, palette=color_palette)\n",
    "plt.xlabel('Koefisien')\n",
    "plt.ylabel('')\n",
    "plt.title('Koefisien OLS')\n",
    "plt.show()"
   ]
  },
  {
   "cell_type": "code",
   "execution_count": 38,
   "metadata": {},
   "outputs": [],
   "source": [
    "# Rumus MAPE Training Data\n",
    "absolute_error_OLS_train = np.abs(y_train - ModelOLS.predict(X_train_ols))\n",
    "percentage_error_OLS_train = absolute_error_OLS_train / y_train * 100"
   ]
  },
  {
   "cell_type": "code",
   "execution_count": 39,
   "metadata": {},
   "outputs": [
    {
     "name": "stdout",
     "output_type": "stream",
     "text": [
      "-------- Training Data OLS ---------\n",
      "MSE  : 755099588286.1342\n",
      "MAE  : 475091.8862\n",
      "RMSE : 868964.6646\n",
      "MAD  : 475091.8862\n",
      "MAPE  : 9.7370\n"
     ]
    }
   ],
   "source": [
    "print('-------- Training Data OLS ---------')\n",
    "y_train_OLS = ModelOLS.predict(sm.add_constant(X_train_new))\n",
    "print(\"MSE  :\", \"{:.4f}\".format(mean_squared_error(y_train, y_train_OLS)))\n",
    "print(\"MAE  :\", \"{:.4f}\".format(mean_absolute_error(y_train, y_train_OLS)))\n",
    "print(\"RMSE :\", \"{:.4f}\".format(math.sqrt(mean_squared_error(y_train, y_train_OLS))))\n",
    "print(\"MAD  :\", \"{:.4f}\".format(np.mean(np.abs(y_train - y_train_OLS))))\n",
    "print(\"MAPE  :\", \"{:.4f}\".format(np.mean(percentage_error_OLS_train)))"
   ]
  },
  {
   "cell_type": "code",
   "execution_count": 40,
   "metadata": {},
   "outputs": [],
   "source": [
    "# Rumus MAPE Testing Data\n",
    "absolute_error_OLS_test = np.abs(y_test - ModelOLS.predict(sm.add_constant(X_test_new)))\n",
    "percentage_error_OLS_test = absolute_error_OLS_test / y_test * 100"
   ]
  },
  {
   "cell_type": "code",
   "execution_count": 41,
   "metadata": {},
   "outputs": [
    {
     "name": "stdout",
     "output_type": "stream",
     "text": [
      "-------- Testing Data OLS ---------\n",
      "MSE  : 793066467445.3829\n",
      "MAE  : 490964.6607119703\n",
      "RMSE : 890542.793719304\n",
      "MAD  : 490964.6607119703\n",
      "MAPE  : 10.0712\n"
     ]
    }
   ],
   "source": [
    "print('-------- Testing Data OLS ---------')\n",
    "y_test_OLS = ModelOLS.predict(sm.add_constant(X_test_new))\n",
    "print(\"MSE  :\", mean_squared_error(y_test, y_test_OLS))\n",
    "print(\"MAE  :\", mean_absolute_error(y_test, y_test_OLS))\n",
    "print(\"RMSE :\", math.sqrt(mean_squared_error(y_test, y_test_OLS)))\n",
    "print(\"MAD  :\", np.mean(np.abs(y_test - y_test_OLS)))\n",
    "print(\"MAPE  :\", \"{:.4f}\".format(np.mean(percentage_error_OLS_test)))"
   ]
  },
  {
   "cell_type": "markdown",
   "metadata": {},
   "source": [
    "# 6. Predict Data Random Forest"
   ]
  },
  {
   "cell_type": "code",
   "execution_count": 42,
   "metadata": {},
   "outputs": [
    {
     "data": {
      "text/html": [
       "<style>#sk-container-id-1 {color: black;background-color: white;}#sk-container-id-1 pre{padding: 0;}#sk-container-id-1 div.sk-toggleable {background-color: white;}#sk-container-id-1 label.sk-toggleable__label {cursor: pointer;display: block;width: 100%;margin-bottom: 0;padding: 0.3em;box-sizing: border-box;text-align: center;}#sk-container-id-1 label.sk-toggleable__label-arrow:before {content: \"▸\";float: left;margin-right: 0.25em;color: #696969;}#sk-container-id-1 label.sk-toggleable__label-arrow:hover:before {color: black;}#sk-container-id-1 div.sk-estimator:hover label.sk-toggleable__label-arrow:before {color: black;}#sk-container-id-1 div.sk-toggleable__content {max-height: 0;max-width: 0;overflow: hidden;text-align: left;background-color: #f0f8ff;}#sk-container-id-1 div.sk-toggleable__content pre {margin: 0.2em;color: black;border-radius: 0.25em;background-color: #f0f8ff;}#sk-container-id-1 input.sk-toggleable__control:checked~div.sk-toggleable__content {max-height: 200px;max-width: 100%;overflow: auto;}#sk-container-id-1 input.sk-toggleable__control:checked~label.sk-toggleable__label-arrow:before {content: \"▾\";}#sk-container-id-1 div.sk-estimator input.sk-toggleable__control:checked~label.sk-toggleable__label {background-color: #d4ebff;}#sk-container-id-1 div.sk-label input.sk-toggleable__control:checked~label.sk-toggleable__label {background-color: #d4ebff;}#sk-container-id-1 input.sk-hidden--visually {border: 0;clip: rect(1px 1px 1px 1px);clip: rect(1px, 1px, 1px, 1px);height: 1px;margin: -1px;overflow: hidden;padding: 0;position: absolute;width: 1px;}#sk-container-id-1 div.sk-estimator {font-family: monospace;background-color: #f0f8ff;border: 1px dotted black;border-radius: 0.25em;box-sizing: border-box;margin-bottom: 0.5em;}#sk-container-id-1 div.sk-estimator:hover {background-color: #d4ebff;}#sk-container-id-1 div.sk-parallel-item::after {content: \"\";width: 100%;border-bottom: 1px solid gray;flex-grow: 1;}#sk-container-id-1 div.sk-label:hover label.sk-toggleable__label {background-color: #d4ebff;}#sk-container-id-1 div.sk-serial::before {content: \"\";position: absolute;border-left: 1px solid gray;box-sizing: border-box;top: 0;bottom: 0;left: 50%;z-index: 0;}#sk-container-id-1 div.sk-serial {display: flex;flex-direction: column;align-items: center;background-color: white;padding-right: 0.2em;padding-left: 0.2em;position: relative;}#sk-container-id-1 div.sk-item {position: relative;z-index: 1;}#sk-container-id-1 div.sk-parallel {display: flex;align-items: stretch;justify-content: center;background-color: white;position: relative;}#sk-container-id-1 div.sk-item::before, #sk-container-id-1 div.sk-parallel-item::before {content: \"\";position: absolute;border-left: 1px solid gray;box-sizing: border-box;top: 0;bottom: 0;left: 50%;z-index: -1;}#sk-container-id-1 div.sk-parallel-item {display: flex;flex-direction: column;z-index: 1;position: relative;background-color: white;}#sk-container-id-1 div.sk-parallel-item:first-child::after {align-self: flex-end;width: 50%;}#sk-container-id-1 div.sk-parallel-item:last-child::after {align-self: flex-start;width: 50%;}#sk-container-id-1 div.sk-parallel-item:only-child::after {width: 0;}#sk-container-id-1 div.sk-dashed-wrapped {border: 1px dashed gray;margin: 0 0.4em 0.5em 0.4em;box-sizing: border-box;padding-bottom: 0.4em;background-color: white;}#sk-container-id-1 div.sk-label label {font-family: monospace;font-weight: bold;display: inline-block;line-height: 1.2em;}#sk-container-id-1 div.sk-label-container {text-align: center;}#sk-container-id-1 div.sk-container {/* jupyter's `normalize.less` sets `[hidden] { display: none; }` but bootstrap.min.css set `[hidden] { display: none !important; }` so we also need the `!important` here to be able to override the default hidden behavior on the sphinx rendered scikit-learn.org. See: https://github.com/scikit-learn/scikit-learn/issues/21755 */display: inline-block !important;position: relative;}#sk-container-id-1 div.sk-text-repr-fallback {display: none;}</style><div id=\"sk-container-id-1\" class=\"sk-top-container\"><div class=\"sk-text-repr-fallback\"><pre>RandomForestRegressor(random_state=0)</pre><b>In a Jupyter environment, please rerun this cell to show the HTML representation or trust the notebook. <br />On GitHub, the HTML representation is unable to render, please try loading this page with nbviewer.org.</b></div><div class=\"sk-container\" hidden><div class=\"sk-item\"><div class=\"sk-estimator sk-toggleable\"><input class=\"sk-toggleable__control sk-hidden--visually\" id=\"sk-estimator-id-1\" type=\"checkbox\" checked><label for=\"sk-estimator-id-1\" class=\"sk-toggleable__label sk-toggleable__label-arrow\">RandomForestRegressor</label><div class=\"sk-toggleable__content\"><pre>RandomForestRegressor(random_state=0)</pre></div></div></div></div></div>"
      ],
      "text/plain": [
       "RandomForestRegressor(random_state=0)"
      ]
     },
     "execution_count": 42,
     "metadata": {},
     "output_type": "execute_result"
    }
   ],
   "source": [
    "modelRF = RandomForestRegressor(n_estimators=100, random_state=0)\n",
    "modelRF.fit(X_train_new, y_train)"
   ]
  },
  {
   "cell_type": "code",
   "execution_count": 43,
   "metadata": {},
   "outputs": [
    {
     "name": "stdout",
     "output_type": "stream",
     "text": [
      "career_level_CEO/GM/Direktur/Manajer Senior: 2.2619e-03\n",
      "career_level_Lulusan baru/Pengalaman kerja kurang dari 1 tahun: 2.2530e-02\n",
      "career_level_Manajer/Asisten Manajer: 1.1911e-01\n",
      "career_level_Pegawai (non-manajemen & non-supervisor): 2.7523e-03\n",
      "career_level_Supervisor/Koordinator: 7.4665e-01\n",
      "experience_level_1: 2.1224e-02\n",
      "experience_level_10: 1.1419e-03\n",
      "experience_level_12: 2.2316e-04\n",
      "experience_level_15: 2.0076e-06\n",
      "experience_level_17: 6.9214e-04\n",
      "experience_level_18: 1.8336e-06\n",
      "experience_level_2: 9.9795e-03\n",
      "experience_level_20: 2.7125e-04\n",
      "experience_level_3: 3.3713e-03\n",
      "experience_level_4: 2.8944e-03\n",
      "experience_level_5: 3.1220e-03\n",
      "experience_level_6: 1.2034e-04\n",
      "experience_level_7: 9.1522e-04\n",
      "experience_level_8: 8.9109e-04\n",
      "experience_level_9: 3.2688e-07\n",
      "employment_type_Kontrak: 5.9797e-03\n",
      "employment_type_Paruh Waktu: 1.5481e-03\n",
      "employment_type_Penuh Waktu: 5.2655e-03\n",
      "employment_type_Penuh Waktu, Kontrak: 9.5872e-05\n",
      "employment_type_Penuh Waktu, Paruh Waktu: 6.1242e-05\n",
      "employment_type_Temporer: 9.6294e-04\n",
      "education_level_D3 - S1: 2.6937e-03\n",
      "education_level_D3 - S2: 3.9693e-03\n",
      "education_level_S1: 1.1453e-02\n",
      "education_level_S1 - S2: 6.7512e-03\n",
      "education_level_S1 - S3: 1.1998e-03\n",
      "education_level_S3: 6.8067e-04\n",
      "education_level_SMA/SMU: 8.7703e-03\n",
      "education_level_SMA/SMU - S1: 6.0996e-03\n",
      "education_level_SMA/SMU - S2: 8.4119e-04\n",
      "education_level_Tidak terspesifikasi: 5.4738e-03\n"
     ]
    }
   ],
   "source": [
    "parameter_estimate  = modelRF.feature_importances_\n",
    "for variable, parameter_estimate  in zip(X_train_new.columns, parameter_estimate):\n",
    "    print(f'{variable}: {parameter_estimate :.4e}')"
   ]
  },
  {
   "cell_type": "markdown",
   "metadata": {},
   "source": [
    "**Visualisasi Data Koefisien**"
   ]
  },
  {
   "cell_type": "code",
   "execution_count": 44,
   "metadata": {},
   "outputs": [
    {
     "data": {
      "image/png": "[encoded data removed]",
      "text/plain": [
       "<Figure size 1000x1000 with 1 Axes>"
      ]
     },
     "metadata": {},
     "output_type": "display_data"
    }
   ],
   "source": [
    "resultRF = pd.DataFrame({'Variable': X_train_new.columns, 'Coefficient': modelRF.feature_importances_})\n",
    "resultRF = resultRF.sort_values(by='Coefficient', ascending=False)\n",
    "color_palette = sns.color_palette(\"coolwarm\", len(modelRF.feature_importances_))\n",
    "\n",
    "sns.set(style='whitegrid')\n",
    "plt.figure(figsize=(10, 10)) \n",
    "sns.barplot(x='Coefficient', y='Variable', data=resultRF, palette=color_palette)\n",
    "plt.xlabel('Koefisien')\n",
    "plt.ylabel('')\n",
    "plt.title('Koefisien Random Forest')\n",
    "plt.show()"
   ]
  },
  {
   "cell_type": "code",
   "execution_count": 45,
   "metadata": {},
   "outputs": [],
   "source": [
    "absolute_error_rf_train = np.abs(y_train - modelRF.predict(X_train_new))\n",
    "percentage_error_rf_train = absolute_error_rf_train / y_train * 100"
   ]
  },
  {
   "cell_type": "code",
   "execution_count": 46,
   "metadata": {},
   "outputs": [
    {
     "name": "stdout",
     "output_type": "stream",
     "text": [
      "-------- Training Data Random Forest ---------\n",
      "MSE  : 721843979984.2803\n",
      "MAE  : 462353.3993\n",
      "RMSE : 849614.0182\n",
      "MAD  : 462353.3993\n",
      "MAPE  : 9.4978\n"
     ]
    }
   ],
   "source": [
    "print('-------- Training Data Random Forest ---------')\n",
    "y_train_pred_rf = modelRF.predict(X_train_new)\n",
    "print(\"MSE  :\", \"{:.4f}\".format(mean_squared_error(y_train, y_train_pred_rf)))\n",
    "print(\"MAE  :\", \"{:.4f}\".format(mean_absolute_error(y_train, y_train_pred_rf)))\n",
    "print(\"RMSE :\", \"{:.4f}\".format(math.sqrt(mean_squared_error(y_train, y_train_pred_rf))))\n",
    "print(\"MAD  :\", \"{:.4f}\".format(np.mean(np.abs(y_train - y_train_pred_rf))))\n",
    "print(\"MAPE  :\", \"{:.4f}\".format(np.mean(percentage_error_rf_train)))\n"
   ]
  },
  {
   "cell_type": "code",
   "execution_count": 47,
   "metadata": {},
   "outputs": [],
   "source": [
    "absolute_error_rf_test = np.abs(y_test - modelRF.predict(X_test_new))\n",
    "percentage_error_rf_test = absolute_error_rf_test / y_test * 100"
   ]
  },
  {
   "cell_type": "code",
   "execution_count": 48,
   "metadata": {},
   "outputs": [
    {
     "name": "stdout",
     "output_type": "stream",
     "text": [
      "\n",
      "-------- Testing Data Random Forest ---------\n",
      "MSE  : 811800626306.4813\n",
      "MAE  : 490678.42239972734\n",
      "RMSE : 900999.7926228847\n",
      "MAD  : 490678.42239972734\n",
      "MAPE  : 10.0397\n"
     ]
    }
   ],
   "source": [
    "print('\\n-------- Testing Data Random Forest ---------')\n",
    "y_test_pred_rf = modelRF.predict(X_test_new)\n",
    "print(\"MSE  :\", mean_squared_error(y_test, y_test_pred_rf))\n",
    "print(\"MAE  :\", mean_absolute_error(y_test, y_test_pred_rf))\n",
    "print(\"RMSE :\", math.sqrt(mean_squared_error(y_test, y_test_pred_rf)))\n",
    "print(\"MAD  :\", np.mean(np.abs(y_test - y_test_pred_rf)))\n",
    "print(\"MAPE  :\", \"{:.4f}\".format(np.mean(percentage_error_rf_test)))"
   ]
  },
  {
   "cell_type": "markdown",
   "metadata": {},
   "source": [
    "# Tes Ulang "
   ]
  },
  {
   "cell_type": "code",
   "execution_count": 49,
   "metadata": {},
   "outputs": [],
   "source": [
    "X_train_ulang = pd.concat([X_train, X_train_career], axis=1)\n",
    "X_train_ulang.drop(columns=['career_level', 'experience_level', 'employment_type', 'education_level'],inplace=True)\n",
    "\n",
    "X_test_ulang = pd.concat([X_test, X_test_career], axis=1)\n",
    "X_test_ulang.drop(columns=['career_level', 'experience_level', 'employment_type', 'education_level'],inplace=True)"
   ]
  },
  {
   "cell_type": "markdown",
   "metadata": {},
   "source": [
    "**Metode OLS**"
   ]
  },
  {
   "cell_type": "code",
   "execution_count": 50,
   "metadata": {},
   "outputs": [
    {
     "name": "stdout",
     "output_type": "stream",
     "text": [
      "                            OLS Regression Results                            \n",
      "==============================================================================\n",
      "Dep. Variable:                 salary   R-squared:                       0.455\n",
      "Model:                            OLS   Adj. R-squared:                  0.455\n",
      "Method:                 Least Squares   F-statistic:                     3297.\n",
      "Date:                Tue, 20 Jun 2023   Prob (F-statistic):               0.00\n",
      "Time:                        21:15:00   Log-Likelihood:            -2.3881e+05\n",
      "No. Observations:               15799   AIC:                         4.776e+05\n",
      "Df Residuals:                   15794   BIC:                         4.777e+05\n",
      "Df Model:                           4                                         \n",
      "Covariance Type:            nonrobust                                         \n",
      "==================================================================================================================================\n",
      "                                                                     coef    std err          t      P>|t|      [0.025      0.975]\n",
      "----------------------------------------------------------------------------------------------------------------------------------\n",
      "const                                                           5.093e+06   5.72e+04     89.108      0.000    4.98e+06    5.21e+06\n",
      "career_level_CEO/GM/Direktur/Manajer Senior                     2.735e+06    2.8e+05      9.772      0.000    2.19e+06    3.28e+06\n",
      "career_level_Lulusan baru/Pengalaman kerja kurang dari 1 tahun -1.017e+06   6.81e+04    -14.934      0.000   -1.15e+06   -8.83e+05\n",
      "career_level_Manajer/Asisten Manajer                            1.986e+06   7.11e+04     27.937      0.000    1.85e+06    2.13e+06\n",
      "career_level_Pegawai (non-manajemen & non-supervisor)          -1.819e+05   5.76e+04     -3.160      0.002   -2.95e+05    -6.9e+04\n",
      "career_level_Supervisor/Koordinator                             1.571e+06   5.83e+04     26.925      0.000    1.46e+06    1.68e+06\n",
      "==============================================================================\n",
      "Omnibus:                     3652.298   Durbin-Watson:                   2.026\n",
      "Prob(Omnibus):                  0.000   Jarque-Bera (JB):            36512.336\n",
      "Skew:                           0.824   Prob(JB):                         0.00\n",
      "Kurtosis:                      10.263   Cond. No.                     4.79e+15\n",
      "==============================================================================\n",
      "\n",
      "Notes:\n",
      "[1] Standard Errors assume that the covariance matrix of the errors is correctly specified.\n",
      "[2] The smallest eigenvalue is 1.11e-27. This might indicate that there are\n",
      "strong multicollinearity problems or that the design matrix is singular.\n"
     ]
    }
   ],
   "source": [
    "X_train_ulang_ols = sm.add_constant(X_train_ulang)\n",
    "ModelOLS_ulang = sm.OLS(y_train, X_train_ulang_ols).fit()\n",
    "print(ModelOLS_ulang.summary())"
   ]
  },
  {
   "cell_type": "code",
   "execution_count": 51,
   "metadata": {},
   "outputs": [],
   "source": [
    "# Rumus MAPE Training Data\n",
    "absolute_error_OLS_train = np.abs(y_train - ModelOLS_ulang.predict(X_train_ulang_ols))\n",
    "percentage_error_OLS_train = absolute_error_OLS_train / y_train * 100"
   ]
  },
  {
   "cell_type": "code",
   "execution_count": 52,
   "metadata": {},
   "outputs": [
    {
     "name": "stdout",
     "output_type": "stream",
     "text": [
      "-------- Training Data OLS ---------\n",
      "MSE  : 788031340861.6581\n",
      "MAE  : 427037.1831\n",
      "RMSE : 887711.2936\n",
      "MAD  : 427037.1831\n",
      "MAPE  : 8.8659\n"
     ]
    }
   ],
   "source": [
    "print('-------- Training Data OLS ---------')\n",
    "y_train_OLS = ModelOLS_ulang.predict(sm.add_constant(X_train_ulang))\n",
    "print(\"MSE  :\", \"{:.4f}\".format(mean_squared_error(y_train, y_train_OLS)))\n",
    "print(\"MAE  :\", \"{:.4f}\".format(mean_absolute_error(y_train, y_train_OLS)))\n",
    "print(\"RMSE :\", \"{:.4f}\".format(math.sqrt(mean_squared_error(y_train, y_train_OLS))))\n",
    "print(\"MAD  :\", \"{:.4f}\".format(np.mean(np.abs(y_train - y_train_OLS))))\n",
    "print(\"MAPE  :\", \"{:.4f}\".format(np.mean(percentage_error_OLS_train)))"
   ]
  },
  {
   "cell_type": "code",
   "execution_count": 53,
   "metadata": {},
   "outputs": [],
   "source": [
    "# Rumus MAPE Testing Data\n",
    "absolute_error_OLS_test = np.abs(y_test - ModelOLS_ulang.predict(sm.add_constant(X_test_ulang)))\n",
    "percentage_error_OLS_test = absolute_error_OLS_test / y_test * 100"
   ]
  },
  {
   "cell_type": "code",
   "execution_count": 54,
   "metadata": {},
   "outputs": [
    {
     "name": "stdout",
     "output_type": "stream",
     "text": [
      "-------- Testing Data OLS ---------\n",
      "MSE  : 828933386197.3453\n",
      "MAE  : 441240.1834406573\n",
      "RMSE : 910457.7893550834\n",
      "MAD  : 441240.1834406573\n",
      "MAPE  : 9.1717\n"
     ]
    }
   ],
   "source": [
    "print('-------- Testing Data OLS ---------')\n",
    "y_test_OLS = ModelOLS_ulang.predict(sm.add_constant(X_test_ulang))\n",
    "print(\"MSE  :\", mean_squared_error(y_test, y_test_OLS))\n",
    "print(\"MAE  :\", mean_absolute_error(y_test, y_test_OLS))\n",
    "print(\"RMSE :\", math.sqrt(mean_squared_error(y_test, y_test_OLS)))\n",
    "print(\"MAD  :\", np.mean(np.abs(y_test - y_test_OLS)))\n",
    "print(\"MAPE  :\", \"{:.4f}\".format(np.mean(percentage_error_OLS_test)))"
   ]
  },
  {
   "cell_type": "markdown",
   "metadata": {},
   "source": [
    "**Metode Random Forest**"
   ]
  },
  {
   "cell_type": "code",
   "execution_count": 55,
   "metadata": {},
   "outputs": [
    {
     "data": {
      "text/html": [
       "<style>#sk-container-id-2 {color: black;background-color: white;}#sk-container-id-2 pre{padding: 0;}#sk-container-id-2 div.sk-toggleable {background-color: white;}#sk-container-id-2 label.sk-toggleable__label {cursor: pointer;display: block;width: 100%;margin-bottom: 0;padding: 0.3em;box-sizing: border-box;text-align: center;}#sk-container-id-2 label.sk-toggleable__label-arrow:before {content: \"▸\";float: left;margin-right: 0.25em;color: #696969;}#sk-container-id-2 label.sk-toggleable__label-arrow:hover:before {color: black;}#sk-container-id-2 div.sk-estimator:hover label.sk-toggleable__label-arrow:before {color: black;}#sk-container-id-2 div.sk-toggleable__content {max-height: 0;max-width: 0;overflow: hidden;text-align: left;background-color: #f0f8ff;}#sk-container-id-2 div.sk-toggleable__content pre {margin: 0.2em;color: black;border-radius: 0.25em;background-color: #f0f8ff;}#sk-container-id-2 input.sk-toggleable__control:checked~div.sk-toggleable__content {max-height: 200px;max-width: 100%;overflow: auto;}#sk-container-id-2 input.sk-toggleable__control:checked~label.sk-toggleable__label-arrow:before {content: \"▾\";}#sk-container-id-2 div.sk-estimator input.sk-toggleable__control:checked~label.sk-toggleable__label {background-color: #d4ebff;}#sk-container-id-2 div.sk-label input.sk-toggleable__control:checked~label.sk-toggleable__label {background-color: #d4ebff;}#sk-container-id-2 input.sk-hidden--visually {border: 0;clip: rect(1px 1px 1px 1px);clip: rect(1px, 1px, 1px, 1px);height: 1px;margin: -1px;overflow: hidden;padding: 0;position: absolute;width: 1px;}#sk-container-id-2 div.sk-estimator {font-family: monospace;background-color: #f0f8ff;border: 1px dotted black;border-radius: 0.25em;box-sizing: border-box;margin-bottom: 0.5em;}#sk-container-id-2 div.sk-estimator:hover {background-color: #d4ebff;}#sk-container-id-2 div.sk-parallel-item::after {content: \"\";width: 100%;border-bottom: 1px solid gray;flex-grow: 1;}#sk-container-id-2 div.sk-label:hover label.sk-toggleable__label {background-color: #d4ebff;}#sk-container-id-2 div.sk-serial::before {content: \"\";position: absolute;border-left: 1px solid gray;box-sizing: border-box;top: 0;bottom: 0;left: 50%;z-index: 0;}#sk-container-id-2 div.sk-serial {display: flex;flex-direction: column;align-items: center;background-color: white;padding-right: 0.2em;padding-left: 0.2em;position: relative;}#sk-container-id-2 div.sk-item {position: relative;z-index: 1;}#sk-container-id-2 div.sk-parallel {display: flex;align-items: stretch;justify-content: center;background-color: white;position: relative;}#sk-container-id-2 div.sk-item::before, #sk-container-id-2 div.sk-parallel-item::before {content: \"\";position: absolute;border-left: 1px solid gray;box-sizing: border-box;top: 0;bottom: 0;left: 50%;z-index: -1;}#sk-container-id-2 div.sk-parallel-item {display: flex;flex-direction: column;z-index: 1;position: relative;background-color: white;}#sk-container-id-2 div.sk-parallel-item:first-child::after {align-self: flex-end;width: 50%;}#sk-container-id-2 div.sk-parallel-item:last-child::after {align-self: flex-start;width: 50%;}#sk-container-id-2 div.sk-parallel-item:only-child::after {width: 0;}#sk-container-id-2 div.sk-dashed-wrapped {border: 1px dashed gray;margin: 0 0.4em 0.5em 0.4em;box-sizing: border-box;padding-bottom: 0.4em;background-color: white;}#sk-container-id-2 div.sk-label label {font-family: monospace;font-weight: bold;display: inline-block;line-height: 1.2em;}#sk-container-id-2 div.sk-label-container {text-align: center;}#sk-container-id-2 div.sk-container {/* jupyter's `normalize.less` sets `[hidden] { display: none; }` but bootstrap.min.css set `[hidden] { display: none !important; }` so we also need the `!important` here to be able to override the default hidden behavior on the sphinx rendered scikit-learn.org. See: https://github.com/scikit-learn/scikit-learn/issues/21755 */display: inline-block !important;position: relative;}#sk-container-id-2 div.sk-text-repr-fallback {display: none;}</style><div id=\"sk-container-id-2\" class=\"sk-top-container\"><div class=\"sk-text-repr-fallback\"><pre>RandomForestRegressor(random_state=0)</pre><b>In a Jupyter environment, please rerun this cell to show the HTML representation or trust the notebook. <br />On GitHub, the HTML representation is unable to render, please try loading this page with nbviewer.org.</b></div><div class=\"sk-container\" hidden><div class=\"sk-item\"><div class=\"sk-estimator sk-toggleable\"><input class=\"sk-toggleable__control sk-hidden--visually\" id=\"sk-estimator-id-2\" type=\"checkbox\" checked><label for=\"sk-estimator-id-2\" class=\"sk-toggleable__label sk-toggleable__label-arrow\">RandomForestRegressor</label><div class=\"sk-toggleable__content\"><pre>RandomForestRegressor(random_state=0)</pre></div></div></div></div></div>"
      ],
      "text/plain": [
       "RandomForestRegressor(random_state=0)"
      ]
     },
     "execution_count": 55,
     "metadata": {},
     "output_type": "execute_result"
    }
   ],
   "source": [
    "modelRF_ulang = RandomForestRegressor(n_estimators=100, random_state=0)\n",
    "modelRF_ulang.fit(X_train_ulang, y_train)"
   ]
  },
  {
   "cell_type": "code",
   "execution_count": 56,
   "metadata": {},
   "outputs": [
    {
     "name": "stdout",
     "output_type": "stream",
     "text": [
      "career_level_CEO/GM/Direktur/Manajer Senior: 2.7912e-03\n",
      "career_level_Lulusan baru/Pengalaman kerja kurang dari 1 tahun: 2.5212e-02\n",
      "career_level_Manajer/Asisten Manajer: 1.3329e-01\n",
      "career_level_Pegawai (non-manajemen & non-supervisor): 3.1214e-03\n",
      "career_level_Supervisor/Koordinator: 8.3559e-01\n"
     ]
    }
   ],
   "source": [
    "parameter_estimate  = modelRF_ulang.feature_importances_\n",
    "for variable, parameter_estimate  in zip(X_train_new.columns, parameter_estimate):\n",
    "    print(f'{variable}: {parameter_estimate :.4e}')"
   ]
  },
  {
   "cell_type": "code",
   "execution_count": 57,
   "metadata": {},
   "outputs": [],
   "source": [
    "absolute_error_rf_train = np.abs(y_train - modelRF_ulang.predict(X_train_ulang))\n",
    "percentage_error_rf_train = absolute_error_rf_train / y_train * 100"
   ]
  },
  {
   "cell_type": "code",
   "execution_count": 58,
   "metadata": {},
   "outputs": [
    {
     "name": "stdout",
     "output_type": "stream",
     "text": [
      "-------- Training Data Random Forest ---------\n",
      "MSE  : 788031696664.6448\n",
      "MAE  : 427237.3657\n",
      "RMSE : 887711.4940\n",
      "MAD  : 427237.3657\n",
      "MAPE  : 8.8706\n"
     ]
    }
   ],
   "source": [
    "print('-------- Training Data Random Forest ---------')\n",
    "y_train_pred_rf = modelRF_ulang.predict(X_train_ulang)\n",
    "print(\"MSE  :\", \"{:.4f}\".format(mean_squared_error(y_train, y_train_pred_rf)))\n",
    "print(\"MAE  :\", \"{:.4f}\".format(mean_absolute_error(y_train, y_train_pred_rf)))\n",
    "print(\"RMSE :\", \"{:.4f}\".format(math.sqrt(mean_squared_error(y_train, y_train_pred_rf))))\n",
    "print(\"MAD  :\", \"{:.4f}\".format(np.mean(np.abs(y_train - y_train_pred_rf))))\n",
    "print(\"MAPE  :\", \"{:.4f}\".format(np.mean(percentage_error_rf_train)))"
   ]
  },
  {
   "cell_type": "code",
   "execution_count": 59,
   "metadata": {},
   "outputs": [],
   "source": [
    "absolute_error_rf_test = np.abs(y_test - modelRF_ulang.predict(X_test_ulang))\n",
    "percentage_error_rf_test = absolute_error_rf_test / y_test * 100"
   ]
  },
  {
   "cell_type": "code",
   "execution_count": 60,
   "metadata": {},
   "outputs": [
    {
     "name": "stdout",
     "output_type": "stream",
     "text": [
      "\n",
      "-------- Testing Data Random Forest ---------\n",
      "MSE  : 828983276147.1514\n",
      "MAE  : 441435.2614393308\n",
      "RMSE : 910485.187220062\n",
      "MAD  : 441435.2614393308\n",
      "MAPE  : 9.1762\n"
     ]
    }
   ],
   "source": [
    "print('\\n-------- Testing Data Random Forest ---------')\n",
    "y_test_pred_rf = modelRF_ulang.predict(X_test_ulang)\n",
    "print(\"MSE  :\", mean_squared_error(y_test, y_test_pred_rf))\n",
    "print(\"MAE  :\", mean_absolute_error(y_test, y_test_pred_rf))\n",
    "print(\"RMSE :\", math.sqrt(mean_squared_error(y_test, y_test_pred_rf)))\n",
    "print(\"MAD  :\", np.mean(np.abs(y_test - y_test_pred_rf)))\n",
    "print(\"MAPE  :\", \"{:.4f}\".format(np.mean(percentage_error_rf_test)))"
   ]
  }
 ],
 "metadata": {
  "kernelspec": {
   "display_name": "Python 3.10.9 ('base')",
   "language": "python",
   "name": "python3"
  },
  "language_info": {
   "codemirror_mode": {
    "name": "ipython",
    "version": 3
   },
   "file_extension": ".py",
   "mimetype": "text/x-python",
   "name": "python",
   "nbconvert_exporter": "python",
   "pygments_lexer": "ipython3",
   "version": "3.10.9"
  },
  "orig_nbformat": 4,
  "vscode": {
   "interpreter": {
    "hash": "5faf7cf2303f867cb700a72830a1531b1508ead491941f06aa8dbd992b2ea060"
   }
  }
 },
 "nbformat": 4,
 "nbformat_minor": 2
}
