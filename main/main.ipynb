{
 "cells": [
  {
   "cell_type": "markdown",
   "metadata": {},
   "source": [
    "# 1. Read and import data"
   ]
  },
  {
   "cell_type": "code",
   "execution_count": 112,
   "metadata": {},
   "outputs": [],
   "source": [
    "import math  \n",
    "import numpy as np\n",
    "import pandas as pd\n",
    "\n",
    "import matplotlib.pyplot as plt\n",
    "import seaborn as sns\n",
    "\n",
    "import statsmodels.api as sm\n",
    "\n",
    "from scipy.stats import pearsonr\n",
    "\n",
    "from sklearn.linear_model import LinearRegression\n",
    "from sklearn.ensemble import RandomForestRegressor\n",
    "from sklearn.preprocessing import OneHotEncoder\n",
    "from sklearn.model_selection import train_test_split\n",
    "from sklearn.metrics import mean_squared_error\n",
    "from sklearn.metrics import mean_absolute_error"
   ]
  },
  {
   "cell_type": "code",
   "execution_count": 113,
   "metadata": {},
   "outputs": [],
   "source": [
    "dataset = pd.read_csv('../data/salary.csv', sep='|')"
   ]
  },
  {
   "cell_type": "markdown",
   "metadata": {},
   "source": [
    "**Cek Cek Dulu**"
   ]
  },
  {
   "cell_type": "code",
   "execution_count": 114,
   "metadata": {},
   "outputs": [
    {
     "data": {
      "text/html": [
       "<div>\n",
       "<style scoped>\n",
       "    .dataframe tbody tr th:only-of-type {\n",
       "        vertical-align: middle;\n",
       "    }\n",
       "\n",
       "    .dataframe tbody tr th {\n",
       "        vertical-align: top;\n",
       "    }\n",
       "\n",
       "    .dataframe thead th {\n",
       "        text-align: right;\n",
       "    }\n",
       "</style>\n",
       "<table border=\"1\" class=\"dataframe\">\n",
       "  <thead>\n",
       "    <tr style=\"text-align: right;\">\n",
       "      <th></th>\n",
       "      <th>id</th>\n",
       "      <th>job_title</th>\n",
       "      <th>location</th>\n",
       "      <th>salary_currency</th>\n",
       "      <th>career_level</th>\n",
       "      <th>experience_level</th>\n",
       "      <th>education_level</th>\n",
       "      <th>employment_type</th>\n",
       "      <th>job_function</th>\n",
       "      <th>job_benefits</th>\n",
       "      <th>company_process_time</th>\n",
       "      <th>company_size</th>\n",
       "      <th>company_industry</th>\n",
       "      <th>job_description</th>\n",
       "      <th>salary</th>\n",
       "    </tr>\n",
       "  </thead>\n",
       "  <tbody>\n",
       "    <tr>\n",
       "      <th>0</th>\n",
       "      <td>1</td>\n",
       "      <td>Facility Maintenance &amp; Smart Warehouse Manager</td>\n",
       "      <td>Bandung</td>\n",
       "      <td>IDR</td>\n",
       "      <td>Manajer/Asisten Manajer</td>\n",
       "      <td>5 tahun</td>\n",
       "      <td>Sertifikat Professional, D3 (Diploma), D4 (Dip...</td>\n",
       "      <td>Penuh Waktu</td>\n",
       "      <td>Manufaktur,Pemeliharaan</td>\n",
       "      <td>NaN</td>\n",
       "      <td>NaN</td>\n",
       "      <td>NaN</td>\n",
       "      <td>NaN</td>\n",
       "      <td>Deskripsi PekerjaanRequirements :D3/SI from re...</td>\n",
       "      <td>NaN</td>\n",
       "    </tr>\n",
       "    <tr>\n",
       "      <th>1</th>\n",
       "      <td>2</td>\n",
       "      <td>Procurement Department Head</td>\n",
       "      <td>Jakarta Raya</td>\n",
       "      <td>IDR</td>\n",
       "      <td>Manajer/Asisten Manajer</td>\n",
       "      <td>5 tahun</td>\n",
       "      <td>Sarjana (S1), Diploma Pascasarjana, Gelar Prof...</td>\n",
       "      <td>Penuh Waktu</td>\n",
       "      <td>Manufaktur,Pembelian/Manajemen Material</td>\n",
       "      <td>NaN</td>\n",
       "      <td>25 days</td>\n",
       "      <td>51 - 200 pekerja</td>\n",
       "      <td>Manajemen/Konsulting HR</td>\n",
       "      <td>Job Role: 1. Responsible for material availabi...</td>\n",
       "      <td>NaN</td>\n",
       "    </tr>\n",
       "    <tr>\n",
       "      <th>2</th>\n",
       "      <td>3</td>\n",
       "      <td>SALES ADMIN</td>\n",
       "      <td>Jakarta Barat</td>\n",
       "      <td>IDR</td>\n",
       "      <td>Supervisor/Koordinator</td>\n",
       "      <td>4 tahun</td>\n",
       "      <td>Sarjana (S1)</td>\n",
       "      <td>Penuh Waktu</td>\n",
       "      <td>Penjualan / Pemasaran,Penjualan Ritel</td>\n",
       "      <td>Waktu regular, Senin - Jumat;Bisnis (contoh: K...</td>\n",
       "      <td>30 days</td>\n",
       "      <td>51 - 200 pekerja</td>\n",
       "      <td>Umum &amp; Grosir</td>\n",
       "      <td>Internal Sales &amp; AdminJob Description :We are ...</td>\n",
       "      <td>NaN</td>\n",
       "    </tr>\n",
       "    <tr>\n",
       "      <th>3</th>\n",
       "      <td>4</td>\n",
       "      <td>City Operation Lead Shopee Express (Cirebon)</td>\n",
       "      <td>Cirebon</td>\n",
       "      <td>IDR</td>\n",
       "      <td>Supervisor/Koordinator</td>\n",
       "      <td>5 tahun</td>\n",
       "      <td>Sarjana (S1), Diploma Pascasarjana, Gelar Prof...</td>\n",
       "      <td>Penuh Waktu</td>\n",
       "      <td>Pelayanan,Logistik/Rantai Pasokan</td>\n",
       "      <td>Tip;Waktu regular, Senin - Jumat;Kasual (conto...</td>\n",
       "      <td>21 days</td>\n",
       "      <td>2001 - 5000 pekerja</td>\n",
       "      <td>Retail/Merchandise</td>\n",
       "      <td>Job Description:Responsible for HSE implementa...</td>\n",
       "      <td>NaN</td>\n",
       "    </tr>\n",
       "    <tr>\n",
       "      <th>4</th>\n",
       "      <td>5</td>\n",
       "      <td>Japanese Interpreter</td>\n",
       "      <td>Bekasi</td>\n",
       "      <td>IDR</td>\n",
       "      <td>Pegawai (non-manajemen &amp; non-supervisor)</td>\n",
       "      <td>2 tahun</td>\n",
       "      <td>Sertifikat Professional, D3 (Diploma), D4 (Dip...</td>\n",
       "      <td>Penuh Waktu</td>\n",
       "      <td>Lainnya,Jurnalis/Editor</td>\n",
       "      <td>NaN</td>\n",
       "      <td>23 days</td>\n",
       "      <td>201 - 500 pekerja</td>\n",
       "      <td>Manajemen/Konsulting HR</td>\n",
       "      <td>Overview: Our clients is manufacture for autom...</td>\n",
       "      <td>NaN</td>\n",
       "    </tr>\n",
       "  </tbody>\n",
       "</table>\n",
       "</div>"
      ],
      "text/plain": [
       "   id                                       job_title       location  \\\n",
       "0   1  Facility Maintenance & Smart Warehouse Manager        Bandung   \n",
       "1   2                     Procurement Department Head   Jakarta Raya   \n",
       "2   3                                     SALES ADMIN  Jakarta Barat   \n",
       "3   4    City Operation Lead Shopee Express (Cirebon)        Cirebon   \n",
       "4   5                            Japanese Interpreter         Bekasi   \n",
       "\n",
       "  salary_currency                              career_level experience_level  \\\n",
       "0             IDR                   Manajer/Asisten Manajer          5 tahun   \n",
       "1             IDR                   Manajer/Asisten Manajer          5 tahun   \n",
       "2             IDR                    Supervisor/Koordinator          4 tahun   \n",
       "3             IDR                    Supervisor/Koordinator          5 tahun   \n",
       "4             IDR  Pegawai (non-manajemen & non-supervisor)          2 tahun   \n",
       "\n",
       "                                     education_level employment_type  \\\n",
       "0  Sertifikat Professional, D3 (Diploma), D4 (Dip...     Penuh Waktu   \n",
       "1  Sarjana (S1), Diploma Pascasarjana, Gelar Prof...     Penuh Waktu   \n",
       "2                                       Sarjana (S1)     Penuh Waktu   \n",
       "3  Sarjana (S1), Diploma Pascasarjana, Gelar Prof...     Penuh Waktu   \n",
       "4  Sertifikat Professional, D3 (Diploma), D4 (Dip...     Penuh Waktu   \n",
       "\n",
       "                              job_function  \\\n",
       "0                  Manufaktur,Pemeliharaan   \n",
       "1  Manufaktur,Pembelian/Manajemen Material   \n",
       "2    Penjualan / Pemasaran,Penjualan Ritel   \n",
       "3        Pelayanan,Logistik/Rantai Pasokan   \n",
       "4                  Lainnya,Jurnalis/Editor   \n",
       "\n",
       "                                        job_benefits company_process_time  \\\n",
       "0                                                NaN                  NaN   \n",
       "1                                                NaN              25 days   \n",
       "2  Waktu regular, Senin - Jumat;Bisnis (contoh: K...              30 days   \n",
       "3  Tip;Waktu regular, Senin - Jumat;Kasual (conto...              21 days   \n",
       "4                                                NaN              23 days   \n",
       "\n",
       "          company_size         company_industry  \\\n",
       "0                  NaN                      NaN   \n",
       "1     51 - 200 pekerja  Manajemen/Konsulting HR   \n",
       "2     51 - 200 pekerja            Umum & Grosir   \n",
       "3  2001 - 5000 pekerja       Retail/Merchandise   \n",
       "4    201 - 500 pekerja  Manajemen/Konsulting HR   \n",
       "\n",
       "                                     job_description  salary  \n",
       "0  Deskripsi PekerjaanRequirements :D3/SI from re...     NaN  \n",
       "1  Job Role: 1. Responsible for material availabi...     NaN  \n",
       "2  Internal Sales & AdminJob Description :We are ...     NaN  \n",
       "3  Job Description:Responsible for HSE implementa...     NaN  \n",
       "4  Overview: Our clients is manufacture for autom...     NaN  "
      ]
     },
     "execution_count": 114,
     "metadata": {},
     "output_type": "execute_result"
    }
   ],
   "source": [
    "dataset.head()"
   ]
  },
  {
   "cell_type": "code",
   "execution_count": 115,
   "metadata": {},
   "outputs": [
    {
     "name": "stdout",
     "output_type": "stream",
     "text": [
      "<class 'pandas.core.frame.DataFrame'>\n",
      "RangeIndex: 34746 entries, 0 to 34745\n",
      "Data columns (total 15 columns):\n",
      " #   Column                Non-Null Count  Dtype  \n",
      "---  ------                --------------  -----  \n",
      " 0   id                    34746 non-null  int64  \n",
      " 1   job_title             34746 non-null  object \n",
      " 2   location              34746 non-null  object \n",
      " 3   salary_currency       34742 non-null  object \n",
      " 4   career_level          34746 non-null  object \n",
      " 5   experience_level      30205 non-null  object \n",
      " 6   education_level       34746 non-null  object \n",
      " 7   employment_type       33402 non-null  object \n",
      " 8   job_function          34746 non-null  object \n",
      " 9   job_benefits          27330 non-null  object \n",
      " 10  company_process_time  24555 non-null  object \n",
      " 11  company_size          29103 non-null  object \n",
      " 12  company_industry      33132 non-null  object \n",
      " 13  job_description       34745 non-null  object \n",
      " 14  salary                9352 non-null   float64\n",
      "dtypes: float64(1), int64(1), object(13)\n",
      "memory usage: 4.0+ MB\n"
     ]
    }
   ],
   "source": [
    "dataset.info()"
   ]
  },
  {
   "cell_type": "code",
   "execution_count": 116,
   "metadata": {},
   "outputs": [
    {
     "data": {
      "text/plain": [
       "id                          0\n",
       "job_title                   0\n",
       "location                    0\n",
       "salary_currency             4\n",
       "career_level                0\n",
       "experience_level         4541\n",
       "education_level             0\n",
       "employment_type          1344\n",
       "job_function                0\n",
       "job_benefits             7416\n",
       "company_process_time    10191\n",
       "company_size             5643\n",
       "company_industry         1614\n",
       "job_description             1\n",
       "salary                  25394\n",
       "dtype: int64"
      ]
     },
     "execution_count": 116,
     "metadata": {},
     "output_type": "execute_result"
    }
   ],
   "source": [
    "dataset.isna().sum()"
   ]
  },
  {
   "cell_type": "markdown",
   "metadata": {},
   "source": [
    "# 2. Cleaning the data"
   ]
  },
  {
   "cell_type": "markdown",
   "metadata": {},
   "source": [
    "**Drop kolom yang tidak diperlukan**"
   ]
  },
  {
   "cell_type": "code",
   "execution_count": 117,
   "metadata": {},
   "outputs": [],
   "source": [
    "dataset = dataset.drop(labels=[\"id\", \"salary_currency\", \"job_benefits\", \"job_function\", \"job_description\",\n",
    "\"company_process_time\", \"company_size\", \"company_industry\"], axis=1)"
   ]
  },
  {
   "cell_type": "markdown",
   "metadata": {},
   "source": [
    "**Mengisi Missing Value Experience Level**"
   ]
  },
  {
   "cell_type": "code",
   "execution_count": 118,
   "metadata": {},
   "outputs": [
    {
     "name": "stderr",
     "output_type": "stream",
     "text": [
      "C:\\Users\\reost\\AppData\\Local\\Temp\\ipykernel_26464\\1617876946.py:1: FutureWarning: The default value of regex will change from True to False in a future version.\n",
      "  dataset[\"experience_level\"] = dataset[\"experience_level\"].str.replace(\"\\D\", \"\")\n"
     ]
    }
   ],
   "source": [
    "dataset[\"experience_level\"] = dataset[\"experience_level\"].str.replace(\"\\D\", \"\")"
   ]
  },
  {
   "cell_type": "code",
   "execution_count": 119,
   "metadata": {},
   "outputs": [],
   "source": [
    "# dataset['experience_level'].fillna(dataset.groupby([\"job_title\"])['experience_level'].transform('median'), inplace=True)"
   ]
  },
  {
   "cell_type": "markdown",
   "metadata": {},
   "source": [
    "**Mengisi Missing Value Salary**"
   ]
  },
  {
   "cell_type": "code",
   "execution_count": 120,
   "metadata": {},
   "outputs": [],
   "source": [
    "dataset['salary'].fillna(dataset.groupby([\"career_level\"])['salary'].transform('median'), inplace=True)\n",
    "dataset['salary'] = dataset['salary'].round(0)"
   ]
  },
  {
   "cell_type": "markdown",
   "metadata": {},
   "source": [
    "**Mapping Education Level**"
   ]
  },
  {
   "cell_type": "code",
   "execution_count": 121,
   "metadata": {},
   "outputs": [],
   "source": [
    "edu = []\n",
    "for i in dataset['education_level']:\n",
    "    if i == \"Sertifikat Professional, D3 (Diploma), D4 (Diploma), Sarjana (S1)\":\n",
    "        edu.append('D3 - S2')\n",
    "    elif i == \"Sarjana (S1), Diploma Pascasarjana, Gelar Professional, Magister (S2)\":\n",
    "        edu.append(\"S1 - S2\")\n",
    "    elif i == \"Sarjana (S1)\":\n",
    "        edu.append(\"S1\")     \n",
    "    elif i == \"SMA, SMU/SMK/STM\":\n",
    "        edu.append(\"SMA/SMU\")      \n",
    "    elif i == \"SMA, SMU/SMK/STM, Sertifikat Professional, D3 (Diploma), D4 (Diploma), Sarjana (S1)\":\n",
    "        edu.append(\"SMA/SMU - S1\")  \n",
    "    elif i == \"SMA, SMU/SMK/STM, Sertifikat Professional, D3 (Diploma), D4 (Diploma)\":\n",
    "        edu.append(\"SMA/SMU - S1\")\n",
    "    elif i == \"Sertifikat Professional, D3 (Diploma), D4 (Diploma), Sarjana (S1), Diploma Pascasarjana, Gelar Professional, Magister (S2)\":\n",
    "        edu.append(\"D3 - S2\") \n",
    "    elif i == \"Sertifikat Professional, D3 (Diploma), D4 (Diploma)\":\n",
    "        edu.append(\"D3 - S1\") \n",
    "    elif i == \"SMA, SMU/SMK/STM, Sarjana (S1)\":\n",
    "        edu.append(\"SMA/SMU - S1\") \n",
    "    elif i == \"Sarjana (S1), Diploma Pascasarjana, Gelar Professional, Magister (S2), Doktor (S3)\":\n",
    "        edu.append(\"S1 - S3\")   \n",
    "    elif i == \"Diploma Pascasarjana, Gelar Professional, Magister (S2)\":\n",
    "        edu.append(\"S1 - S2\")  \n",
    "    elif i == \"Sarjana (S1), Doktor (S3)\":\n",
    "        edu.append(\"S1 - S3\")  \n",
    "    elif i == \"Sertifikat Professional, D3 (Diploma), D4 (Diploma), Diploma Pascasarjana, Gelar Professional, Magister (S2)\":\n",
    "        edu.append(\"D3 - S2\")         \n",
    "    elif i == \"Diploma Pascasarjana, Gelar Professional, Magister (S2), Doktor (S3)\":\n",
    "        edu.append(\"S1 - S2\")   \n",
    "    elif i == \"Doktor (S3)\":\n",
    "        edu.append(\"S3\")     \n",
    "    elif i == \"SMA, SMU/SMK/STM, Sertifikat Professional, D3 (Diploma), D4 (Diploma), Diploma Pascasarjana, Gelar Professional, Magister (S2)\":\n",
    "        edu.append(\"SMA/SMU - S2\")  \n",
    "    elif i == \"SMA, SMU/SMK/STM, Sarjana (S1), Diploma Pascasarjana, Gelar Professional, Magister (S2)\":\n",
    "        edu.append(\"SMA/SMU - S2\")\n",
    "    elif i == \"SMA, SMU/SMK/STM, Sarjana (S1), Doktor (S3)\":\n",
    "        edu.append(\"S1 - S3\")                                                                                                                                                                                         \n",
    "    else:\n",
    "        edu.append('Tidak terspesifikasi')\n",
    "dataset['education_level'] = edu"
   ]
  },
  {
   "cell_type": "markdown",
   "metadata": {},
   "source": [
    "**Cek Duplikasi Data**"
   ]
  },
  {
   "cell_type": "code",
   "execution_count": 122,
   "metadata": {},
   "outputs": [
    {
     "name": "stdout",
     "output_type": "stream",
     "text": [
      "Duplikasi Sebelum Di Drop:  5365\n",
      "Duplikasi Setelah Di Drop:  0\n"
     ]
    }
   ],
   "source": [
    "print(\"Duplikasi Sebelum Di Drop: \", dataset.duplicated().sum())\n",
    "dataset.drop_duplicates(keep='first', inplace=True)\n",
    "print(\"Duplikasi Setelah Di Drop: \", dataset.duplicated().sum())"
   ]
  },
  {
   "cell_type": "code",
   "execution_count": 123,
   "metadata": {},
   "outputs": [
    {
     "data": {
      "text/plain": [
       "job_title              0\n",
       "location               0\n",
       "career_level           0\n",
       "experience_level    3894\n",
       "education_level        0\n",
       "employment_type     1251\n",
       "salary              1306\n",
       "dtype: int64"
      ]
     },
     "execution_count": 123,
     "metadata": {},
     "output_type": "execute_result"
    }
   ],
   "source": [
    "dataset.isna().sum()"
   ]
  },
  {
   "cell_type": "markdown",
   "metadata": {},
   "source": [
    "**Outlier**"
   ]
  },
  {
   "cell_type": "code",
   "execution_count": 124,
   "metadata": {},
   "outputs": [],
   "source": [
    "# per25Exp = dataset['experience_level'].quantile(0.25)\n",
    "# per75Exp = dataset['experience_level'].quantile(0.75)\n",
    "# iqrExp = per75Exp - per25Exp\n",
    "\n",
    "# lower_limit = per25Exp - 1.5 * iqrExp\n",
    "# upper_limit = per75Exp + 1.5 * iqrExp\n",
    "\n",
    "# dataset = dataset[~((dataset[\"experience_level\"] < (lower_limit)) | (dataset[\"experience_level\"] > (upper_limit)))]\n",
    "\n",
    "# sns.set(rc={'figure.figsize':(10, 5)})\n",
    "# sns.boxplot(dataset[\"experience_level\"])\n",
    "# plt.show()"
   ]
  },
  {
   "cell_type": "code",
   "execution_count": 125,
   "metadata": {},
   "outputs": [
    {
     "data": {
      "image/png": "[encoded data removed]",
      "text/plain": [
       "<Figure size 1000x500 with 1 Axes>"
      ]
     },
     "metadata": {},
     "output_type": "display_data"
    }
   ],
   "source": [
    "# Salary\n",
    "per25Salary = dataset['salary'].quantile(0.25)\n",
    "per75Salary = dataset['salary'].quantile(0.75)\n",
    "iqrSalary = per75Salary - per25Salary\n",
    "\n",
    "lower_limit = per25Salary - 1.5 * iqrSalary\n",
    "upper_limit = per75Salary + 1.5 * iqrSalary\n",
    "\n",
    "dataset = dataset[~((dataset[\"salary\"] < (lower_limit)) | (dataset[\"salary\"] > (upper_limit)))]\n",
    "dataset.reset_index(drop=True, inplace=True)\n",
    "\n",
    "sns.set(rc={'figure.figsize':(10, 5)})\n",
    "sns.boxplot(dataset[\"salary\"])\n",
    "plt.show()"
   ]
  },
  {
   "cell_type": "code",
   "execution_count": 126,
   "metadata": {},
   "outputs": [],
   "source": [
    "dataset.dropna(inplace=True)\n"
   ]
  },
  {
   "cell_type": "markdown",
   "metadata": {},
   "source": [
    "# 3. Discovering Data"
   ]
  },
  {
   "cell_type": "code",
   "execution_count": 127,
   "metadata": {},
   "outputs": [
    {
     "name": "stdout",
     "output_type": "stream",
     "text": [
      "<class 'pandas.core.frame.DataFrame'>\n",
      "Int64Index: 20893 entries, 0 to 24723\n",
      "Data columns (total 7 columns):\n",
      " #   Column            Non-Null Count  Dtype  \n",
      "---  ------            --------------  -----  \n",
      " 0   job_title         20893 non-null  object \n",
      " 1   location          20893 non-null  object \n",
      " 2   career_level      20893 non-null  object \n",
      " 3   experience_level  20893 non-null  object \n",
      " 4   education_level   20893 non-null  object \n",
      " 5   employment_type   20893 non-null  object \n",
      " 6   salary            20893 non-null  float64\n",
      "dtypes: float64(1), object(6)\n",
      "memory usage: 1.3+ MB\n"
     ]
    }
   ],
   "source": [
    "dataset.info()"
   ]
  },
  {
   "cell_type": "markdown",
   "metadata": {},
   "source": [
    "**Grouping Categorical & Numerical**"
   ]
  },
  {
   "cell_type": "code",
   "execution_count": 128,
   "metadata": {},
   "outputs": [
    {
     "name": "stdout",
     "output_type": "stream",
     "text": [
      "['job_title', 'location', 'career_level', 'experience_level', 'education_level', 'employment_type']\n"
     ]
    }
   ],
   "source": [
    "categorical = list(dataset.select_dtypes(include='object'))\n",
    "print(categorical)"
   ]
  },
  {
   "cell_type": "code",
   "execution_count": 129,
   "metadata": {},
   "outputs": [
    {
     "data": {
      "text/html": [
       "<div>\n",
       "<style scoped>\n",
       "    .dataframe tbody tr th:only-of-type {\n",
       "        vertical-align: middle;\n",
       "    }\n",
       "\n",
       "    .dataframe tbody tr th {\n",
       "        vertical-align: top;\n",
       "    }\n",
       "\n",
       "    .dataframe thead th {\n",
       "        text-align: right;\n",
       "    }\n",
       "</style>\n",
       "<table border=\"1\" class=\"dataframe\">\n",
       "  <thead>\n",
       "    <tr style=\"text-align: right;\">\n",
       "      <th></th>\n",
       "      <th>job_title</th>\n",
       "      <th>location</th>\n",
       "      <th>career_level</th>\n",
       "      <th>experience_level</th>\n",
       "      <th>education_level</th>\n",
       "      <th>employment_type</th>\n",
       "    </tr>\n",
       "  </thead>\n",
       "  <tbody>\n",
       "    <tr>\n",
       "      <th>count</th>\n",
       "      <td>20893</td>\n",
       "      <td>20893</td>\n",
       "      <td>20893</td>\n",
       "      <td>20893</td>\n",
       "      <td>20893</td>\n",
       "      <td>20893</td>\n",
       "    </tr>\n",
       "    <tr>\n",
       "      <th>unique</th>\n",
       "      <td>14640</td>\n",
       "      <td>192</td>\n",
       "      <td>5</td>\n",
       "      <td>15</td>\n",
       "      <td>10</td>\n",
       "      <td>7</td>\n",
       "    </tr>\n",
       "    <tr>\n",
       "      <th>top</th>\n",
       "      <td>Sales Executive</td>\n",
       "      <td>Jakarta Raya</td>\n",
       "      <td>Pegawai (non-manajemen &amp; non-supervisor)</td>\n",
       "      <td>1</td>\n",
       "      <td>S1</td>\n",
       "      <td>Penuh Waktu</td>\n",
       "    </tr>\n",
       "    <tr>\n",
       "      <th>freq</th>\n",
       "      <td>187</td>\n",
       "      <td>4087</td>\n",
       "      <td>15063</td>\n",
       "      <td>8512</td>\n",
       "      <td>7028</td>\n",
       "      <td>17850</td>\n",
       "    </tr>\n",
       "  </tbody>\n",
       "</table>\n",
       "</div>"
      ],
      "text/plain": [
       "              job_title      location  \\\n",
       "count             20893         20893   \n",
       "unique            14640           192   \n",
       "top     Sales Executive  Jakarta Raya   \n",
       "freq                187          4087   \n",
       "\n",
       "                                    career_level experience_level  \\\n",
       "count                                      20893            20893   \n",
       "unique                                         5               15   \n",
       "top     Pegawai (non-manajemen & non-supervisor)                1   \n",
       "freq                                       15063             8512   \n",
       "\n",
       "       education_level employment_type  \n",
       "count            20893           20893  \n",
       "unique              10               7  \n",
       "top                 S1     Penuh Waktu  \n",
       "freq              7028           17850  "
      ]
     },
     "execution_count": 129,
     "metadata": {},
     "output_type": "execute_result"
    }
   ],
   "source": [
    "dataset[categorical].describe() "
   ]
  },
  {
   "cell_type": "code",
   "execution_count": 130,
   "metadata": {},
   "outputs": [
    {
     "name": "stdout",
     "output_type": "stream",
     "text": [
      "['salary']\n"
     ]
    }
   ],
   "source": [
    "numerical = dataset.columns[dataset.dtypes != 'object'].tolist()\n",
    "print(numerical)"
   ]
  },
  {
   "cell_type": "code",
   "execution_count": 131,
   "metadata": {},
   "outputs": [
    {
     "data": {
      "text/html": [
       "<div>\n",
       "<style scoped>\n",
       "    .dataframe tbody tr th:only-of-type {\n",
       "        vertical-align: middle;\n",
       "    }\n",
       "\n",
       "    .dataframe tbody tr th {\n",
       "        vertical-align: top;\n",
       "    }\n",
       "\n",
       "    .dataframe thead th {\n",
       "        text-align: right;\n",
       "    }\n",
       "</style>\n",
       "<table border=\"1\" class=\"dataframe\">\n",
       "  <thead>\n",
       "    <tr style=\"text-align: right;\">\n",
       "      <th></th>\n",
       "      <th>salary</th>\n",
       "    </tr>\n",
       "  </thead>\n",
       "  <tbody>\n",
       "    <tr>\n",
       "      <th>count</th>\n",
       "      <td>2.089300e+04</td>\n",
       "    </tr>\n",
       "    <tr>\n",
       "      <th>mean</th>\n",
       "      <td>5.345770e+06</td>\n",
       "    </tr>\n",
       "    <tr>\n",
       "      <th>std</th>\n",
       "      <td>1.181111e+06</td>\n",
       "    </tr>\n",
       "    <tr>\n",
       "      <th>min</th>\n",
       "      <td>2.000000e+06</td>\n",
       "    </tr>\n",
       "    <tr>\n",
       "      <th>25%</th>\n",
       "      <td>4.850000e+06</td>\n",
       "    </tr>\n",
       "    <tr>\n",
       "      <th>50%</th>\n",
       "      <td>4.850000e+06</td>\n",
       "    </tr>\n",
       "    <tr>\n",
       "      <th>75%</th>\n",
       "      <td>6.600000e+06</td>\n",
       "    </tr>\n",
       "    <tr>\n",
       "      <th>max</th>\n",
       "      <td>9.600000e+06</td>\n",
       "    </tr>\n",
       "  </tbody>\n",
       "</table>\n",
       "</div>"
      ],
      "text/plain": [
       "             salary\n",
       "count  2.089300e+04\n",
       "mean   5.345770e+06\n",
       "std    1.181111e+06\n",
       "min    2.000000e+06\n",
       "25%    4.850000e+06\n",
       "50%    4.850000e+06\n",
       "75%    6.600000e+06\n",
       "max    9.600000e+06"
      ]
     },
     "execution_count": 131,
     "metadata": {},
     "output_type": "execute_result"
    }
   ],
   "source": [
    "dataset[numerical].describe()"
   ]
  },
  {
   "cell_type": "markdown",
   "metadata": {},
   "source": [
    "# 4. Data Preprocessing"
   ]
  },
  {
   "cell_type": "code",
   "execution_count": 132,
   "metadata": {},
   "outputs": [],
   "source": [
    "X = dataset.drop([\"salary\", \"job_title\", \"location\"], axis=1)\n",
    "y = dataset['salary']"
   ]
  },
  {
   "cell_type": "code",
   "execution_count": 133,
   "metadata": {},
   "outputs": [
    {
     "name": "stdout",
     "output_type": "stream",
     "text": [
      "Traning Data: (16714, 4)\n",
      "Testing Data: (4179, 4)\n"
     ]
    }
   ],
   "source": [
    "X_train,X_test, y_train, y_test= train_test_split(X, y, test_size=0.2, random_state=0)\n",
    "\n",
    "print(f'Traning Data: {X_train.shape}')\n",
    "print(f'Testing Data: {X_test.shape}')"
   ]
  },
  {
   "cell_type": "markdown",
   "metadata": {},
   "source": [
    "**Split Career Level**"
   ]
  },
  {
   "cell_type": "code",
   "execution_count": 134,
   "metadata": {},
   "outputs": [
    {
     "data": {
      "text/plain": [
       "array([[0., 0., 0., 1., 0.],\n",
       "       [0., 0., 0., 1., 0.],\n",
       "       [0., 0., 0., 1., 0.],\n",
       "       ...,\n",
       "       [0., 0., 0., 1., 0.],\n",
       "       [0., 0., 0., 1., 0.],\n",
       "       [0., 0., 0., 1., 0.]])"
      ]
     },
     "execution_count": 134,
     "metadata": {},
     "output_type": "execute_result"
    }
   ],
   "source": [
    "enc_1 = OneHotEncoder(sparse_output=False)\n",
    "\n",
    "X_train_career = enc_1.fit_transform(X_train[['career_level']])\n",
    "X_test_career = enc_1.transform(X_test[['career_level']])\n",
    "X_train_career"
   ]
  },
  {
   "cell_type": "code",
   "execution_count": 135,
   "metadata": {},
   "outputs": [
    {
     "data": {
      "text/html": [
       "<div>\n",
       "<style scoped>\n",
       "    .dataframe tbody tr th:only-of-type {\n",
       "        vertical-align: middle;\n",
       "    }\n",
       "\n",
       "    .dataframe tbody tr th {\n",
       "        vertical-align: top;\n",
       "    }\n",
       "\n",
       "    .dataframe thead th {\n",
       "        text-align: right;\n",
       "    }\n",
       "</style>\n",
       "<table border=\"1\" class=\"dataframe\">\n",
       "  <thead>\n",
       "    <tr style=\"text-align: right;\">\n",
       "      <th></th>\n",
       "      <th>career_level_CEO/GM/Direktur/Manajer Senior</th>\n",
       "      <th>career_level_Lulusan baru/Pengalaman kerja kurang dari 1 tahun</th>\n",
       "      <th>career_level_Manajer/Asisten Manajer</th>\n",
       "      <th>career_level_Pegawai (non-manajemen &amp; non-supervisor)</th>\n",
       "      <th>career_level_Supervisor/Koordinator</th>\n",
       "    </tr>\n",
       "  </thead>\n",
       "  <tbody>\n",
       "    <tr>\n",
       "      <th>0</th>\n",
       "      <td>0.0</td>\n",
       "      <td>0.0</td>\n",
       "      <td>0.0</td>\n",
       "      <td>1.0</td>\n",
       "      <td>0.0</td>\n",
       "    </tr>\n",
       "    <tr>\n",
       "      <th>1</th>\n",
       "      <td>0.0</td>\n",
       "      <td>0.0</td>\n",
       "      <td>0.0</td>\n",
       "      <td>1.0</td>\n",
       "      <td>0.0</td>\n",
       "    </tr>\n",
       "    <tr>\n",
       "      <th>2</th>\n",
       "      <td>0.0</td>\n",
       "      <td>0.0</td>\n",
       "      <td>0.0</td>\n",
       "      <td>1.0</td>\n",
       "      <td>0.0</td>\n",
       "    </tr>\n",
       "    <tr>\n",
       "      <th>3</th>\n",
       "      <td>0.0</td>\n",
       "      <td>0.0</td>\n",
       "      <td>0.0</td>\n",
       "      <td>0.0</td>\n",
       "      <td>1.0</td>\n",
       "    </tr>\n",
       "    <tr>\n",
       "      <th>4</th>\n",
       "      <td>0.0</td>\n",
       "      <td>0.0</td>\n",
       "      <td>0.0</td>\n",
       "      <td>0.0</td>\n",
       "      <td>1.0</td>\n",
       "    </tr>\n",
       "  </tbody>\n",
       "</table>\n",
       "</div>"
      ],
      "text/plain": [
       "   career_level_CEO/GM/Direktur/Manajer Senior  \\\n",
       "0                                          0.0   \n",
       "1                                          0.0   \n",
       "2                                          0.0   \n",
       "3                                          0.0   \n",
       "4                                          0.0   \n",
       "\n",
       "   career_level_Lulusan baru/Pengalaman kerja kurang dari 1 tahun  \\\n",
       "0                                                0.0                \n",
       "1                                                0.0                \n",
       "2                                                0.0                \n",
       "3                                                0.0                \n",
       "4                                                0.0                \n",
       "\n",
       "   career_level_Manajer/Asisten Manajer  \\\n",
       "0                                   0.0   \n",
       "1                                   0.0   \n",
       "2                                   0.0   \n",
       "3                                   0.0   \n",
       "4                                   0.0   \n",
       "\n",
       "   career_level_Pegawai (non-manajemen & non-supervisor)  \\\n",
       "0                                                1.0       \n",
       "1                                                1.0       \n",
       "2                                                1.0       \n",
       "3                                                0.0       \n",
       "4                                                0.0       \n",
       "\n",
       "   career_level_Supervisor/Koordinator  \n",
       "0                                  0.0  \n",
       "1                                  0.0  \n",
       "2                                  0.0  \n",
       "3                                  1.0  \n",
       "4                                  1.0  "
      ]
     },
     "execution_count": 135,
     "metadata": {},
     "output_type": "execute_result"
    }
   ],
   "source": [
    "career_level = enc_1.get_feature_names_out(input_features=['career_level'])\n",
    "\n",
    "X_train_career = pd.DataFrame(X_train_career, columns=career_level)\n",
    "X_test_career = pd.DataFrame(X_test_career, columns=career_level)\n",
    "\n",
    "X_train_career.head()"
   ]
  },
  {
   "cell_type": "markdown",
   "metadata": {},
   "source": [
    "**Split Experience Level**"
   ]
  },
  {
   "cell_type": "code",
   "execution_count": 136,
   "metadata": {},
   "outputs": [
    {
     "data": {
      "text/plain": [
       "array([[1., 0., 0., ..., 0., 0., 0.],\n",
       "       [0., 0., 0., ..., 0., 0., 0.],\n",
       "       [1., 0., 0., ..., 0., 0., 0.],\n",
       "       ...,\n",
       "       [1., 0., 0., ..., 0., 0., 0.],\n",
       "       [1., 0., 0., ..., 0., 0., 0.],\n",
       "       [1., 0., 0., ..., 0., 0., 0.]])"
      ]
     },
     "execution_count": 136,
     "metadata": {},
     "output_type": "execute_result"
    }
   ],
   "source": [
    "enc_2 = OneHotEncoder(sparse_output=False, handle_unknown='ignore')\n",
    "\n",
    "X_train_experience = enc_2.fit_transform(X_train[['experience_level']])\n",
    "X_test_experience = enc_2.transform(X_test[['experience_level']])\n",
    "X_train_experience"
   ]
  },
  {
   "cell_type": "code",
   "execution_count": 137,
   "metadata": {},
   "outputs": [
    {
     "data": {
      "text/html": [
       "<div>\n",
       "<style scoped>\n",
       "    .dataframe tbody tr th:only-of-type {\n",
       "        vertical-align: middle;\n",
       "    }\n",
       "\n",
       "    .dataframe tbody tr th {\n",
       "        vertical-align: top;\n",
       "    }\n",
       "\n",
       "    .dataframe thead th {\n",
       "        text-align: right;\n",
       "    }\n",
       "</style>\n",
       "<table border=\"1\" class=\"dataframe\">\n",
       "  <thead>\n",
       "    <tr style=\"text-align: right;\">\n",
       "      <th></th>\n",
       "      <th>experience_level_1</th>\n",
       "      <th>experience_level_10</th>\n",
       "      <th>experience_level_12</th>\n",
       "      <th>experience_level_15</th>\n",
       "      <th>experience_level_18</th>\n",
       "      <th>experience_level_2</th>\n",
       "      <th>experience_level_20</th>\n",
       "      <th>experience_level_3</th>\n",
       "      <th>experience_level_4</th>\n",
       "      <th>experience_level_5</th>\n",
       "      <th>experience_level_6</th>\n",
       "      <th>experience_level_7</th>\n",
       "      <th>experience_level_8</th>\n",
       "      <th>experience_level_9</th>\n",
       "    </tr>\n",
       "  </thead>\n",
       "  <tbody>\n",
       "    <tr>\n",
       "      <th>0</th>\n",
       "      <td>1.0</td>\n",
       "      <td>0.0</td>\n",
       "      <td>0.0</td>\n",
       "      <td>0.0</td>\n",
       "      <td>0.0</td>\n",
       "      <td>0.0</td>\n",
       "      <td>0.0</td>\n",
       "      <td>0.0</td>\n",
       "      <td>0.0</td>\n",
       "      <td>0.0</td>\n",
       "      <td>0.0</td>\n",
       "      <td>0.0</td>\n",
       "      <td>0.0</td>\n",
       "      <td>0.0</td>\n",
       "    </tr>\n",
       "    <tr>\n",
       "      <th>1</th>\n",
       "      <td>0.0</td>\n",
       "      <td>0.0</td>\n",
       "      <td>0.0</td>\n",
       "      <td>0.0</td>\n",
       "      <td>0.0</td>\n",
       "      <td>1.0</td>\n",
       "      <td>0.0</td>\n",
       "      <td>0.0</td>\n",
       "      <td>0.0</td>\n",
       "      <td>0.0</td>\n",
       "      <td>0.0</td>\n",
       "      <td>0.0</td>\n",
       "      <td>0.0</td>\n",
       "      <td>0.0</td>\n",
       "    </tr>\n",
       "    <tr>\n",
       "      <th>2</th>\n",
       "      <td>1.0</td>\n",
       "      <td>0.0</td>\n",
       "      <td>0.0</td>\n",
       "      <td>0.0</td>\n",
       "      <td>0.0</td>\n",
       "      <td>0.0</td>\n",
       "      <td>0.0</td>\n",
       "      <td>0.0</td>\n",
       "      <td>0.0</td>\n",
       "      <td>0.0</td>\n",
       "      <td>0.0</td>\n",
       "      <td>0.0</td>\n",
       "      <td>0.0</td>\n",
       "      <td>0.0</td>\n",
       "    </tr>\n",
       "    <tr>\n",
       "      <th>3</th>\n",
       "      <td>0.0</td>\n",
       "      <td>0.0</td>\n",
       "      <td>0.0</td>\n",
       "      <td>0.0</td>\n",
       "      <td>0.0</td>\n",
       "      <td>0.0</td>\n",
       "      <td>0.0</td>\n",
       "      <td>0.0</td>\n",
       "      <td>1.0</td>\n",
       "      <td>0.0</td>\n",
       "      <td>0.0</td>\n",
       "      <td>0.0</td>\n",
       "      <td>0.0</td>\n",
       "      <td>0.0</td>\n",
       "    </tr>\n",
       "    <tr>\n",
       "      <th>4</th>\n",
       "      <td>0.0</td>\n",
       "      <td>0.0</td>\n",
       "      <td>0.0</td>\n",
       "      <td>0.0</td>\n",
       "      <td>0.0</td>\n",
       "      <td>0.0</td>\n",
       "      <td>0.0</td>\n",
       "      <td>1.0</td>\n",
       "      <td>0.0</td>\n",
       "      <td>0.0</td>\n",
       "      <td>0.0</td>\n",
       "      <td>0.0</td>\n",
       "      <td>0.0</td>\n",
       "      <td>0.0</td>\n",
       "    </tr>\n",
       "  </tbody>\n",
       "</table>\n",
       "</div>"
      ],
      "text/plain": [
       "   experience_level_1  experience_level_10  experience_level_12  \\\n",
       "0                 1.0                  0.0                  0.0   \n",
       "1                 0.0                  0.0                  0.0   \n",
       "2                 1.0                  0.0                  0.0   \n",
       "3                 0.0                  0.0                  0.0   \n",
       "4                 0.0                  0.0                  0.0   \n",
       "\n",
       "   experience_level_15  experience_level_18  experience_level_2  \\\n",
       "0                  0.0                  0.0                 0.0   \n",
       "1                  0.0                  0.0                 1.0   \n",
       "2                  0.0                  0.0                 0.0   \n",
       "3                  0.0                  0.0                 0.0   \n",
       "4                  0.0                  0.0                 0.0   \n",
       "\n",
       "   experience_level_20  experience_level_3  experience_level_4  \\\n",
       "0                  0.0                 0.0                 0.0   \n",
       "1                  0.0                 0.0                 0.0   \n",
       "2                  0.0                 0.0                 0.0   \n",
       "3                  0.0                 0.0                 1.0   \n",
       "4                  0.0                 1.0                 0.0   \n",
       "\n",
       "   experience_level_5  experience_level_6  experience_level_7  \\\n",
       "0                 0.0                 0.0                 0.0   \n",
       "1                 0.0                 0.0                 0.0   \n",
       "2                 0.0                 0.0                 0.0   \n",
       "3                 0.0                 0.0                 0.0   \n",
       "4                 0.0                 0.0                 0.0   \n",
       "\n",
       "   experience_level_8  experience_level_9  \n",
       "0                 0.0                 0.0  \n",
       "1                 0.0                 0.0  \n",
       "2                 0.0                 0.0  \n",
       "3                 0.0                 0.0  \n",
       "4                 0.0                 0.0  "
      ]
     },
     "execution_count": 137,
     "metadata": {},
     "output_type": "execute_result"
    }
   ],
   "source": [
    "experience_level = enc_2.get_feature_names_out(input_features=['experience_level'])\n",
    "\n",
    "X_train_experience = pd.DataFrame(X_train_experience, columns=experience_level)\n",
    "X_test_experience = pd.DataFrame(X_test_experience, columns=experience_level)\n",
    "\n",
    "X_train_experience.head()"
   ]
  },
  {
   "cell_type": "markdown",
   "metadata": {},
   "source": [
    "**Split Employment Type**"
   ]
  },
  {
   "cell_type": "code",
   "execution_count": 138,
   "metadata": {},
   "outputs": [
    {
     "data": {
      "text/plain": [
       "array([[0., 0., 0., ..., 0., 0., 0.],\n",
       "       [0., 0., 0., ..., 0., 0., 0.],\n",
       "       [0., 0., 0., ..., 0., 0., 0.],\n",
       "       ...,\n",
       "       [0., 0., 0., ..., 0., 0., 0.],\n",
       "       [0., 0., 0., ..., 0., 0., 0.],\n",
       "       [0., 0., 0., ..., 0., 0., 0.]])"
      ]
     },
     "execution_count": 138,
     "metadata": {},
     "output_type": "execute_result"
    }
   ],
   "source": [
    "enc_3 = OneHotEncoder(sparse_output=False, handle_unknown='ignore')\n",
    "\n",
    "X_train_employment = enc_3.fit_transform(X_train[['employment_type']])\n",
    "X_test_employment = enc_3.transform(X_test[['employment_type']])\n",
    "X_train_employment"
   ]
  },
  {
   "cell_type": "code",
   "execution_count": 139,
   "metadata": {},
   "outputs": [
    {
     "data": {
      "text/html": [
       "<div>\n",
       "<style scoped>\n",
       "    .dataframe tbody tr th:only-of-type {\n",
       "        vertical-align: middle;\n",
       "    }\n",
       "\n",
       "    .dataframe tbody tr th {\n",
       "        vertical-align: top;\n",
       "    }\n",
       "\n",
       "    .dataframe thead th {\n",
       "        text-align: right;\n",
       "    }\n",
       "</style>\n",
       "<table border=\"1\" class=\"dataframe\">\n",
       "  <thead>\n",
       "    <tr style=\"text-align: right;\">\n",
       "      <th></th>\n",
       "      <th>employment_type_Kontrak</th>\n",
       "      <th>employment_type_Kontrak, Temporer</th>\n",
       "      <th>employment_type_Paruh Waktu</th>\n",
       "      <th>employment_type_Penuh Waktu</th>\n",
       "      <th>employment_type_Penuh Waktu, Kontrak</th>\n",
       "      <th>employment_type_Penuh Waktu, Paruh Waktu</th>\n",
       "      <th>employment_type_Temporer</th>\n",
       "    </tr>\n",
       "  </thead>\n",
       "  <tbody>\n",
       "    <tr>\n",
       "      <th>0</th>\n",
       "      <td>0.0</td>\n",
       "      <td>0.0</td>\n",
       "      <td>0.0</td>\n",
       "      <td>1.0</td>\n",
       "      <td>0.0</td>\n",
       "      <td>0.0</td>\n",
       "      <td>0.0</td>\n",
       "    </tr>\n",
       "    <tr>\n",
       "      <th>1</th>\n",
       "      <td>0.0</td>\n",
       "      <td>0.0</td>\n",
       "      <td>0.0</td>\n",
       "      <td>1.0</td>\n",
       "      <td>0.0</td>\n",
       "      <td>0.0</td>\n",
       "      <td>0.0</td>\n",
       "    </tr>\n",
       "    <tr>\n",
       "      <th>2</th>\n",
       "      <td>0.0</td>\n",
       "      <td>0.0</td>\n",
       "      <td>0.0</td>\n",
       "      <td>1.0</td>\n",
       "      <td>0.0</td>\n",
       "      <td>0.0</td>\n",
       "      <td>0.0</td>\n",
       "    </tr>\n",
       "    <tr>\n",
       "      <th>3</th>\n",
       "      <td>0.0</td>\n",
       "      <td>0.0</td>\n",
       "      <td>0.0</td>\n",
       "      <td>1.0</td>\n",
       "      <td>0.0</td>\n",
       "      <td>0.0</td>\n",
       "      <td>0.0</td>\n",
       "    </tr>\n",
       "    <tr>\n",
       "      <th>4</th>\n",
       "      <td>0.0</td>\n",
       "      <td>0.0</td>\n",
       "      <td>0.0</td>\n",
       "      <td>1.0</td>\n",
       "      <td>0.0</td>\n",
       "      <td>0.0</td>\n",
       "      <td>0.0</td>\n",
       "    </tr>\n",
       "  </tbody>\n",
       "</table>\n",
       "</div>"
      ],
      "text/plain": [
       "   employment_type_Kontrak  employment_type_Kontrak, Temporer  \\\n",
       "0                      0.0                                0.0   \n",
       "1                      0.0                                0.0   \n",
       "2                      0.0                                0.0   \n",
       "3                      0.0                                0.0   \n",
       "4                      0.0                                0.0   \n",
       "\n",
       "   employment_type_Paruh Waktu  employment_type_Penuh Waktu  \\\n",
       "0                          0.0                          1.0   \n",
       "1                          0.0                          1.0   \n",
       "2                          0.0                          1.0   \n",
       "3                          0.0                          1.0   \n",
       "4                          0.0                          1.0   \n",
       "\n",
       "   employment_type_Penuh Waktu, Kontrak  \\\n",
       "0                                   0.0   \n",
       "1                                   0.0   \n",
       "2                                   0.0   \n",
       "3                                   0.0   \n",
       "4                                   0.0   \n",
       "\n",
       "   employment_type_Penuh Waktu, Paruh Waktu  employment_type_Temporer  \n",
       "0                                       0.0                       0.0  \n",
       "1                                       0.0                       0.0  \n",
       "2                                       0.0                       0.0  \n",
       "3                                       0.0                       0.0  \n",
       "4                                       0.0                       0.0  "
      ]
     },
     "execution_count": 139,
     "metadata": {},
     "output_type": "execute_result"
    }
   ],
   "source": [
    "employment_type = enc_3.get_feature_names_out(input_features=['employment_type'])\n",
    "\n",
    "X_train_employment = pd.DataFrame(X_train_employment, columns=employment_type)\n",
    "X_test_employment = pd.DataFrame(X_test_employment, columns=employment_type)\n",
    "\n",
    "X_train_employment.head()"
   ]
  },
  {
   "cell_type": "markdown",
   "metadata": {},
   "source": [
    "**Split Education Level**"
   ]
  },
  {
   "cell_type": "code",
   "execution_count": 140,
   "metadata": {},
   "outputs": [
    {
     "data": {
      "text/plain": [
       "array([[0., 0., 0., ..., 0., 0., 1.],\n",
       "       [0., 0., 1., ..., 0., 0., 0.],\n",
       "       [0., 0., 0., ..., 1., 0., 0.],\n",
       "       ...,\n",
       "       [0., 0., 0., ..., 0., 0., 1.],\n",
       "       [0., 0., 1., ..., 0., 0., 0.],\n",
       "       [0., 0., 1., ..., 0., 0., 0.]])"
      ]
     },
     "execution_count": 140,
     "metadata": {},
     "output_type": "execute_result"
    }
   ],
   "source": [
    "enc_4 = OneHotEncoder(sparse_output=False, handle_unknown='ignore')\n",
    "\n",
    "X_train_education = enc_4.fit_transform(X_train[['education_level']])\n",
    "X_test_education = enc_4.transform(X_test[['education_level']])\n",
    "X_train_education"
   ]
  },
  {
   "cell_type": "code",
   "execution_count": 141,
   "metadata": {},
   "outputs": [
    {
     "data": {
      "text/html": [
       "<div>\n",
       "<style scoped>\n",
       "    .dataframe tbody tr th:only-of-type {\n",
       "        vertical-align: middle;\n",
       "    }\n",
       "\n",
       "    .dataframe tbody tr th {\n",
       "        vertical-align: top;\n",
       "    }\n",
       "\n",
       "    .dataframe thead th {\n",
       "        text-align: right;\n",
       "    }\n",
       "</style>\n",
       "<table border=\"1\" class=\"dataframe\">\n",
       "  <thead>\n",
       "    <tr style=\"text-align: right;\">\n",
       "      <th></th>\n",
       "      <th>education_level_D3 - S1</th>\n",
       "      <th>education_level_D3 - S2</th>\n",
       "      <th>education_level_S1</th>\n",
       "      <th>education_level_S1 - S2</th>\n",
       "      <th>education_level_S1 - S3</th>\n",
       "      <th>education_level_S3</th>\n",
       "      <th>education_level_SMA/SMU</th>\n",
       "      <th>education_level_SMA/SMU - S1</th>\n",
       "      <th>education_level_SMA/SMU - S2</th>\n",
       "      <th>education_level_Tidak terspesifikasi</th>\n",
       "    </tr>\n",
       "  </thead>\n",
       "  <tbody>\n",
       "    <tr>\n",
       "      <th>0</th>\n",
       "      <td>0.0</td>\n",
       "      <td>0.0</td>\n",
       "      <td>0.0</td>\n",
       "      <td>0.0</td>\n",
       "      <td>0.0</td>\n",
       "      <td>0.0</td>\n",
       "      <td>0.0</td>\n",
       "      <td>0.0</td>\n",
       "      <td>0.0</td>\n",
       "      <td>1.0</td>\n",
       "    </tr>\n",
       "    <tr>\n",
       "      <th>1</th>\n",
       "      <td>0.0</td>\n",
       "      <td>0.0</td>\n",
       "      <td>1.0</td>\n",
       "      <td>0.0</td>\n",
       "      <td>0.0</td>\n",
       "      <td>0.0</td>\n",
       "      <td>0.0</td>\n",
       "      <td>0.0</td>\n",
       "      <td>0.0</td>\n",
       "      <td>0.0</td>\n",
       "    </tr>\n",
       "    <tr>\n",
       "      <th>2</th>\n",
       "      <td>0.0</td>\n",
       "      <td>0.0</td>\n",
       "      <td>0.0</td>\n",
       "      <td>0.0</td>\n",
       "      <td>0.0</td>\n",
       "      <td>0.0</td>\n",
       "      <td>0.0</td>\n",
       "      <td>1.0</td>\n",
       "      <td>0.0</td>\n",
       "      <td>0.0</td>\n",
       "    </tr>\n",
       "    <tr>\n",
       "      <th>3</th>\n",
       "      <td>0.0</td>\n",
       "      <td>0.0</td>\n",
       "      <td>1.0</td>\n",
       "      <td>0.0</td>\n",
       "      <td>0.0</td>\n",
       "      <td>0.0</td>\n",
       "      <td>0.0</td>\n",
       "      <td>0.0</td>\n",
       "      <td>0.0</td>\n",
       "      <td>0.0</td>\n",
       "    </tr>\n",
       "    <tr>\n",
       "      <th>4</th>\n",
       "      <td>0.0</td>\n",
       "      <td>0.0</td>\n",
       "      <td>1.0</td>\n",
       "      <td>0.0</td>\n",
       "      <td>0.0</td>\n",
       "      <td>0.0</td>\n",
       "      <td>0.0</td>\n",
       "      <td>0.0</td>\n",
       "      <td>0.0</td>\n",
       "      <td>0.0</td>\n",
       "    </tr>\n",
       "  </tbody>\n",
       "</table>\n",
       "</div>"
      ],
      "text/plain": [
       "   education_level_D3 - S1  education_level_D3 - S2  education_level_S1  \\\n",
       "0                      0.0                      0.0                 0.0   \n",
       "1                      0.0                      0.0                 1.0   \n",
       "2                      0.0                      0.0                 0.0   \n",
       "3                      0.0                      0.0                 1.0   \n",
       "4                      0.0                      0.0                 1.0   \n",
       "\n",
       "   education_level_S1 - S2  education_level_S1 - S3  education_level_S3  \\\n",
       "0                      0.0                      0.0                 0.0   \n",
       "1                      0.0                      0.0                 0.0   \n",
       "2                      0.0                      0.0                 0.0   \n",
       "3                      0.0                      0.0                 0.0   \n",
       "4                      0.0                      0.0                 0.0   \n",
       "\n",
       "   education_level_SMA/SMU  education_level_SMA/SMU - S1  \\\n",
       "0                      0.0                           0.0   \n",
       "1                      0.0                           0.0   \n",
       "2                      0.0                           1.0   \n",
       "3                      0.0                           0.0   \n",
       "4                      0.0                           0.0   \n",
       "\n",
       "   education_level_SMA/SMU - S2  education_level_Tidak terspesifikasi  \n",
       "0                           0.0                                   1.0  \n",
       "1                           0.0                                   0.0  \n",
       "2                           0.0                                   0.0  \n",
       "3                           0.0                                   0.0  \n",
       "4                           0.0                                   0.0  "
      ]
     },
     "execution_count": 141,
     "metadata": {},
     "output_type": "execute_result"
    }
   ],
   "source": [
    "education_level = enc_4.get_feature_names_out(input_features=['education_level'])\n",
    "\n",
    "X_train_education = pd.DataFrame(X_train_education, columns=education_level)\n",
    "X_test_education = pd.DataFrame(X_test_education, columns=education_level)\n",
    "\n",
    "X_train_education.head()"
   ]
  },
  {
   "cell_type": "markdown",
   "metadata": {},
   "source": [
    "**Reset Index**"
   ]
  },
  {
   "cell_type": "code",
   "execution_count": 142,
   "metadata": {},
   "outputs": [],
   "source": [
    "X_train.reset_index(drop=True, inplace=True)\n",
    "X_test.reset_index(drop=True, inplace=True)\n",
    "\n",
    "y_train.reset_index(drop=True, inplace=True)\n",
    "y_test.reset_index(drop=True, inplace=True)"
   ]
  },
  {
   "cell_type": "code",
   "execution_count": 143,
   "metadata": {},
   "outputs": [
    {
     "data": {
      "text/html": [
       "<div>\n",
       "<style scoped>\n",
       "    .dataframe tbody tr th:only-of-type {\n",
       "        vertical-align: middle;\n",
       "    }\n",
       "\n",
       "    .dataframe tbody tr th {\n",
       "        vertical-align: top;\n",
       "    }\n",
       "\n",
       "    .dataframe thead th {\n",
       "        text-align: right;\n",
       "    }\n",
       "</style>\n",
       "<table border=\"1\" class=\"dataframe\">\n",
       "  <thead>\n",
       "    <tr style=\"text-align: right;\">\n",
       "      <th></th>\n",
       "      <th>career_level_CEO/GM/Direktur/Manajer Senior</th>\n",
       "      <th>career_level_Lulusan baru/Pengalaman kerja kurang dari 1 tahun</th>\n",
       "      <th>career_level_Manajer/Asisten Manajer</th>\n",
       "      <th>career_level_Pegawai (non-manajemen &amp; non-supervisor)</th>\n",
       "      <th>career_level_Supervisor/Koordinator</th>\n",
       "      <th>experience_level_1</th>\n",
       "      <th>experience_level_10</th>\n",
       "      <th>experience_level_12</th>\n",
       "      <th>experience_level_15</th>\n",
       "      <th>experience_level_18</th>\n",
       "      <th>...</th>\n",
       "      <th>education_level_D3 - S1</th>\n",
       "      <th>education_level_D3 - S2</th>\n",
       "      <th>education_level_S1</th>\n",
       "      <th>education_level_S1 - S2</th>\n",
       "      <th>education_level_S1 - S3</th>\n",
       "      <th>education_level_S3</th>\n",
       "      <th>education_level_SMA/SMU</th>\n",
       "      <th>education_level_SMA/SMU - S1</th>\n",
       "      <th>education_level_SMA/SMU - S2</th>\n",
       "      <th>education_level_Tidak terspesifikasi</th>\n",
       "    </tr>\n",
       "  </thead>\n",
       "  <tbody>\n",
       "    <tr>\n",
       "      <th>0</th>\n",
       "      <td>0.0</td>\n",
       "      <td>0.0</td>\n",
       "      <td>0.0</td>\n",
       "      <td>1.0</td>\n",
       "      <td>0.0</td>\n",
       "      <td>1.0</td>\n",
       "      <td>0.0</td>\n",
       "      <td>0.0</td>\n",
       "      <td>0.0</td>\n",
       "      <td>0.0</td>\n",
       "      <td>...</td>\n",
       "      <td>0.0</td>\n",
       "      <td>0.0</td>\n",
       "      <td>0.0</td>\n",
       "      <td>0.0</td>\n",
       "      <td>0.0</td>\n",
       "      <td>0.0</td>\n",
       "      <td>0.0</td>\n",
       "      <td>0.0</td>\n",
       "      <td>0.0</td>\n",
       "      <td>1.0</td>\n",
       "    </tr>\n",
       "    <tr>\n",
       "      <th>1</th>\n",
       "      <td>0.0</td>\n",
       "      <td>0.0</td>\n",
       "      <td>0.0</td>\n",
       "      <td>1.0</td>\n",
       "      <td>0.0</td>\n",
       "      <td>0.0</td>\n",
       "      <td>0.0</td>\n",
       "      <td>0.0</td>\n",
       "      <td>0.0</td>\n",
       "      <td>0.0</td>\n",
       "      <td>...</td>\n",
       "      <td>0.0</td>\n",
       "      <td>0.0</td>\n",
       "      <td>1.0</td>\n",
       "      <td>0.0</td>\n",
       "      <td>0.0</td>\n",
       "      <td>0.0</td>\n",
       "      <td>0.0</td>\n",
       "      <td>0.0</td>\n",
       "      <td>0.0</td>\n",
       "      <td>0.0</td>\n",
       "    </tr>\n",
       "    <tr>\n",
       "      <th>2</th>\n",
       "      <td>0.0</td>\n",
       "      <td>0.0</td>\n",
       "      <td>0.0</td>\n",
       "      <td>1.0</td>\n",
       "      <td>0.0</td>\n",
       "      <td>1.0</td>\n",
       "      <td>0.0</td>\n",
       "      <td>0.0</td>\n",
       "      <td>0.0</td>\n",
       "      <td>0.0</td>\n",
       "      <td>...</td>\n",
       "      <td>0.0</td>\n",
       "      <td>0.0</td>\n",
       "      <td>0.0</td>\n",
       "      <td>0.0</td>\n",
       "      <td>0.0</td>\n",
       "      <td>0.0</td>\n",
       "      <td>0.0</td>\n",
       "      <td>1.0</td>\n",
       "      <td>0.0</td>\n",
       "      <td>0.0</td>\n",
       "    </tr>\n",
       "    <tr>\n",
       "      <th>3</th>\n",
       "      <td>0.0</td>\n",
       "      <td>0.0</td>\n",
       "      <td>0.0</td>\n",
       "      <td>0.0</td>\n",
       "      <td>1.0</td>\n",
       "      <td>0.0</td>\n",
       "      <td>0.0</td>\n",
       "      <td>0.0</td>\n",
       "      <td>0.0</td>\n",
       "      <td>0.0</td>\n",
       "      <td>...</td>\n",
       "      <td>0.0</td>\n",
       "      <td>0.0</td>\n",
       "      <td>1.0</td>\n",
       "      <td>0.0</td>\n",
       "      <td>0.0</td>\n",
       "      <td>0.0</td>\n",
       "      <td>0.0</td>\n",
       "      <td>0.0</td>\n",
       "      <td>0.0</td>\n",
       "      <td>0.0</td>\n",
       "    </tr>\n",
       "    <tr>\n",
       "      <th>4</th>\n",
       "      <td>0.0</td>\n",
       "      <td>0.0</td>\n",
       "      <td>0.0</td>\n",
       "      <td>0.0</td>\n",
       "      <td>1.0</td>\n",
       "      <td>0.0</td>\n",
       "      <td>0.0</td>\n",
       "      <td>0.0</td>\n",
       "      <td>0.0</td>\n",
       "      <td>0.0</td>\n",
       "      <td>...</td>\n",
       "      <td>0.0</td>\n",
       "      <td>0.0</td>\n",
       "      <td>1.0</td>\n",
       "      <td>0.0</td>\n",
       "      <td>0.0</td>\n",
       "      <td>0.0</td>\n",
       "      <td>0.0</td>\n",
       "      <td>0.0</td>\n",
       "      <td>0.0</td>\n",
       "      <td>0.0</td>\n",
       "    </tr>\n",
       "  </tbody>\n",
       "</table>\n",
       "<p>5 rows × 36 columns</p>\n",
       "</div>"
      ],
      "text/plain": [
       "   career_level_CEO/GM/Direktur/Manajer Senior  \\\n",
       "0                                          0.0   \n",
       "1                                          0.0   \n",
       "2                                          0.0   \n",
       "3                                          0.0   \n",
       "4                                          0.0   \n",
       "\n",
       "   career_level_Lulusan baru/Pengalaman kerja kurang dari 1 tahun  \\\n",
       "0                                                0.0                \n",
       "1                                                0.0                \n",
       "2                                                0.0                \n",
       "3                                                0.0                \n",
       "4                                                0.0                \n",
       "\n",
       "   career_level_Manajer/Asisten Manajer  \\\n",
       "0                                   0.0   \n",
       "1                                   0.0   \n",
       "2                                   0.0   \n",
       "3                                   0.0   \n",
       "4                                   0.0   \n",
       "\n",
       "   career_level_Pegawai (non-manajemen & non-supervisor)  \\\n",
       "0                                                1.0       \n",
       "1                                                1.0       \n",
       "2                                                1.0       \n",
       "3                                                0.0       \n",
       "4                                                0.0       \n",
       "\n",
       "   career_level_Supervisor/Koordinator  experience_level_1  \\\n",
       "0                                  0.0                 1.0   \n",
       "1                                  0.0                 0.0   \n",
       "2                                  0.0                 1.0   \n",
       "3                                  1.0                 0.0   \n",
       "4                                  1.0                 0.0   \n",
       "\n",
       "   experience_level_10  experience_level_12  experience_level_15  \\\n",
       "0                  0.0                  0.0                  0.0   \n",
       "1                  0.0                  0.0                  0.0   \n",
       "2                  0.0                  0.0                  0.0   \n",
       "3                  0.0                  0.0                  0.0   \n",
       "4                  0.0                  0.0                  0.0   \n",
       "\n",
       "   experience_level_18  ...  education_level_D3 - S1  education_level_D3 - S2  \\\n",
       "0                  0.0  ...                      0.0                      0.0   \n",
       "1                  0.0  ...                      0.0                      0.0   \n",
       "2                  0.0  ...                      0.0                      0.0   \n",
       "3                  0.0  ...                      0.0                      0.0   \n",
       "4                  0.0  ...                      0.0                      0.0   \n",
       "\n",
       "   education_level_S1  education_level_S1 - S2  education_level_S1 - S3  \\\n",
       "0                 0.0                      0.0                      0.0   \n",
       "1                 1.0                      0.0                      0.0   \n",
       "2                 0.0                      0.0                      0.0   \n",
       "3                 1.0                      0.0                      0.0   \n",
       "4                 1.0                      0.0                      0.0   \n",
       "\n",
       "   education_level_S3  education_level_SMA/SMU  education_level_SMA/SMU - S1  \\\n",
       "0                 0.0                      0.0                           0.0   \n",
       "1                 0.0                      0.0                           0.0   \n",
       "2                 0.0                      0.0                           1.0   \n",
       "3                 0.0                      0.0                           0.0   \n",
       "4                 0.0                      0.0                           0.0   \n",
       "\n",
       "   education_level_SMA/SMU - S2  education_level_Tidak terspesifikasi  \n",
       "0                           0.0                                   1.0  \n",
       "1                           0.0                                   0.0  \n",
       "2                           0.0                                   0.0  \n",
       "3                           0.0                                   0.0  \n",
       "4                           0.0                                   0.0  \n",
       "\n",
       "[5 rows x 36 columns]"
      ]
     },
     "execution_count": 143,
     "metadata": {},
     "output_type": "execute_result"
    }
   ],
   "source": [
    "X_train_new = pd.concat([X_train, X_train_career, X_train_experience, X_train_employment, X_train_education], axis=1)\n",
    "X_train_new.drop(columns=['career_level', 'experience_level', 'employment_type', 'education_level'],inplace=True)\n",
    "\n",
    "X_test_new = pd.concat([X_test, X_test_career, X_test_experience, X_test_employment, X_test_education], axis=1)\n",
    "X_test_new.drop(columns=['career_level', 'experience_level', 'employment_type', 'education_level'],inplace=True)\n",
    "\n",
    "X_train_new.head()"
   ]
  },
  {
   "cell_type": "markdown",
   "metadata": {},
   "source": [
    "# 5. Predict Data OLS"
   ]
  },
  {
   "cell_type": "code",
   "execution_count": 144,
   "metadata": {},
   "outputs": [],
   "source": [
    "X_train_ols = sm.add_constant(X_train_new)\n",
    "ModelOLS = sm.OLS(y_train, X_train_ols).fit()"
   ]
  },
  {
   "cell_type": "code",
   "execution_count": 145,
   "metadata": {},
   "outputs": [
    {
     "name": "stdout",
     "output_type": "stream",
     "text": [
      "                            OLS Regression Results                            \n",
      "==============================================================================\n",
      "Dep. Variable:                 salary   R-squared:                       0.478\n",
      "Model:                            OLS   Adj. R-squared:                  0.477\n",
      "Method:                 Least Squares   F-statistic:                     477.7\n",
      "Date:                Mon, 19 Jun 2023   Prob (F-statistic):               0.00\n",
      "Time:                        20:57:24   Log-Likelihood:            -2.5202e+05\n",
      "No. Observations:               16714   AIC:                         5.041e+05\n",
      "Df Residuals:                   16681   BIC:                         5.044e+05\n",
      "Df Model:                          32                                         \n",
      "Covariance Type:            nonrobust                                         \n",
      "==================================================================================================================================\n",
      "                                                                     coef    std err          t      P>|t|      [0.025      0.975]\n",
      "----------------------------------------------------------------------------------------------------------------------------------\n",
      "const                                                            4.27e+06   1.36e+05     31.346      0.000       4e+06    4.54e+06\n",
      "career_level_CEO/GM/Direktur/Manajer Senior                     2.336e+06   2.26e+05     10.336      0.000    1.89e+06    2.78e+06\n",
      "career_level_Lulusan baru/Pengalaman kerja kurang dari 1 tahun -8.817e+05   6.57e+04    -13.412      0.000   -1.01e+06   -7.53e+05\n",
      "career_level_Manajer/Asisten Manajer                              1.7e+06    6.8e+04     24.996      0.000    1.57e+06    1.83e+06\n",
      "career_level_Pegawai (non-manajemen & non-supervisor)          -2.311e+05   5.58e+04     -4.142      0.000    -3.4e+05   -1.22e+05\n",
      "career_level_Supervisor/Koordinator                             1.347e+06   5.62e+04     23.959      0.000    1.24e+06    1.46e+06\n",
      "experience_level_1                                              3.652e+04   1.14e+05      0.319      0.749   -1.88e+05    2.61e+05\n",
      "experience_level_10                                             4.638e+05    1.7e+05      2.735      0.006    1.31e+05    7.96e+05\n",
      "experience_level_12                                             -2.98e+05   4.73e+05     -0.629      0.529   -1.23e+06     6.3e+05\n",
      "experience_level_15                                             2.545e+05   8.04e+05      0.317      0.752   -1.32e+06    1.83e+06\n",
      "experience_level_18                                             8.807e+04   8.04e+05      0.110      0.913   -1.49e+06    1.66e+06\n",
      "experience_level_2                                              1.548e+05   1.14e+05      1.355      0.175   -6.92e+04    3.79e+05\n",
      "experience_level_20                                             7.595e+05   4.74e+05      1.602      0.109    -1.7e+05    1.69e+06\n",
      "experience_level_3                                              2.915e+05   1.15e+05      2.545      0.011     6.7e+04    5.16e+05\n",
      "experience_level_4                                              2.471e+05    1.2e+05      2.055      0.040    1.14e+04    4.83e+05\n",
      "experience_level_5                                              4.132e+05   1.16e+05      3.555      0.000    1.85e+05    6.41e+05\n",
      "experience_level_6                                              1.885e+05   1.63e+05      1.153      0.249   -1.32e+05    5.09e+05\n",
      "experience_level_7                                              4.015e+05   1.72e+05      2.334      0.020    6.43e+04    7.39e+05\n",
      "experience_level_8                                              8.843e+05   1.91e+05      4.635      0.000     5.1e+05    1.26e+06\n",
      "experience_level_9                                              3.848e+05   8.04e+05      0.479      0.632   -1.19e+06    1.96e+06\n",
      "employment_type_Kontrak                                         4.167e+05    1.4e+05      2.969      0.003    1.42e+05    6.92e+05\n",
      "employment_type_Kontrak, Temporer                               2.479e+06    7.5e+05      3.304      0.001    1.01e+06    3.95e+06\n",
      "employment_type_Paruh Waktu                                     1.796e+05   1.58e+05      1.134      0.257   -1.31e+05     4.9e+05\n",
      "employment_type_Penuh Waktu                                     4.327e+05    1.4e+05      3.099      0.002    1.59e+05    7.06e+05\n",
      "employment_type_Penuh Waktu, Kontrak                            4.639e+05   2.08e+05      2.234      0.026    5.68e+04    8.71e+05\n",
      "employment_type_Penuh Waktu, Paruh Waktu                       -1.066e+05    5.4e+05     -0.197      0.843   -1.16e+06    9.51e+05\n",
      "employment_type_Temporer                                        4.049e+05   1.69e+05      2.396      0.017    7.37e+04    7.36e+05\n",
      "education_level_D3 - S1                                         2.128e+05   4.91e+04      4.331      0.000    1.16e+05    3.09e+05\n",
      "education_level_D3 - S2                                         3.309e+05   4.43e+04      7.473      0.000    2.44e+05    4.18e+05\n",
      "education_level_S1                                              4.454e+05   4.38e+04     10.177      0.000     3.6e+05    5.31e+05\n",
      "education_level_S1 - S2                                         5.111e+05   5.01e+04     10.201      0.000    4.13e+05    6.09e+05\n",
      "education_level_S1 - S3                                         6.499e+05    1.5e+05      4.343      0.000    3.57e+05    9.43e+05\n",
      "education_level_S3                                              1.025e+06   2.76e+05      3.708      0.000    4.83e+05    1.57e+06\n",
      "education_level_SMA/SMU                                         3.393e+04   4.88e+04      0.696      0.487   -6.16e+04     1.3e+05\n",
      "education_level_SMA/SMU - S1                                    1.603e+05    4.6e+04      3.487      0.000    7.02e+04     2.5e+05\n",
      "education_level_SMA/SMU - S2                                    6.109e+05   2.37e+05      2.581      0.010    1.47e+05    1.07e+06\n",
      "education_level_Tidak terspesifikasi                            2.902e+05   4.55e+04      6.377      0.000    2.01e+05    3.79e+05\n",
      "==============================================================================\n",
      "Omnibus:                     4181.143   Durbin-Watson:                   2.011\n",
      "Prob(Omnibus):                  0.000   Jarque-Bera (JB):            40316.194\n",
      "Skew:                           0.926   Prob(JB):                         0.00\n",
      "Kurtosis:                      10.380   Cond. No.                     8.67e+15\n",
      "==============================================================================\n",
      "\n",
      "Notes:\n",
      "[1] Standard Errors assume that the covariance matrix of the errors is correctly specified.\n",
      "[2] The smallest eigenvalue is 6.44e-28. This might indicate that there are\n",
      "strong multicollinearity problems or that the design matrix is singular.\n"
     ]
    }
   ],
   "source": [
    "print(ModelOLS.summary())"
   ]
  },
  {
   "cell_type": "markdown",
   "metadata": {},
   "source": [
    "**Visualisasi Data Koefisien**"
   ]
  },
  {
   "cell_type": "code",
   "execution_count": 146,
   "metadata": {},
   "outputs": [
    {
     "data": {
      "image/png": "[encoded data removed]",
      "text/plain": [
       "<Figure size 1000x500 with 1 Axes>"
      ]
     },
     "metadata": {},
     "output_type": "display_data"
    }
   ],
   "source": [
    "plt.bar(range(len(ModelOLS.params)), ModelOLS.params)\n",
    "plt.xlabel('')\n",
    "plt.ylabel('Koefisien')\n",
    "plt.title('Koefisien OLS')\n",
    "plt.xticks(range(len(ModelOLS.params)), X_train_ols.columns, rotation=90)\n",
    "plt.show()"
   ]
  },
  {
   "cell_type": "code",
   "execution_count": 147,
   "metadata": {},
   "outputs": [],
   "source": [
    "# Rumus MAPE Training Data\n",
    "absolute_error_OLS_train = np.abs(y_train - ModelOLS.predict(X_train_ols))\n",
    "percentage_error_OLS_train = absolute_error_OLS_train / y_train * 100"
   ]
  },
  {
   "cell_type": "code",
   "execution_count": 148,
   "metadata": {},
   "outputs": [
    {
     "name": "stdout",
     "output_type": "stream",
     "text": [
      "-------- Training Data OLS ---------\n",
      "MSE  : 731600107518.8496\n",
      "MAE  : 463795.0614\n",
      "RMSE : 855336.2541\n",
      "MAD  : 463795.0614\n",
      "MAPE  : 9.5344\n"
     ]
    }
   ],
   "source": [
    "print('-------- Training Data OLS ---------')\n",
    "y_train_OLS = ModelOLS.predict(sm.add_constant(X_train_new))\n",
    "print(\"MSE  :\", \"{:.4f}\".format(mean_squared_error(y_train, y_train_OLS)))\n",
    "print(\"MAE  :\", \"{:.4f}\".format(mean_absolute_error(y_train, y_train_OLS)))\n",
    "print(\"RMSE :\", \"{:.4f}\".format(math.sqrt(mean_squared_error(y_train, y_train_OLS))))\n",
    "print(\"MAD  :\", \"{:.4f}\".format(np.mean(np.abs(y_train - y_train_OLS))))\n",
    "print(\"MAPE  :\", \"{:.4f}\".format(np.mean(percentage_error_OLS_train)))"
   ]
  },
  {
   "cell_type": "code",
   "execution_count": 149,
   "metadata": {},
   "outputs": [],
   "source": [
    "# Rumus MAPE Testing Data\n",
    "absolute_error_OLS_test = np.abs(y_test - ModelOLS.predict(sm.add_constant(X_test_new)))\n",
    "percentage_error_OLS_test = absolute_error_OLS_test / y_test * 100"
   ]
  },
  {
   "cell_type": "code",
   "execution_count": 150,
   "metadata": {},
   "outputs": [
    {
     "name": "stdout",
     "output_type": "stream",
     "text": [
      "-------- Testing Data OLS ---------\n",
      "MSE  : 697702524656.2706\n",
      "MAE  : 455623.76328338566\n",
      "RMSE : 835285.8939646177\n",
      "MAD  : 455623.76328338566\n",
      "MAPE  : 9.2368\n"
     ]
    }
   ],
   "source": [
    "print('-------- Testing Data OLS ---------')\n",
    "y_test_OLS = ModelOLS.predict(sm.add_constant(X_test_new))\n",
    "print(\"MSE  :\", mean_squared_error(y_test, y_test_OLS))\n",
    "print(\"MAE  :\", mean_absolute_error(y_test, y_test_OLS))\n",
    "print(\"RMSE :\", math.sqrt(mean_squared_error(y_test, y_test_OLS)))\n",
    "print(\"MAD  :\", np.mean(np.abs(y_test - y_test_OLS)))\n",
    "print(\"MAPE  :\", \"{:.4f}\".format(np.mean(percentage_error_OLS_test)))"
   ]
  },
  {
   "cell_type": "markdown",
   "metadata": {},
   "source": [
    "# 6. Predict Data Random Forest"
   ]
  },
  {
   "cell_type": "code",
   "execution_count": 151,
   "metadata": {},
   "outputs": [
    {
     "data": {
      "text/html": [
       "<style>#sk-container-id-3 {color: black;background-color: white;}#sk-container-id-3 pre{padding: 0;}#sk-container-id-3 div.sk-toggleable {background-color: white;}#sk-container-id-3 label.sk-toggleable__label {cursor: pointer;display: block;width: 100%;margin-bottom: 0;padding: 0.3em;box-sizing: border-box;text-align: center;}#sk-container-id-3 label.sk-toggleable__label-arrow:before {content: \"▸\";float: left;margin-right: 0.25em;color: #696969;}#sk-container-id-3 label.sk-toggleable__label-arrow:hover:before {color: black;}#sk-container-id-3 div.sk-estimator:hover label.sk-toggleable__label-arrow:before {color: black;}#sk-container-id-3 div.sk-toggleable__content {max-height: 0;max-width: 0;overflow: hidden;text-align: left;background-color: #f0f8ff;}#sk-container-id-3 div.sk-toggleable__content pre {margin: 0.2em;color: black;border-radius: 0.25em;background-color: #f0f8ff;}#sk-container-id-3 input.sk-toggleable__control:checked~div.sk-toggleable__content {max-height: 200px;max-width: 100%;overflow: auto;}#sk-container-id-3 input.sk-toggleable__control:checked~label.sk-toggleable__label-arrow:before {content: \"▾\";}#sk-container-id-3 div.sk-estimator input.sk-toggleable__control:checked~label.sk-toggleable__label {background-color: #d4ebff;}#sk-container-id-3 div.sk-label input.sk-toggleable__control:checked~label.sk-toggleable__label {background-color: #d4ebff;}#sk-container-id-3 input.sk-hidden--visually {border: 0;clip: rect(1px 1px 1px 1px);clip: rect(1px, 1px, 1px, 1px);height: 1px;margin: -1px;overflow: hidden;padding: 0;position: absolute;width: 1px;}#sk-container-id-3 div.sk-estimator {font-family: monospace;background-color: #f0f8ff;border: 1px dotted black;border-radius: 0.25em;box-sizing: border-box;margin-bottom: 0.5em;}#sk-container-id-3 div.sk-estimator:hover {background-color: #d4ebff;}#sk-container-id-3 div.sk-parallel-item::after {content: \"\";width: 100%;border-bottom: 1px solid gray;flex-grow: 1;}#sk-container-id-3 div.sk-label:hover label.sk-toggleable__label {background-color: #d4ebff;}#sk-container-id-3 div.sk-serial::before {content: \"\";position: absolute;border-left: 1px solid gray;box-sizing: border-box;top: 0;bottom: 0;left: 50%;z-index: 0;}#sk-container-id-3 div.sk-serial {display: flex;flex-direction: column;align-items: center;background-color: white;padding-right: 0.2em;padding-left: 0.2em;position: relative;}#sk-container-id-3 div.sk-item {position: relative;z-index: 1;}#sk-container-id-3 div.sk-parallel {display: flex;align-items: stretch;justify-content: center;background-color: white;position: relative;}#sk-container-id-3 div.sk-item::before, #sk-container-id-3 div.sk-parallel-item::before {content: \"\";position: absolute;border-left: 1px solid gray;box-sizing: border-box;top: 0;bottom: 0;left: 50%;z-index: -1;}#sk-container-id-3 div.sk-parallel-item {display: flex;flex-direction: column;z-index: 1;position: relative;background-color: white;}#sk-container-id-3 div.sk-parallel-item:first-child::after {align-self: flex-end;width: 50%;}#sk-container-id-3 div.sk-parallel-item:last-child::after {align-self: flex-start;width: 50%;}#sk-container-id-3 div.sk-parallel-item:only-child::after {width: 0;}#sk-container-id-3 div.sk-dashed-wrapped {border: 1px dashed gray;margin: 0 0.4em 0.5em 0.4em;box-sizing: border-box;padding-bottom: 0.4em;background-color: white;}#sk-container-id-3 div.sk-label label {font-family: monospace;font-weight: bold;display: inline-block;line-height: 1.2em;}#sk-container-id-3 div.sk-label-container {text-align: center;}#sk-container-id-3 div.sk-container {/* jupyter's `normalize.less` sets `[hidden] { display: none; }` but bootstrap.min.css set `[hidden] { display: none !important; }` so we also need the `!important` here to be able to override the default hidden behavior on the sphinx rendered scikit-learn.org. See: https://github.com/scikit-learn/scikit-learn/issues/21755 */display: inline-block !important;position: relative;}#sk-container-id-3 div.sk-text-repr-fallback {display: none;}</style><div id=\"sk-container-id-3\" class=\"sk-top-container\"><div class=\"sk-text-repr-fallback\"><pre>RandomForestRegressor(random_state=0)</pre><b>In a Jupyter environment, please rerun this cell to show the HTML representation or trust the notebook. <br />On GitHub, the HTML representation is unable to render, please try loading this page with nbviewer.org.</b></div><div class=\"sk-container\" hidden><div class=\"sk-item\"><div class=\"sk-estimator sk-toggleable\"><input class=\"sk-toggleable__control sk-hidden--visually\" id=\"sk-estimator-id-3\" type=\"checkbox\" checked><label for=\"sk-estimator-id-3\" class=\"sk-toggleable__label sk-toggleable__label-arrow\">RandomForestRegressor</label><div class=\"sk-toggleable__content\"><pre>RandomForestRegressor(random_state=0)</pre></div></div></div></div></div>"
      ],
      "text/plain": [
       "RandomForestRegressor(random_state=0)"
      ]
     },
     "execution_count": 151,
     "metadata": {},
     "output_type": "execute_result"
    }
   ],
   "source": [
    "modelRF = RandomForestRegressor(n_estimators=100, random_state=0)\n",
    "modelRF.fit(X_train_new, y_train)"
   ]
  },
  {
   "cell_type": "code",
   "execution_count": 152,
   "metadata": {},
   "outputs": [
    {
     "name": "stdout",
     "output_type": "stream",
     "text": [
      "career_level_CEO/GM/Direktur/Manajer Senior: 3.3386e-03\n",
      "career_level_Lulusan baru/Pengalaman kerja kurang dari 1 tahun: 1.9869e-02\n",
      "career_level_Manajer/Asisten Manajer: 1.1520e-01\n",
      "career_level_Pegawai (non-manajemen & non-supervisor): 3.1827e-03\n",
      "career_level_Supervisor/Koordinator: 7.5150e-01\n",
      "experience_level_1: 2.0217e-02\n",
      "experience_level_10: 1.1559e-03\n",
      "experience_level_12: 1.8100e-04\n",
      "experience_level_15: 5.3287e-08\n",
      "experience_level_18: 1.0038e-06\n",
      "experience_level_2: 7.3813e-03\n",
      "experience_level_20: 2.3579e-04\n",
      "experience_level_3: 4.8888e-03\n",
      "experience_level_4: 2.5147e-03\n",
      "experience_level_5: 5.6192e-03\n",
      "experience_level_6: 3.5133e-04\n",
      "experience_level_7: 1.4371e-03\n",
      "experience_level_8: 2.2788e-03\n",
      "experience_level_9: 3.8479e-08\n",
      "employment_type_Kontrak: 4.3404e-03\n",
      "employment_type_Kontrak, Temporer: 3.2836e-04\n",
      "employment_type_Paruh Waktu: 1.3239e-03\n",
      "employment_type_Penuh Waktu: 5.8172e-03\n",
      "employment_type_Penuh Waktu, Kontrak: 1.3831e-04\n",
      "employment_type_Penuh Waktu, Paruh Waktu: 4.9595e-05\n",
      "employment_type_Temporer: 7.6203e-04\n",
      "education_level_D3 - S1: 3.3233e-03\n",
      "education_level_D3 - S2: 4.7434e-03\n",
      "education_level_S1: 1.2254e-02\n",
      "education_level_S1 - S2: 6.3755e-03\n",
      "education_level_S1 - S3: 1.1688e-03\n",
      "education_level_S3: 7.2453e-04\n",
      "education_level_SMA/SMU: 6.9983e-03\n",
      "education_level_SMA/SMU - S1: 6.3228e-03\n",
      "education_level_SMA/SMU - S2: 9.8270e-04\n",
      "education_level_Tidak terspesifikasi: 5.0030e-03\n"
     ]
    }
   ],
   "source": [
    "parameter_estimate  = modelRF.feature_importances_\n",
    "for variable, parameter_estimate  in zip(X_train_new.columns, parameter_estimate):\n",
    "    print(f'{variable}: {parameter_estimate :.4e}')"
   ]
  },
  {
   "cell_type": "markdown",
   "metadata": {},
   "source": [
    "**Visualisasi Data Koefisien**"
   ]
  },
  {
   "cell_type": "code",
   "execution_count": 153,
   "metadata": {},
   "outputs": [
    {
     "data": {
      "image/png": "[encoded data removed]",
      "text/plain": [
       "<Figure size 1000x500 with 1 Axes>"
      ]
     },
     "metadata": {},
     "output_type": "display_data"
    }
   ],
   "source": [
    "plt.bar(range(len(modelRF.feature_importances_)), modelRF.feature_importances_)\n",
    "plt.xlabel('Variabel')\n",
    "plt.ylabel('Koefisien')\n",
    "plt.title('Koefisien Random Forest Regressor')\n",
    "plt.xticks(range(len(modelRF.feature_importances_)), X_train_new.columns, rotation=90)\n",
    "plt.show()"
   ]
  },
  {
   "cell_type": "code",
   "execution_count": 154,
   "metadata": {},
   "outputs": [],
   "source": [
    "absolute_error_rf_train = np.abs(y_train - modelRF.predict(X_train_new))\n",
    "percentage_error_rf_train = absolute_error_rf_train / y_train * 100"
   ]
  },
  {
   "cell_type": "code",
   "execution_count": 155,
   "metadata": {},
   "outputs": [
    {
     "name": "stdout",
     "output_type": "stream",
     "text": [
      "-------- Training Data Random Forest ---------\n",
      "MSE  : 702859917311.4092\n",
      "MAE  : 451151.7764\n",
      "RMSE : 838367.4119\n",
      "MAD  : 451151.7764\n",
      "MAPE  : 9.3056\n"
     ]
    }
   ],
   "source": [
    "print('-------- Training Data Random Forest ---------')\n",
    "y_train_pred_rf = modelRF.predict(X_train_new)\n",
    "print(\"MSE  :\", \"{:.4f}\".format(mean_squared_error(y_train, y_train_pred_rf)))\n",
    "print(\"MAE  :\", \"{:.4f}\".format(mean_absolute_error(y_train, y_train_pred_rf)))\n",
    "print(\"RMSE :\", \"{:.4f}\".format(math.sqrt(mean_squared_error(y_train, y_train_pred_rf))))\n",
    "print(\"MAD  :\", \"{:.4f}\".format(np.mean(np.abs(y_train - y_train_pred_rf))))\n",
    "print(\"MAPE  :\", \"{:.4f}\".format(np.mean(percentage_error_rf_train)))\n"
   ]
  },
  {
   "cell_type": "code",
   "execution_count": 156,
   "metadata": {},
   "outputs": [],
   "source": [
    "absolute_error_rf_test = np.abs(y_test - modelRF.predict(X_test_new))\n",
    "percentage_error_rf_test = absolute_error_rf_test / y_test * 100"
   ]
  },
  {
   "cell_type": "code",
   "execution_count": 157,
   "metadata": {},
   "outputs": [
    {
     "name": "stdout",
     "output_type": "stream",
     "text": [
      "\n",
      "-------- Testing Data Random Forest ---------\n",
      "MSE  : 693059868953.133\n",
      "MAE  : 451275.79020988225\n",
      "RMSE : 832502.1735425879\n",
      "MAD  : 451275.79020988225\n",
      "MAPE  : 9.1638\n"
     ]
    }
   ],
   "source": [
    "print('\\n-------- Testing Data Random Forest ---------')\n",
    "y_test_pred_rf = modelRF.predict(X_test_new)\n",
    "print(\"MSE  :\", mean_squared_error(y_test, y_test_pred_rf))\n",
    "print(\"MAE  :\", mean_absolute_error(y_test, y_test_pred_rf))\n",
    "print(\"RMSE :\", math.sqrt(mean_squared_error(y_test, y_test_pred_rf)))\n",
    "print(\"MAD  :\", np.mean(np.abs(y_test - y_test_pred_rf)))\n",
    "print(\"MAPE  :\", \"{:.4f}\".format(np.mean(percentage_error_rf_test)))"
   ]
  },
  {
   "cell_type": "markdown",
   "metadata": {},
   "source": [
    "# Tes Ulang "
   ]
  },
  {
   "cell_type": "code",
   "execution_count": 158,
   "metadata": {},
   "outputs": [],
   "source": [
    "X_train_ulang = pd.concat([X_train, X_train_career], axis=1)\n",
    "X_train_ulang.drop(columns=['career_level', 'experience_level', 'employment_type', 'education_level'],inplace=True)\n",
    "\n",
    "X_test_ulang = pd.concat([X_test, X_test_career], axis=1)\n",
    "X_test_ulang.drop(columns=['career_level', 'experience_level', 'employment_type', 'education_level'],inplace=True)"
   ]
  },
  {
   "cell_type": "markdown",
   "metadata": {},
   "source": [
    "**Metode OLS**"
   ]
  },
  {
   "cell_type": "code",
   "execution_count": 159,
   "metadata": {},
   "outputs": [
    {
     "name": "stdout",
     "output_type": "stream",
     "text": [
      "                            OLS Regression Results                            \n",
      "==============================================================================\n",
      "Dep. Variable:                 salary   R-squared:                       0.454\n",
      "Model:                            OLS   Adj. R-squared:                  0.454\n",
      "Method:                 Least Squares   F-statistic:                     3474.\n",
      "Date:                Mon, 19 Jun 2023   Prob (F-statistic):               0.00\n",
      "Time:                        20:57:29   Log-Likelihood:            -2.5239e+05\n",
      "No. Observations:               16714   AIC:                         5.048e+05\n",
      "Df Residuals:                   16709   BIC:                         5.048e+05\n",
      "Df Model:                           4                                         \n",
      "Covariance Type:            nonrobust                                         \n",
      "==================================================================================================================================\n",
      "                                                                     coef    std err          t      P>|t|      [0.025      0.975]\n",
      "----------------------------------------------------------------------------------------------------------------------------------\n",
      "const                                                           5.077e+06   4.75e+04    106.866      0.000    4.98e+06    5.17e+06\n",
      "career_level_CEO/GM/Direktur/Manajer Senior                     2.673e+06   2.31e+05     11.577      0.000    2.22e+06    3.13e+06\n",
      "career_level_Lulusan baru/Pengalaman kerja kurang dari 1 tahun -9.511e+05   5.94e+04    -16.014      0.000   -1.07e+06   -8.35e+05\n",
      "career_level_Manajer/Asisten Manajer                            1.944e+06   6.28e+04     30.943      0.000    1.82e+06    2.07e+06\n",
      "career_level_Pegawai (non-manajemen & non-supervisor)          -1.702e+05    4.8e+04     -3.549      0.000   -2.64e+05   -7.62e+04\n",
      "career_level_Supervisor/Koordinator                             1.582e+06   4.89e+04     32.379      0.000    1.49e+06    1.68e+06\n",
      "==============================================================================\n",
      "Omnibus:                     4093.085   Durbin-Watson:                   2.010\n",
      "Prob(Omnibus):                  0.000   Jarque-Bera (JB):            44733.437\n",
      "Skew:                           0.864   Prob(JB):                         0.00\n",
      "Kurtosis:                      10.826   Cond. No.                     5.72e+15\n",
      "==============================================================================\n",
      "\n",
      "Notes:\n",
      "[1] Standard Errors assume that the covariance matrix of the errors is correctly specified.\n",
      "[2] The smallest eigenvalue is 8.28e-28. This might indicate that there are\n",
      "strong multicollinearity problems or that the design matrix is singular.\n"
     ]
    }
   ],
   "source": [
    "X_train_ulang_ols = sm.add_constant(X_train_ulang)\n",
    "ModelOLS_ulang = sm.OLS(y_train, X_train_ulang_ols).fit()\n",
    "print(ModelOLS_ulang.summary())"
   ]
  },
  {
   "cell_type": "code",
   "execution_count": 160,
   "metadata": {},
   "outputs": [],
   "source": [
    "# Rumus MAPE Training Data\n",
    "absolute_error_OLS_train = np.abs(y_train - ModelOLS_ulang.predict(X_train_ulang_ols))\n",
    "percentage_error_OLS_train = absolute_error_OLS_train / y_train * 100"
   ]
  },
  {
   "cell_type": "code",
   "execution_count": 161,
   "metadata": {},
   "outputs": [
    {
     "name": "stdout",
     "output_type": "stream",
     "text": [
      "-------- Training Data OLS ---------\n",
      "MSE  : 765425263163.9698\n",
      "MAE  : 413468.4791\n",
      "RMSE : 874885.8572\n",
      "MAD  : 413468.4791\n",
      "MAPE  : 8.6083\n"
     ]
    }
   ],
   "source": [
    "print('-------- Training Data OLS ---------')\n",
    "y_train_OLS = ModelOLS_ulang.predict(sm.add_constant(X_train_ulang))\n",
    "print(\"MSE  :\", \"{:.4f}\".format(mean_squared_error(y_train, y_train_OLS)))\n",
    "print(\"MAE  :\", \"{:.4f}\".format(mean_absolute_error(y_train, y_train_OLS)))\n",
    "print(\"RMSE :\", \"{:.4f}\".format(math.sqrt(mean_squared_error(y_train, y_train_OLS))))\n",
    "print(\"MAD  :\", \"{:.4f}\".format(np.mean(np.abs(y_train - y_train_OLS))))\n",
    "print(\"MAPE  :\", \"{:.4f}\".format(np.mean(percentage_error_OLS_train)))"
   ]
  },
  {
   "cell_type": "code",
   "execution_count": 162,
   "metadata": {},
   "outputs": [],
   "source": [
    "# Rumus MAPE Testing Data\n",
    "absolute_error_OLS_test = np.abs(y_test - ModelOLS_ulang.predict(sm.add_constant(X_test_ulang)))\n",
    "percentage_error_OLS_test = absolute_error_OLS_test / y_test * 100"
   ]
  },
  {
   "cell_type": "code",
   "execution_count": 163,
   "metadata": {},
   "outputs": [
    {
     "name": "stdout",
     "output_type": "stream",
     "text": [
      "-------- Testing Data OLS ---------\n",
      "MSE  : 719154676416.8306\n",
      "MAE  : 402351.65971485554\n",
      "RMSE : 848029.8794363502\n",
      "MAD  : 402351.65971485554\n",
      "MAPE  : 8.2364\n"
     ]
    }
   ],
   "source": [
    "print('-------- Testing Data OLS ---------')\n",
    "y_test_OLS = ModelOLS_ulang.predict(sm.add_constant(X_test_ulang))\n",
    "print(\"MSE  :\", mean_squared_error(y_test, y_test_OLS))\n",
    "print(\"MAE  :\", mean_absolute_error(y_test, y_test_OLS))\n",
    "print(\"RMSE :\", math.sqrt(mean_squared_error(y_test, y_test_OLS)))\n",
    "print(\"MAD  :\", np.mean(np.abs(y_test - y_test_OLS)))\n",
    "print(\"MAPE  :\", \"{:.4f}\".format(np.mean(percentage_error_OLS_test)))"
   ]
  },
  {
   "cell_type": "markdown",
   "metadata": {},
   "source": [
    "**Metode Random Forest**"
   ]
  },
  {
   "cell_type": "code",
   "execution_count": 164,
   "metadata": {},
   "outputs": [
    {
     "data": {
      "text/html": [
       "<style>#sk-container-id-4 {color: black;background-color: white;}#sk-container-id-4 pre{padding: 0;}#sk-container-id-4 div.sk-toggleable {background-color: white;}#sk-container-id-4 label.sk-toggleable__label {cursor: pointer;display: block;width: 100%;margin-bottom: 0;padding: 0.3em;box-sizing: border-box;text-align: center;}#sk-container-id-4 label.sk-toggleable__label-arrow:before {content: \"▸\";float: left;margin-right: 0.25em;color: #696969;}#sk-container-id-4 label.sk-toggleable__label-arrow:hover:before {color: black;}#sk-container-id-4 div.sk-estimator:hover label.sk-toggleable__label-arrow:before {color: black;}#sk-container-id-4 div.sk-toggleable__content {max-height: 0;max-width: 0;overflow: hidden;text-align: left;background-color: #f0f8ff;}#sk-container-id-4 div.sk-toggleable__content pre {margin: 0.2em;color: black;border-radius: 0.25em;background-color: #f0f8ff;}#sk-container-id-4 input.sk-toggleable__control:checked~div.sk-toggleable__content {max-height: 200px;max-width: 100%;overflow: auto;}#sk-container-id-4 input.sk-toggleable__control:checked~label.sk-toggleable__label-arrow:before {content: \"▾\";}#sk-container-id-4 div.sk-estimator input.sk-toggleable__control:checked~label.sk-toggleable__label {background-color: #d4ebff;}#sk-container-id-4 div.sk-label input.sk-toggleable__control:checked~label.sk-toggleable__label {background-color: #d4ebff;}#sk-container-id-4 input.sk-hidden--visually {border: 0;clip: rect(1px 1px 1px 1px);clip: rect(1px, 1px, 1px, 1px);height: 1px;margin: -1px;overflow: hidden;padding: 0;position: absolute;width: 1px;}#sk-container-id-4 div.sk-estimator {font-family: monospace;background-color: #f0f8ff;border: 1px dotted black;border-radius: 0.25em;box-sizing: border-box;margin-bottom: 0.5em;}#sk-container-id-4 div.sk-estimator:hover {background-color: #d4ebff;}#sk-container-id-4 div.sk-parallel-item::after {content: \"\";width: 100%;border-bottom: 1px solid gray;flex-grow: 1;}#sk-container-id-4 div.sk-label:hover label.sk-toggleable__label {background-color: #d4ebff;}#sk-container-id-4 div.sk-serial::before {content: \"\";position: absolute;border-left: 1px solid gray;box-sizing: border-box;top: 0;bottom: 0;left: 50%;z-index: 0;}#sk-container-id-4 div.sk-serial {display: flex;flex-direction: column;align-items: center;background-color: white;padding-right: 0.2em;padding-left: 0.2em;position: relative;}#sk-container-id-4 div.sk-item {position: relative;z-index: 1;}#sk-container-id-4 div.sk-parallel {display: flex;align-items: stretch;justify-content: center;background-color: white;position: relative;}#sk-container-id-4 div.sk-item::before, #sk-container-id-4 div.sk-parallel-item::before {content: \"\";position: absolute;border-left: 1px solid gray;box-sizing: border-box;top: 0;bottom: 0;left: 50%;z-index: -1;}#sk-container-id-4 div.sk-parallel-item {display: flex;flex-direction: column;z-index: 1;position: relative;background-color: white;}#sk-container-id-4 div.sk-parallel-item:first-child::after {align-self: flex-end;width: 50%;}#sk-container-id-4 div.sk-parallel-item:last-child::after {align-self: flex-start;width: 50%;}#sk-container-id-4 div.sk-parallel-item:only-child::after {width: 0;}#sk-container-id-4 div.sk-dashed-wrapped {border: 1px dashed gray;margin: 0 0.4em 0.5em 0.4em;box-sizing: border-box;padding-bottom: 0.4em;background-color: white;}#sk-container-id-4 div.sk-label label {font-family: monospace;font-weight: bold;display: inline-block;line-height: 1.2em;}#sk-container-id-4 div.sk-label-container {text-align: center;}#sk-container-id-4 div.sk-container {/* jupyter's `normalize.less` sets `[hidden] { display: none; }` but bootstrap.min.css set `[hidden] { display: none !important; }` so we also need the `!important` here to be able to override the default hidden behavior on the sphinx rendered scikit-learn.org. See: https://github.com/scikit-learn/scikit-learn/issues/21755 */display: inline-block !important;position: relative;}#sk-container-id-4 div.sk-text-repr-fallback {display: none;}</style><div id=\"sk-container-id-4\" class=\"sk-top-container\"><div class=\"sk-text-repr-fallback\"><pre>RandomForestRegressor(random_state=0)</pre><b>In a Jupyter environment, please rerun this cell to show the HTML representation or trust the notebook. <br />On GitHub, the HTML representation is unable to render, please try loading this page with nbviewer.org.</b></div><div class=\"sk-container\" hidden><div class=\"sk-item\"><div class=\"sk-estimator sk-toggleable\"><input class=\"sk-toggleable__control sk-hidden--visually\" id=\"sk-estimator-id-4\" type=\"checkbox\" checked><label for=\"sk-estimator-id-4\" class=\"sk-toggleable__label sk-toggleable__label-arrow\">RandomForestRegressor</label><div class=\"sk-toggleable__content\"><pre>RandomForestRegressor(random_state=0)</pre></div></div></div></div></div>"
      ],
      "text/plain": [
       "RandomForestRegressor(random_state=0)"
      ]
     },
     "execution_count": 164,
     "metadata": {},
     "output_type": "execute_result"
    }
   ],
   "source": [
    "modelRF_ulang = RandomForestRegressor(n_estimators=100, random_state=0)\n",
    "modelRF_ulang.fit(X_train_ulang, y_train)"
   ]
  },
  {
   "cell_type": "code",
   "execution_count": 165,
   "metadata": {},
   "outputs": [
    {
     "name": "stdout",
     "output_type": "stream",
     "text": [
      "career_level_CEO/GM/Direktur/Manajer Senior: 3.3397e-03\n",
      "career_level_Lulusan baru/Pengalaman kerja kurang dari 1 tahun: 2.2379e-02\n",
      "career_level_Manajer/Asisten Manajer: 1.2890e-01\n",
      "career_level_Pegawai (non-manajemen & non-supervisor): 4.3465e-03\n",
      "career_level_Supervisor/Koordinator: 8.4103e-01\n"
     ]
    }
   ],
   "source": [
    "parameter_estimate  = modelRF_ulang.feature_importances_\n",
    "for variable, parameter_estimate  in zip(X_train_new.columns, parameter_estimate):\n",
    "    print(f'{variable}: {parameter_estimate :.4e}')"
   ]
  },
  {
   "cell_type": "code",
   "execution_count": 166,
   "metadata": {},
   "outputs": [],
   "source": [
    "absolute_error_rf_train = np.abs(y_train - modelRF_ulang.predict(X_train_ulang))\n",
    "percentage_error_rf_train = absolute_error_rf_train / y_train * 100"
   ]
  },
  {
   "cell_type": "code",
   "execution_count": 167,
   "metadata": {},
   "outputs": [
    {
     "name": "stdout",
     "output_type": "stream",
     "text": [
      "-------- Training Data Random Forest ---------\n",
      "MSE  : 765430041659.3984\n",
      "MAE  : 414495.8374\n",
      "RMSE : 874888.5881\n",
      "MAD  : 414495.8374\n",
      "MAPE  : 8.6304\n"
     ]
    }
   ],
   "source": [
    "print('-------- Training Data Random Forest ---------')\n",
    "y_train_pred_rf = modelRF_ulang.predict(X_train_ulang)\n",
    "print(\"MSE  :\", \"{:.4f}\".format(mean_squared_error(y_train, y_train_pred_rf)))\n",
    "print(\"MAE  :\", \"{:.4f}\".format(mean_absolute_error(y_train, y_train_pred_rf)))\n",
    "print(\"RMSE :\", \"{:.4f}\".format(math.sqrt(mean_squared_error(y_train, y_train_pred_rf))))\n",
    "print(\"MAD  :\", \"{:.4f}\".format(np.mean(np.abs(y_train - y_train_pred_rf))))\n",
    "print(\"MAPE  :\", \"{:.4f}\".format(np.mean(percentage_error_rf_train)))"
   ]
  },
  {
   "cell_type": "code",
   "execution_count": 168,
   "metadata": {},
   "outputs": [],
   "source": [
    "absolute_error_rf_test = np.abs(y_test - modelRF_ulang.predict(X_test_ulang))\n",
    "percentage_error_rf_test = absolute_error_rf_test / y_test * 100"
   ]
  },
  {
   "cell_type": "code",
   "execution_count": 169,
   "metadata": {},
   "outputs": [
    {
     "name": "stdout",
     "output_type": "stream",
     "text": [
      "\n",
      "-------- Testing Data Random Forest ---------\n",
      "MSE  : 719029929417.2008\n",
      "MAE  : 403330.7653525878\n",
      "RMSE : 847956.3251826128\n",
      "MAD  : 403330.7653525878\n",
      "MAPE  : 8.2573\n"
     ]
    }
   ],
   "source": [
    "print('\\n-------- Testing Data Random Forest ---------')\n",
    "y_test_pred_rf = modelRF_ulang.predict(X_test_ulang)\n",
    "print(\"MSE  :\", mean_squared_error(y_test, y_test_pred_rf))\n",
    "print(\"MAE  :\", mean_absolute_error(y_test, y_test_pred_rf))\n",
    "print(\"RMSE :\", math.sqrt(mean_squared_error(y_test, y_test_pred_rf)))\n",
    "print(\"MAD  :\", np.mean(np.abs(y_test - y_test_pred_rf)))\n",
    "print(\"MAPE  :\", \"{:.4f}\".format(np.mean(percentage_error_rf_test)))"
   ]
  }
 ],
 "metadata": {
  "kernelspec": {
   "display_name": "Python 3.10.9 ('base')",
   "language": "python",
   "name": "python3"
  },
  "language_info": {
   "codemirror_mode": {
    "name": "ipython",
    "version": 3
   },
   "file_extension": ".py",
   "mimetype": "text/x-python",
   "name": "python",
   "nbconvert_exporter": "python",
   "pygments_lexer": "ipython3",
   "version": "3.10.9"
  },
  "orig_nbformat": 4,
  "vscode": {
   "interpreter": {
    "hash": "5faf7cf2303f867cb700a72830a1531b1508ead491941f06aa8dbd992b2ea060"
   }
  }
 },
 "nbformat": 4,
 "nbformat_minor": 2
}
