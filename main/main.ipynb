{
 "cells": [
  {
   "cell_type": "markdown",
   "metadata": {},
   "source": [
    "# 1. Read and import data"
   ]
  },
  {
   "cell_type": "code",
   "execution_count": 1,
   "metadata": {},
   "outputs": [],
   "source": [
    "import math  \n",
    "import numpy as np\n",
    "import pandas as pd\n",
    "\n",
    "import matplotlib.pyplot as plt\n",
    "import seaborn as sns\n",
    "\n",
    "import statsmodels.api as sm\n",
    "\n",
    "from sklearn.linear_model import LinearRegression\n",
    "from sklearn.ensemble import RandomForestRegressor\n",
    "from sklearn.preprocessing import OneHotEncoder\n",
    "from sklearn.metrics import r2_score\n",
    "from sklearn.model_selection import train_test_split\n",
    "from sklearn.metrics import mean_squared_error\n",
    "from sklearn.metrics import mean_absolute_error"
   ]
  },
  {
   "cell_type": "code",
   "execution_count": 2,
   "metadata": {},
   "outputs": [],
   "source": [
    "dataset = pd.read_csv('../data/salary.csv', sep='|')"
   ]
  },
  {
   "cell_type": "markdown",
   "metadata": {},
   "source": [
    "**Cek Cek Dulu**"
   ]
  },
  {
   "cell_type": "code",
   "execution_count": 3,
   "metadata": {},
   "outputs": [
    {
     "data": {
      "text/html": [
       "<div>\n",
       "<style scoped>\n",
       "    .dataframe tbody tr th:only-of-type {\n",
       "        vertical-align: middle;\n",
       "    }\n",
       "\n",
       "    .dataframe tbody tr th {\n",
       "        vertical-align: top;\n",
       "    }\n",
       "\n",
       "    .dataframe thead th {\n",
       "        text-align: right;\n",
       "    }\n",
       "</style>\n",
       "<table border=\"1\" class=\"dataframe\">\n",
       "  <thead>\n",
       "    <tr style=\"text-align: right;\">\n",
       "      <th></th>\n",
       "      <th>id</th>\n",
       "      <th>job_title</th>\n",
       "      <th>location</th>\n",
       "      <th>salary_currency</th>\n",
       "      <th>career_level</th>\n",
       "      <th>experience_level</th>\n",
       "      <th>education_level</th>\n",
       "      <th>employment_type</th>\n",
       "      <th>job_function</th>\n",
       "      <th>job_benefits</th>\n",
       "      <th>company_process_time</th>\n",
       "      <th>company_size</th>\n",
       "      <th>company_industry</th>\n",
       "      <th>job_description</th>\n",
       "      <th>salary</th>\n",
       "    </tr>\n",
       "  </thead>\n",
       "  <tbody>\n",
       "    <tr>\n",
       "      <th>0</th>\n",
       "      <td>1</td>\n",
       "      <td>Facility Maintenance &amp; Smart Warehouse Manager</td>\n",
       "      <td>Bandung</td>\n",
       "      <td>IDR</td>\n",
       "      <td>Manajer/Asisten Manajer</td>\n",
       "      <td>5 tahun</td>\n",
       "      <td>Sertifikat Professional, D3 (Diploma), D4 (Dip...</td>\n",
       "      <td>Penuh Waktu</td>\n",
       "      <td>Manufaktur,Pemeliharaan</td>\n",
       "      <td>NaN</td>\n",
       "      <td>NaN</td>\n",
       "      <td>NaN</td>\n",
       "      <td>NaN</td>\n",
       "      <td>Deskripsi PekerjaanRequirements :D3/SI from re...</td>\n",
       "      <td>NaN</td>\n",
       "    </tr>\n",
       "    <tr>\n",
       "      <th>1</th>\n",
       "      <td>2</td>\n",
       "      <td>Procurement Department Head</td>\n",
       "      <td>Jakarta Raya</td>\n",
       "      <td>IDR</td>\n",
       "      <td>Manajer/Asisten Manajer</td>\n",
       "      <td>5 tahun</td>\n",
       "      <td>Sarjana (S1), Diploma Pascasarjana, Gelar Prof...</td>\n",
       "      <td>Penuh Waktu</td>\n",
       "      <td>Manufaktur,Pembelian/Manajemen Material</td>\n",
       "      <td>NaN</td>\n",
       "      <td>25 days</td>\n",
       "      <td>51 - 200 pekerja</td>\n",
       "      <td>Manajemen/Konsulting HR</td>\n",
       "      <td>Job Role: 1. Responsible for material availabi...</td>\n",
       "      <td>NaN</td>\n",
       "    </tr>\n",
       "    <tr>\n",
       "      <th>2</th>\n",
       "      <td>3</td>\n",
       "      <td>SALES ADMIN</td>\n",
       "      <td>Jakarta Barat</td>\n",
       "      <td>IDR</td>\n",
       "      <td>Supervisor/Koordinator</td>\n",
       "      <td>4 tahun</td>\n",
       "      <td>Sarjana (S1)</td>\n",
       "      <td>Penuh Waktu</td>\n",
       "      <td>Penjualan / Pemasaran,Penjualan Ritel</td>\n",
       "      <td>Waktu regular, Senin - Jumat;Bisnis (contoh: K...</td>\n",
       "      <td>30 days</td>\n",
       "      <td>51 - 200 pekerja</td>\n",
       "      <td>Umum &amp; Grosir</td>\n",
       "      <td>Internal Sales &amp; AdminJob Description :We are ...</td>\n",
       "      <td>NaN</td>\n",
       "    </tr>\n",
       "    <tr>\n",
       "      <th>3</th>\n",
       "      <td>4</td>\n",
       "      <td>City Operation Lead Shopee Express (Cirebon)</td>\n",
       "      <td>Cirebon</td>\n",
       "      <td>IDR</td>\n",
       "      <td>Supervisor/Koordinator</td>\n",
       "      <td>5 tahun</td>\n",
       "      <td>Sarjana (S1), Diploma Pascasarjana, Gelar Prof...</td>\n",
       "      <td>Penuh Waktu</td>\n",
       "      <td>Pelayanan,Logistik/Rantai Pasokan</td>\n",
       "      <td>Tip;Waktu regular, Senin - Jumat;Kasual (conto...</td>\n",
       "      <td>21 days</td>\n",
       "      <td>2001 - 5000 pekerja</td>\n",
       "      <td>Retail/Merchandise</td>\n",
       "      <td>Job Description:Responsible for HSE implementa...</td>\n",
       "      <td>NaN</td>\n",
       "    </tr>\n",
       "    <tr>\n",
       "      <th>4</th>\n",
       "      <td>5</td>\n",
       "      <td>Japanese Interpreter</td>\n",
       "      <td>Bekasi</td>\n",
       "      <td>IDR</td>\n",
       "      <td>Pegawai (non-manajemen &amp; non-supervisor)</td>\n",
       "      <td>2 tahun</td>\n",
       "      <td>Sertifikat Professional, D3 (Diploma), D4 (Dip...</td>\n",
       "      <td>Penuh Waktu</td>\n",
       "      <td>Lainnya,Jurnalis/Editor</td>\n",
       "      <td>NaN</td>\n",
       "      <td>23 days</td>\n",
       "      <td>201 - 500 pekerja</td>\n",
       "      <td>Manajemen/Konsulting HR</td>\n",
       "      <td>Overview: Our clients is manufacture for autom...</td>\n",
       "      <td>NaN</td>\n",
       "    </tr>\n",
       "  </tbody>\n",
       "</table>\n",
       "</div>"
      ],
      "text/plain": [
       "   id                                       job_title       location  \\\n",
       "0   1  Facility Maintenance & Smart Warehouse Manager        Bandung   \n",
       "1   2                     Procurement Department Head   Jakarta Raya   \n",
       "2   3                                     SALES ADMIN  Jakarta Barat   \n",
       "3   4    City Operation Lead Shopee Express (Cirebon)        Cirebon   \n",
       "4   5                            Japanese Interpreter         Bekasi   \n",
       "\n",
       "  salary_currency                              career_level experience_level  \\\n",
       "0             IDR                   Manajer/Asisten Manajer          5 tahun   \n",
       "1             IDR                   Manajer/Asisten Manajer          5 tahun   \n",
       "2             IDR                    Supervisor/Koordinator          4 tahun   \n",
       "3             IDR                    Supervisor/Koordinator          5 tahun   \n",
       "4             IDR  Pegawai (non-manajemen & non-supervisor)          2 tahun   \n",
       "\n",
       "                                     education_level employment_type  \\\n",
       "0  Sertifikat Professional, D3 (Diploma), D4 (Dip...     Penuh Waktu   \n",
       "1  Sarjana (S1), Diploma Pascasarjana, Gelar Prof...     Penuh Waktu   \n",
       "2                                       Sarjana (S1)     Penuh Waktu   \n",
       "3  Sarjana (S1), Diploma Pascasarjana, Gelar Prof...     Penuh Waktu   \n",
       "4  Sertifikat Professional, D3 (Diploma), D4 (Dip...     Penuh Waktu   \n",
       "\n",
       "                              job_function  \\\n",
       "0                  Manufaktur,Pemeliharaan   \n",
       "1  Manufaktur,Pembelian/Manajemen Material   \n",
       "2    Penjualan / Pemasaran,Penjualan Ritel   \n",
       "3        Pelayanan,Logistik/Rantai Pasokan   \n",
       "4                  Lainnya,Jurnalis/Editor   \n",
       "\n",
       "                                        job_benefits company_process_time  \\\n",
       "0                                                NaN                  NaN   \n",
       "1                                                NaN              25 days   \n",
       "2  Waktu regular, Senin - Jumat;Bisnis (contoh: K...              30 days   \n",
       "3  Tip;Waktu regular, Senin - Jumat;Kasual (conto...              21 days   \n",
       "4                                                NaN              23 days   \n",
       "\n",
       "          company_size         company_industry  \\\n",
       "0                  NaN                      NaN   \n",
       "1     51 - 200 pekerja  Manajemen/Konsulting HR   \n",
       "2     51 - 200 pekerja            Umum & Grosir   \n",
       "3  2001 - 5000 pekerja       Retail/Merchandise   \n",
       "4    201 - 500 pekerja  Manajemen/Konsulting HR   \n",
       "\n",
       "                                     job_description  salary  \n",
       "0  Deskripsi PekerjaanRequirements :D3/SI from re...     NaN  \n",
       "1  Job Role: 1. Responsible for material availabi...     NaN  \n",
       "2  Internal Sales & AdminJob Description :We are ...     NaN  \n",
       "3  Job Description:Responsible for HSE implementa...     NaN  \n",
       "4  Overview: Our clients is manufacture for autom...     NaN  "
      ]
     },
     "execution_count": 3,
     "metadata": {},
     "output_type": "execute_result"
    }
   ],
   "source": [
    "dataset.head()"
   ]
  },
  {
   "cell_type": "code",
   "execution_count": 4,
   "metadata": {},
   "outputs": [
    {
     "name": "stdout",
     "output_type": "stream",
     "text": [
      "<class 'pandas.core.frame.DataFrame'>\n",
      "RangeIndex: 34746 entries, 0 to 34745\n",
      "Data columns (total 15 columns):\n",
      " #   Column                Non-Null Count  Dtype  \n",
      "---  ------                --------------  -----  \n",
      " 0   id                    34746 non-null  int64  \n",
      " 1   job_title             34746 non-null  object \n",
      " 2   location              34746 non-null  object \n",
      " 3   salary_currency       34742 non-null  object \n",
      " 4   career_level          34746 non-null  object \n",
      " 5   experience_level      30205 non-null  object \n",
      " 6   education_level       34746 non-null  object \n",
      " 7   employment_type       33402 non-null  object \n",
      " 8   job_function          34746 non-null  object \n",
      " 9   job_benefits          27330 non-null  object \n",
      " 10  company_process_time  24555 non-null  object \n",
      " 11  company_size          29103 non-null  object \n",
      " 12  company_industry      33132 non-null  object \n",
      " 13  job_description       34745 non-null  object \n",
      " 14  salary                9352 non-null   float64\n",
      "dtypes: float64(1), int64(1), object(13)\n",
      "memory usage: 4.0+ MB\n"
     ]
    }
   ],
   "source": [
    "dataset.info()"
   ]
  },
  {
   "cell_type": "code",
   "execution_count": 5,
   "metadata": {},
   "outputs": [
    {
     "data": {
      "text/plain": [
       "id                          0\n",
       "job_title                   0\n",
       "location                    0\n",
       "salary_currency             4\n",
       "career_level                0\n",
       "experience_level         4541\n",
       "education_level             0\n",
       "employment_type          1344\n",
       "job_function                0\n",
       "job_benefits             7416\n",
       "company_process_time    10191\n",
       "company_size             5643\n",
       "company_industry         1614\n",
       "job_description             1\n",
       "salary                  25394\n",
       "dtype: int64"
      ]
     },
     "execution_count": 5,
     "metadata": {},
     "output_type": "execute_result"
    }
   ],
   "source": [
    "dataset.isna().sum()"
   ]
  },
  {
   "cell_type": "markdown",
   "metadata": {},
   "source": [
    "# 2. Cleaning the data"
   ]
  },
  {
   "cell_type": "markdown",
   "metadata": {},
   "source": [
    "**Drop kolom yang tidak diperlukan**"
   ]
  },
  {
   "cell_type": "code",
   "execution_count": 6,
   "metadata": {},
   "outputs": [],
   "source": [
    "dataset = dataset.drop(labels=[\"id\", \"salary_currency\", \"job_benefits\", \"job_function\", \"job_description\",\n",
    "\"company_process_time\", \"company_size\", \"company_industry\"], axis=1)"
   ]
  },
  {
   "cell_type": "markdown",
   "metadata": {},
   "source": [
    "**Mengisi Missing Value Experience Level**"
   ]
  },
  {
   "cell_type": "code",
   "execution_count": 7,
   "metadata": {},
   "outputs": [
    {
     "name": "stderr",
     "output_type": "stream",
     "text": [
      "C:\\Users\\reost\\AppData\\Local\\Temp\\ipykernel_23376\\1026394139.py:1: FutureWarning: The default value of regex will change from True to False in a future version.\n",
      "  dataset[\"experience_level\"] = dataset[\"experience_level\"].str.replace(\"\\D\", \"\").astype('float')\n"
     ]
    }
   ],
   "source": [
    "dataset[\"experience_level\"] = dataset[\"experience_level\"].str.replace(\"\\D\", \"\").astype('float')"
   ]
  },
  {
   "cell_type": "code",
   "execution_count": 8,
   "metadata": {},
   "outputs": [],
   "source": [
    "dataset['experience_level'].fillna(dataset.groupby([\"job_title\"])['experience_level'].transform('median'), inplace=True)"
   ]
  },
  {
   "cell_type": "markdown",
   "metadata": {},
   "source": [
    "**Mengisi Missing Value Salary**"
   ]
  },
  {
   "cell_type": "code",
   "execution_count": 9,
   "metadata": {},
   "outputs": [],
   "source": [
    "dataset['salary'].fillna(dataset.groupby([\"experience_level\"])['salary'].transform('median'), inplace=True)\n",
    "dataset['salary'] = dataset['salary'].round(0)"
   ]
  },
  {
   "cell_type": "markdown",
   "metadata": {},
   "source": [
    "**Cek Duplikasi Data**"
   ]
  },
  {
   "cell_type": "code",
   "execution_count": 10,
   "metadata": {},
   "outputs": [
    {
     "name": "stdout",
     "output_type": "stream",
     "text": [
      "Duplikasi Sebelum Di Drop:  5367\n",
      "Duplikasi Setelah Di Drop:  0\n"
     ]
    }
   ],
   "source": [
    "print(\"Duplikasi Sebelum Di Drop: \", dataset.duplicated().sum())\n",
    "dataset.drop_duplicates(keep='first', inplace=True)\n",
    "print(\"Duplikasi Setelah Di Drop: \", dataset.duplicated().sum())"
   ]
  },
  {
   "cell_type": "markdown",
   "metadata": {},
   "source": [
    "**Mapping Education Level**"
   ]
  },
  {
   "cell_type": "code",
   "execution_count": 11,
   "metadata": {},
   "outputs": [],
   "source": [
    "edu = []\n",
    "for i in dataset['education_level']:\n",
    "    if i == \"Sertifikat Professional, D3 (Diploma), D4 (Diploma), Sarjana (S1)\":\n",
    "        edu.append('D3 - S2')\n",
    "    elif i == \"Sarjana (S1), Diploma Pascasarjana, Gelar Professional, Magister (S2)\":\n",
    "        edu.append(\"S1 - S2\")\n",
    "    elif i == \"Sarjana (S1)\":\n",
    "        edu.append(\"S1\")     \n",
    "    elif i == \"SMA, SMU/SMK/STM\":\n",
    "        edu.append(\"SMA/SMU\")      \n",
    "    elif i == \"SMA, SMU/SMK/STM, Sertifikat Professional, D3 (Diploma), D4 (Diploma), Sarjana (S1)\":\n",
    "        edu.append(\"SMA/SMU - S1\")  \n",
    "    elif i == \"SMA, SMU/SMK/STM, Sertifikat Professional, D3 (Diploma), D4 (Diploma)\":\n",
    "        edu.append(\"SMA/SMU - S1\")\n",
    "    elif i == \"Sertifikat Professional, D3 (Diploma), D4 (Diploma), Sarjana (S1), Diploma Pascasarjana, Gelar Professional, Magister (S2)\":\n",
    "        edu.append(\"D3 - S2\") \n",
    "    elif i == \"Sertifikat Professional, D3 (Diploma), D4 (Diploma)\":\n",
    "        edu.append(\"D3 - S1\") \n",
    "    elif i == \"SMA, SMU/SMK/STM, Sarjana (S1)\":\n",
    "        edu.append(\"SMA/SMU - S1\") \n",
    "    elif i == \"Sarjana (S1), Diploma Pascasarjana, Gelar Professional, Magister (S2), Doktor (S3)\":\n",
    "        edu.append(\"S1 - S3\")   \n",
    "    elif i == \"Diploma Pascasarjana, Gelar Professional, Magister (S2)\":\n",
    "        edu.append(\"S1 - S2\")  \n",
    "    elif i == \"Sarjana (S1), Doktor (S3)\":\n",
    "        edu.append(\"S1 - S3\")  \n",
    "    elif i == \"Sertifikat Professional, D3 (Diploma), D4 (Diploma), Diploma Pascasarjana, Gelar Professional, Magister (S2)\":\n",
    "        edu.append(\"D3 - S2\")         \n",
    "    elif i == \"Diploma Pascasarjana, Gelar Professional, Magister (S2), Doktor (S3)\":\n",
    "        edu.append(\"S1 - S2\")   \n",
    "    elif i == \"Doktor (S3)\":\n",
    "        edu.append(\"S3\")     \n",
    "    elif i == \"SMA, SMU/SMK/STM, Sertifikat Professional, D3 (Diploma), D4 (Diploma), Diploma Pascasarjana, Gelar Professional, Magister (S2)\":\n",
    "        edu.append(\"SMA/SMU - S2\")  \n",
    "    elif i == \"SMA, SMU/SMK/STM, Sarjana (S1), Diploma Pascasarjana, Gelar Professional, Magister (S2)\":\n",
    "        edu.append(\"SMA/SMU - S2\")\n",
    "    elif i == \"SMA, SMU/SMK/STM, Sarjana (S1), Doktor (S3)\":\n",
    "        edu.append(\"S1 - S3\")                                                                                                                                                                                         \n",
    "    else:\n",
    "        edu.append('Tidak terspesifikasi')\n",
    "dataset['education_level'] = edu"
   ]
  },
  {
   "cell_type": "markdown",
   "metadata": {},
   "source": [
    "**Outlier**"
   ]
  },
  {
   "cell_type": "code",
   "execution_count": 12,
   "metadata": {},
   "outputs": [
    {
     "data": {
      "text/plain": [
       "job_title              0\n",
       "location               0\n",
       "career_level           0\n",
       "experience_level    2750\n",
       "education_level        0\n",
       "employment_type     1251\n",
       "salary              2390\n",
       "dtype: int64"
      ]
     },
     "execution_count": 12,
     "metadata": {},
     "output_type": "execute_result"
    }
   ],
   "source": [
    "dataset.isna().sum()"
   ]
  },
  {
   "cell_type": "code",
   "execution_count": 13,
   "metadata": {},
   "outputs": [],
   "source": [
    "dataset.dropna(inplace=True)"
   ]
  },
  {
   "cell_type": "code",
   "execution_count": 14,
   "metadata": {},
   "outputs": [
    {
     "data": {
      "image/png": "[encoded data removed]",
      "text/plain": [
       "<Figure size 1000x500 with 1 Axes>"
      ]
     },
     "metadata": {},
     "output_type": "display_data"
    }
   ],
   "source": [
    "per25Exp = dataset['experience_level'].quantile(0.25)\n",
    "per75Exp = dataset['experience_level'].quantile(0.75)\n",
    "iqrExp = per75Exp - per25Exp\n",
    "\n",
    "lower_limit = per25Exp - 1.5 * iqrExp\n",
    "upper_limit = per75Exp + 1.5 * iqrExp\n",
    "\n",
    "dataset = dataset[~((dataset[\"experience_level\"] < (lower_limit)) | (dataset[\"experience_level\"] > (upper_limit)))]\n",
    "\n",
    "sns.set(rc={'figure.figsize':(10, 5)})\n",
    "sns.boxplot(dataset[\"experience_level\"])\n",
    "plt.show()"
   ]
  },
  {
   "cell_type": "code",
   "execution_count": 15,
   "metadata": {},
   "outputs": [
    {
     "data": {
      "image/png": "[encoded data removed]",
      "text/plain": [
       "<Figure size 1000x500 with 1 Axes>"
      ]
     },
     "metadata": {},
     "output_type": "display_data"
    }
   ],
   "source": [
    "# Salary\n",
    "per25Salary = dataset['salary'].quantile(0.25)\n",
    "per75Salary = dataset['salary'].quantile(0.75)\n",
    "iqrSalary = per75Salary - per25Salary\n",
    "\n",
    "lower_limit = per25Salary - 1.5 * iqrSalary\n",
    "upper_limit = per75Salary + 1.5 * iqrSalary\n",
    "\n",
    "dataset = dataset[~((dataset[\"salary\"] < (lower_limit)) | (dataset[\"salary\"] > (upper_limit)))]\n",
    "\n",
    "sns.boxplot(dataset[\"salary\"])\n",
    "plt.show()"
   ]
  },
  {
   "cell_type": "markdown",
   "metadata": {},
   "source": [
    "# 3. Discovering Data"
   ]
  },
  {
   "cell_type": "code",
   "execution_count": 16,
   "metadata": {},
   "outputs": [
    {
     "name": "stdout",
     "output_type": "stream",
     "text": [
      "<class 'pandas.core.frame.DataFrame'>\n",
      "Int64Index: 24415 entries, 0 to 34745\n",
      "Data columns (total 7 columns):\n",
      " #   Column            Non-Null Count  Dtype  \n",
      "---  ------            --------------  -----  \n",
      " 0   job_title         24415 non-null  object \n",
      " 1   location          24415 non-null  object \n",
      " 2   career_level      24415 non-null  object \n",
      " 3   experience_level  24415 non-null  float64\n",
      " 4   education_level   24415 non-null  object \n",
      " 5   employment_type   24415 non-null  object \n",
      " 6   salary            24415 non-null  float64\n",
      "dtypes: float64(2), object(5)\n",
      "memory usage: 2.0+ MB\n"
     ]
    }
   ],
   "source": [
    "dataset.info()"
   ]
  },
  {
   "cell_type": "markdown",
   "metadata": {},
   "source": [
    "**Grouping Categorical & Numerical**"
   ]
  },
  {
   "cell_type": "code",
   "execution_count": 17,
   "metadata": {},
   "outputs": [
    {
     "name": "stdout",
     "output_type": "stream",
     "text": [
      "['job_title', 'location', 'career_level', 'education_level', 'employment_type']\n"
     ]
    }
   ],
   "source": [
    "categorical = list(dataset.select_dtypes(include='object'))\n",
    "print(categorical)"
   ]
  },
  {
   "cell_type": "code",
   "execution_count": 18,
   "metadata": {},
   "outputs": [
    {
     "data": {
      "text/html": [
       "<div>\n",
       "<style scoped>\n",
       "    .dataframe tbody tr th:only-of-type {\n",
       "        vertical-align: middle;\n",
       "    }\n",
       "\n",
       "    .dataframe tbody tr th {\n",
       "        vertical-align: top;\n",
       "    }\n",
       "\n",
       "    .dataframe thead th {\n",
       "        text-align: right;\n",
       "    }\n",
       "</style>\n",
       "<table border=\"1\" class=\"dataframe\">\n",
       "  <thead>\n",
       "    <tr style=\"text-align: right;\">\n",
       "      <th></th>\n",
       "      <th>job_title</th>\n",
       "      <th>location</th>\n",
       "      <th>career_level</th>\n",
       "      <th>education_level</th>\n",
       "      <th>employment_type</th>\n",
       "    </tr>\n",
       "  </thead>\n",
       "  <tbody>\n",
       "    <tr>\n",
       "      <th>count</th>\n",
       "      <td>24415</td>\n",
       "      <td>24415</td>\n",
       "      <td>24415</td>\n",
       "      <td>24415</td>\n",
       "      <td>24415</td>\n",
       "    </tr>\n",
       "    <tr>\n",
       "      <th>unique</th>\n",
       "      <td>16498</td>\n",
       "      <td>193</td>\n",
       "      <td>6</td>\n",
       "      <td>10</td>\n",
       "      <td>8</td>\n",
       "    </tr>\n",
       "    <tr>\n",
       "      <th>top</th>\n",
       "      <td>Sales Executive</td>\n",
       "      <td>Jakarta Raya</td>\n",
       "      <td>Pegawai (non-manajemen &amp; non-supervisor)</td>\n",
       "      <td>S1</td>\n",
       "      <td>Penuh Waktu</td>\n",
       "    </tr>\n",
       "    <tr>\n",
       "      <th>freq</th>\n",
       "      <td>194</td>\n",
       "      <td>4954</td>\n",
       "      <td>15563</td>\n",
       "      <td>8474</td>\n",
       "      <td>21042</td>\n",
       "    </tr>\n",
       "  </tbody>\n",
       "</table>\n",
       "</div>"
      ],
      "text/plain": [
       "              job_title      location  \\\n",
       "count             24415         24415   \n",
       "unique            16498           193   \n",
       "top     Sales Executive  Jakarta Raya   \n",
       "freq                194          4954   \n",
       "\n",
       "                                    career_level education_level  \\\n",
       "count                                      24415           24415   \n",
       "unique                                         6              10   \n",
       "top     Pegawai (non-manajemen & non-supervisor)              S1   \n",
       "freq                                       15563            8474   \n",
       "\n",
       "       employment_type  \n",
       "count            24415  \n",
       "unique               8  \n",
       "top        Penuh Waktu  \n",
       "freq             21042  "
      ]
     },
     "execution_count": 18,
     "metadata": {},
     "output_type": "execute_result"
    }
   ],
   "source": [
    "dataset[categorical].describe() "
   ]
  },
  {
   "cell_type": "code",
   "execution_count": 19,
   "metadata": {},
   "outputs": [
    {
     "name": "stdout",
     "output_type": "stream",
     "text": [
      "['experience_level', 'salary']\n"
     ]
    }
   ],
   "source": [
    "numerical = dataset.columns[dataset.dtypes != 'object'].tolist()\n",
    "print(numerical)"
   ]
  },
  {
   "cell_type": "code",
   "execution_count": 20,
   "metadata": {},
   "outputs": [
    {
     "data": {
      "text/html": [
       "<div>\n",
       "<style scoped>\n",
       "    .dataframe tbody tr th:only-of-type {\n",
       "        vertical-align: middle;\n",
       "    }\n",
       "\n",
       "    .dataframe tbody tr th {\n",
       "        vertical-align: top;\n",
       "    }\n",
       "\n",
       "    .dataframe thead th {\n",
       "        text-align: right;\n",
       "    }\n",
       "</style>\n",
       "<table border=\"1\" class=\"dataframe\">\n",
       "  <thead>\n",
       "    <tr style=\"text-align: right;\">\n",
       "      <th></th>\n",
       "      <th>experience_level</th>\n",
       "      <th>salary</th>\n",
       "    </tr>\n",
       "  </thead>\n",
       "  <tbody>\n",
       "    <tr>\n",
       "      <th>count</th>\n",
       "      <td>24415.000000</td>\n",
       "      <td>2.441500e+04</td>\n",
       "    </tr>\n",
       "    <tr>\n",
       "      <th>mean</th>\n",
       "      <td>2.176858</td>\n",
       "      <td>5.983463e+06</td>\n",
       "    </tr>\n",
       "    <tr>\n",
       "      <th>std</th>\n",
       "      <td>1.256087</td>\n",
       "      <td>1.957989e+06</td>\n",
       "    </tr>\n",
       "    <tr>\n",
       "      <th>min</th>\n",
       "      <td>1.000000</td>\n",
       "      <td>8.000000e+05</td>\n",
       "    </tr>\n",
       "    <tr>\n",
       "      <th>25%</th>\n",
       "      <td>1.000000</td>\n",
       "      <td>4.600000e+06</td>\n",
       "    </tr>\n",
       "    <tr>\n",
       "      <th>50%</th>\n",
       "      <td>2.000000</td>\n",
       "      <td>5.400000e+06</td>\n",
       "    </tr>\n",
       "    <tr>\n",
       "      <th>75%</th>\n",
       "      <td>3.000000</td>\n",
       "      <td>7.200000e+06</td>\n",
       "    </tr>\n",
       "    <tr>\n",
       "      <th>max</th>\n",
       "      <td>6.000000</td>\n",
       "      <td>1.110000e+07</td>\n",
       "    </tr>\n",
       "  </tbody>\n",
       "</table>\n",
       "</div>"
      ],
      "text/plain": [
       "       experience_level        salary\n",
       "count      24415.000000  2.441500e+04\n",
       "mean           2.176858  5.983463e+06\n",
       "std            1.256087  1.957989e+06\n",
       "min            1.000000  8.000000e+05\n",
       "25%            1.000000  4.600000e+06\n",
       "50%            2.000000  5.400000e+06\n",
       "75%            3.000000  7.200000e+06\n",
       "max            6.000000  1.110000e+07"
      ]
     },
     "execution_count": 20,
     "metadata": {},
     "output_type": "execute_result"
    }
   ],
   "source": [
    "dataset[numerical].describe()"
   ]
  },
  {
   "cell_type": "markdown",
   "metadata": {},
   "source": [
    "# 4. Data Preprocessing"
   ]
  },
  {
   "cell_type": "code",
   "execution_count": 21,
   "metadata": {},
   "outputs": [],
   "source": [
    "X = dataset.drop([\"salary\", \"job_title\", \"location\"], axis=1)\n",
    "y = dataset['salary']"
   ]
  },
  {
   "cell_type": "code",
   "execution_count": 22,
   "metadata": {},
   "outputs": [
    {
     "name": "stdout",
     "output_type": "stream",
     "text": [
      "Traning Data: (19532, 4)\n",
      "Testing Data: (4883, 4)\n"
     ]
    }
   ],
   "source": [
    "X_train,X_test, y_train, y_test= train_test_split(X, y, test_size=0.2, random_state=0)\n",
    "\n",
    "print(f'Traning Data: {X_train.shape}')\n",
    "print(f'Testing Data: {X_test.shape}')"
   ]
  },
  {
   "cell_type": "markdown",
   "metadata": {},
   "source": [
    "**Split Career Level**"
   ]
  },
  {
   "cell_type": "code",
   "execution_count": 23,
   "metadata": {},
   "outputs": [
    {
     "data": {
      "text/plain": [
       "array([[0., 0., 0., 0., 1., 0.],\n",
       "       [0., 0., 0., 1., 0., 0.],\n",
       "       [0., 0., 0., 1., 0., 0.],\n",
       "       ...,\n",
       "       [0., 0., 0., 1., 0., 0.],\n",
       "       [0., 0., 0., 1., 0., 0.],\n",
       "       [0., 0., 0., 1., 0., 0.]])"
      ]
     },
     "execution_count": 23,
     "metadata": {},
     "output_type": "execute_result"
    }
   ],
   "source": [
    "enc_1 = OneHotEncoder(sparse_output=False)\n",
    "\n",
    "X_train_career = enc_1.fit_transform(X_train[['career_level']])\n",
    "X_test_career = enc_1.transform(X_test[['career_level']])\n",
    "X_train_career"
   ]
  },
  {
   "cell_type": "code",
   "execution_count": 24,
   "metadata": {},
   "outputs": [
    {
     "data": {
      "text/html": [
       "<div>\n",
       "<style scoped>\n",
       "    .dataframe tbody tr th:only-of-type {\n",
       "        vertical-align: middle;\n",
       "    }\n",
       "\n",
       "    .dataframe tbody tr th {\n",
       "        vertical-align: top;\n",
       "    }\n",
       "\n",
       "    .dataframe thead th {\n",
       "        text-align: right;\n",
       "    }\n",
       "</style>\n",
       "<table border=\"1\" class=\"dataframe\">\n",
       "  <thead>\n",
       "    <tr style=\"text-align: right;\">\n",
       "      <th></th>\n",
       "      <th>career_level_CEO/GM/Direktur/Manajer Senior</th>\n",
       "      <th>career_level_Lulusan baru/Pengalaman kerja kurang dari 1 tahun</th>\n",
       "      <th>career_level_Manajer/Asisten Manajer</th>\n",
       "      <th>career_level_Pegawai (non-manajemen &amp; non-supervisor)</th>\n",
       "      <th>career_level_Supervisor/Koordinator</th>\n",
       "      <th>career_level_Tidak Terspesifikasi</th>\n",
       "    </tr>\n",
       "  </thead>\n",
       "  <tbody>\n",
       "    <tr>\n",
       "      <th>0</th>\n",
       "      <td>0.0</td>\n",
       "      <td>0.0</td>\n",
       "      <td>0.0</td>\n",
       "      <td>0.0</td>\n",
       "      <td>1.0</td>\n",
       "      <td>0.0</td>\n",
       "    </tr>\n",
       "    <tr>\n",
       "      <th>1</th>\n",
       "      <td>0.0</td>\n",
       "      <td>0.0</td>\n",
       "      <td>0.0</td>\n",
       "      <td>1.0</td>\n",
       "      <td>0.0</td>\n",
       "      <td>0.0</td>\n",
       "    </tr>\n",
       "    <tr>\n",
       "      <th>2</th>\n",
       "      <td>0.0</td>\n",
       "      <td>0.0</td>\n",
       "      <td>0.0</td>\n",
       "      <td>1.0</td>\n",
       "      <td>0.0</td>\n",
       "      <td>0.0</td>\n",
       "    </tr>\n",
       "    <tr>\n",
       "      <th>3</th>\n",
       "      <td>0.0</td>\n",
       "      <td>1.0</td>\n",
       "      <td>0.0</td>\n",
       "      <td>0.0</td>\n",
       "      <td>0.0</td>\n",
       "      <td>0.0</td>\n",
       "    </tr>\n",
       "    <tr>\n",
       "      <th>4</th>\n",
       "      <td>0.0</td>\n",
       "      <td>0.0</td>\n",
       "      <td>0.0</td>\n",
       "      <td>1.0</td>\n",
       "      <td>0.0</td>\n",
       "      <td>0.0</td>\n",
       "    </tr>\n",
       "  </tbody>\n",
       "</table>\n",
       "</div>"
      ],
      "text/plain": [
       "   career_level_CEO/GM/Direktur/Manajer Senior  \\\n",
       "0                                          0.0   \n",
       "1                                          0.0   \n",
       "2                                          0.0   \n",
       "3                                          0.0   \n",
       "4                                          0.0   \n",
       "\n",
       "   career_level_Lulusan baru/Pengalaman kerja kurang dari 1 tahun  \\\n",
       "0                                                0.0                \n",
       "1                                                0.0                \n",
       "2                                                0.0                \n",
       "3                                                1.0                \n",
       "4                                                0.0                \n",
       "\n",
       "   career_level_Manajer/Asisten Manajer  \\\n",
       "0                                   0.0   \n",
       "1                                   0.0   \n",
       "2                                   0.0   \n",
       "3                                   0.0   \n",
       "4                                   0.0   \n",
       "\n",
       "   career_level_Pegawai (non-manajemen & non-supervisor)  \\\n",
       "0                                                0.0       \n",
       "1                                                1.0       \n",
       "2                                                1.0       \n",
       "3                                                0.0       \n",
       "4                                                1.0       \n",
       "\n",
       "   career_level_Supervisor/Koordinator  career_level_Tidak Terspesifikasi  \n",
       "0                                  1.0                                0.0  \n",
       "1                                  0.0                                0.0  \n",
       "2                                  0.0                                0.0  \n",
       "3                                  0.0                                0.0  \n",
       "4                                  0.0                                0.0  "
      ]
     },
     "execution_count": 24,
     "metadata": {},
     "output_type": "execute_result"
    }
   ],
   "source": [
    "career_level = enc_1.get_feature_names_out(input_features=['career_level'])\n",
    "\n",
    "X_train_career = pd.DataFrame(X_train_career, columns=career_level)\n",
    "X_test_career = pd.DataFrame(X_test_career, columns=career_level)\n",
    "\n",
    "X_train_career.head()"
   ]
  },
  {
   "cell_type": "markdown",
   "metadata": {},
   "source": [
    "**Split Experience Level**"
   ]
  },
  {
   "cell_type": "code",
   "execution_count": 25,
   "metadata": {},
   "outputs": [
    {
     "data": {
      "text/plain": [
       "array([[0., 0., 0., ..., 0., 0., 0.],\n",
       "       [1., 0., 0., ..., 0., 0., 0.],\n",
       "       [0., 0., 0., ..., 0., 0., 0.],\n",
       "       ...,\n",
       "       [1., 0., 0., ..., 0., 0., 0.],\n",
       "       [1., 0., 0., ..., 0., 0., 0.],\n",
       "       [1., 0., 0., ..., 0., 0., 0.]])"
      ]
     },
     "execution_count": 25,
     "metadata": {},
     "output_type": "execute_result"
    }
   ],
   "source": [
    "enc_2 = OneHotEncoder(sparse_output=False)\n",
    "\n",
    "X_train_experience = enc_2.fit_transform(X_train[['experience_level']])\n",
    "X_test_experience = enc_2.transform(X_test[['experience_level']])\n",
    "X_train_experience"
   ]
  },
  {
   "cell_type": "code",
   "execution_count": 26,
   "metadata": {},
   "outputs": [
    {
     "data": {
      "text/html": [
       "<div>\n",
       "<style scoped>\n",
       "    .dataframe tbody tr th:only-of-type {\n",
       "        vertical-align: middle;\n",
       "    }\n",
       "\n",
       "    .dataframe tbody tr th {\n",
       "        vertical-align: top;\n",
       "    }\n",
       "\n",
       "    .dataframe thead th {\n",
       "        text-align: right;\n",
       "    }\n",
       "</style>\n",
       "<table border=\"1\" class=\"dataframe\">\n",
       "  <thead>\n",
       "    <tr style=\"text-align: right;\">\n",
       "      <th></th>\n",
       "      <th>experience_level_1.0</th>\n",
       "      <th>experience_level_1.5</th>\n",
       "      <th>experience_level_2.0</th>\n",
       "      <th>experience_level_2.5</th>\n",
       "      <th>experience_level_3.0</th>\n",
       "      <th>experience_level_4.0</th>\n",
       "      <th>experience_level_4.5</th>\n",
       "      <th>experience_level_5.0</th>\n",
       "      <th>experience_level_6.0</th>\n",
       "    </tr>\n",
       "  </thead>\n",
       "  <tbody>\n",
       "    <tr>\n",
       "      <th>0</th>\n",
       "      <td>0.0</td>\n",
       "      <td>0.0</td>\n",
       "      <td>0.0</td>\n",
       "      <td>0.0</td>\n",
       "      <td>1.0</td>\n",
       "      <td>0.0</td>\n",
       "      <td>0.0</td>\n",
       "      <td>0.0</td>\n",
       "      <td>0.0</td>\n",
       "    </tr>\n",
       "    <tr>\n",
       "      <th>1</th>\n",
       "      <td>1.0</td>\n",
       "      <td>0.0</td>\n",
       "      <td>0.0</td>\n",
       "      <td>0.0</td>\n",
       "      <td>0.0</td>\n",
       "      <td>0.0</td>\n",
       "      <td>0.0</td>\n",
       "      <td>0.0</td>\n",
       "      <td>0.0</td>\n",
       "    </tr>\n",
       "    <tr>\n",
       "      <th>2</th>\n",
       "      <td>0.0</td>\n",
       "      <td>0.0</td>\n",
       "      <td>0.0</td>\n",
       "      <td>0.0</td>\n",
       "      <td>1.0</td>\n",
       "      <td>0.0</td>\n",
       "      <td>0.0</td>\n",
       "      <td>0.0</td>\n",
       "      <td>0.0</td>\n",
       "    </tr>\n",
       "    <tr>\n",
       "      <th>3</th>\n",
       "      <td>1.0</td>\n",
       "      <td>0.0</td>\n",
       "      <td>0.0</td>\n",
       "      <td>0.0</td>\n",
       "      <td>0.0</td>\n",
       "      <td>0.0</td>\n",
       "      <td>0.0</td>\n",
       "      <td>0.0</td>\n",
       "      <td>0.0</td>\n",
       "    </tr>\n",
       "    <tr>\n",
       "      <th>4</th>\n",
       "      <td>0.0</td>\n",
       "      <td>0.0</td>\n",
       "      <td>0.0</td>\n",
       "      <td>0.0</td>\n",
       "      <td>1.0</td>\n",
       "      <td>0.0</td>\n",
       "      <td>0.0</td>\n",
       "      <td>0.0</td>\n",
       "      <td>0.0</td>\n",
       "    </tr>\n",
       "  </tbody>\n",
       "</table>\n",
       "</div>"
      ],
      "text/plain": [
       "   experience_level_1.0  experience_level_1.5  experience_level_2.0  \\\n",
       "0                   0.0                   0.0                   0.0   \n",
       "1                   1.0                   0.0                   0.0   \n",
       "2                   0.0                   0.0                   0.0   \n",
       "3                   1.0                   0.0                   0.0   \n",
       "4                   0.0                   0.0                   0.0   \n",
       "\n",
       "   experience_level_2.5  experience_level_3.0  experience_level_4.0  \\\n",
       "0                   0.0                   1.0                   0.0   \n",
       "1                   0.0                   0.0                   0.0   \n",
       "2                   0.0                   1.0                   0.0   \n",
       "3                   0.0                   0.0                   0.0   \n",
       "4                   0.0                   1.0                   0.0   \n",
       "\n",
       "   experience_level_4.5  experience_level_5.0  experience_level_6.0  \n",
       "0                   0.0                   0.0                   0.0  \n",
       "1                   0.0                   0.0                   0.0  \n",
       "2                   0.0                   0.0                   0.0  \n",
       "3                   0.0                   0.0                   0.0  \n",
       "4                   0.0                   0.0                   0.0  "
      ]
     },
     "execution_count": 26,
     "metadata": {},
     "output_type": "execute_result"
    }
   ],
   "source": [
    "experience_level = enc_2.get_feature_names_out(input_features=['experience_level'])\n",
    "\n",
    "X_train_experience = pd.DataFrame(X_train_experience, columns=experience_level)\n",
    "X_test_experience = pd.DataFrame(X_test_experience, columns=experience_level)\n",
    "\n",
    "X_train_experience.head()"
   ]
  },
  {
   "cell_type": "markdown",
   "metadata": {},
   "source": [
    "**Split Employment Type**"
   ]
  },
  {
   "cell_type": "code",
   "execution_count": 27,
   "metadata": {},
   "outputs": [
    {
     "data": {
      "text/plain": [
       "array([[0., 0., 0., ..., 0., 0., 0.],\n",
       "       [0., 0., 0., ..., 0., 0., 0.],\n",
       "       [0., 0., 0., ..., 0., 0., 0.],\n",
       "       ...,\n",
       "       [0., 0., 0., ..., 0., 0., 0.],\n",
       "       [0., 0., 0., ..., 0., 0., 0.],\n",
       "       [0., 0., 0., ..., 0., 0., 0.]])"
      ]
     },
     "execution_count": 27,
     "metadata": {},
     "output_type": "execute_result"
    }
   ],
   "source": [
    "enc_3 = OneHotEncoder(sparse_output=False, handle_unknown='ignore')\n",
    "\n",
    "X_train_employment = enc_3.fit_transform(X_train[['employment_type']])\n",
    "X_test_employment = enc_3.transform(X_test[['employment_type']])\n",
    "X_train_employment"
   ]
  },
  {
   "cell_type": "code",
   "execution_count": 28,
   "metadata": {},
   "outputs": [
    {
     "data": {
      "text/html": [
       "<div>\n",
       "<style scoped>\n",
       "    .dataframe tbody tr th:only-of-type {\n",
       "        vertical-align: middle;\n",
       "    }\n",
       "\n",
       "    .dataframe tbody tr th {\n",
       "        vertical-align: top;\n",
       "    }\n",
       "\n",
       "    .dataframe thead th {\n",
       "        text-align: right;\n",
       "    }\n",
       "</style>\n",
       "<table border=\"1\" class=\"dataframe\">\n",
       "  <thead>\n",
       "    <tr style=\"text-align: right;\">\n",
       "      <th></th>\n",
       "      <th>employment_type_Kontrak</th>\n",
       "      <th>employment_type_Kontrak, Temporer</th>\n",
       "      <th>employment_type_Magang</th>\n",
       "      <th>employment_type_Paruh Waktu</th>\n",
       "      <th>employment_type_Penuh Waktu</th>\n",
       "      <th>employment_type_Penuh Waktu, Kontrak</th>\n",
       "      <th>employment_type_Penuh Waktu, Paruh Waktu</th>\n",
       "      <th>employment_type_Temporer</th>\n",
       "    </tr>\n",
       "  </thead>\n",
       "  <tbody>\n",
       "    <tr>\n",
       "      <th>0</th>\n",
       "      <td>0.0</td>\n",
       "      <td>0.0</td>\n",
       "      <td>0.0</td>\n",
       "      <td>0.0</td>\n",
       "      <td>1.0</td>\n",
       "      <td>0.0</td>\n",
       "      <td>0.0</td>\n",
       "      <td>0.0</td>\n",
       "    </tr>\n",
       "    <tr>\n",
       "      <th>1</th>\n",
       "      <td>0.0</td>\n",
       "      <td>0.0</td>\n",
       "      <td>0.0</td>\n",
       "      <td>0.0</td>\n",
       "      <td>1.0</td>\n",
       "      <td>0.0</td>\n",
       "      <td>0.0</td>\n",
       "      <td>0.0</td>\n",
       "    </tr>\n",
       "    <tr>\n",
       "      <th>2</th>\n",
       "      <td>0.0</td>\n",
       "      <td>0.0</td>\n",
       "      <td>0.0</td>\n",
       "      <td>0.0</td>\n",
       "      <td>1.0</td>\n",
       "      <td>0.0</td>\n",
       "      <td>0.0</td>\n",
       "      <td>0.0</td>\n",
       "    </tr>\n",
       "    <tr>\n",
       "      <th>3</th>\n",
       "      <td>0.0</td>\n",
       "      <td>0.0</td>\n",
       "      <td>0.0</td>\n",
       "      <td>0.0</td>\n",
       "      <td>1.0</td>\n",
       "      <td>0.0</td>\n",
       "      <td>0.0</td>\n",
       "      <td>0.0</td>\n",
       "    </tr>\n",
       "    <tr>\n",
       "      <th>4</th>\n",
       "      <td>0.0</td>\n",
       "      <td>0.0</td>\n",
       "      <td>0.0</td>\n",
       "      <td>0.0</td>\n",
       "      <td>1.0</td>\n",
       "      <td>0.0</td>\n",
       "      <td>0.0</td>\n",
       "      <td>0.0</td>\n",
       "    </tr>\n",
       "  </tbody>\n",
       "</table>\n",
       "</div>"
      ],
      "text/plain": [
       "   employment_type_Kontrak  employment_type_Kontrak, Temporer  \\\n",
       "0                      0.0                                0.0   \n",
       "1                      0.0                                0.0   \n",
       "2                      0.0                                0.0   \n",
       "3                      0.0                                0.0   \n",
       "4                      0.0                                0.0   \n",
       "\n",
       "   employment_type_Magang  employment_type_Paruh Waktu  \\\n",
       "0                     0.0                          0.0   \n",
       "1                     0.0                          0.0   \n",
       "2                     0.0                          0.0   \n",
       "3                     0.0                          0.0   \n",
       "4                     0.0                          0.0   \n",
       "\n",
       "   employment_type_Penuh Waktu  employment_type_Penuh Waktu, Kontrak  \\\n",
       "0                          1.0                                   0.0   \n",
       "1                          1.0                                   0.0   \n",
       "2                          1.0                                   0.0   \n",
       "3                          1.0                                   0.0   \n",
       "4                          1.0                                   0.0   \n",
       "\n",
       "   employment_type_Penuh Waktu, Paruh Waktu  employment_type_Temporer  \n",
       "0                                       0.0                       0.0  \n",
       "1                                       0.0                       0.0  \n",
       "2                                       0.0                       0.0  \n",
       "3                                       0.0                       0.0  \n",
       "4                                       0.0                       0.0  "
      ]
     },
     "execution_count": 28,
     "metadata": {},
     "output_type": "execute_result"
    }
   ],
   "source": [
    "employment_type = enc_3.get_feature_names_out(input_features=['employment_type'])\n",
    "\n",
    "X_train_employment = pd.DataFrame(X_train_employment, columns=employment_type)\n",
    "X_test_employment = pd.DataFrame(X_test_employment, columns=employment_type)\n",
    "\n",
    "X_train_employment.head()"
   ]
  },
  {
   "cell_type": "markdown",
   "metadata": {},
   "source": [
    "**Split Education Level**"
   ]
  },
  {
   "cell_type": "code",
   "execution_count": 29,
   "metadata": {},
   "outputs": [
    {
     "data": {
      "text/plain": [
       "array([[0., 1., 0., ..., 0., 0., 0.],\n",
       "       [0., 0., 0., ..., 0., 0., 0.],\n",
       "       [0., 0., 0., ..., 1., 0., 0.],\n",
       "       ...,\n",
       "       [0., 0., 0., ..., 0., 0., 0.],\n",
       "       [0., 0., 0., ..., 1., 0., 0.],\n",
       "       [0., 1., 0., ..., 0., 0., 0.]])"
      ]
     },
     "execution_count": 29,
     "metadata": {},
     "output_type": "execute_result"
    }
   ],
   "source": [
    "enc_4 = OneHotEncoder(sparse_output=False, handle_unknown='ignore')\n",
    "\n",
    "X_train_education = enc_4.fit_transform(X_train[['education_level']])\n",
    "X_test_education = enc_4.transform(X_test[['education_level']])\n",
    "X_train_education"
   ]
  },
  {
   "cell_type": "code",
   "execution_count": 30,
   "metadata": {},
   "outputs": [
    {
     "data": {
      "text/html": [
       "<div>\n",
       "<style scoped>\n",
       "    .dataframe tbody tr th:only-of-type {\n",
       "        vertical-align: middle;\n",
       "    }\n",
       "\n",
       "    .dataframe tbody tr th {\n",
       "        vertical-align: top;\n",
       "    }\n",
       "\n",
       "    .dataframe thead th {\n",
       "        text-align: right;\n",
       "    }\n",
       "</style>\n",
       "<table border=\"1\" class=\"dataframe\">\n",
       "  <thead>\n",
       "    <tr style=\"text-align: right;\">\n",
       "      <th></th>\n",
       "      <th>education_level_D3 - S1</th>\n",
       "      <th>education_level_D3 - S2</th>\n",
       "      <th>education_level_S1</th>\n",
       "      <th>education_level_S1 - S2</th>\n",
       "      <th>education_level_S1 - S3</th>\n",
       "      <th>education_level_S3</th>\n",
       "      <th>education_level_SMA/SMU</th>\n",
       "      <th>education_level_SMA/SMU - S1</th>\n",
       "      <th>education_level_SMA/SMU - S2</th>\n",
       "      <th>education_level_Tidak terspesifikasi</th>\n",
       "    </tr>\n",
       "  </thead>\n",
       "  <tbody>\n",
       "    <tr>\n",
       "      <th>0</th>\n",
       "      <td>0.0</td>\n",
       "      <td>1.0</td>\n",
       "      <td>0.0</td>\n",
       "      <td>0.0</td>\n",
       "      <td>0.0</td>\n",
       "      <td>0.0</td>\n",
       "      <td>0.0</td>\n",
       "      <td>0.0</td>\n",
       "      <td>0.0</td>\n",
       "      <td>0.0</td>\n",
       "    </tr>\n",
       "    <tr>\n",
       "      <th>1</th>\n",
       "      <td>0.0</td>\n",
       "      <td>0.0</td>\n",
       "      <td>0.0</td>\n",
       "      <td>0.0</td>\n",
       "      <td>1.0</td>\n",
       "      <td>0.0</td>\n",
       "      <td>0.0</td>\n",
       "      <td>0.0</td>\n",
       "      <td>0.0</td>\n",
       "      <td>0.0</td>\n",
       "    </tr>\n",
       "    <tr>\n",
       "      <th>2</th>\n",
       "      <td>0.0</td>\n",
       "      <td>0.0</td>\n",
       "      <td>0.0</td>\n",
       "      <td>0.0</td>\n",
       "      <td>0.0</td>\n",
       "      <td>0.0</td>\n",
       "      <td>0.0</td>\n",
       "      <td>1.0</td>\n",
       "      <td>0.0</td>\n",
       "      <td>0.0</td>\n",
       "    </tr>\n",
       "    <tr>\n",
       "      <th>3</th>\n",
       "      <td>0.0</td>\n",
       "      <td>1.0</td>\n",
       "      <td>0.0</td>\n",
       "      <td>0.0</td>\n",
       "      <td>0.0</td>\n",
       "      <td>0.0</td>\n",
       "      <td>0.0</td>\n",
       "      <td>0.0</td>\n",
       "      <td>0.0</td>\n",
       "      <td>0.0</td>\n",
       "    </tr>\n",
       "    <tr>\n",
       "      <th>4</th>\n",
       "      <td>0.0</td>\n",
       "      <td>0.0</td>\n",
       "      <td>0.0</td>\n",
       "      <td>0.0</td>\n",
       "      <td>0.0</td>\n",
       "      <td>0.0</td>\n",
       "      <td>1.0</td>\n",
       "      <td>0.0</td>\n",
       "      <td>0.0</td>\n",
       "      <td>0.0</td>\n",
       "    </tr>\n",
       "  </tbody>\n",
       "</table>\n",
       "</div>"
      ],
      "text/plain": [
       "   education_level_D3 - S1  education_level_D3 - S2  education_level_S1  \\\n",
       "0                      0.0                      1.0                 0.0   \n",
       "1                      0.0                      0.0                 0.0   \n",
       "2                      0.0                      0.0                 0.0   \n",
       "3                      0.0                      1.0                 0.0   \n",
       "4                      0.0                      0.0                 0.0   \n",
       "\n",
       "   education_level_S1 - S2  education_level_S1 - S3  education_level_S3  \\\n",
       "0                      0.0                      0.0                 0.0   \n",
       "1                      0.0                      1.0                 0.0   \n",
       "2                      0.0                      0.0                 0.0   \n",
       "3                      0.0                      0.0                 0.0   \n",
       "4                      0.0                      0.0                 0.0   \n",
       "\n",
       "   education_level_SMA/SMU  education_level_SMA/SMU - S1  \\\n",
       "0                      0.0                           0.0   \n",
       "1                      0.0                           0.0   \n",
       "2                      0.0                           1.0   \n",
       "3                      0.0                           0.0   \n",
       "4                      1.0                           0.0   \n",
       "\n",
       "   education_level_SMA/SMU - S2  education_level_Tidak terspesifikasi  \n",
       "0                           0.0                                   0.0  \n",
       "1                           0.0                                   0.0  \n",
       "2                           0.0                                   0.0  \n",
       "3                           0.0                                   0.0  \n",
       "4                           0.0                                   0.0  "
      ]
     },
     "execution_count": 30,
     "metadata": {},
     "output_type": "execute_result"
    }
   ],
   "source": [
    "education_level = enc_4.get_feature_names_out(input_features=['education_level'])\n",
    "\n",
    "X_train_education = pd.DataFrame(X_train_education, columns=education_level)\n",
    "X_test_education = pd.DataFrame(X_test_education, columns=education_level)\n",
    "\n",
    "X_train_education.head()"
   ]
  },
  {
   "cell_type": "markdown",
   "metadata": {},
   "source": [
    "**Reset Index**"
   ]
  },
  {
   "cell_type": "code",
   "execution_count": 31,
   "metadata": {},
   "outputs": [],
   "source": [
    "X_train.reset_index(drop=True, inplace=True)\n",
    "X_test.reset_index(drop=True, inplace=True)\n",
    "\n",
    "y_train.reset_index(drop=True, inplace=True)\n",
    "y_test.reset_index(drop=True, inplace=True)"
   ]
  },
  {
   "cell_type": "code",
   "execution_count": 32,
   "metadata": {},
   "outputs": [
    {
     "data": {
      "text/html": [
       "<div>\n",
       "<style scoped>\n",
       "    .dataframe tbody tr th:only-of-type {\n",
       "        vertical-align: middle;\n",
       "    }\n",
       "\n",
       "    .dataframe tbody tr th {\n",
       "        vertical-align: top;\n",
       "    }\n",
       "\n",
       "    .dataframe thead th {\n",
       "        text-align: right;\n",
       "    }\n",
       "</style>\n",
       "<table border=\"1\" class=\"dataframe\">\n",
       "  <thead>\n",
       "    <tr style=\"text-align: right;\">\n",
       "      <th></th>\n",
       "      <th>career_level_CEO/GM/Direktur/Manajer Senior</th>\n",
       "      <th>career_level_Lulusan baru/Pengalaman kerja kurang dari 1 tahun</th>\n",
       "      <th>career_level_Manajer/Asisten Manajer</th>\n",
       "      <th>career_level_Pegawai (non-manajemen &amp; non-supervisor)</th>\n",
       "      <th>career_level_Supervisor/Koordinator</th>\n",
       "      <th>career_level_Tidak Terspesifikasi</th>\n",
       "      <th>experience_level_1.0</th>\n",
       "      <th>experience_level_1.5</th>\n",
       "      <th>experience_level_2.0</th>\n",
       "      <th>experience_level_2.5</th>\n",
       "      <th>...</th>\n",
       "      <th>education_level_D3 - S1</th>\n",
       "      <th>education_level_D3 - S2</th>\n",
       "      <th>education_level_S1</th>\n",
       "      <th>education_level_S1 - S2</th>\n",
       "      <th>education_level_S1 - S3</th>\n",
       "      <th>education_level_S3</th>\n",
       "      <th>education_level_SMA/SMU</th>\n",
       "      <th>education_level_SMA/SMU - S1</th>\n",
       "      <th>education_level_SMA/SMU - S2</th>\n",
       "      <th>education_level_Tidak terspesifikasi</th>\n",
       "    </tr>\n",
       "  </thead>\n",
       "  <tbody>\n",
       "    <tr>\n",
       "      <th>0</th>\n",
       "      <td>0.0</td>\n",
       "      <td>0.0</td>\n",
       "      <td>0.0</td>\n",
       "      <td>0.0</td>\n",
       "      <td>1.0</td>\n",
       "      <td>0.0</td>\n",
       "      <td>0.0</td>\n",
       "      <td>0.0</td>\n",
       "      <td>0.0</td>\n",
       "      <td>0.0</td>\n",
       "      <td>...</td>\n",
       "      <td>0.0</td>\n",
       "      <td>1.0</td>\n",
       "      <td>0.0</td>\n",
       "      <td>0.0</td>\n",
       "      <td>0.0</td>\n",
       "      <td>0.0</td>\n",
       "      <td>0.0</td>\n",
       "      <td>0.0</td>\n",
       "      <td>0.0</td>\n",
       "      <td>0.0</td>\n",
       "    </tr>\n",
       "    <tr>\n",
       "      <th>1</th>\n",
       "      <td>0.0</td>\n",
       "      <td>0.0</td>\n",
       "      <td>0.0</td>\n",
       "      <td>1.0</td>\n",
       "      <td>0.0</td>\n",
       "      <td>0.0</td>\n",
       "      <td>1.0</td>\n",
       "      <td>0.0</td>\n",
       "      <td>0.0</td>\n",
       "      <td>0.0</td>\n",
       "      <td>...</td>\n",
       "      <td>0.0</td>\n",
       "      <td>0.0</td>\n",
       "      <td>0.0</td>\n",
       "      <td>0.0</td>\n",
       "      <td>1.0</td>\n",
       "      <td>0.0</td>\n",
       "      <td>0.0</td>\n",
       "      <td>0.0</td>\n",
       "      <td>0.0</td>\n",
       "      <td>0.0</td>\n",
       "    </tr>\n",
       "    <tr>\n",
       "      <th>2</th>\n",
       "      <td>0.0</td>\n",
       "      <td>0.0</td>\n",
       "      <td>0.0</td>\n",
       "      <td>1.0</td>\n",
       "      <td>0.0</td>\n",
       "      <td>0.0</td>\n",
       "      <td>0.0</td>\n",
       "      <td>0.0</td>\n",
       "      <td>0.0</td>\n",
       "      <td>0.0</td>\n",
       "      <td>...</td>\n",
       "      <td>0.0</td>\n",
       "      <td>0.0</td>\n",
       "      <td>0.0</td>\n",
       "      <td>0.0</td>\n",
       "      <td>0.0</td>\n",
       "      <td>0.0</td>\n",
       "      <td>0.0</td>\n",
       "      <td>1.0</td>\n",
       "      <td>0.0</td>\n",
       "      <td>0.0</td>\n",
       "    </tr>\n",
       "    <tr>\n",
       "      <th>3</th>\n",
       "      <td>0.0</td>\n",
       "      <td>1.0</td>\n",
       "      <td>0.0</td>\n",
       "      <td>0.0</td>\n",
       "      <td>0.0</td>\n",
       "      <td>0.0</td>\n",
       "      <td>1.0</td>\n",
       "      <td>0.0</td>\n",
       "      <td>0.0</td>\n",
       "      <td>0.0</td>\n",
       "      <td>...</td>\n",
       "      <td>0.0</td>\n",
       "      <td>1.0</td>\n",
       "      <td>0.0</td>\n",
       "      <td>0.0</td>\n",
       "      <td>0.0</td>\n",
       "      <td>0.0</td>\n",
       "      <td>0.0</td>\n",
       "      <td>0.0</td>\n",
       "      <td>0.0</td>\n",
       "      <td>0.0</td>\n",
       "    </tr>\n",
       "    <tr>\n",
       "      <th>4</th>\n",
       "      <td>0.0</td>\n",
       "      <td>0.0</td>\n",
       "      <td>0.0</td>\n",
       "      <td>1.0</td>\n",
       "      <td>0.0</td>\n",
       "      <td>0.0</td>\n",
       "      <td>0.0</td>\n",
       "      <td>0.0</td>\n",
       "      <td>0.0</td>\n",
       "      <td>0.0</td>\n",
       "      <td>...</td>\n",
       "      <td>0.0</td>\n",
       "      <td>0.0</td>\n",
       "      <td>0.0</td>\n",
       "      <td>0.0</td>\n",
       "      <td>0.0</td>\n",
       "      <td>0.0</td>\n",
       "      <td>1.0</td>\n",
       "      <td>0.0</td>\n",
       "      <td>0.0</td>\n",
       "      <td>0.0</td>\n",
       "    </tr>\n",
       "  </tbody>\n",
       "</table>\n",
       "<p>5 rows × 33 columns</p>\n",
       "</div>"
      ],
      "text/plain": [
       "   career_level_CEO/GM/Direktur/Manajer Senior  \\\n",
       "0                                          0.0   \n",
       "1                                          0.0   \n",
       "2                                          0.0   \n",
       "3                                          0.0   \n",
       "4                                          0.0   \n",
       "\n",
       "   career_level_Lulusan baru/Pengalaman kerja kurang dari 1 tahun  \\\n",
       "0                                                0.0                \n",
       "1                                                0.0                \n",
       "2                                                0.0                \n",
       "3                                                1.0                \n",
       "4                                                0.0                \n",
       "\n",
       "   career_level_Manajer/Asisten Manajer  \\\n",
       "0                                   0.0   \n",
       "1                                   0.0   \n",
       "2                                   0.0   \n",
       "3                                   0.0   \n",
       "4                                   0.0   \n",
       "\n",
       "   career_level_Pegawai (non-manajemen & non-supervisor)  \\\n",
       "0                                                0.0       \n",
       "1                                                1.0       \n",
       "2                                                1.0       \n",
       "3                                                0.0       \n",
       "4                                                1.0       \n",
       "\n",
       "   career_level_Supervisor/Koordinator  career_level_Tidak Terspesifikasi  \\\n",
       "0                                  1.0                                0.0   \n",
       "1                                  0.0                                0.0   \n",
       "2                                  0.0                                0.0   \n",
       "3                                  0.0                                0.0   \n",
       "4                                  0.0                                0.0   \n",
       "\n",
       "   experience_level_1.0  experience_level_1.5  experience_level_2.0  \\\n",
       "0                   0.0                   0.0                   0.0   \n",
       "1                   1.0                   0.0                   0.0   \n",
       "2                   0.0                   0.0                   0.0   \n",
       "3                   1.0                   0.0                   0.0   \n",
       "4                   0.0                   0.0                   0.0   \n",
       "\n",
       "   experience_level_2.5  ...  education_level_D3 - S1  \\\n",
       "0                   0.0  ...                      0.0   \n",
       "1                   0.0  ...                      0.0   \n",
       "2                   0.0  ...                      0.0   \n",
       "3                   0.0  ...                      0.0   \n",
       "4                   0.0  ...                      0.0   \n",
       "\n",
       "   education_level_D3 - S2  education_level_S1  education_level_S1 - S2  \\\n",
       "0                      1.0                 0.0                      0.0   \n",
       "1                      0.0                 0.0                      0.0   \n",
       "2                      0.0                 0.0                      0.0   \n",
       "3                      1.0                 0.0                      0.0   \n",
       "4                      0.0                 0.0                      0.0   \n",
       "\n",
       "   education_level_S1 - S3  education_level_S3  education_level_SMA/SMU  \\\n",
       "0                      0.0                 0.0                      0.0   \n",
       "1                      1.0                 0.0                      0.0   \n",
       "2                      0.0                 0.0                      0.0   \n",
       "3                      0.0                 0.0                      0.0   \n",
       "4                      0.0                 0.0                      1.0   \n",
       "\n",
       "   education_level_SMA/SMU - S1  education_level_SMA/SMU - S2  \\\n",
       "0                           0.0                           0.0   \n",
       "1                           0.0                           0.0   \n",
       "2                           1.0                           0.0   \n",
       "3                           0.0                           0.0   \n",
       "4                           0.0                           0.0   \n",
       "\n",
       "   education_level_Tidak terspesifikasi  \n",
       "0                                   0.0  \n",
       "1                                   0.0  \n",
       "2                                   0.0  \n",
       "3                                   0.0  \n",
       "4                                   0.0  \n",
       "\n",
       "[5 rows x 33 columns]"
      ]
     },
     "execution_count": 32,
     "metadata": {},
     "output_type": "execute_result"
    }
   ],
   "source": [
    "X_train_new = pd.concat([X_train, X_train_career, X_train_experience, X_train_employment, X_train_education], axis=1)\n",
    "X_train_new.drop(columns=['career_level', 'experience_level', 'employment_type', 'education_level'],inplace=True)\n",
    "\n",
    "X_test_new = pd.concat([X_test, X_test_career, X_test_experience, X_test_employment, X_test_education], axis=1)\n",
    "X_test_new.drop(columns=['career_level', 'experience_level', 'employment_type', 'education_level'],inplace=True)\n",
    "\n",
    "X_train_new.head()"
   ]
  },
  {
   "cell_type": "markdown",
   "metadata": {},
   "source": [
    "# 5. Predict Data OLS"
   ]
  },
  {
   "cell_type": "code",
   "execution_count": 33,
   "metadata": {},
   "outputs": [],
   "source": [
    "X_train_ols = sm.add_constant(X_train_new)\n",
    "ModelOLS = sm.OLS(y_train, X_train_ols).fit()"
   ]
  },
  {
   "cell_type": "code",
   "execution_count": 34,
   "metadata": {},
   "outputs": [
    {
     "name": "stdout",
     "output_type": "stream",
     "text": [
      "                            OLS Regression Results                            \n",
      "==============================================================================\n",
      "Dep. Variable:                 salary   R-squared:                       0.750\n",
      "Model:                            OLS   Adj. R-squared:                  0.749\n",
      "Method:                 Least Squares   F-statistic:                     2014.\n",
      "Date:                Sat, 17 Jun 2023   Prob (F-statistic):               0.00\n",
      "Time:                        12:16:33   Log-Likelihood:            -2.9718e+05\n",
      "No. Observations:               19532   AIC:                         5.944e+05\n",
      "Df Residuals:                   19502   BIC:                         5.947e+05\n",
      "Df Model:                          29                                         \n",
      "Covariance Type:            nonrobust                                         \n",
      "==================================================================================================================================\n",
      "                                                                     coef    std err          t      P>|t|      [0.025      0.975]\n",
      "----------------------------------------------------------------------------------------------------------------------------------\n",
      "const                                                           4.657e+06   1.57e+05     29.630      0.000    4.35e+06    4.96e+06\n",
      "career_level_CEO/GM/Direktur/Manajer Senior                     9.869e+05   1.04e+05      9.516      0.000    7.84e+05    1.19e+06\n",
      "career_level_Lulusan baru/Pengalaman kerja kurang dari 1 tahun  4.834e+05   7.51e+04      6.438      0.000    3.36e+05    6.31e+05\n",
      "career_level_Manajer/Asisten Manajer                            1.049e+06   7.16e+04     14.656      0.000    9.09e+05    1.19e+06\n",
      "career_level_Pegawai (non-manajemen & non-supervisor)           6.194e+05   6.97e+04      8.883      0.000    4.83e+05    7.56e+05\n",
      "career_level_Supervisor/Koordinator                             8.202e+05   7.05e+04     11.638      0.000    6.82e+05    9.58e+05\n",
      "career_level_Tidak Terspesifikasi                               6.977e+05   3.51e+05      1.987      0.047    9586.336    1.39e+06\n",
      "experience_level_1.0                                           -1.626e+06   1.21e+05    -13.461      0.000   -1.86e+06   -1.39e+06\n",
      "experience_level_1.5                                           -2.169e+06   2.03e+05    -10.708      0.000   -2.57e+06   -1.77e+06\n",
      "experience_level_2.0                                           -9.356e+05   1.21e+05     -7.748      0.000   -1.17e+06   -6.99e+05\n",
      "experience_level_2.5                                           -9.326e+05   3.81e+05     -2.451      0.014   -1.68e+06   -1.87e+05\n",
      "experience_level_3.0                                            5.312e+05   1.21e+05      4.390      0.000    2.94e+05    7.68e+05\n",
      "experience_level_4.0                                            1.678e+06   1.26e+05     13.345      0.000    1.43e+06    1.92e+06\n",
      "experience_level_4.5                                            3.016e+06   8.83e+05      3.415      0.001    1.28e+06    4.75e+06\n",
      "experience_level_5.0                                            3.377e+06   1.22e+05     27.714      0.000    3.14e+06    3.62e+06\n",
      "experience_level_6.0                                            1.717e+06   3.77e+05      4.557      0.000    9.79e+05    2.46e+06\n",
      "employment_type_Kontrak                                          5.79e+05   1.69e+05      3.416      0.001    2.47e+05    9.11e+05\n",
      "employment_type_Kontrak, Temporer                               2.793e+06   8.78e+05      3.181      0.001    1.07e+06    4.51e+06\n",
      "employment_type_Magang                                         -9.235e+05   3.91e+05     -2.359      0.018   -1.69e+06   -1.56e+05\n",
      "employment_type_Paruh Waktu                                     1.087e+05   1.85e+05      0.588      0.557   -2.54e+05    4.71e+05\n",
      "employment_type_Penuh Waktu                                     6.223e+05   1.69e+05      3.687      0.000    2.91e+05    9.53e+05\n",
      "employment_type_Penuh Waktu, Kontrak                            4.158e+05   2.44e+05      1.706      0.088   -6.19e+04    8.93e+05\n",
      "employment_type_Penuh Waktu, Paruh Waktu                        5.344e+05   8.78e+05      0.609      0.543   -1.19e+06    2.26e+06\n",
      "employment_type_Temporer                                        5.265e+05   1.99e+05      2.649      0.008    1.37e+05    9.16e+05\n",
      "education_level_D3 - S1                                         2.502e+05   5.46e+04      4.578      0.000    1.43e+05    3.57e+05\n",
      "education_level_D3 - S2                                         4.151e+05   4.93e+04      8.427      0.000    3.19e+05    5.12e+05\n",
      "education_level_S1                                              5.561e+05   4.85e+04     11.456      0.000    4.61e+05    6.51e+05\n",
      "education_level_S1 - S2                                         6.233e+05   5.36e+04     11.621      0.000    5.18e+05    7.28e+05\n",
      "education_level_S1 - S3                                         6.832e+05   1.34e+05      5.099      0.000    4.21e+05    9.46e+05\n",
      "education_level_S3                                              1.277e+06   3.38e+05      3.779      0.000    6.15e+05    1.94e+06\n",
      "education_level_SMA/SMU                                         6.449e+04   5.36e+04      1.204      0.229   -4.05e+04    1.69e+05\n",
      "education_level_SMA/SMU - S1                                    2.209e+05    5.1e+04      4.327      0.000    1.21e+05    3.21e+05\n",
      "education_level_SMA/SMU - S2                                    2.156e+05   2.41e+05      0.893      0.372   -2.57e+05    6.89e+05\n",
      "education_level_Tidak terspesifikasi                            3.506e+05   5.03e+04      6.977      0.000    2.52e+05    4.49e+05\n",
      "==============================================================================\n",
      "Omnibus:                     3308.799   Durbin-Watson:                   1.991\n",
      "Prob(Omnibus):                  0.000   Jarque-Bera (JB):            65956.359\n",
      "Skew:                           0.186   Prob(JB):                         0.00\n",
      "Kurtosis:                      11.995   Cond. No.                     1.45e+16\n",
      "==============================================================================\n",
      "\n",
      "Notes:\n",
      "[1] Standard Errors assume that the covariance matrix of the errors is correctly specified.\n",
      "[2] The smallest eigenvalue is 2.57e-28. This might indicate that there are\n",
      "strong multicollinearity problems or that the design matrix is singular.\n"
     ]
    }
   ],
   "source": [
    "print(ModelOLS.summary())"
   ]
  },
  {
   "cell_type": "markdown",
   "metadata": {},
   "source": [
    "**Visualisasi Data Koefisien**"
   ]
  },
  {
   "cell_type": "code",
   "execution_count": 73,
   "metadata": {},
   "outputs": [
    {
     "data": {
      "image/png": "[encoded data removed]",
      "text/plain": [
       "<Figure size 1000x500 with 1 Axes>"
      ]
     },
     "metadata": {},
     "output_type": "display_data"
    }
   ],
   "source": [
    "plt.bar(range(len(ModelOLS.params)), ModelOLS.params)\n",
    "plt.xlabel('')\n",
    "plt.ylabel('Koefisien')\n",
    "plt.title('Koefisien OLS')\n",
    "plt.xticks(range(len(ModelOLS.params)), X_train_ols.columns, rotation=90)\n",
    "plt.show()"
   ]
  },
  {
   "cell_type": "markdown",
   "metadata": {},
   "source": [
    "**Mengevaluasi normalitas residual OLS**"
   ]
  },
  {
   "cell_type": "code",
   "execution_count": 86,
   "metadata": {},
   "outputs": [
    {
     "data": {
      "image/png": "[encoded data removed]",
      "text/plain": [
       "<Figure size 1000x500 with 1 Axes>"
      ]
     },
     "metadata": {},
     "output_type": "display_data"
    }
   ],
   "source": [
    "residuals_OLS = ModelOLS.resid\n",
    "fig, ax = plt.subplots()\n",
    "sm.qqplot(residuals_OLS, line='s', ax=ax)\n",
    "plt.show()"
   ]
  },
  {
   "cell_type": "code",
   "execution_count": 37,
   "metadata": {},
   "outputs": [
    {
     "data": {
      "text/plain": [
       "const                                                             9.194375e-189\n",
       "career_level_CEO/GM/Direktur/Manajer Senior                        1.999310e-21\n",
       "career_level_Lulusan baru/Pengalaman kerja kurang dari 1 tahun     1.237763e-10\n",
       "career_level_Manajer/Asisten Manajer                               2.221959e-48\n",
       "career_level_Pegawai (non-manajemen & non-supervisor)              7.055972e-19\n",
       "career_level_Supervisor/Koordinator                                3.344840e-31\n",
       "career_level_Tidak Terspesifikasi                                  4.689270e-02\n",
       "experience_level_1.0                                               4.059622e-41\n",
       "experience_level_1.5                                               1.112085e-26\n",
       "experience_level_2.0                                               9.754745e-15\n",
       "experience_level_2.5                                               1.426578e-02\n",
       "experience_level_3.0                                               1.137600e-05\n",
       "experience_level_4.0                                               1.907729e-40\n",
       "experience_level_4.5                                               6.400329e-04\n",
       "experience_level_5.0                                              7.608054e-166\n",
       "experience_level_6.0                                               5.228402e-06\n",
       "employment_type_Kontrak                                            6.358349e-04\n",
       "employment_type_Kontrak, Temporer                                  1.471455e-03\n",
       "employment_type_Magang                                             1.831455e-02\n",
       "employment_type_Paruh Waktu                                        5.567290e-01\n",
       "employment_type_Penuh Waktu                                        2.272873e-04\n",
       "employment_type_Penuh Waktu, Kontrak                               8.799963e-02\n",
       "employment_type_Penuh Waktu, Paruh Waktu                           5.428615e-01\n",
       "employment_type_Temporer                                           8.083545e-03\n",
       "education_level_D3 - S1                                            4.712665e-06\n",
       "education_level_D3 - S2                                            3.776658e-17\n",
       "education_level_S1                                                 2.737762e-30\n",
       "education_level_S1 - S2                                            4.075963e-31\n",
       "education_level_S1 - S3                                            3.445310e-07\n",
       "education_level_S3                                                 1.579594e-04\n",
       "education_level_SMA/SMU                                            2.285672e-01\n",
       "education_level_SMA/SMU - S1                                       1.515664e-05\n",
       "education_level_SMA/SMU - S2                                       3.716591e-01\n",
       "education_level_Tidak terspesifikasi                               3.109621e-12\n",
       "dtype: float64"
      ]
     },
     "execution_count": 37,
     "metadata": {},
     "output_type": "execute_result"
    }
   ],
   "source": [
    "ModelOLS.pvalues"
   ]
  },
  {
   "cell_type": "code",
   "execution_count": 38,
   "metadata": {},
   "outputs": [],
   "source": [
    "# Rumus MAPE Training Data\n",
    "absolute_error_OLS_train = np.abs(y_train - ModelOLS.predict(X_train_ols))\n",
    "percentage_error_OLS_train = absolute_error_OLS_train / y_train * 100"
   ]
  },
  {
   "cell_type": "code",
   "execution_count": 39,
   "metadata": {},
   "outputs": [
    {
     "name": "stdout",
     "output_type": "stream",
     "text": [
      "-------- Training Data OLS ---------\n",
      "MSE  : 962062982168.8730\n",
      "MAE  : 533609.5541\n",
      "RMSE : 980848.0933\n",
      "MAD  : 533609.5541\n",
      "MAPE  : 10.4322\n"
     ]
    }
   ],
   "source": [
    "print('-------- Training Data OLS ---------')\n",
    "y_train_OLS = ModelOLS.predict(sm.add_constant(X_train_new))\n",
    "print(\"MSE  :\", \"{:.4f}\".format(mean_squared_error(y_train, y_train_OLS)))\n",
    "print(\"MAE  :\", \"{:.4f}\".format(mean_absolute_error(y_train, y_train_OLS)))\n",
    "print(\"RMSE :\", \"{:.4f}\".format(math.sqrt(mean_squared_error(y_train, y_train_OLS))))\n",
    "print(\"MAD  :\", \"{:.4f}\".format(np.mean(np.abs(y_train - y_train_OLS))))\n",
    "print(\"MAPE  :\", \"{:.4f}\".format(np.mean(percentage_error_OLS_train)))"
   ]
  },
  {
   "cell_type": "code",
   "execution_count": 40,
   "metadata": {},
   "outputs": [],
   "source": [
    "# Rumus MAPE Testing Data\n",
    "absolute_error_OLS_test = np.abs(y_test - ModelOLS.predict(sm.add_constant(X_test_new)))\n",
    "percentage_error_OLS_test = absolute_error_OLS_test / y_test * 100"
   ]
  },
  {
   "cell_type": "code",
   "execution_count": 41,
   "metadata": {},
   "outputs": [
    {
     "name": "stdout",
     "output_type": "stream",
     "text": [
      "-------- Testing Data OLS ---------\n",
      "MSE  : 970469418723.5685\n",
      "MAE  : 541154.4907169678\n",
      "RMSE : 985124.0626050957\n",
      "MAD  : 541154.4907169678\n",
      "MAPE  : 10.7661\n"
     ]
    }
   ],
   "source": [
    "print('-------- Testing Data OLS ---------')\n",
    "y_test_OLS = ModelOLS.predict(sm.add_constant(X_test_new))\n",
    "print(\"MSE  :\", mean_squared_error(y_test, y_test_OLS))\n",
    "print(\"MAE  :\", mean_absolute_error(y_test, y_test_OLS))\n",
    "print(\"RMSE :\", math.sqrt(mean_squared_error(y_test, y_test_OLS)))\n",
    "print(\"MAD  :\", np.mean(np.abs(y_test - y_test_OLS)))\n",
    "print(\"MAPE  :\", \"{:.4f}\".format(np.mean(percentage_error_OLS_test)))"
   ]
  },
  {
   "cell_type": "markdown",
   "metadata": {},
   "source": [
    "# 6. Predict Data Random Forest"
   ]
  },
  {
   "cell_type": "code",
   "execution_count": 42,
   "metadata": {},
   "outputs": [
    {
     "data": {
      "text/html": [
       "<style>#sk-container-id-1 {color: black;background-color: white;}#sk-container-id-1 pre{padding: 0;}#sk-container-id-1 div.sk-toggleable {background-color: white;}#sk-container-id-1 label.sk-toggleable__label {cursor: pointer;display: block;width: 100%;margin-bottom: 0;padding: 0.3em;box-sizing: border-box;text-align: center;}#sk-container-id-1 label.sk-toggleable__label-arrow:before {content: \"▸\";float: left;margin-right: 0.25em;color: #696969;}#sk-container-id-1 label.sk-toggleable__label-arrow:hover:before {color: black;}#sk-container-id-1 div.sk-estimator:hover label.sk-toggleable__label-arrow:before {color: black;}#sk-container-id-1 div.sk-toggleable__content {max-height: 0;max-width: 0;overflow: hidden;text-align: left;background-color: #f0f8ff;}#sk-container-id-1 div.sk-toggleable__content pre {margin: 0.2em;color: black;border-radius: 0.25em;background-color: #f0f8ff;}#sk-container-id-1 input.sk-toggleable__control:checked~div.sk-toggleable__content {max-height: 200px;max-width: 100%;overflow: auto;}#sk-container-id-1 input.sk-toggleable__control:checked~label.sk-toggleable__label-arrow:before {content: \"▾\";}#sk-container-id-1 div.sk-estimator input.sk-toggleable__control:checked~label.sk-toggleable__label {background-color: #d4ebff;}#sk-container-id-1 div.sk-label input.sk-toggleable__control:checked~label.sk-toggleable__label {background-color: #d4ebff;}#sk-container-id-1 input.sk-hidden--visually {border: 0;clip: rect(1px 1px 1px 1px);clip: rect(1px, 1px, 1px, 1px);height: 1px;margin: -1px;overflow: hidden;padding: 0;position: absolute;width: 1px;}#sk-container-id-1 div.sk-estimator {font-family: monospace;background-color: #f0f8ff;border: 1px dotted black;border-radius: 0.25em;box-sizing: border-box;margin-bottom: 0.5em;}#sk-container-id-1 div.sk-estimator:hover {background-color: #d4ebff;}#sk-container-id-1 div.sk-parallel-item::after {content: \"\";width: 100%;border-bottom: 1px solid gray;flex-grow: 1;}#sk-container-id-1 div.sk-label:hover label.sk-toggleable__label {background-color: #d4ebff;}#sk-container-id-1 div.sk-serial::before {content: \"\";position: absolute;border-left: 1px solid gray;box-sizing: border-box;top: 0;bottom: 0;left: 50%;z-index: 0;}#sk-container-id-1 div.sk-serial {display: flex;flex-direction: column;align-items: center;background-color: white;padding-right: 0.2em;padding-left: 0.2em;position: relative;}#sk-container-id-1 div.sk-item {position: relative;z-index: 1;}#sk-container-id-1 div.sk-parallel {display: flex;align-items: stretch;justify-content: center;background-color: white;position: relative;}#sk-container-id-1 div.sk-item::before, #sk-container-id-1 div.sk-parallel-item::before {content: \"\";position: absolute;border-left: 1px solid gray;box-sizing: border-box;top: 0;bottom: 0;left: 50%;z-index: -1;}#sk-container-id-1 div.sk-parallel-item {display: flex;flex-direction: column;z-index: 1;position: relative;background-color: white;}#sk-container-id-1 div.sk-parallel-item:first-child::after {align-self: flex-end;width: 50%;}#sk-container-id-1 div.sk-parallel-item:last-child::after {align-self: flex-start;width: 50%;}#sk-container-id-1 div.sk-parallel-item:only-child::after {width: 0;}#sk-container-id-1 div.sk-dashed-wrapped {border: 1px dashed gray;margin: 0 0.4em 0.5em 0.4em;box-sizing: border-box;padding-bottom: 0.4em;background-color: white;}#sk-container-id-1 div.sk-label label {font-family: monospace;font-weight: bold;display: inline-block;line-height: 1.2em;}#sk-container-id-1 div.sk-label-container {text-align: center;}#sk-container-id-1 div.sk-container {/* jupyter's `normalize.less` sets `[hidden] { display: none; }` but bootstrap.min.css set `[hidden] { display: none !important; }` so we also need the `!important` here to be able to override the default hidden behavior on the sphinx rendered scikit-learn.org. See: https://github.com/scikit-learn/scikit-learn/issues/21755 */display: inline-block !important;position: relative;}#sk-container-id-1 div.sk-text-repr-fallback {display: none;}</style><div id=\"sk-container-id-1\" class=\"sk-top-container\"><div class=\"sk-text-repr-fallback\"><pre>RandomForestRegressor(random_state=0)</pre><b>In a Jupyter environment, please rerun this cell to show the HTML representation or trust the notebook. <br />On GitHub, the HTML representation is unable to render, please try loading this page with nbviewer.org.</b></div><div class=\"sk-container\" hidden><div class=\"sk-item\"><div class=\"sk-estimator sk-toggleable\"><input class=\"sk-toggleable__control sk-hidden--visually\" id=\"sk-estimator-id-1\" type=\"checkbox\" checked><label for=\"sk-estimator-id-1\" class=\"sk-toggleable__label sk-toggleable__label-arrow\">RandomForestRegressor</label><div class=\"sk-toggleable__content\"><pre>RandomForestRegressor(random_state=0)</pre></div></div></div></div></div>"
      ],
      "text/plain": [
       "RandomForestRegressor(random_state=0)"
      ]
     },
     "execution_count": 42,
     "metadata": {},
     "output_type": "execute_result"
    }
   ],
   "source": [
    "modelRF = RandomForestRegressor(n_estimators=100, random_state=0)\n",
    "modelRF.fit(X_train_new, y_train)"
   ]
  },
  {
   "cell_type": "code",
   "execution_count": 82,
   "metadata": {},
   "outputs": [
    {
     "name": "stdout",
     "output_type": "stream",
     "text": [
      "career_level_CEO/GM/Direktur/Manajer Senior: 3.1096e-04\n",
      "career_level_Lulusan baru/Pengalaman kerja kurang dari 1 tahun: 1.1630e-03\n",
      "career_level_Manajer/Asisten Manajer: 2.8842e-03\n",
      "career_level_Pegawai (non-manajemen & non-supervisor): 5.0771e-03\n",
      "career_level_Supervisor/Koordinator: 1.1808e-03\n",
      "career_level_Tidak Terspesifikasi: 7.8104e-06\n",
      "experience_level_1.0: 2.3543e-02\n",
      "experience_level_1.5: 6.3057e-04\n",
      "experience_level_2.0: 2.7546e-02\n",
      "experience_level_2.5: 2.6696e-05\n",
      "experience_level_3.0: 1.7912e-01\n",
      "experience_level_4.0: 9.6947e-02\n",
      "experience_level_4.5: 2.6602e-04\n",
      "experience_level_5.0: 6.3671e-01\n",
      "experience_level_6.0: 1.3103e-03\n",
      "employment_type_Kontrak: 1.7134e-03\n",
      "employment_type_Kontrak, Temporer: 7.3356e-05\n",
      "employment_type_Magang: 6.3427e-04\n",
      "employment_type_Paruh Waktu: 1.9868e-03\n",
      "employment_type_Penuh Waktu: 1.6968e-03\n",
      "employment_type_Penuh Waktu, Kontrak: 6.7755e-05\n",
      "employment_type_Penuh Waktu, Paruh Waktu: 1.7906e-08\n",
      "employment_type_Temporer: 1.6146e-04\n",
      "education_level_D3 - S1: 9.1993e-04\n",
      "education_level_D3 - S2: 1.6156e-03\n",
      "education_level_S1: 3.3650e-03\n",
      "education_level_S1 - S2: 2.2033e-03\n",
      "education_level_S1 - S3: 9.1422e-04\n",
      "education_level_S3: 1.5916e-04\n",
      "education_level_SMA/SMU: 3.1923e-03\n",
      "education_level_SMA/SMU - S1: 2.4115e-03\n",
      "education_level_SMA/SMU - S2: 4.8141e-04\n",
      "education_level_Tidak terspesifikasi: 1.6779e-03\n"
     ]
    }
   ],
   "source": [
    "parameter_estimate  = modelRF.feature_importances_\n",
    "for variable, parameter_estimate  in zip(X_train_new.columns, parameter_estimate):\n",
    "    print(f'{variable}: {parameter_estimate :.4e}')"
   ]
  },
  {
   "cell_type": "markdown",
   "metadata": {},
   "source": [
    "**Visualisasi Data Koefisien**"
   ]
  },
  {
   "cell_type": "code",
   "execution_count": 79,
   "metadata": {},
   "outputs": [
    {
     "data": {
      "image/png": "[encoded data removed]",
      "text/plain": [
       "<Figure size 1000x500 with 1 Axes>"
      ]
     },
     "metadata": {},
     "output_type": "display_data"
    }
   ],
   "source": [
    "plt.bar(range(len(modelRF.feature_importances_)), modelRF.feature_importances_)\n",
    "plt.xlabel('Variabel')\n",
    "plt.ylabel('Koefisien')\n",
    "plt.title('Koefisien Random Forest Regressor')\n",
    "plt.xticks(range(len(modelRF.feature_importances_)), X_train_new.columns, rotation=90)\n",
    "plt.show()"
   ]
  },
  {
   "cell_type": "code",
   "execution_count": 44,
   "metadata": {},
   "outputs": [],
   "source": [
    "absolute_error_rf_train = np.abs(y_train - modelRF.predict(X_train_new))\n",
    "percentage_error_rf_train = absolute_error_rf_train / y_train * 100"
   ]
  },
  {
   "cell_type": "code",
   "execution_count": 45,
   "metadata": {},
   "outputs": [
    {
     "name": "stdout",
     "output_type": "stream",
     "text": [
      "-------- Training Data Random Forest ---------\n",
      "MSE  : 928982341464.8694\n",
      "MAE  : 515048.0595\n",
      "RMSE : 963837.3003\n",
      "MAD  : 515048.0595\n",
      "MAPE  : 10.0760\n"
     ]
    }
   ],
   "source": [
    "print('-------- Training Data Random Forest ---------')\n",
    "y_train_pred_rf = modelRF.predict(X_train_new)\n",
    "print(\"MSE  :\", \"{:.4f}\".format(mean_squared_error(y_train, y_train_pred_rf)))\n",
    "print(\"MAE  :\", \"{:.4f}\".format(mean_absolute_error(y_train, y_train_pred_rf)))\n",
    "print(\"RMSE :\", \"{:.4f}\".format(math.sqrt(mean_squared_error(y_train, y_train_pred_rf))))\n",
    "print(\"MAD  :\", \"{:.4f}\".format(np.mean(np.abs(y_train - y_train_pred_rf))))\n",
    "print(\"MAPE  :\", \"{:.4f}\".format(np.mean(percentage_error_rf_train)))\n"
   ]
  },
  {
   "cell_type": "code",
   "execution_count": 46,
   "metadata": {},
   "outputs": [],
   "source": [
    "absolute_error_rf_test = np.abs(y_test - modelRF.predict(X_test_new))\n",
    "percentage_error_rf_test = absolute_error_rf_test / y_test * 100"
   ]
  },
  {
   "cell_type": "code",
   "execution_count": 47,
   "metadata": {},
   "outputs": [
    {
     "name": "stdout",
     "output_type": "stream",
     "text": [
      "\n",
      "-------- Testing Data Random Forest ---------\n",
      "MSE  : 957042110434.9774\n",
      "MAE  : 528148.5325122847\n",
      "RMSE : 978285.2909223246\n",
      "MAD  : 528148.5325122847\n",
      "MAPE  : 10.5149\n"
     ]
    }
   ],
   "source": [
    "print('\\n-------- Testing Data Random Forest ---------')\n",
    "y_test_pred_rf = modelRF.predict(X_test_new)\n",
    "print(\"MSE  :\", mean_squared_error(y_test, y_test_pred_rf))\n",
    "print(\"MAE  :\", mean_absolute_error(y_test, y_test_pred_rf))\n",
    "print(\"RMSE :\", math.sqrt(mean_squared_error(y_test, y_test_pred_rf)))\n",
    "print(\"MAD  :\", np.mean(np.abs(y_test - y_test_pred_rf)))\n",
    "print(\"MAPE  :\", \"{:.4f}\".format(np.mean(percentage_error_rf_test)))"
   ]
  },
  {
   "cell_type": "markdown",
   "metadata": {},
   "source": [
    "# Tes Ulang Dengan Data Normalitas"
   ]
  }
 ],
 "metadata": {
  "kernelspec": {
   "display_name": "Python 3.10.9 ('base')",
   "language": "python",
   "name": "python3"
  },
  "language_info": {
   "codemirror_mode": {
    "name": "ipython",
    "version": 3
   },
   "file_extension": ".py",
   "mimetype": "text/x-python",
   "name": "python",
   "nbconvert_exporter": "python",
   "pygments_lexer": "ipython3",
   "version": "3.10.9"
  },
  "orig_nbformat": 4,
  "vscode": {
   "interpreter": {
    "hash": "5faf7cf2303f867cb700a72830a1531b1508ead491941f06aa8dbd992b2ea060"
   }
  }
 },
 "nbformat": 4,
 "nbformat_minor": 2
}
