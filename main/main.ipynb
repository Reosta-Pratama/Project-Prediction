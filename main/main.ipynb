{
 "cells": [
  {
   "cell_type": "markdown",
   "metadata": {},
   "source": [
    "# 1. Read and import data"
   ]
  },
  {
   "cell_type": "code",
   "execution_count": 1,
   "metadata": {},
   "outputs": [],
   "source": [
    "import math  \n",
    "import numpy as np\n",
    "import pandas as pd\n",
    "\n",
    "import matplotlib.pyplot as plt\n",
    "import seaborn as sns\n",
    "\n",
    "import statsmodels.api as sm\n",
    "\n",
    "from sklearn.linear_model import LinearRegression\n",
    "from sklearn.ensemble import RandomForestRegressor\n",
    "from sklearn.preprocessing import OneHotEncoder\n",
    "from sklearn.model_selection import train_test_split\n",
    "from sklearn.metrics import mean_squared_error\n",
    "from sklearn.metrics import mean_absolute_error"
   ]
  },
  {
   "cell_type": "code",
   "execution_count": 2,
   "metadata": {},
   "outputs": [],
   "source": [
    "dataset = pd.read_csv('../data/salary.csv', sep='|')"
   ]
  },
  {
   "cell_type": "markdown",
   "metadata": {},
   "source": [
    "**Cek Cek Dulu**"
   ]
  },
  {
   "cell_type": "code",
   "execution_count": 3,
   "metadata": {},
   "outputs": [
    {
     "data": {
      "text/html": [
       "<div>\n",
       "<style scoped>\n",
       "    .dataframe tbody tr th:only-of-type {\n",
       "        vertical-align: middle;\n",
       "    }\n",
       "\n",
       "    .dataframe tbody tr th {\n",
       "        vertical-align: top;\n",
       "    }\n",
       "\n",
       "    .dataframe thead th {\n",
       "        text-align: right;\n",
       "    }\n",
       "</style>\n",
       "<table border=\"1\" class=\"dataframe\">\n",
       "  <thead>\n",
       "    <tr style=\"text-align: right;\">\n",
       "      <th></th>\n",
       "      <th>id</th>\n",
       "      <th>job_title</th>\n",
       "      <th>location</th>\n",
       "      <th>salary_currency</th>\n",
       "      <th>career_level</th>\n",
       "      <th>experience_level</th>\n",
       "      <th>education_level</th>\n",
       "      <th>employment_type</th>\n",
       "      <th>job_function</th>\n",
       "      <th>job_benefits</th>\n",
       "      <th>company_process_time</th>\n",
       "      <th>company_size</th>\n",
       "      <th>company_industry</th>\n",
       "      <th>job_description</th>\n",
       "      <th>salary</th>\n",
       "    </tr>\n",
       "  </thead>\n",
       "  <tbody>\n",
       "    <tr>\n",
       "      <th>0</th>\n",
       "      <td>1</td>\n",
       "      <td>Facility Maintenance &amp; Smart Warehouse Manager</td>\n",
       "      <td>Bandung</td>\n",
       "      <td>IDR</td>\n",
       "      <td>Manajer/Asisten Manajer</td>\n",
       "      <td>5 tahun</td>\n",
       "      <td>Sertifikat Professional, D3 (Diploma), D4 (Dip...</td>\n",
       "      <td>Penuh Waktu</td>\n",
       "      <td>Manufaktur,Pemeliharaan</td>\n",
       "      <td>NaN</td>\n",
       "      <td>NaN</td>\n",
       "      <td>NaN</td>\n",
       "      <td>NaN</td>\n",
       "      <td>Deskripsi PekerjaanRequirements :D3/SI from re...</td>\n",
       "      <td>NaN</td>\n",
       "    </tr>\n",
       "    <tr>\n",
       "      <th>1</th>\n",
       "      <td>2</td>\n",
       "      <td>Procurement Department Head</td>\n",
       "      <td>Jakarta Raya</td>\n",
       "      <td>IDR</td>\n",
       "      <td>Manajer/Asisten Manajer</td>\n",
       "      <td>5 tahun</td>\n",
       "      <td>Sarjana (S1), Diploma Pascasarjana, Gelar Prof...</td>\n",
       "      <td>Penuh Waktu</td>\n",
       "      <td>Manufaktur,Pembelian/Manajemen Material</td>\n",
       "      <td>NaN</td>\n",
       "      <td>25 days</td>\n",
       "      <td>51 - 200 pekerja</td>\n",
       "      <td>Manajemen/Konsulting HR</td>\n",
       "      <td>Job Role: 1. Responsible for material availabi...</td>\n",
       "      <td>NaN</td>\n",
       "    </tr>\n",
       "    <tr>\n",
       "      <th>2</th>\n",
       "      <td>3</td>\n",
       "      <td>SALES ADMIN</td>\n",
       "      <td>Jakarta Barat</td>\n",
       "      <td>IDR</td>\n",
       "      <td>Supervisor/Koordinator</td>\n",
       "      <td>4 tahun</td>\n",
       "      <td>Sarjana (S1)</td>\n",
       "      <td>Penuh Waktu</td>\n",
       "      <td>Penjualan / Pemasaran,Penjualan Ritel</td>\n",
       "      <td>Waktu regular, Senin - Jumat;Bisnis (contoh: K...</td>\n",
       "      <td>30 days</td>\n",
       "      <td>51 - 200 pekerja</td>\n",
       "      <td>Umum &amp; Grosir</td>\n",
       "      <td>Internal Sales &amp; AdminJob Description :We are ...</td>\n",
       "      <td>NaN</td>\n",
       "    </tr>\n",
       "    <tr>\n",
       "      <th>3</th>\n",
       "      <td>4</td>\n",
       "      <td>City Operation Lead Shopee Express (Cirebon)</td>\n",
       "      <td>Cirebon</td>\n",
       "      <td>IDR</td>\n",
       "      <td>Supervisor/Koordinator</td>\n",
       "      <td>5 tahun</td>\n",
       "      <td>Sarjana (S1), Diploma Pascasarjana, Gelar Prof...</td>\n",
       "      <td>Penuh Waktu</td>\n",
       "      <td>Pelayanan,Logistik/Rantai Pasokan</td>\n",
       "      <td>Tip;Waktu regular, Senin - Jumat;Kasual (conto...</td>\n",
       "      <td>21 days</td>\n",
       "      <td>2001 - 5000 pekerja</td>\n",
       "      <td>Retail/Merchandise</td>\n",
       "      <td>Job Description:Responsible for HSE implementa...</td>\n",
       "      <td>NaN</td>\n",
       "    </tr>\n",
       "    <tr>\n",
       "      <th>4</th>\n",
       "      <td>5</td>\n",
       "      <td>Japanese Interpreter</td>\n",
       "      <td>Bekasi</td>\n",
       "      <td>IDR</td>\n",
       "      <td>Pegawai (non-manajemen &amp; non-supervisor)</td>\n",
       "      <td>2 tahun</td>\n",
       "      <td>Sertifikat Professional, D3 (Diploma), D4 (Dip...</td>\n",
       "      <td>Penuh Waktu</td>\n",
       "      <td>Lainnya,Jurnalis/Editor</td>\n",
       "      <td>NaN</td>\n",
       "      <td>23 days</td>\n",
       "      <td>201 - 500 pekerja</td>\n",
       "      <td>Manajemen/Konsulting HR</td>\n",
       "      <td>Overview: Our clients is manufacture for autom...</td>\n",
       "      <td>NaN</td>\n",
       "    </tr>\n",
       "  </tbody>\n",
       "</table>\n",
       "</div>"
      ],
      "text/plain": [
       "   id                                       job_title       location  \\\n",
       "0   1  Facility Maintenance & Smart Warehouse Manager        Bandung   \n",
       "1   2                     Procurement Department Head   Jakarta Raya   \n",
       "2   3                                     SALES ADMIN  Jakarta Barat   \n",
       "3   4    City Operation Lead Shopee Express (Cirebon)        Cirebon   \n",
       "4   5                            Japanese Interpreter         Bekasi   \n",
       "\n",
       "  salary_currency                              career_level experience_level  \\\n",
       "0             IDR                   Manajer/Asisten Manajer          5 tahun   \n",
       "1             IDR                   Manajer/Asisten Manajer          5 tahun   \n",
       "2             IDR                    Supervisor/Koordinator          4 tahun   \n",
       "3             IDR                    Supervisor/Koordinator          5 tahun   \n",
       "4             IDR  Pegawai (non-manajemen & non-supervisor)          2 tahun   \n",
       "\n",
       "                                     education_level employment_type  \\\n",
       "0  Sertifikat Professional, D3 (Diploma), D4 (Dip...     Penuh Waktu   \n",
       "1  Sarjana (S1), Diploma Pascasarjana, Gelar Prof...     Penuh Waktu   \n",
       "2                                       Sarjana (S1)     Penuh Waktu   \n",
       "3  Sarjana (S1), Diploma Pascasarjana, Gelar Prof...     Penuh Waktu   \n",
       "4  Sertifikat Professional, D3 (Diploma), D4 (Dip...     Penuh Waktu   \n",
       "\n",
       "                              job_function  \\\n",
       "0                  Manufaktur,Pemeliharaan   \n",
       "1  Manufaktur,Pembelian/Manajemen Material   \n",
       "2    Penjualan / Pemasaran,Penjualan Ritel   \n",
       "3        Pelayanan,Logistik/Rantai Pasokan   \n",
       "4                  Lainnya,Jurnalis/Editor   \n",
       "\n",
       "                                        job_benefits company_process_time  \\\n",
       "0                                                NaN                  NaN   \n",
       "1                                                NaN              25 days   \n",
       "2  Waktu regular, Senin - Jumat;Bisnis (contoh: K...              30 days   \n",
       "3  Tip;Waktu regular, Senin - Jumat;Kasual (conto...              21 days   \n",
       "4                                                NaN              23 days   \n",
       "\n",
       "          company_size         company_industry  \\\n",
       "0                  NaN                      NaN   \n",
       "1     51 - 200 pekerja  Manajemen/Konsulting HR   \n",
       "2     51 - 200 pekerja            Umum & Grosir   \n",
       "3  2001 - 5000 pekerja       Retail/Merchandise   \n",
       "4    201 - 500 pekerja  Manajemen/Konsulting HR   \n",
       "\n",
       "                                     job_description  salary  \n",
       "0  Deskripsi PekerjaanRequirements :D3/SI from re...     NaN  \n",
       "1  Job Role: 1. Responsible for material availabi...     NaN  \n",
       "2  Internal Sales & AdminJob Description :We are ...     NaN  \n",
       "3  Job Description:Responsible for HSE implementa...     NaN  \n",
       "4  Overview: Our clients is manufacture for autom...     NaN  "
      ]
     },
     "execution_count": 3,
     "metadata": {},
     "output_type": "execute_result"
    }
   ],
   "source": [
    "dataset.head()"
   ]
  },
  {
   "cell_type": "code",
   "execution_count": 4,
   "metadata": {},
   "outputs": [
    {
     "name": "stdout",
     "output_type": "stream",
     "text": [
      "<class 'pandas.core.frame.DataFrame'>\n",
      "RangeIndex: 34746 entries, 0 to 34745\n",
      "Data columns (total 15 columns):\n",
      " #   Column                Non-Null Count  Dtype  \n",
      "---  ------                --------------  -----  \n",
      " 0   id                    34746 non-null  int64  \n",
      " 1   job_title             34746 non-null  object \n",
      " 2   location              34746 non-null  object \n",
      " 3   salary_currency       34742 non-null  object \n",
      " 4   career_level          34746 non-null  object \n",
      " 5   experience_level      30205 non-null  object \n",
      " 6   education_level       34746 non-null  object \n",
      " 7   employment_type       33402 non-null  object \n",
      " 8   job_function          34746 non-null  object \n",
      " 9   job_benefits          27330 non-null  object \n",
      " 10  company_process_time  24555 non-null  object \n",
      " 11  company_size          29103 non-null  object \n",
      " 12  company_industry      33132 non-null  object \n",
      " 13  job_description       34745 non-null  object \n",
      " 14  salary                9352 non-null   float64\n",
      "dtypes: float64(1), int64(1), object(13)\n",
      "memory usage: 4.0+ MB\n"
     ]
    }
   ],
   "source": [
    "dataset.info()"
   ]
  },
  {
   "cell_type": "code",
   "execution_count": 5,
   "metadata": {},
   "outputs": [
    {
     "data": {
      "text/plain": [
       "id                          0\n",
       "job_title                   0\n",
       "location                    0\n",
       "salary_currency             4\n",
       "career_level                0\n",
       "experience_level         4541\n",
       "education_level             0\n",
       "employment_type          1344\n",
       "job_function                0\n",
       "job_benefits             7416\n",
       "company_process_time    10191\n",
       "company_size             5643\n",
       "company_industry         1614\n",
       "job_description             1\n",
       "salary                  25394\n",
       "dtype: int64"
      ]
     },
     "execution_count": 5,
     "metadata": {},
     "output_type": "execute_result"
    }
   ],
   "source": [
    "dataset.isna().sum()"
   ]
  },
  {
   "cell_type": "markdown",
   "metadata": {},
   "source": [
    "# 2. Cleaning the data"
   ]
  },
  {
   "cell_type": "markdown",
   "metadata": {},
   "source": [
    "**Drop kolom yang tidak diperlukan**"
   ]
  },
  {
   "cell_type": "code",
   "execution_count": 6,
   "metadata": {},
   "outputs": [],
   "source": [
    "dataset = dataset.drop(labels=[\"id\", \"salary_currency\", \"job_benefits\", \"job_function\", \"job_description\",\n",
    "\"company_process_time\", \"company_size\", \"company_industry\"], axis=1)"
   ]
  },
  {
   "cell_type": "markdown",
   "metadata": {},
   "source": [
    "**Mengisi Missing Value Experience Level**"
   ]
  },
  {
   "cell_type": "code",
   "execution_count": 7,
   "metadata": {},
   "outputs": [
    {
     "name": "stderr",
     "output_type": "stream",
     "text": [
      "C:\\Users\\reost\\AppData\\Local\\Temp\\ipykernel_26132\\1026394139.py:1: FutureWarning: The default value of regex will change from True to False in a future version.\n",
      "  dataset[\"experience_level\"] = dataset[\"experience_level\"].str.replace(\"\\D\", \"\").astype('float')\n"
     ]
    }
   ],
   "source": [
    "dataset[\"experience_level\"] = dataset[\"experience_level\"].str.replace(\"\\D\", \"\").astype('float')"
   ]
  },
  {
   "cell_type": "code",
   "execution_count": 8,
   "metadata": {},
   "outputs": [],
   "source": [
    "dataset['experience_level'].fillna(dataset.groupby([\"job_title\"])['experience_level'].transform('median'), inplace=True)"
   ]
  },
  {
   "cell_type": "markdown",
   "metadata": {},
   "source": [
    "**Mengisi Missing Value Salary**"
   ]
  },
  {
   "cell_type": "code",
   "execution_count": 9,
   "metadata": {},
   "outputs": [],
   "source": [
    "dataset['salary'].fillna(dataset.groupby([\"experience_level\"])['salary'].transform('median'), inplace=True)\n",
    "dataset['salary'] = dataset['salary'].round(0)"
   ]
  },
  {
   "cell_type": "markdown",
   "metadata": {},
   "source": [
    "**Mapping Education Level**"
   ]
  },
  {
   "cell_type": "code",
   "execution_count": 10,
   "metadata": {},
   "outputs": [],
   "source": [
    "edu = []\n",
    "for i in dataset['education_level']:\n",
    "    if i == \"Sertifikat Professional, D3 (Diploma), D4 (Diploma), Sarjana (S1)\":\n",
    "        edu.append('D3 - S2')\n",
    "    elif i == \"Sarjana (S1), Diploma Pascasarjana, Gelar Professional, Magister (S2)\":\n",
    "        edu.append(\"S1 - S2\")\n",
    "    elif i == \"Sarjana (S1)\":\n",
    "        edu.append(\"S1\")     \n",
    "    elif i == \"SMA, SMU/SMK/STM\":\n",
    "        edu.append(\"SMA/SMU\")      \n",
    "    elif i == \"SMA, SMU/SMK/STM, Sertifikat Professional, D3 (Diploma), D4 (Diploma), Sarjana (S1)\":\n",
    "        edu.append(\"SMA/SMU - S1\")  \n",
    "    elif i == \"SMA, SMU/SMK/STM, Sertifikat Professional, D3 (Diploma), D4 (Diploma)\":\n",
    "        edu.append(\"SMA/SMU - S1\")\n",
    "    elif i == \"Sertifikat Professional, D3 (Diploma), D4 (Diploma), Sarjana (S1), Diploma Pascasarjana, Gelar Professional, Magister (S2)\":\n",
    "        edu.append(\"D3 - S2\") \n",
    "    elif i == \"Sertifikat Professional, D3 (Diploma), D4 (Diploma)\":\n",
    "        edu.append(\"D3 - S1\") \n",
    "    elif i == \"SMA, SMU/SMK/STM, Sarjana (S1)\":\n",
    "        edu.append(\"SMA/SMU - S1\") \n",
    "    elif i == \"Sarjana (S1), Diploma Pascasarjana, Gelar Professional, Magister (S2), Doktor (S3)\":\n",
    "        edu.append(\"S1 - S3\")   \n",
    "    elif i == \"Diploma Pascasarjana, Gelar Professional, Magister (S2)\":\n",
    "        edu.append(\"S1 - S2\")  \n",
    "    elif i == \"Sarjana (S1), Doktor (S3)\":\n",
    "        edu.append(\"S1 - S3\")  \n",
    "    elif i == \"Sertifikat Professional, D3 (Diploma), D4 (Diploma), Diploma Pascasarjana, Gelar Professional, Magister (S2)\":\n",
    "        edu.append(\"D3 - S2\")         \n",
    "    elif i == \"Diploma Pascasarjana, Gelar Professional, Magister (S2), Doktor (S3)\":\n",
    "        edu.append(\"S1 - S2\")   \n",
    "    elif i == \"Doktor (S3)\":\n",
    "        edu.append(\"S3\")     \n",
    "    elif i == \"SMA, SMU/SMK/STM, Sertifikat Professional, D3 (Diploma), D4 (Diploma), Diploma Pascasarjana, Gelar Professional, Magister (S2)\":\n",
    "        edu.append(\"SMA/SMU - S2\")  \n",
    "    elif i == \"SMA, SMU/SMK/STM, Sarjana (S1), Diploma Pascasarjana, Gelar Professional, Magister (S2)\":\n",
    "        edu.append(\"SMA/SMU - S2\")\n",
    "    elif i == \"SMA, SMU/SMK/STM, Sarjana (S1), Doktor (S3)\":\n",
    "        edu.append(\"S1 - S3\")                                                                                                                                                                                         \n",
    "    else:\n",
    "        edu.append('Tidak terspesifikasi')\n",
    "dataset['education_level'] = edu"
   ]
  },
  {
   "cell_type": "markdown",
   "metadata": {},
   "source": [
    "**Cek Duplikasi Data**"
   ]
  },
  {
   "cell_type": "code",
   "execution_count": 11,
   "metadata": {},
   "outputs": [
    {
     "name": "stdout",
     "output_type": "stream",
     "text": [
      "Duplikasi Sebelum Di Drop:  5387\n",
      "Duplikasi Setelah Di Drop:  0\n"
     ]
    }
   ],
   "source": [
    "print(\"Duplikasi Sebelum Di Drop: \", dataset.duplicated().sum())\n",
    "dataset.drop_duplicates(keep='first', inplace=True)\n",
    "print(\"Duplikasi Setelah Di Drop: \", dataset.duplicated().sum())"
   ]
  },
  {
   "cell_type": "code",
   "execution_count": 12,
   "metadata": {},
   "outputs": [
    {
     "data": {
      "text/plain": [
       "job_title              0\n",
       "location               0\n",
       "career_level           0\n",
       "experience_level    2750\n",
       "education_level        0\n",
       "employment_type     1251\n",
       "salary              2390\n",
       "dtype: int64"
      ]
     },
     "execution_count": 12,
     "metadata": {},
     "output_type": "execute_result"
    }
   ],
   "source": [
    "dataset.isna().sum()"
   ]
  },
  {
   "cell_type": "markdown",
   "metadata": {},
   "source": [
    "**Outlier**"
   ]
  },
  {
   "cell_type": "code",
   "execution_count": 13,
   "metadata": {},
   "outputs": [
    {
     "data": {
      "image/png": "[encoded data removed]",
      "text/plain": [
       "<Figure size 1000x500 with 1 Axes>"
      ]
     },
     "metadata": {},
     "output_type": "display_data"
    }
   ],
   "source": [
    "per25Exp = dataset['experience_level'].quantile(0.25)\n",
    "per75Exp = dataset['experience_level'].quantile(0.75)\n",
    "iqrExp = per75Exp - per25Exp\n",
    "\n",
    "lower_limit = per25Exp - 1.5 * iqrExp\n",
    "upper_limit = per75Exp + 1.5 * iqrExp\n",
    "\n",
    "dataset = dataset[~((dataset[\"experience_level\"] < (lower_limit)) | (dataset[\"experience_level\"] > (upper_limit)))]\n",
    "# dataset.reset_index(drop=True, inplace=True)\n",
    "\n",
    "sns.set(rc={'figure.figsize':(10, 5)})\n",
    "sns.boxplot(dataset[\"experience_level\"])\n",
    "plt.show()"
   ]
  },
  {
   "cell_type": "code",
   "execution_count": 14,
   "metadata": {},
   "outputs": [
    {
     "data": {
      "image/png": "[encoded data removed]",
      "text/plain": [
       "<Figure size 1000x500 with 1 Axes>"
      ]
     },
     "metadata": {},
     "output_type": "display_data"
    }
   ],
   "source": [
    "# Salary\n",
    "per25Salary = dataset['salary'].quantile(0.25)\n",
    "per75Salary = dataset['salary'].quantile(0.75)\n",
    "iqrSalary = per75Salary - per25Salary\n",
    "\n",
    "lower_limit = per25Salary - 1.5 * iqrSalary\n",
    "upper_limit = per75Salary + 1.5 * iqrSalary\n",
    "\n",
    "dataset = dataset[~((dataset[\"salary\"] < (lower_limit)) | (dataset[\"salary\"] > (upper_limit)))]\n",
    "# dataset.reset_index(drop=True, inplace=True)\n",
    "\n",
    "sns.boxplot(dataset[\"salary\"])\n",
    "plt.show()"
   ]
  },
  {
   "cell_type": "code",
   "execution_count": 15,
   "metadata": {},
   "outputs": [],
   "source": [
    "dataset.dropna(inplace=True)\n",
    "dataset.reset_index(drop=True, inplace=True)"
   ]
  },
  {
   "cell_type": "markdown",
   "metadata": {},
   "source": [
    "# 3. Discovering Data"
   ]
  },
  {
   "cell_type": "code",
   "execution_count": 16,
   "metadata": {},
   "outputs": [
    {
     "name": "stdout",
     "output_type": "stream",
     "text": [
      "<class 'pandas.core.frame.DataFrame'>\n",
      "RangeIndex: 24395 entries, 0 to 24394\n",
      "Data columns (total 7 columns):\n",
      " #   Column            Non-Null Count  Dtype  \n",
      "---  ------            --------------  -----  \n",
      " 0   job_title         24395 non-null  object \n",
      " 1   location          24395 non-null  object \n",
      " 2   career_level      24395 non-null  object \n",
      " 3   experience_level  24395 non-null  float64\n",
      " 4   education_level   24395 non-null  object \n",
      " 5   employment_type   24395 non-null  object \n",
      " 6   salary            24395 non-null  float64\n",
      "dtypes: float64(2), object(5)\n",
      "memory usage: 1.3+ MB\n"
     ]
    }
   ],
   "source": [
    "dataset.info()"
   ]
  },
  {
   "cell_type": "markdown",
   "metadata": {},
   "source": [
    "**Grouping Categorical & Numerical**"
   ]
  },
  {
   "cell_type": "code",
   "execution_count": 17,
   "metadata": {},
   "outputs": [
    {
     "name": "stdout",
     "output_type": "stream",
     "text": [
      "['job_title', 'location', 'career_level', 'education_level', 'employment_type']\n"
     ]
    }
   ],
   "source": [
    "categorical = list(dataset.select_dtypes(include='object'))\n",
    "print(categorical)"
   ]
  },
  {
   "cell_type": "code",
   "execution_count": 18,
   "metadata": {},
   "outputs": [
    {
     "data": {
      "text/html": [
       "<div>\n",
       "<style scoped>\n",
       "    .dataframe tbody tr th:only-of-type {\n",
       "        vertical-align: middle;\n",
       "    }\n",
       "\n",
       "    .dataframe tbody tr th {\n",
       "        vertical-align: top;\n",
       "    }\n",
       "\n",
       "    .dataframe thead th {\n",
       "        text-align: right;\n",
       "    }\n",
       "</style>\n",
       "<table border=\"1\" class=\"dataframe\">\n",
       "  <thead>\n",
       "    <tr style=\"text-align: right;\">\n",
       "      <th></th>\n",
       "      <th>job_title</th>\n",
       "      <th>location</th>\n",
       "      <th>career_level</th>\n",
       "      <th>education_level</th>\n",
       "      <th>employment_type</th>\n",
       "    </tr>\n",
       "  </thead>\n",
       "  <tbody>\n",
       "    <tr>\n",
       "      <th>count</th>\n",
       "      <td>24395</td>\n",
       "      <td>24395</td>\n",
       "      <td>24395</td>\n",
       "      <td>24395</td>\n",
       "      <td>24395</td>\n",
       "    </tr>\n",
       "    <tr>\n",
       "      <th>unique</th>\n",
       "      <td>16498</td>\n",
       "      <td>193</td>\n",
       "      <td>6</td>\n",
       "      <td>10</td>\n",
       "      <td>8</td>\n",
       "    </tr>\n",
       "    <tr>\n",
       "      <th>top</th>\n",
       "      <td>Sales Executive</td>\n",
       "      <td>Jakarta Raya</td>\n",
       "      <td>Pegawai (non-manajemen &amp; non-supervisor)</td>\n",
       "      <td>S1</td>\n",
       "      <td>Penuh Waktu</td>\n",
       "    </tr>\n",
       "    <tr>\n",
       "      <th>freq</th>\n",
       "      <td>192</td>\n",
       "      <td>4942</td>\n",
       "      <td>15546</td>\n",
       "      <td>8474</td>\n",
       "      <td>21022</td>\n",
       "    </tr>\n",
       "  </tbody>\n",
       "</table>\n",
       "</div>"
      ],
      "text/plain": [
       "              job_title      location  \\\n",
       "count             24395         24395   \n",
       "unique            16498           193   \n",
       "top     Sales Executive  Jakarta Raya   \n",
       "freq                192          4942   \n",
       "\n",
       "                                    career_level education_level  \\\n",
       "count                                      24395           24395   \n",
       "unique                                         6              10   \n",
       "top     Pegawai (non-manajemen & non-supervisor)              S1   \n",
       "freq                                       15546            8474   \n",
       "\n",
       "       employment_type  \n",
       "count            24395  \n",
       "unique               8  \n",
       "top        Penuh Waktu  \n",
       "freq             21022  "
      ]
     },
     "execution_count": 18,
     "metadata": {},
     "output_type": "execute_result"
    }
   ],
   "source": [
    "dataset[categorical].describe() "
   ]
  },
  {
   "cell_type": "code",
   "execution_count": 19,
   "metadata": {},
   "outputs": [
    {
     "name": "stdout",
     "output_type": "stream",
     "text": [
      "['experience_level', 'salary']\n"
     ]
    }
   ],
   "source": [
    "numerical = dataset.columns[dataset.dtypes != 'object'].tolist()\n",
    "print(numerical)"
   ]
  },
  {
   "cell_type": "code",
   "execution_count": 20,
   "metadata": {},
   "outputs": [
    {
     "data": {
      "text/html": [
       "<div>\n",
       "<style scoped>\n",
       "    .dataframe tbody tr th:only-of-type {\n",
       "        vertical-align: middle;\n",
       "    }\n",
       "\n",
       "    .dataframe tbody tr th {\n",
       "        vertical-align: top;\n",
       "    }\n",
       "\n",
       "    .dataframe thead th {\n",
       "        text-align: right;\n",
       "    }\n",
       "</style>\n",
       "<table border=\"1\" class=\"dataframe\">\n",
       "  <thead>\n",
       "    <tr style=\"text-align: right;\">\n",
       "      <th></th>\n",
       "      <th>experience_level</th>\n",
       "      <th>salary</th>\n",
       "    </tr>\n",
       "  </thead>\n",
       "  <tbody>\n",
       "    <tr>\n",
       "      <th>count</th>\n",
       "      <td>24395.000000</td>\n",
       "      <td>2.439500e+04</td>\n",
       "    </tr>\n",
       "    <tr>\n",
       "      <th>mean</th>\n",
       "      <td>2.177331</td>\n",
       "      <td>5.984052e+06</td>\n",
       "    </tr>\n",
       "    <tr>\n",
       "      <th>std</th>\n",
       "      <td>1.256187</td>\n",
       "      <td>1.958300e+06</td>\n",
       "    </tr>\n",
       "    <tr>\n",
       "      <th>min</th>\n",
       "      <td>1.000000</td>\n",
       "      <td>8.000000e+05</td>\n",
       "    </tr>\n",
       "    <tr>\n",
       "      <th>25%</th>\n",
       "      <td>1.000000</td>\n",
       "      <td>4.600000e+06</td>\n",
       "    </tr>\n",
       "    <tr>\n",
       "      <th>50%</th>\n",
       "      <td>2.000000</td>\n",
       "      <td>5.400000e+06</td>\n",
       "    </tr>\n",
       "    <tr>\n",
       "      <th>75%</th>\n",
       "      <td>3.000000</td>\n",
       "      <td>7.200000e+06</td>\n",
       "    </tr>\n",
       "    <tr>\n",
       "      <th>max</th>\n",
       "      <td>6.000000</td>\n",
       "      <td>1.110000e+07</td>\n",
       "    </tr>\n",
       "  </tbody>\n",
       "</table>\n",
       "</div>"
      ],
      "text/plain": [
       "       experience_level        salary\n",
       "count      24395.000000  2.439500e+04\n",
       "mean           2.177331  5.984052e+06\n",
       "std            1.256187  1.958300e+06\n",
       "min            1.000000  8.000000e+05\n",
       "25%            1.000000  4.600000e+06\n",
       "50%            2.000000  5.400000e+06\n",
       "75%            3.000000  7.200000e+06\n",
       "max            6.000000  1.110000e+07"
      ]
     },
     "execution_count": 20,
     "metadata": {},
     "output_type": "execute_result"
    }
   ],
   "source": [
    "dataset[numerical].describe()"
   ]
  },
  {
   "cell_type": "markdown",
   "metadata": {},
   "source": [
    "# 4. Data Preprocessing"
   ]
  },
  {
   "cell_type": "code",
   "execution_count": 21,
   "metadata": {},
   "outputs": [],
   "source": [
    "X = dataset.drop([\"salary\", \"job_title\", \"location\"], axis=1)\n",
    "y = dataset['salary']"
   ]
  },
  {
   "cell_type": "code",
   "execution_count": 22,
   "metadata": {},
   "outputs": [
    {
     "name": "stdout",
     "output_type": "stream",
     "text": [
      "Traning Data: (19516, 4)\n",
      "Testing Data: (4879, 4)\n"
     ]
    }
   ],
   "source": [
    "X_train,X_test, y_train, y_test= train_test_split(X, y, test_size=0.2, random_state=0)\n",
    "\n",
    "print(f'Traning Data: {X_train.shape}')\n",
    "print(f'Testing Data: {X_test.shape}')"
   ]
  },
  {
   "cell_type": "markdown",
   "metadata": {},
   "source": [
    "**Split Career Level**"
   ]
  },
  {
   "cell_type": "code",
   "execution_count": 23,
   "metadata": {},
   "outputs": [
    {
     "data": {
      "text/plain": [
       "array([[0., 0., 0., 1., 0., 0.],\n",
       "       [0., 0., 0., 1., 0., 0.],\n",
       "       [0., 0., 1., 0., 0., 0.],\n",
       "       ...,\n",
       "       [0., 0., 0., 0., 1., 0.],\n",
       "       [0., 0., 0., 0., 1., 0.],\n",
       "       [0., 0., 0., 0., 1., 0.]])"
      ]
     },
     "execution_count": 23,
     "metadata": {},
     "output_type": "execute_result"
    }
   ],
   "source": [
    "enc_1 = OneHotEncoder(sparse_output=False)\n",
    "\n",
    "X_train_career = enc_1.fit_transform(X_train[['career_level']])\n",
    "X_test_career = enc_1.transform(X_test[['career_level']])\n",
    "X_train_career"
   ]
  },
  {
   "cell_type": "code",
   "execution_count": 24,
   "metadata": {},
   "outputs": [
    {
     "data": {
      "text/html": [
       "<div>\n",
       "<style scoped>\n",
       "    .dataframe tbody tr th:only-of-type {\n",
       "        vertical-align: middle;\n",
       "    }\n",
       "\n",
       "    .dataframe tbody tr th {\n",
       "        vertical-align: top;\n",
       "    }\n",
       "\n",
       "    .dataframe thead th {\n",
       "        text-align: right;\n",
       "    }\n",
       "</style>\n",
       "<table border=\"1\" class=\"dataframe\">\n",
       "  <thead>\n",
       "    <tr style=\"text-align: right;\">\n",
       "      <th></th>\n",
       "      <th>career_level_CEO/GM/Direktur/Manajer Senior</th>\n",
       "      <th>career_level_Lulusan baru/Pengalaman kerja kurang dari 1 tahun</th>\n",
       "      <th>career_level_Manajer/Asisten Manajer</th>\n",
       "      <th>career_level_Pegawai (non-manajemen &amp; non-supervisor)</th>\n",
       "      <th>career_level_Supervisor/Koordinator</th>\n",
       "      <th>career_level_Tidak Terspesifikasi</th>\n",
       "    </tr>\n",
       "  </thead>\n",
       "  <tbody>\n",
       "    <tr>\n",
       "      <th>0</th>\n",
       "      <td>0.0</td>\n",
       "      <td>0.0</td>\n",
       "      <td>0.0</td>\n",
       "      <td>1.0</td>\n",
       "      <td>0.0</td>\n",
       "      <td>0.0</td>\n",
       "    </tr>\n",
       "    <tr>\n",
       "      <th>1</th>\n",
       "      <td>0.0</td>\n",
       "      <td>0.0</td>\n",
       "      <td>0.0</td>\n",
       "      <td>1.0</td>\n",
       "      <td>0.0</td>\n",
       "      <td>0.0</td>\n",
       "    </tr>\n",
       "    <tr>\n",
       "      <th>2</th>\n",
       "      <td>0.0</td>\n",
       "      <td>0.0</td>\n",
       "      <td>1.0</td>\n",
       "      <td>0.0</td>\n",
       "      <td>0.0</td>\n",
       "      <td>0.0</td>\n",
       "    </tr>\n",
       "    <tr>\n",
       "      <th>3</th>\n",
       "      <td>0.0</td>\n",
       "      <td>0.0</td>\n",
       "      <td>0.0</td>\n",
       "      <td>0.0</td>\n",
       "      <td>1.0</td>\n",
       "      <td>0.0</td>\n",
       "    </tr>\n",
       "    <tr>\n",
       "      <th>4</th>\n",
       "      <td>0.0</td>\n",
       "      <td>0.0</td>\n",
       "      <td>0.0</td>\n",
       "      <td>1.0</td>\n",
       "      <td>0.0</td>\n",
       "      <td>0.0</td>\n",
       "    </tr>\n",
       "  </tbody>\n",
       "</table>\n",
       "</div>"
      ],
      "text/plain": [
       "   career_level_CEO/GM/Direktur/Manajer Senior  \\\n",
       "0                                          0.0   \n",
       "1                                          0.0   \n",
       "2                                          0.0   \n",
       "3                                          0.0   \n",
       "4                                          0.0   \n",
       "\n",
       "   career_level_Lulusan baru/Pengalaman kerja kurang dari 1 tahun  \\\n",
       "0                                                0.0                \n",
       "1                                                0.0                \n",
       "2                                                0.0                \n",
       "3                                                0.0                \n",
       "4                                                0.0                \n",
       "\n",
       "   career_level_Manajer/Asisten Manajer  \\\n",
       "0                                   0.0   \n",
       "1                                   0.0   \n",
       "2                                   1.0   \n",
       "3                                   0.0   \n",
       "4                                   0.0   \n",
       "\n",
       "   career_level_Pegawai (non-manajemen & non-supervisor)  \\\n",
       "0                                                1.0       \n",
       "1                                                1.0       \n",
       "2                                                0.0       \n",
       "3                                                0.0       \n",
       "4                                                1.0       \n",
       "\n",
       "   career_level_Supervisor/Koordinator  career_level_Tidak Terspesifikasi  \n",
       "0                                  0.0                                0.0  \n",
       "1                                  0.0                                0.0  \n",
       "2                                  0.0                                0.0  \n",
       "3                                  1.0                                0.0  \n",
       "4                                  0.0                                0.0  "
      ]
     },
     "execution_count": 24,
     "metadata": {},
     "output_type": "execute_result"
    }
   ],
   "source": [
    "career_level = enc_1.get_feature_names_out(input_features=['career_level'])\n",
    "\n",
    "X_train_career = pd.DataFrame(X_train_career, columns=career_level)\n",
    "X_test_career = pd.DataFrame(X_test_career, columns=career_level)\n",
    "\n",
    "X_train_career.head()"
   ]
  },
  {
   "cell_type": "markdown",
   "metadata": {},
   "source": [
    "**Split Experience Level**"
   ]
  },
  {
   "cell_type": "code",
   "execution_count": 25,
   "metadata": {},
   "outputs": [
    {
     "data": {
      "text/plain": [
       "array([[0., 0., 1., ..., 0., 0., 0.],\n",
       "       [1., 0., 0., ..., 0., 0., 0.],\n",
       "       [0., 0., 0., ..., 0., 1., 0.],\n",
       "       ...,\n",
       "       [0., 0., 0., ..., 0., 1., 0.],\n",
       "       [0., 0., 0., ..., 0., 1., 0.],\n",
       "       [0., 0., 0., ..., 0., 1., 0.]])"
      ]
     },
     "execution_count": 25,
     "metadata": {},
     "output_type": "execute_result"
    }
   ],
   "source": [
    "enc_2 = OneHotEncoder(sparse_output=False)\n",
    "\n",
    "X_train_experience = enc_2.fit_transform(X_train[['experience_level']])\n",
    "X_test_experience = enc_2.transform(X_test[['experience_level']])\n",
    "X_train_experience"
   ]
  },
  {
   "cell_type": "code",
   "execution_count": 26,
   "metadata": {},
   "outputs": [
    {
     "data": {
      "text/html": [
       "<div>\n",
       "<style scoped>\n",
       "    .dataframe tbody tr th:only-of-type {\n",
       "        vertical-align: middle;\n",
       "    }\n",
       "\n",
       "    .dataframe tbody tr th {\n",
       "        vertical-align: top;\n",
       "    }\n",
       "\n",
       "    .dataframe thead th {\n",
       "        text-align: right;\n",
       "    }\n",
       "</style>\n",
       "<table border=\"1\" class=\"dataframe\">\n",
       "  <thead>\n",
       "    <tr style=\"text-align: right;\">\n",
       "      <th></th>\n",
       "      <th>experience_level_1.0</th>\n",
       "      <th>experience_level_1.5</th>\n",
       "      <th>experience_level_2.0</th>\n",
       "      <th>experience_level_2.5</th>\n",
       "      <th>experience_level_3.0</th>\n",
       "      <th>experience_level_4.0</th>\n",
       "      <th>experience_level_4.5</th>\n",
       "      <th>experience_level_5.0</th>\n",
       "      <th>experience_level_6.0</th>\n",
       "    </tr>\n",
       "  </thead>\n",
       "  <tbody>\n",
       "    <tr>\n",
       "      <th>0</th>\n",
       "      <td>0.0</td>\n",
       "      <td>0.0</td>\n",
       "      <td>1.0</td>\n",
       "      <td>0.0</td>\n",
       "      <td>0.0</td>\n",
       "      <td>0.0</td>\n",
       "      <td>0.0</td>\n",
       "      <td>0.0</td>\n",
       "      <td>0.0</td>\n",
       "    </tr>\n",
       "    <tr>\n",
       "      <th>1</th>\n",
       "      <td>1.0</td>\n",
       "      <td>0.0</td>\n",
       "      <td>0.0</td>\n",
       "      <td>0.0</td>\n",
       "      <td>0.0</td>\n",
       "      <td>0.0</td>\n",
       "      <td>0.0</td>\n",
       "      <td>0.0</td>\n",
       "      <td>0.0</td>\n",
       "    </tr>\n",
       "    <tr>\n",
       "      <th>2</th>\n",
       "      <td>0.0</td>\n",
       "      <td>0.0</td>\n",
       "      <td>0.0</td>\n",
       "      <td>0.0</td>\n",
       "      <td>0.0</td>\n",
       "      <td>0.0</td>\n",
       "      <td>0.0</td>\n",
       "      <td>1.0</td>\n",
       "      <td>0.0</td>\n",
       "    </tr>\n",
       "    <tr>\n",
       "      <th>3</th>\n",
       "      <td>0.0</td>\n",
       "      <td>0.0</td>\n",
       "      <td>0.0</td>\n",
       "      <td>0.0</td>\n",
       "      <td>1.0</td>\n",
       "      <td>0.0</td>\n",
       "      <td>0.0</td>\n",
       "      <td>0.0</td>\n",
       "      <td>0.0</td>\n",
       "    </tr>\n",
       "    <tr>\n",
       "      <th>4</th>\n",
       "      <td>1.0</td>\n",
       "      <td>0.0</td>\n",
       "      <td>0.0</td>\n",
       "      <td>0.0</td>\n",
       "      <td>0.0</td>\n",
       "      <td>0.0</td>\n",
       "      <td>0.0</td>\n",
       "      <td>0.0</td>\n",
       "      <td>0.0</td>\n",
       "    </tr>\n",
       "  </tbody>\n",
       "</table>\n",
       "</div>"
      ],
      "text/plain": [
       "   experience_level_1.0  experience_level_1.5  experience_level_2.0  \\\n",
       "0                   0.0                   0.0                   1.0   \n",
       "1                   1.0                   0.0                   0.0   \n",
       "2                   0.0                   0.0                   0.0   \n",
       "3                   0.0                   0.0                   0.0   \n",
       "4                   1.0                   0.0                   0.0   \n",
       "\n",
       "   experience_level_2.5  experience_level_3.0  experience_level_4.0  \\\n",
       "0                   0.0                   0.0                   0.0   \n",
       "1                   0.0                   0.0                   0.0   \n",
       "2                   0.0                   0.0                   0.0   \n",
       "3                   0.0                   1.0                   0.0   \n",
       "4                   0.0                   0.0                   0.0   \n",
       "\n",
       "   experience_level_4.5  experience_level_5.0  experience_level_6.0  \n",
       "0                   0.0                   0.0                   0.0  \n",
       "1                   0.0                   0.0                   0.0  \n",
       "2                   0.0                   1.0                   0.0  \n",
       "3                   0.0                   0.0                   0.0  \n",
       "4                   0.0                   0.0                   0.0  "
      ]
     },
     "execution_count": 26,
     "metadata": {},
     "output_type": "execute_result"
    }
   ],
   "source": [
    "experience_level = enc_2.get_feature_names_out(input_features=['experience_level'])\n",
    "\n",
    "X_train_experience = pd.DataFrame(X_train_experience, columns=experience_level)\n",
    "X_test_experience = pd.DataFrame(X_test_experience, columns=experience_level)\n",
    "\n",
    "X_train_experience.head()"
   ]
  },
  {
   "cell_type": "markdown",
   "metadata": {},
   "source": [
    "**Split Employment Type**"
   ]
  },
  {
   "cell_type": "code",
   "execution_count": 27,
   "metadata": {},
   "outputs": [
    {
     "data": {
      "text/plain": [
       "array([[0., 0., 0., ..., 0., 0., 0.],\n",
       "       [0., 0., 0., ..., 0., 0., 0.],\n",
       "       [0., 0., 0., ..., 0., 0., 0.],\n",
       "       ...,\n",
       "       [0., 0., 0., ..., 0., 0., 0.],\n",
       "       [0., 0., 0., ..., 0., 0., 0.],\n",
       "       [0., 0., 0., ..., 0., 0., 0.]])"
      ]
     },
     "execution_count": 27,
     "metadata": {},
     "output_type": "execute_result"
    }
   ],
   "source": [
    "enc_3 = OneHotEncoder(sparse_output=False, handle_unknown='ignore')\n",
    "\n",
    "X_train_employment = enc_3.fit_transform(X_train[['employment_type']])\n",
    "X_test_employment = enc_3.transform(X_test[['employment_type']])\n",
    "X_train_employment"
   ]
  },
  {
   "cell_type": "code",
   "execution_count": 28,
   "metadata": {},
   "outputs": [
    {
     "data": {
      "text/html": [
       "<div>\n",
       "<style scoped>\n",
       "    .dataframe tbody tr th:only-of-type {\n",
       "        vertical-align: middle;\n",
       "    }\n",
       "\n",
       "    .dataframe tbody tr th {\n",
       "        vertical-align: top;\n",
       "    }\n",
       "\n",
       "    .dataframe thead th {\n",
       "        text-align: right;\n",
       "    }\n",
       "</style>\n",
       "<table border=\"1\" class=\"dataframe\">\n",
       "  <thead>\n",
       "    <tr style=\"text-align: right;\">\n",
       "      <th></th>\n",
       "      <th>employment_type_Kontrak</th>\n",
       "      <th>employment_type_Kontrak, Temporer</th>\n",
       "      <th>employment_type_Magang</th>\n",
       "      <th>employment_type_Paruh Waktu</th>\n",
       "      <th>employment_type_Penuh Waktu</th>\n",
       "      <th>employment_type_Penuh Waktu, Kontrak</th>\n",
       "      <th>employment_type_Penuh Waktu, Paruh Waktu</th>\n",
       "      <th>employment_type_Temporer</th>\n",
       "    </tr>\n",
       "  </thead>\n",
       "  <tbody>\n",
       "    <tr>\n",
       "      <th>0</th>\n",
       "      <td>0.0</td>\n",
       "      <td>0.0</td>\n",
       "      <td>0.0</td>\n",
       "      <td>0.0</td>\n",
       "      <td>1.0</td>\n",
       "      <td>0.0</td>\n",
       "      <td>0.0</td>\n",
       "      <td>0.0</td>\n",
       "    </tr>\n",
       "    <tr>\n",
       "      <th>1</th>\n",
       "      <td>0.0</td>\n",
       "      <td>0.0</td>\n",
       "      <td>0.0</td>\n",
       "      <td>0.0</td>\n",
       "      <td>1.0</td>\n",
       "      <td>0.0</td>\n",
       "      <td>0.0</td>\n",
       "      <td>0.0</td>\n",
       "    </tr>\n",
       "    <tr>\n",
       "      <th>2</th>\n",
       "      <td>0.0</td>\n",
       "      <td>0.0</td>\n",
       "      <td>0.0</td>\n",
       "      <td>0.0</td>\n",
       "      <td>1.0</td>\n",
       "      <td>0.0</td>\n",
       "      <td>0.0</td>\n",
       "      <td>0.0</td>\n",
       "    </tr>\n",
       "    <tr>\n",
       "      <th>3</th>\n",
       "      <td>0.0</td>\n",
       "      <td>0.0</td>\n",
       "      <td>0.0</td>\n",
       "      <td>0.0</td>\n",
       "      <td>1.0</td>\n",
       "      <td>0.0</td>\n",
       "      <td>0.0</td>\n",
       "      <td>0.0</td>\n",
       "    </tr>\n",
       "    <tr>\n",
       "      <th>4</th>\n",
       "      <td>0.0</td>\n",
       "      <td>0.0</td>\n",
       "      <td>0.0</td>\n",
       "      <td>0.0</td>\n",
       "      <td>1.0</td>\n",
       "      <td>0.0</td>\n",
       "      <td>0.0</td>\n",
       "      <td>0.0</td>\n",
       "    </tr>\n",
       "  </tbody>\n",
       "</table>\n",
       "</div>"
      ],
      "text/plain": [
       "   employment_type_Kontrak  employment_type_Kontrak, Temporer  \\\n",
       "0                      0.0                                0.0   \n",
       "1                      0.0                                0.0   \n",
       "2                      0.0                                0.0   \n",
       "3                      0.0                                0.0   \n",
       "4                      0.0                                0.0   \n",
       "\n",
       "   employment_type_Magang  employment_type_Paruh Waktu  \\\n",
       "0                     0.0                          0.0   \n",
       "1                     0.0                          0.0   \n",
       "2                     0.0                          0.0   \n",
       "3                     0.0                          0.0   \n",
       "4                     0.0                          0.0   \n",
       "\n",
       "   employment_type_Penuh Waktu  employment_type_Penuh Waktu, Kontrak  \\\n",
       "0                          1.0                                   0.0   \n",
       "1                          1.0                                   0.0   \n",
       "2                          1.0                                   0.0   \n",
       "3                          1.0                                   0.0   \n",
       "4                          1.0                                   0.0   \n",
       "\n",
       "   employment_type_Penuh Waktu, Paruh Waktu  employment_type_Temporer  \n",
       "0                                       0.0                       0.0  \n",
       "1                                       0.0                       0.0  \n",
       "2                                       0.0                       0.0  \n",
       "3                                       0.0                       0.0  \n",
       "4                                       0.0                       0.0  "
      ]
     },
     "execution_count": 28,
     "metadata": {},
     "output_type": "execute_result"
    }
   ],
   "source": [
    "employment_type = enc_3.get_feature_names_out(input_features=['employment_type'])\n",
    "\n",
    "X_train_employment = pd.DataFrame(X_train_employment, columns=employment_type)\n",
    "X_test_employment = pd.DataFrame(X_test_employment, columns=employment_type)\n",
    "\n",
    "X_train_employment.head()"
   ]
  },
  {
   "cell_type": "markdown",
   "metadata": {},
   "source": [
    "**Split Education Level**"
   ]
  },
  {
   "cell_type": "code",
   "execution_count": 29,
   "metadata": {},
   "outputs": [
    {
     "data": {
      "text/plain": [
       "array([[0., 0., 1., ..., 0., 0., 0.],\n",
       "       [0., 0., 0., ..., 0., 0., 0.],\n",
       "       [0., 0., 1., ..., 0., 0., 0.],\n",
       "       ...,\n",
       "       [0., 0., 1., ..., 0., 0., 0.],\n",
       "       [0., 0., 1., ..., 0., 0., 0.],\n",
       "       [0., 0., 1., ..., 0., 0., 0.]])"
      ]
     },
     "execution_count": 29,
     "metadata": {},
     "output_type": "execute_result"
    }
   ],
   "source": [
    "enc_4 = OneHotEncoder(sparse_output=False, handle_unknown='ignore')\n",
    "\n",
    "X_train_education = enc_4.fit_transform(X_train[['education_level']])\n",
    "X_test_education = enc_4.transform(X_test[['education_level']])\n",
    "X_train_education"
   ]
  },
  {
   "cell_type": "code",
   "execution_count": 30,
   "metadata": {},
   "outputs": [
    {
     "data": {
      "text/html": [
       "<div>\n",
       "<style scoped>\n",
       "    .dataframe tbody tr th:only-of-type {\n",
       "        vertical-align: middle;\n",
       "    }\n",
       "\n",
       "    .dataframe tbody tr th {\n",
       "        vertical-align: top;\n",
       "    }\n",
       "\n",
       "    .dataframe thead th {\n",
       "        text-align: right;\n",
       "    }\n",
       "</style>\n",
       "<table border=\"1\" class=\"dataframe\">\n",
       "  <thead>\n",
       "    <tr style=\"text-align: right;\">\n",
       "      <th></th>\n",
       "      <th>education_level_D3 - S1</th>\n",
       "      <th>education_level_D3 - S2</th>\n",
       "      <th>education_level_S1</th>\n",
       "      <th>education_level_S1 - S2</th>\n",
       "      <th>education_level_S1 - S3</th>\n",
       "      <th>education_level_S3</th>\n",
       "      <th>education_level_SMA/SMU</th>\n",
       "      <th>education_level_SMA/SMU - S1</th>\n",
       "      <th>education_level_SMA/SMU - S2</th>\n",
       "      <th>education_level_Tidak terspesifikasi</th>\n",
       "    </tr>\n",
       "  </thead>\n",
       "  <tbody>\n",
       "    <tr>\n",
       "      <th>0</th>\n",
       "      <td>0.0</td>\n",
       "      <td>0.0</td>\n",
       "      <td>1.0</td>\n",
       "      <td>0.0</td>\n",
       "      <td>0.0</td>\n",
       "      <td>0.0</td>\n",
       "      <td>0.0</td>\n",
       "      <td>0.0</td>\n",
       "      <td>0.0</td>\n",
       "      <td>0.0</td>\n",
       "    </tr>\n",
       "    <tr>\n",
       "      <th>1</th>\n",
       "      <td>0.0</td>\n",
       "      <td>0.0</td>\n",
       "      <td>0.0</td>\n",
       "      <td>0.0</td>\n",
       "      <td>0.0</td>\n",
       "      <td>0.0</td>\n",
       "      <td>1.0</td>\n",
       "      <td>0.0</td>\n",
       "      <td>0.0</td>\n",
       "      <td>0.0</td>\n",
       "    </tr>\n",
       "    <tr>\n",
       "      <th>2</th>\n",
       "      <td>0.0</td>\n",
       "      <td>0.0</td>\n",
       "      <td>1.0</td>\n",
       "      <td>0.0</td>\n",
       "      <td>0.0</td>\n",
       "      <td>0.0</td>\n",
       "      <td>0.0</td>\n",
       "      <td>0.0</td>\n",
       "      <td>0.0</td>\n",
       "      <td>0.0</td>\n",
       "    </tr>\n",
       "    <tr>\n",
       "      <th>3</th>\n",
       "      <td>0.0</td>\n",
       "      <td>0.0</td>\n",
       "      <td>0.0</td>\n",
       "      <td>0.0</td>\n",
       "      <td>0.0</td>\n",
       "      <td>0.0</td>\n",
       "      <td>0.0</td>\n",
       "      <td>1.0</td>\n",
       "      <td>0.0</td>\n",
       "      <td>0.0</td>\n",
       "    </tr>\n",
       "    <tr>\n",
       "      <th>4</th>\n",
       "      <td>0.0</td>\n",
       "      <td>1.0</td>\n",
       "      <td>0.0</td>\n",
       "      <td>0.0</td>\n",
       "      <td>0.0</td>\n",
       "      <td>0.0</td>\n",
       "      <td>0.0</td>\n",
       "      <td>0.0</td>\n",
       "      <td>0.0</td>\n",
       "      <td>0.0</td>\n",
       "    </tr>\n",
       "  </tbody>\n",
       "</table>\n",
       "</div>"
      ],
      "text/plain": [
       "   education_level_D3 - S1  education_level_D3 - S2  education_level_S1  \\\n",
       "0                      0.0                      0.0                 1.0   \n",
       "1                      0.0                      0.0                 0.0   \n",
       "2                      0.0                      0.0                 1.0   \n",
       "3                      0.0                      0.0                 0.0   \n",
       "4                      0.0                      1.0                 0.0   \n",
       "\n",
       "   education_level_S1 - S2  education_level_S1 - S3  education_level_S3  \\\n",
       "0                      0.0                      0.0                 0.0   \n",
       "1                      0.0                      0.0                 0.0   \n",
       "2                      0.0                      0.0                 0.0   \n",
       "3                      0.0                      0.0                 0.0   \n",
       "4                      0.0                      0.0                 0.0   \n",
       "\n",
       "   education_level_SMA/SMU  education_level_SMA/SMU - S1  \\\n",
       "0                      0.0                           0.0   \n",
       "1                      1.0                           0.0   \n",
       "2                      0.0                           0.0   \n",
       "3                      0.0                           1.0   \n",
       "4                      0.0                           0.0   \n",
       "\n",
       "   education_level_SMA/SMU - S2  education_level_Tidak terspesifikasi  \n",
       "0                           0.0                                   0.0  \n",
       "1                           0.0                                   0.0  \n",
       "2                           0.0                                   0.0  \n",
       "3                           0.0                                   0.0  \n",
       "4                           0.0                                   0.0  "
      ]
     },
     "execution_count": 30,
     "metadata": {},
     "output_type": "execute_result"
    }
   ],
   "source": [
    "education_level = enc_4.get_feature_names_out(input_features=['education_level'])\n",
    "\n",
    "X_train_education = pd.DataFrame(X_train_education, columns=education_level)\n",
    "X_test_education = pd.DataFrame(X_test_education, columns=education_level)\n",
    "\n",
    "X_train_education.head()"
   ]
  },
  {
   "cell_type": "markdown",
   "metadata": {},
   "source": [
    "**Reset Index**"
   ]
  },
  {
   "cell_type": "code",
   "execution_count": 31,
   "metadata": {},
   "outputs": [],
   "source": [
    "X_train.reset_index(drop=True, inplace=True)\n",
    "X_test.reset_index(drop=True, inplace=True)\n",
    "\n",
    "y_train.reset_index(drop=True, inplace=True)\n",
    "y_test.reset_index(drop=True, inplace=True)"
   ]
  },
  {
   "cell_type": "code",
   "execution_count": 32,
   "metadata": {},
   "outputs": [
    {
     "data": {
      "text/html": [
       "<div>\n",
       "<style scoped>\n",
       "    .dataframe tbody tr th:only-of-type {\n",
       "        vertical-align: middle;\n",
       "    }\n",
       "\n",
       "    .dataframe tbody tr th {\n",
       "        vertical-align: top;\n",
       "    }\n",
       "\n",
       "    .dataframe thead th {\n",
       "        text-align: right;\n",
       "    }\n",
       "</style>\n",
       "<table border=\"1\" class=\"dataframe\">\n",
       "  <thead>\n",
       "    <tr style=\"text-align: right;\">\n",
       "      <th></th>\n",
       "      <th>career_level_CEO/GM/Direktur/Manajer Senior</th>\n",
       "      <th>career_level_Lulusan baru/Pengalaman kerja kurang dari 1 tahun</th>\n",
       "      <th>career_level_Manajer/Asisten Manajer</th>\n",
       "      <th>career_level_Pegawai (non-manajemen &amp; non-supervisor)</th>\n",
       "      <th>career_level_Supervisor/Koordinator</th>\n",
       "      <th>career_level_Tidak Terspesifikasi</th>\n",
       "      <th>experience_level_1.0</th>\n",
       "      <th>experience_level_1.5</th>\n",
       "      <th>experience_level_2.0</th>\n",
       "      <th>experience_level_2.5</th>\n",
       "      <th>...</th>\n",
       "      <th>education_level_D3 - S1</th>\n",
       "      <th>education_level_D3 - S2</th>\n",
       "      <th>education_level_S1</th>\n",
       "      <th>education_level_S1 - S2</th>\n",
       "      <th>education_level_S1 - S3</th>\n",
       "      <th>education_level_S3</th>\n",
       "      <th>education_level_SMA/SMU</th>\n",
       "      <th>education_level_SMA/SMU - S1</th>\n",
       "      <th>education_level_SMA/SMU - S2</th>\n",
       "      <th>education_level_Tidak terspesifikasi</th>\n",
       "    </tr>\n",
       "  </thead>\n",
       "  <tbody>\n",
       "    <tr>\n",
       "      <th>0</th>\n",
       "      <td>0.0</td>\n",
       "      <td>0.0</td>\n",
       "      <td>0.0</td>\n",
       "      <td>1.0</td>\n",
       "      <td>0.0</td>\n",
       "      <td>0.0</td>\n",
       "      <td>0.0</td>\n",
       "      <td>0.0</td>\n",
       "      <td>1.0</td>\n",
       "      <td>0.0</td>\n",
       "      <td>...</td>\n",
       "      <td>0.0</td>\n",
       "      <td>0.0</td>\n",
       "      <td>1.0</td>\n",
       "      <td>0.0</td>\n",
       "      <td>0.0</td>\n",
       "      <td>0.0</td>\n",
       "      <td>0.0</td>\n",
       "      <td>0.0</td>\n",
       "      <td>0.0</td>\n",
       "      <td>0.0</td>\n",
       "    </tr>\n",
       "    <tr>\n",
       "      <th>1</th>\n",
       "      <td>0.0</td>\n",
       "      <td>0.0</td>\n",
       "      <td>0.0</td>\n",
       "      <td>1.0</td>\n",
       "      <td>0.0</td>\n",
       "      <td>0.0</td>\n",
       "      <td>1.0</td>\n",
       "      <td>0.0</td>\n",
       "      <td>0.0</td>\n",
       "      <td>0.0</td>\n",
       "      <td>...</td>\n",
       "      <td>0.0</td>\n",
       "      <td>0.0</td>\n",
       "      <td>0.0</td>\n",
       "      <td>0.0</td>\n",
       "      <td>0.0</td>\n",
       "      <td>0.0</td>\n",
       "      <td>1.0</td>\n",
       "      <td>0.0</td>\n",
       "      <td>0.0</td>\n",
       "      <td>0.0</td>\n",
       "    </tr>\n",
       "    <tr>\n",
       "      <th>2</th>\n",
       "      <td>0.0</td>\n",
       "      <td>0.0</td>\n",
       "      <td>1.0</td>\n",
       "      <td>0.0</td>\n",
       "      <td>0.0</td>\n",
       "      <td>0.0</td>\n",
       "      <td>0.0</td>\n",
       "      <td>0.0</td>\n",
       "      <td>0.0</td>\n",
       "      <td>0.0</td>\n",
       "      <td>...</td>\n",
       "      <td>0.0</td>\n",
       "      <td>0.0</td>\n",
       "      <td>1.0</td>\n",
       "      <td>0.0</td>\n",
       "      <td>0.0</td>\n",
       "      <td>0.0</td>\n",
       "      <td>0.0</td>\n",
       "      <td>0.0</td>\n",
       "      <td>0.0</td>\n",
       "      <td>0.0</td>\n",
       "    </tr>\n",
       "    <tr>\n",
       "      <th>3</th>\n",
       "      <td>0.0</td>\n",
       "      <td>0.0</td>\n",
       "      <td>0.0</td>\n",
       "      <td>0.0</td>\n",
       "      <td>1.0</td>\n",
       "      <td>0.0</td>\n",
       "      <td>0.0</td>\n",
       "      <td>0.0</td>\n",
       "      <td>0.0</td>\n",
       "      <td>0.0</td>\n",
       "      <td>...</td>\n",
       "      <td>0.0</td>\n",
       "      <td>0.0</td>\n",
       "      <td>0.0</td>\n",
       "      <td>0.0</td>\n",
       "      <td>0.0</td>\n",
       "      <td>0.0</td>\n",
       "      <td>0.0</td>\n",
       "      <td>1.0</td>\n",
       "      <td>0.0</td>\n",
       "      <td>0.0</td>\n",
       "    </tr>\n",
       "    <tr>\n",
       "      <th>4</th>\n",
       "      <td>0.0</td>\n",
       "      <td>0.0</td>\n",
       "      <td>0.0</td>\n",
       "      <td>1.0</td>\n",
       "      <td>0.0</td>\n",
       "      <td>0.0</td>\n",
       "      <td>1.0</td>\n",
       "      <td>0.0</td>\n",
       "      <td>0.0</td>\n",
       "      <td>0.0</td>\n",
       "      <td>...</td>\n",
       "      <td>0.0</td>\n",
       "      <td>1.0</td>\n",
       "      <td>0.0</td>\n",
       "      <td>0.0</td>\n",
       "      <td>0.0</td>\n",
       "      <td>0.0</td>\n",
       "      <td>0.0</td>\n",
       "      <td>0.0</td>\n",
       "      <td>0.0</td>\n",
       "      <td>0.0</td>\n",
       "    </tr>\n",
       "  </tbody>\n",
       "</table>\n",
       "<p>5 rows × 33 columns</p>\n",
       "</div>"
      ],
      "text/plain": [
       "   career_level_CEO/GM/Direktur/Manajer Senior  \\\n",
       "0                                          0.0   \n",
       "1                                          0.0   \n",
       "2                                          0.0   \n",
       "3                                          0.0   \n",
       "4                                          0.0   \n",
       "\n",
       "   career_level_Lulusan baru/Pengalaman kerja kurang dari 1 tahun  \\\n",
       "0                                                0.0                \n",
       "1                                                0.0                \n",
       "2                                                0.0                \n",
       "3                                                0.0                \n",
       "4                                                0.0                \n",
       "\n",
       "   career_level_Manajer/Asisten Manajer  \\\n",
       "0                                   0.0   \n",
       "1                                   0.0   \n",
       "2                                   1.0   \n",
       "3                                   0.0   \n",
       "4                                   0.0   \n",
       "\n",
       "   career_level_Pegawai (non-manajemen & non-supervisor)  \\\n",
       "0                                                1.0       \n",
       "1                                                1.0       \n",
       "2                                                0.0       \n",
       "3                                                0.0       \n",
       "4                                                1.0       \n",
       "\n",
       "   career_level_Supervisor/Koordinator  career_level_Tidak Terspesifikasi  \\\n",
       "0                                  0.0                                0.0   \n",
       "1                                  0.0                                0.0   \n",
       "2                                  0.0                                0.0   \n",
       "3                                  1.0                                0.0   \n",
       "4                                  0.0                                0.0   \n",
       "\n",
       "   experience_level_1.0  experience_level_1.5  experience_level_2.0  \\\n",
       "0                   0.0                   0.0                   1.0   \n",
       "1                   1.0                   0.0                   0.0   \n",
       "2                   0.0                   0.0                   0.0   \n",
       "3                   0.0                   0.0                   0.0   \n",
       "4                   1.0                   0.0                   0.0   \n",
       "\n",
       "   experience_level_2.5  ...  education_level_D3 - S1  \\\n",
       "0                   0.0  ...                      0.0   \n",
       "1                   0.0  ...                      0.0   \n",
       "2                   0.0  ...                      0.0   \n",
       "3                   0.0  ...                      0.0   \n",
       "4                   0.0  ...                      0.0   \n",
       "\n",
       "   education_level_D3 - S2  education_level_S1  education_level_S1 - S2  \\\n",
       "0                      0.0                 1.0                      0.0   \n",
       "1                      0.0                 0.0                      0.0   \n",
       "2                      0.0                 1.0                      0.0   \n",
       "3                      0.0                 0.0                      0.0   \n",
       "4                      1.0                 0.0                      0.0   \n",
       "\n",
       "   education_level_S1 - S3  education_level_S3  education_level_SMA/SMU  \\\n",
       "0                      0.0                 0.0                      0.0   \n",
       "1                      0.0                 0.0                      1.0   \n",
       "2                      0.0                 0.0                      0.0   \n",
       "3                      0.0                 0.0                      0.0   \n",
       "4                      0.0                 0.0                      0.0   \n",
       "\n",
       "   education_level_SMA/SMU - S1  education_level_SMA/SMU - S2  \\\n",
       "0                           0.0                           0.0   \n",
       "1                           0.0                           0.0   \n",
       "2                           0.0                           0.0   \n",
       "3                           1.0                           0.0   \n",
       "4                           0.0                           0.0   \n",
       "\n",
       "   education_level_Tidak terspesifikasi  \n",
       "0                                   0.0  \n",
       "1                                   0.0  \n",
       "2                                   0.0  \n",
       "3                                   0.0  \n",
       "4                                   0.0  \n",
       "\n",
       "[5 rows x 33 columns]"
      ]
     },
     "execution_count": 32,
     "metadata": {},
     "output_type": "execute_result"
    }
   ],
   "source": [
    "X_train_new = pd.concat([X_train, X_train_career, X_train_experience, X_train_employment, X_train_education], axis=1)\n",
    "X_train_new.drop(columns=['career_level', 'experience_level', 'employment_type', 'education_level'],inplace=True)\n",
    "\n",
    "X_test_new = pd.concat([X_test, X_test_career, X_test_experience, X_test_employment, X_test_education], axis=1)\n",
    "X_test_new.drop(columns=['career_level', 'experience_level', 'employment_type', 'education_level'],inplace=True)\n",
    "\n",
    "X_train_new.head()"
   ]
  },
  {
   "cell_type": "markdown",
   "metadata": {},
   "source": [
    "# 5. Predict Data OLS"
   ]
  },
  {
   "cell_type": "code",
   "execution_count": 33,
   "metadata": {},
   "outputs": [],
   "source": [
    "X_train_ols = sm.add_constant(X_train_new)\n",
    "ModelOLS = sm.OLS(y_train, X_train_ols).fit()"
   ]
  },
  {
   "cell_type": "code",
   "execution_count": 34,
   "metadata": {},
   "outputs": [
    {
     "name": "stdout",
     "output_type": "stream",
     "text": [
      "                            OLS Regression Results                            \n",
      "==============================================================================\n",
      "Dep. Variable:                 salary   R-squared:                       0.754\n",
      "Model:                            OLS   Adj. R-squared:                  0.754\n",
      "Method:                 Least Squares   F-statistic:                     2058.\n",
      "Date:                Sun, 18 Jun 2023   Prob (F-statistic):               0.00\n",
      "Time:                        20:37:24   Log-Likelihood:            -2.9674e+05\n",
      "No. Observations:               19516   AIC:                         5.935e+05\n",
      "Df Residuals:                   19486   BIC:                         5.938e+05\n",
      "Df Model:                          29                                         \n",
      "Covariance Type:            nonrobust                                         \n",
      "==================================================================================================================================\n",
      "                                                                     coef    std err          t      P>|t|      [0.025      0.975]\n",
      "----------------------------------------------------------------------------------------------------------------------------------\n",
      "const                                                           4.607e+06   1.48e+05     31.158      0.000    4.32e+06     4.9e+06\n",
      "career_level_CEO/GM/Direktur/Manajer Senior                     9.764e+05   1.12e+05      8.680      0.000    7.56e+05     1.2e+06\n",
      "career_level_Lulusan baru/Pengalaman kerja kurang dari 1 tahun  4.447e+05   8.48e+04      5.242      0.000    2.78e+05    6.11e+05\n",
      "career_level_Manajer/Asisten Manajer                            1.032e+06   8.18e+04     12.618      0.000    8.72e+05    1.19e+06\n",
      "career_level_Pegawai (non-manajemen & non-supervisor)           5.913e+05   8.03e+04      7.364      0.000    4.34e+05    7.49e+05\n",
      "career_level_Supervisor/Koordinator                              7.99e+05   8.09e+04      9.877      0.000     6.4e+05    9.58e+05\n",
      "career_level_Tidak Terspesifikasi                               7.636e+05   4.23e+05      1.806      0.071    -6.5e+04    1.59e+06\n",
      "experience_level_1.0                                           -1.568e+06   1.19e+05    -13.191      0.000    -1.8e+06   -1.33e+06\n",
      "experience_level_1.5                                           -2.127e+06   1.96e+05    -10.870      0.000   -2.51e+06   -1.74e+06\n",
      "experience_level_2.0                                           -8.881e+05   1.19e+05     -7.472      0.000   -1.12e+06   -6.55e+05\n",
      "experience_level_2.5                                           -8.724e+05   3.32e+05     -2.630      0.009   -1.52e+06   -2.22e+05\n",
      "experience_level_3.0                                            5.894e+05   1.19e+05      4.949      0.000    3.56e+05    8.23e+05\n",
      "experience_level_4.0                                             1.73e+06   1.24e+05     13.989      0.000    1.49e+06    1.97e+06\n",
      "experience_level_4.5                                            3.062e+06   8.74e+05      3.503      0.000    1.35e+06    4.78e+06\n",
      "experience_level_5.0                                            3.436e+06    1.2e+05     28.648      0.000     3.2e+06    3.67e+06\n",
      "experience_level_6.0                                            1.245e+06   4.05e+05      3.074      0.002    4.51e+05    2.04e+06\n",
      "employment_type_Kontrak                                         5.725e+05   1.48e+05      3.863      0.000    2.82e+05    8.63e+05\n",
      "employment_type_Kontrak, Temporer                               2.781e+06   8.66e+05      3.213      0.001    1.08e+06    4.48e+06\n",
      "employment_type_Magang                                         -9.114e+05   3.79e+05     -2.403      0.016   -1.65e+06   -1.68e+05\n",
      "employment_type_Paruh Waktu                                      2.41e+05   1.65e+05      1.463      0.143   -8.19e+04    5.64e+05\n",
      "employment_type_Penuh Waktu                                     6.106e+05   1.47e+05      4.143      0.000    3.22e+05       9e+05\n",
      "employment_type_Penuh Waktu, Kontrak                            4.841e+05   2.28e+05      2.123      0.034    3.71e+04    9.31e+05\n",
      "employment_type_Penuh Waktu, Paruh Waktu                        2.185e+05   6.21e+05      0.352      0.725   -9.99e+05    1.44e+06\n",
      "employment_type_Temporer                                        6.107e+05   1.81e+05      3.368      0.001    2.55e+05    9.66e+05\n",
      "education_level_D3 - S1                                         2.796e+05   5.39e+04      5.186      0.000    1.74e+05    3.85e+05\n",
      "education_level_D3 - S2                                         4.507e+05   4.87e+04      9.251      0.000    3.55e+05    5.46e+05\n",
      "education_level_S1                                              5.878e+05    4.8e+04     12.245      0.000    4.94e+05    6.82e+05\n",
      "education_level_S1 - S2                                         6.584e+05   5.31e+04     12.406      0.000    5.54e+05    7.62e+05\n",
      "education_level_S1 - S3                                         7.626e+05   1.35e+05      5.649      0.000    4.98e+05    1.03e+06\n",
      "education_level_S3                                                7.9e+05   3.13e+05      2.521      0.012    1.76e+05     1.4e+06\n",
      "education_level_SMA/SMU                                         6.998e+04    5.3e+04      1.320      0.187    -3.4e+04    1.74e+05\n",
      "education_level_SMA/SMU - S1                                    2.388e+05   5.05e+04      4.731      0.000     1.4e+05    3.38e+05\n",
      "education_level_SMA/SMU - S2                                    4.018e+05   2.68e+05      1.498      0.134   -1.24e+05    9.28e+05\n",
      "education_level_Tidak terspesifikasi                            3.675e+05   4.97e+04      7.397      0.000     2.7e+05    4.65e+05\n",
      "==============================================================================\n",
      "Omnibus:                     3256.027   Durbin-Watson:                   2.012\n",
      "Prob(Omnibus):                  0.000   Jarque-Bera (JB):            61003.249\n",
      "Skew:                           0.206   Prob(JB):                         0.00\n",
      "Kurtosis:                      11.652   Cond. No.                     1.07e+16\n",
      "==============================================================================\n",
      "\n",
      "Notes:\n",
      "[1] Standard Errors assume that the covariance matrix of the errors is correctly specified.\n",
      "[2] The smallest eigenvalue is 4.76e-28. This might indicate that there are\n",
      "strong multicollinearity problems or that the design matrix is singular.\n"
     ]
    }
   ],
   "source": [
    "print(ModelOLS.summary())"
   ]
  },
  {
   "cell_type": "markdown",
   "metadata": {},
   "source": [
    "**Visualisasi Data Koefisien**"
   ]
  },
  {
   "cell_type": "code",
   "execution_count": 35,
   "metadata": {},
   "outputs": [
    {
     "data": {
      "image/png": "[encoded data removed]",
      "text/plain": [
       "<Figure size 1000x500 with 1 Axes>"
      ]
     },
     "metadata": {},
     "output_type": "display_data"
    }
   ],
   "source": [
    "plt.bar(range(len(ModelOLS.params)), ModelOLS.params)\n",
    "plt.xlabel('')\n",
    "plt.ylabel('Koefisien')\n",
    "plt.title('Koefisien OLS')\n",
    "plt.xticks(range(len(ModelOLS.params)), X_train_ols.columns, rotation=90)\n",
    "plt.show()"
   ]
  },
  {
   "cell_type": "code",
   "execution_count": 36,
   "metadata": {},
   "outputs": [],
   "source": [
    "# Rumus MAPE Training Data\n",
    "absolute_error_OLS_train = np.abs(y_train - ModelOLS.predict(X_train_ols))\n",
    "percentage_error_OLS_train = absolute_error_OLS_train / y_train * 100"
   ]
  },
  {
   "cell_type": "code",
   "execution_count": 37,
   "metadata": {},
   "outputs": [
    {
     "name": "stdout",
     "output_type": "stream",
     "text": [
      "-------- Training Data OLS ---------\n",
      "MSE  : 942594184143.3121\n",
      "MAE  : 532610.5437\n",
      "RMSE : 970872.8980\n",
      "MAD  : 532610.5437\n",
      "MAPE  : 10.4537\n"
     ]
    }
   ],
   "source": [
    "print('-------- Training Data OLS ---------')\n",
    "y_train_OLS = ModelOLS.predict(sm.add_constant(X_train_new))\n",
    "print(\"MSE  :\", \"{:.4f}\".format(mean_squared_error(y_train, y_train_OLS)))\n",
    "print(\"MAE  :\", \"{:.4f}\".format(mean_absolute_error(y_train, y_train_OLS)))\n",
    "print(\"RMSE :\", \"{:.4f}\".format(math.sqrt(mean_squared_error(y_train, y_train_OLS))))\n",
    "print(\"MAD  :\", \"{:.4f}\".format(np.mean(np.abs(y_train - y_train_OLS))))\n",
    "print(\"MAPE  :\", \"{:.4f}\".format(np.mean(percentage_error_OLS_train)))"
   ]
  },
  {
   "cell_type": "code",
   "execution_count": 38,
   "metadata": {},
   "outputs": [],
   "source": [
    "# Rumus MAPE Testing Data\n",
    "absolute_error_OLS_test = np.abs(y_test - ModelOLS.predict(sm.add_constant(X_test_new)))\n",
    "percentage_error_OLS_test = absolute_error_OLS_test / y_test * 100"
   ]
  },
  {
   "cell_type": "code",
   "execution_count": 39,
   "metadata": {},
   "outputs": [
    {
     "name": "stdout",
     "output_type": "stream",
     "text": [
      "-------- Testing Data OLS ---------\n",
      "MSE  : 1052848525210.6161\n",
      "MAE  : 551077.5867417791\n",
      "RMSE : 1026084.0731687711\n",
      "MAD  : 551077.5867417791\n",
      "MAPE  : 10.8072\n"
     ]
    }
   ],
   "source": [
    "print('-------- Testing Data OLS ---------')\n",
    "y_test_OLS = ModelOLS.predict(sm.add_constant(X_test_new))\n",
    "print(\"MSE  :\", mean_squared_error(y_test, y_test_OLS))\n",
    "print(\"MAE  :\", mean_absolute_error(y_test, y_test_OLS))\n",
    "print(\"RMSE :\", math.sqrt(mean_squared_error(y_test, y_test_OLS)))\n",
    "print(\"MAD  :\", np.mean(np.abs(y_test - y_test_OLS)))\n",
    "print(\"MAPE  :\", \"{:.4f}\".format(np.mean(percentage_error_OLS_test)))"
   ]
  },
  {
   "cell_type": "markdown",
   "metadata": {},
   "source": [
    "# 6. Predict Data Random Forest"
   ]
  },
  {
   "cell_type": "code",
   "execution_count": 40,
   "metadata": {},
   "outputs": [
    {
     "data": {
      "text/html": [
       "<style>#sk-container-id-1 {color: black;background-color: white;}#sk-container-id-1 pre{padding: 0;}#sk-container-id-1 div.sk-toggleable {background-color: white;}#sk-container-id-1 label.sk-toggleable__label {cursor: pointer;display: block;width: 100%;margin-bottom: 0;padding: 0.3em;box-sizing: border-box;text-align: center;}#sk-container-id-1 label.sk-toggleable__label-arrow:before {content: \"▸\";float: left;margin-right: 0.25em;color: #696969;}#sk-container-id-1 label.sk-toggleable__label-arrow:hover:before {color: black;}#sk-container-id-1 div.sk-estimator:hover label.sk-toggleable__label-arrow:before {color: black;}#sk-container-id-1 div.sk-toggleable__content {max-height: 0;max-width: 0;overflow: hidden;text-align: left;background-color: #f0f8ff;}#sk-container-id-1 div.sk-toggleable__content pre {margin: 0.2em;color: black;border-radius: 0.25em;background-color: #f0f8ff;}#sk-container-id-1 input.sk-toggleable__control:checked~div.sk-toggleable__content {max-height: 200px;max-width: 100%;overflow: auto;}#sk-container-id-1 input.sk-toggleable__control:checked~label.sk-toggleable__label-arrow:before {content: \"▾\";}#sk-container-id-1 div.sk-estimator input.sk-toggleable__control:checked~label.sk-toggleable__label {background-color: #d4ebff;}#sk-container-id-1 div.sk-label input.sk-toggleable__control:checked~label.sk-toggleable__label {background-color: #d4ebff;}#sk-container-id-1 input.sk-hidden--visually {border: 0;clip: rect(1px 1px 1px 1px);clip: rect(1px, 1px, 1px, 1px);height: 1px;margin: -1px;overflow: hidden;padding: 0;position: absolute;width: 1px;}#sk-container-id-1 div.sk-estimator {font-family: monospace;background-color: #f0f8ff;border: 1px dotted black;border-radius: 0.25em;box-sizing: border-box;margin-bottom: 0.5em;}#sk-container-id-1 div.sk-estimator:hover {background-color: #d4ebff;}#sk-container-id-1 div.sk-parallel-item::after {content: \"\";width: 100%;border-bottom: 1px solid gray;flex-grow: 1;}#sk-container-id-1 div.sk-label:hover label.sk-toggleable__label {background-color: #d4ebff;}#sk-container-id-1 div.sk-serial::before {content: \"\";position: absolute;border-left: 1px solid gray;box-sizing: border-box;top: 0;bottom: 0;left: 50%;z-index: 0;}#sk-container-id-1 div.sk-serial {display: flex;flex-direction: column;align-items: center;background-color: white;padding-right: 0.2em;padding-left: 0.2em;position: relative;}#sk-container-id-1 div.sk-item {position: relative;z-index: 1;}#sk-container-id-1 div.sk-parallel {display: flex;align-items: stretch;justify-content: center;background-color: white;position: relative;}#sk-container-id-1 div.sk-item::before, #sk-container-id-1 div.sk-parallel-item::before {content: \"\";position: absolute;border-left: 1px solid gray;box-sizing: border-box;top: 0;bottom: 0;left: 50%;z-index: -1;}#sk-container-id-1 div.sk-parallel-item {display: flex;flex-direction: column;z-index: 1;position: relative;background-color: white;}#sk-container-id-1 div.sk-parallel-item:first-child::after {align-self: flex-end;width: 50%;}#sk-container-id-1 div.sk-parallel-item:last-child::after {align-self: flex-start;width: 50%;}#sk-container-id-1 div.sk-parallel-item:only-child::after {width: 0;}#sk-container-id-1 div.sk-dashed-wrapped {border: 1px dashed gray;margin: 0 0.4em 0.5em 0.4em;box-sizing: border-box;padding-bottom: 0.4em;background-color: white;}#sk-container-id-1 div.sk-label label {font-family: monospace;font-weight: bold;display: inline-block;line-height: 1.2em;}#sk-container-id-1 div.sk-label-container {text-align: center;}#sk-container-id-1 div.sk-container {/* jupyter's `normalize.less` sets `[hidden] { display: none; }` but bootstrap.min.css set `[hidden] { display: none !important; }` so we also need the `!important` here to be able to override the default hidden behavior on the sphinx rendered scikit-learn.org. See: https://github.com/scikit-learn/scikit-learn/issues/21755 */display: inline-block !important;position: relative;}#sk-container-id-1 div.sk-text-repr-fallback {display: none;}</style><div id=\"sk-container-id-1\" class=\"sk-top-container\"><div class=\"sk-text-repr-fallback\"><pre>RandomForestRegressor(random_state=0)</pre><b>In a Jupyter environment, please rerun this cell to show the HTML representation or trust the notebook. <br />On GitHub, the HTML representation is unable to render, please try loading this page with nbviewer.org.</b></div><div class=\"sk-container\" hidden><div class=\"sk-item\"><div class=\"sk-estimator sk-toggleable\"><input class=\"sk-toggleable__control sk-hidden--visually\" id=\"sk-estimator-id-1\" type=\"checkbox\" checked><label for=\"sk-estimator-id-1\" class=\"sk-toggleable__label sk-toggleable__label-arrow\">RandomForestRegressor</label><div class=\"sk-toggleable__content\"><pre>RandomForestRegressor(random_state=0)</pre></div></div></div></div></div>"
      ],
      "text/plain": [
       "RandomForestRegressor(random_state=0)"
      ]
     },
     "execution_count": 40,
     "metadata": {},
     "output_type": "execute_result"
    }
   ],
   "source": [
    "modelRF = RandomForestRegressor(n_estimators=100, random_state=0)\n",
    "modelRF.fit(X_train_new, y_train)"
   ]
  },
  {
   "cell_type": "code",
   "execution_count": 41,
   "metadata": {},
   "outputs": [
    {
     "name": "stdout",
     "output_type": "stream",
     "text": [
      "career_level_CEO/GM/Direktur/Manajer Senior: 4.0868e-04\n",
      "career_level_Lulusan baru/Pengalaman kerja kurang dari 1 tahun: 1.4171e-03\n",
      "career_level_Manajer/Asisten Manajer: 3.0905e-03\n",
      "career_level_Pegawai (non-manajemen & non-supervisor): 5.2460e-03\n",
      "career_level_Supervisor/Koordinator: 1.2567e-03\n",
      "career_level_Tidak Terspesifikasi: 1.1401e-05\n",
      "experience_level_1.0: 1.2737e-02\n",
      "experience_level_1.5: 4.8096e-04\n",
      "experience_level_2.0: 3.0367e-02\n",
      "experience_level_2.5: 3.8168e-05\n",
      "experience_level_3.0: 1.8435e-01\n",
      "experience_level_4.0: 1.0148e-01\n",
      "experience_level_4.5: 3.4284e-04\n",
      "experience_level_5.0: 6.3423e-01\n",
      "experience_level_6.0: 8.7347e-04\n",
      "employment_type_Kontrak: 1.6271e-03\n",
      "employment_type_Kontrak, Temporer: 8.4549e-05\n",
      "employment_type_Magang: 5.7784e-04\n",
      "employment_type_Paruh Waktu: 2.0128e-03\n",
      "employment_type_Penuh Waktu: 1.8945e-03\n",
      "employment_type_Penuh Waktu, Kontrak: 5.0142e-05\n",
      "employment_type_Penuh Waktu, Paruh Waktu: 6.9536e-06\n",
      "employment_type_Temporer: 1.1283e-04\n",
      "education_level_D3 - S1: 9.5651e-04\n",
      "education_level_D3 - S2: 1.4966e-03\n",
      "education_level_S1: 3.6545e-03\n",
      "education_level_S1 - S2: 2.3461e-03\n",
      "education_level_S1 - S3: 5.9579e-04\n",
      "education_level_S3: 6.2153e-05\n",
      "education_level_SMA/SMU: 3.5299e-03\n",
      "education_level_SMA/SMU - S1: 2.3987e-03\n",
      "education_level_SMA/SMU - S2: 4.6493e-04\n",
      "education_level_Tidak terspesifikasi: 1.7973e-03\n"
     ]
    }
   ],
   "source": [
    "parameter_estimate  = modelRF.feature_importances_\n",
    "for variable, parameter_estimate  in zip(X_train_new.columns, parameter_estimate):\n",
    "    print(f'{variable}: {parameter_estimate :.4e}')"
   ]
  },
  {
   "cell_type": "markdown",
   "metadata": {},
   "source": [
    "**Visualisasi Data Koefisien**"
   ]
  },
  {
   "cell_type": "code",
   "execution_count": 42,
   "metadata": {},
   "outputs": [
    {
     "data": {
      "image/png": "[encoded data removed]",
      "text/plain": [
       "<Figure size 1000x500 with 1 Axes>"
      ]
     },
     "metadata": {},
     "output_type": "display_data"
    }
   ],
   "source": [
    "plt.bar(range(len(modelRF.feature_importances_)), modelRF.feature_importances_)\n",
    "plt.xlabel('Variabel')\n",
    "plt.ylabel('Koefisien')\n",
    "plt.title('Koefisien Random Forest Regressor')\n",
    "plt.xticks(range(len(modelRF.feature_importances_)), X_train_new.columns, rotation=90)\n",
    "plt.show()"
   ]
  },
  {
   "cell_type": "code",
   "execution_count": 43,
   "metadata": {},
   "outputs": [],
   "source": [
    "absolute_error_rf_train = np.abs(y_train - modelRF.predict(X_train_new))\n",
    "percentage_error_rf_train = absolute_error_rf_train / y_train * 100"
   ]
  },
  {
   "cell_type": "code",
   "execution_count": 44,
   "metadata": {},
   "outputs": [
    {
     "name": "stdout",
     "output_type": "stream",
     "text": [
      "-------- Training Data Random Forest ---------\n",
      "MSE  : 907162188136.5917\n",
      "MAE  : 516033.2407\n",
      "RMSE : 952450.6224\n",
      "MAD  : 516033.2407\n",
      "MAPE  : 10.1368\n"
     ]
    }
   ],
   "source": [
    "print('-------- Training Data Random Forest ---------')\n",
    "y_train_pred_rf = modelRF.predict(X_train_new)\n",
    "print(\"MSE  :\", \"{:.4f}\".format(mean_squared_error(y_train, y_train_pred_rf)))\n",
    "print(\"MAE  :\", \"{:.4f}\".format(mean_absolute_error(y_train, y_train_pred_rf)))\n",
    "print(\"RMSE :\", \"{:.4f}\".format(math.sqrt(mean_squared_error(y_train, y_train_pred_rf))))\n",
    "print(\"MAD  :\", \"{:.4f}\".format(np.mean(np.abs(y_train - y_train_pred_rf))))\n",
    "print(\"MAPE  :\", \"{:.4f}\".format(np.mean(percentage_error_rf_train)))\n"
   ]
  },
  {
   "cell_type": "code",
   "execution_count": 45,
   "metadata": {},
   "outputs": [],
   "source": [
    "absolute_error_rf_test = np.abs(y_test - modelRF.predict(X_test_new))\n",
    "percentage_error_rf_test = absolute_error_rf_test / y_test * 100"
   ]
  },
  {
   "cell_type": "code",
   "execution_count": 46,
   "metadata": {},
   "outputs": [
    {
     "name": "stdout",
     "output_type": "stream",
     "text": [
      "\n",
      "-------- Testing Data Random Forest ---------\n",
      "MSE  : 1052863911034.9402\n",
      "MAE  : 546049.9975198336\n",
      "RMSE : 1026091.570492098\n",
      "MAD  : 546049.9975198336\n",
      "MAPE  : 10.6946\n"
     ]
    }
   ],
   "source": [
    "print('\\n-------- Testing Data Random Forest ---------')\n",
    "y_test_pred_rf = modelRF.predict(X_test_new)\n",
    "print(\"MSE  :\", mean_squared_error(y_test, y_test_pred_rf))\n",
    "print(\"MAE  :\", mean_absolute_error(y_test, y_test_pred_rf))\n",
    "print(\"RMSE :\", math.sqrt(mean_squared_error(y_test, y_test_pred_rf)))\n",
    "print(\"MAD  :\", np.mean(np.abs(y_test - y_test_pred_rf)))\n",
    "print(\"MAPE  :\", \"{:.4f}\".format(np.mean(percentage_error_rf_test)))"
   ]
  },
  {
   "cell_type": "markdown",
   "metadata": {},
   "source": [
    "# Tes Ulang "
   ]
  },
  {
   "cell_type": "code",
   "execution_count": 47,
   "metadata": {},
   "outputs": [],
   "source": [
    "X_train_ulang = pd.concat([X_train, X_train_career, X_train_experience], axis=1)\n",
    "X_train_ulang.drop(columns=['career_level', 'experience_level', 'employment_type', 'education_level'],inplace=True)\n",
    "\n",
    "X_test_ulang = pd.concat([X_test, X_test_career, X_test_experience], axis=1)\n",
    "X_test_ulang.drop(columns=['career_level', 'experience_level', 'employment_type', 'education_level'],inplace=True)"
   ]
  },
  {
   "cell_type": "markdown",
   "metadata": {},
   "source": [
    "**Metode OLS**"
   ]
  },
  {
   "cell_type": "code",
   "execution_count": 48,
   "metadata": {},
   "outputs": [
    {
     "name": "stdout",
     "output_type": "stream",
     "text": [
      "                            OLS Regression Results                            \n",
      "==============================================================================\n",
      "Dep. Variable:                 salary   R-squared:                       0.747\n",
      "Model:                            OLS   Adj. R-squared:                  0.747\n",
      "Method:                 Least Squares   F-statistic:                     4432.\n",
      "Date:                Sun, 18 Jun 2023   Prob (F-statistic):               0.00\n",
      "Time:                        20:37:29   Log-Likelihood:            -2.9700e+05\n",
      "No. Observations:               19516   AIC:                         5.940e+05\n",
      "Df Residuals:                   19502   BIC:                         5.941e+05\n",
      "Df Model:                          13                                         \n",
      "Covariance Type:            nonrobust                                         \n",
      "==================================================================================================================================\n",
      "                                                                     coef    std err          t      P>|t|      [0.025      0.975]\n",
      "----------------------------------------------------------------------------------------------------------------------------------\n",
      "const                                                           5.435e+06   1.16e+05     46.676      0.000    5.21e+06    5.66e+06\n",
      "career_level_CEO/GM/Direktur/Manajer Senior                     1.222e+06   1.12e+05     10.949      0.000       1e+06    1.44e+06\n",
      "career_level_Lulusan baru/Pengalaman kerja kurang dari 1 tahun  4.796e+05   8.29e+04      5.782      0.000    3.17e+05    6.42e+05\n",
      "career_level_Manajer/Asisten Manajer                            1.238e+06   7.96e+04     15.555      0.000    1.08e+06    1.39e+06\n",
      "career_level_Pegawai (non-manajemen & non-supervisor)           7.214e+05    7.8e+04      9.249      0.000    5.69e+05    8.74e+05\n",
      "career_level_Supervisor/Koordinator                             9.705e+05   7.86e+04     12.342      0.000    8.16e+05    1.12e+06\n",
      "career_level_Tidak Terspesifikasi                               8.038e+05   4.29e+05      1.874      0.061   -3.69e+04    1.64e+06\n",
      "experience_level_1.0                                           -1.536e+06   1.18e+05    -12.990      0.000   -1.77e+06    -1.3e+06\n",
      "experience_level_1.5                                           -2.044e+06   1.97e+05    -10.373      0.000   -2.43e+06   -1.66e+06\n",
      "experience_level_2.0                                           -8.038e+05   1.18e+05     -6.797      0.000   -1.04e+06   -5.72e+05\n",
      "experience_level_2.5                                           -8.556e+05   3.36e+05     -2.550      0.011   -1.51e+06   -1.98e+05\n",
      "experience_level_3.0                                            6.954e+05   1.18e+05      5.869      0.000    4.63e+05    9.28e+05\n",
      "experience_level_4.0                                            1.862e+06   1.23e+05     15.108      0.000    1.62e+06     2.1e+06\n",
      "experience_level_4.5                                            3.228e+06   8.87e+05      3.639      0.000    1.49e+06    4.97e+06\n",
      "experience_level_5.0                                            3.565e+06   1.19e+05     29.859      0.000    3.33e+06     3.8e+06\n",
      "experience_level_6.0                                            1.325e+06    4.1e+05      3.228      0.001     5.2e+05    2.13e+06\n",
      "==============================================================================\n",
      "Omnibus:                     3200.344   Durbin-Watson:                   2.015\n",
      "Prob(Omnibus):                  0.000   Jarque-Bera (JB):            63360.432\n",
      "Skew:                           0.114   Prob(JB):                         0.00\n",
      "Kurtosis:                      11.824   Cond. No.                     4.42e+15\n",
      "==============================================================================\n",
      "\n",
      "Notes:\n",
      "[1] Standard Errors assume that the covariance matrix of the errors is correctly specified.\n",
      "[2] The smallest eigenvalue is 1.8e-27. This might indicate that there are\n",
      "strong multicollinearity problems or that the design matrix is singular.\n"
     ]
    }
   ],
   "source": [
    "X_train_ulang_ols = sm.add_constant(X_train_ulang)\n",
    "ModelOLS_ulang = sm.OLS(y_train, X_train_ulang_ols).fit()\n",
    "print(ModelOLS_ulang.summary())"
   ]
  },
  {
   "cell_type": "code",
   "execution_count": 49,
   "metadata": {},
   "outputs": [],
   "source": [
    "# Rumus MAPE Training Data\n",
    "absolute_error_OLS_train = np.abs(y_train - ModelOLS_ulang.predict(X_train_ulang_ols))\n",
    "percentage_error_OLS_train = absolute_error_OLS_train / y_train * 100"
   ]
  },
  {
   "cell_type": "code",
   "execution_count": 50,
   "metadata": {},
   "outputs": [
    {
     "name": "stdout",
     "output_type": "stream",
     "text": [
      "-------- Training Data OLS ---------\n",
      "MSE  : 968483169405.9230\n",
      "MAE  : 499032.4589\n",
      "RMSE : 984115.4248\n",
      "MAD  : 499032.4589\n",
      "MAPE  : 9.8312\n"
     ]
    }
   ],
   "source": [
    "print('-------- Training Data OLS ---------')\n",
    "y_train_OLS = ModelOLS_ulang.predict(sm.add_constant(X_train_ulang))\n",
    "print(\"MSE  :\", \"{:.4f}\".format(mean_squared_error(y_train, y_train_OLS)))\n",
    "print(\"MAE  :\", \"{:.4f}\".format(mean_absolute_error(y_train, y_train_OLS)))\n",
    "print(\"RMSE :\", \"{:.4f}\".format(math.sqrt(mean_squared_error(y_train, y_train_OLS))))\n",
    "print(\"MAD  :\", \"{:.4f}\".format(np.mean(np.abs(y_train - y_train_OLS))))\n",
    "print(\"MAPE  :\", \"{:.4f}\".format(np.mean(percentage_error_OLS_train)))"
   ]
  },
  {
   "cell_type": "code",
   "execution_count": 51,
   "metadata": {},
   "outputs": [],
   "source": [
    "# Rumus MAPE Testing Data\n",
    "absolute_error_OLS_test = np.abs(y_test - ModelOLS_ulang.predict(sm.add_constant(X_test_ulang)))\n",
    "percentage_error_OLS_test = absolute_error_OLS_test / y_test * 100"
   ]
  },
  {
   "cell_type": "code",
   "execution_count": 52,
   "metadata": {},
   "outputs": [
    {
     "name": "stdout",
     "output_type": "stream",
     "text": [
      "-------- Testing Data OLS ---------\n",
      "MSE  : 1070156181146.8113\n",
      "MAE  : 515779.4211540095\n",
      "RMSE : 1034483.5335310134\n",
      "MAD  : 515779.4211540095\n",
      "MAPE  : 10.1371\n"
     ]
    }
   ],
   "source": [
    "print('-------- Testing Data OLS ---------')\n",
    "y_test_OLS = ModelOLS_ulang.predict(sm.add_constant(X_test_ulang))\n",
    "print(\"MSE  :\", mean_squared_error(y_test, y_test_OLS))\n",
    "print(\"MAE  :\", mean_absolute_error(y_test, y_test_OLS))\n",
    "print(\"RMSE :\", math.sqrt(mean_squared_error(y_test, y_test_OLS)))\n",
    "print(\"MAD  :\", np.mean(np.abs(y_test - y_test_OLS)))\n",
    "print(\"MAPE  :\", \"{:.4f}\".format(np.mean(percentage_error_OLS_test)))"
   ]
  },
  {
   "cell_type": "markdown",
   "metadata": {},
   "source": [
    "**Metode Random Forest**"
   ]
  },
  {
   "cell_type": "code",
   "execution_count": 53,
   "metadata": {},
   "outputs": [
    {
     "data": {
      "text/html": [
       "<style>#sk-container-id-2 {color: black;background-color: white;}#sk-container-id-2 pre{padding: 0;}#sk-container-id-2 div.sk-toggleable {background-color: white;}#sk-container-id-2 label.sk-toggleable__label {cursor: pointer;display: block;width: 100%;margin-bottom: 0;padding: 0.3em;box-sizing: border-box;text-align: center;}#sk-container-id-2 label.sk-toggleable__label-arrow:before {content: \"▸\";float: left;margin-right: 0.25em;color: #696969;}#sk-container-id-2 label.sk-toggleable__label-arrow:hover:before {color: black;}#sk-container-id-2 div.sk-estimator:hover label.sk-toggleable__label-arrow:before {color: black;}#sk-container-id-2 div.sk-toggleable__content {max-height: 0;max-width: 0;overflow: hidden;text-align: left;background-color: #f0f8ff;}#sk-container-id-2 div.sk-toggleable__content pre {margin: 0.2em;color: black;border-radius: 0.25em;background-color: #f0f8ff;}#sk-container-id-2 input.sk-toggleable__control:checked~div.sk-toggleable__content {max-height: 200px;max-width: 100%;overflow: auto;}#sk-container-id-2 input.sk-toggleable__control:checked~label.sk-toggleable__label-arrow:before {content: \"▾\";}#sk-container-id-2 div.sk-estimator input.sk-toggleable__control:checked~label.sk-toggleable__label {background-color: #d4ebff;}#sk-container-id-2 div.sk-label input.sk-toggleable__control:checked~label.sk-toggleable__label {background-color: #d4ebff;}#sk-container-id-2 input.sk-hidden--visually {border: 0;clip: rect(1px 1px 1px 1px);clip: rect(1px, 1px, 1px, 1px);height: 1px;margin: -1px;overflow: hidden;padding: 0;position: absolute;width: 1px;}#sk-container-id-2 div.sk-estimator {font-family: monospace;background-color: #f0f8ff;border: 1px dotted black;border-radius: 0.25em;box-sizing: border-box;margin-bottom: 0.5em;}#sk-container-id-2 div.sk-estimator:hover {background-color: #d4ebff;}#sk-container-id-2 div.sk-parallel-item::after {content: \"\";width: 100%;border-bottom: 1px solid gray;flex-grow: 1;}#sk-container-id-2 div.sk-label:hover label.sk-toggleable__label {background-color: #d4ebff;}#sk-container-id-2 div.sk-serial::before {content: \"\";position: absolute;border-left: 1px solid gray;box-sizing: border-box;top: 0;bottom: 0;left: 50%;z-index: 0;}#sk-container-id-2 div.sk-serial {display: flex;flex-direction: column;align-items: center;background-color: white;padding-right: 0.2em;padding-left: 0.2em;position: relative;}#sk-container-id-2 div.sk-item {position: relative;z-index: 1;}#sk-container-id-2 div.sk-parallel {display: flex;align-items: stretch;justify-content: center;background-color: white;position: relative;}#sk-container-id-2 div.sk-item::before, #sk-container-id-2 div.sk-parallel-item::before {content: \"\";position: absolute;border-left: 1px solid gray;box-sizing: border-box;top: 0;bottom: 0;left: 50%;z-index: -1;}#sk-container-id-2 div.sk-parallel-item {display: flex;flex-direction: column;z-index: 1;position: relative;background-color: white;}#sk-container-id-2 div.sk-parallel-item:first-child::after {align-self: flex-end;width: 50%;}#sk-container-id-2 div.sk-parallel-item:last-child::after {align-self: flex-start;width: 50%;}#sk-container-id-2 div.sk-parallel-item:only-child::after {width: 0;}#sk-container-id-2 div.sk-dashed-wrapped {border: 1px dashed gray;margin: 0 0.4em 0.5em 0.4em;box-sizing: border-box;padding-bottom: 0.4em;background-color: white;}#sk-container-id-2 div.sk-label label {font-family: monospace;font-weight: bold;display: inline-block;line-height: 1.2em;}#sk-container-id-2 div.sk-label-container {text-align: center;}#sk-container-id-2 div.sk-container {/* jupyter's `normalize.less` sets `[hidden] { display: none; }` but bootstrap.min.css set `[hidden] { display: none !important; }` so we also need the `!important` here to be able to override the default hidden behavior on the sphinx rendered scikit-learn.org. See: https://github.com/scikit-learn/scikit-learn/issues/21755 */display: inline-block !important;position: relative;}#sk-container-id-2 div.sk-text-repr-fallback {display: none;}</style><div id=\"sk-container-id-2\" class=\"sk-top-container\"><div class=\"sk-text-repr-fallback\"><pre>RandomForestRegressor(random_state=0)</pre><b>In a Jupyter environment, please rerun this cell to show the HTML representation or trust the notebook. <br />On GitHub, the HTML representation is unable to render, please try loading this page with nbviewer.org.</b></div><div class=\"sk-container\" hidden><div class=\"sk-item\"><div class=\"sk-estimator sk-toggleable\"><input class=\"sk-toggleable__control sk-hidden--visually\" id=\"sk-estimator-id-2\" type=\"checkbox\" checked><label for=\"sk-estimator-id-2\" class=\"sk-toggleable__label sk-toggleable__label-arrow\">RandomForestRegressor</label><div class=\"sk-toggleable__content\"><pre>RandomForestRegressor(random_state=0)</pre></div></div></div></div></div>"
      ],
      "text/plain": [
       "RandomForestRegressor(random_state=0)"
      ]
     },
     "execution_count": 53,
     "metadata": {},
     "output_type": "execute_result"
    }
   ],
   "source": [
    "modelRF_ulang = RandomForestRegressor(n_estimators=100, random_state=0)\n",
    "modelRF_ulang.fit(X_train_ulang, y_train)"
   ]
  },
  {
   "cell_type": "code",
   "execution_count": 54,
   "metadata": {},
   "outputs": [
    {
     "name": "stdout",
     "output_type": "stream",
     "text": [
      "career_level_CEO/GM/Direktur/Manajer Senior: 2.1542e-04\n",
      "career_level_Lulusan baru/Pengalaman kerja kurang dari 1 tahun: 1.6971e-03\n",
      "career_level_Manajer/Asisten Manajer: 2.8915e-03\n",
      "career_level_Pegawai (non-manajemen & non-supervisor): 4.6632e-03\n",
      "career_level_Supervisor/Koordinator: 5.9683e-04\n",
      "career_level_Tidak Terspesifikasi: 2.4268e-06\n",
      "experience_level_1.0: 1.3043e-02\n",
      "experience_level_1.5: 4.0484e-04\n",
      "experience_level_2.0: 3.1161e-02\n",
      "experience_level_2.5: 3.1572e-05\n",
      "experience_level_3.0: 1.8916e-01\n",
      "experience_level_4.0: 1.0413e-01\n",
      "experience_level_4.5: 3.4456e-04\n",
      "experience_level_5.0: 6.5082e-01\n",
      "experience_level_6.0: 8.3222e-04\n"
     ]
    }
   ],
   "source": [
    "parameter_estimate  = modelRF_ulang.feature_importances_\n",
    "for variable, parameter_estimate  in zip(X_train_new.columns, parameter_estimate):\n",
    "    print(f'{variable}: {parameter_estimate :.4e}')"
   ]
  },
  {
   "cell_type": "code",
   "execution_count": 55,
   "metadata": {},
   "outputs": [],
   "source": [
    "absolute_error_rf_train = np.abs(y_train - modelRF_ulang.predict(X_train_ulang))\n",
    "percentage_error_rf_train = absolute_error_rf_train / y_train * 100"
   ]
  },
  {
   "cell_type": "code",
   "execution_count": 56,
   "metadata": {},
   "outputs": [
    {
     "name": "stdout",
     "output_type": "stream",
     "text": [
      "-------- Training Data Random Forest ---------\n",
      "MSE  : 966175175879.5380\n",
      "MAE  : 496263.0355\n",
      "RMSE : 982942.1020\n",
      "MAD  : 496263.0355\n",
      "MAPE  : 9.7964\n"
     ]
    }
   ],
   "source": [
    "print('-------- Training Data Random Forest ---------')\n",
    "y_train_pred_rf = modelRF_ulang.predict(X_train_ulang)\n",
    "print(\"MSE  :\", \"{:.4f}\".format(mean_squared_error(y_train, y_train_pred_rf)))\n",
    "print(\"MAE  :\", \"{:.4f}\".format(mean_absolute_error(y_train, y_train_pred_rf)))\n",
    "print(\"RMSE :\", \"{:.4f}\".format(math.sqrt(mean_squared_error(y_train, y_train_pred_rf))))\n",
    "print(\"MAD  :\", \"{:.4f}\".format(np.mean(np.abs(y_train - y_train_pred_rf))))\n",
    "print(\"MAPE  :\", \"{:.4f}\".format(np.mean(percentage_error_rf_train)))"
   ]
  },
  {
   "cell_type": "code",
   "execution_count": 57,
   "metadata": {},
   "outputs": [],
   "source": [
    "absolute_error_rf_test = np.abs(y_test - modelRF_ulang.predict(X_test_ulang))\n",
    "percentage_error_rf_test = absolute_error_rf_test / y_test * 100"
   ]
  },
  {
   "cell_type": "code",
   "execution_count": 58,
   "metadata": {},
   "outputs": [
    {
     "name": "stdout",
     "output_type": "stream",
     "text": [
      "\n",
      "-------- Testing Data Random Forest ---------\n",
      "MSE  : 1073491501804.0419\n",
      "MAE  : 514548.7870859019\n",
      "RMSE : 1036094.3498562484\n",
      "MAD  : 514548.7870859019\n",
      "MAPE  : 10.1199\n"
     ]
    }
   ],
   "source": [
    "print('\\n-------- Testing Data Random Forest ---------')\n",
    "y_test_pred_rf = modelRF_ulang.predict(X_test_ulang)\n",
    "print(\"MSE  :\", mean_squared_error(y_test, y_test_pred_rf))\n",
    "print(\"MAE  :\", mean_absolute_error(y_test, y_test_pred_rf))\n",
    "print(\"RMSE :\", math.sqrt(mean_squared_error(y_test, y_test_pred_rf)))\n",
    "print(\"MAD  :\", np.mean(np.abs(y_test - y_test_pred_rf)))\n",
    "print(\"MAPE  :\", \"{:.4f}\".format(np.mean(percentage_error_rf_test)))"
   ]
  }
 ],
 "metadata": {
  "kernelspec": {
   "display_name": "Python 3.10.9 ('base')",
   "language": "python",
   "name": "python3"
  },
  "language_info": {
   "codemirror_mode": {
    "name": "ipython",
    "version": 3
   },
   "file_extension": ".py",
   "mimetype": "text/x-python",
   "name": "python",
   "nbconvert_exporter": "python",
   "pygments_lexer": "ipython3",
   "version": "3.10.9"
  },
  "orig_nbformat": 4,
  "vscode": {
   "interpreter": {
    "hash": "5faf7cf2303f867cb700a72830a1531b1508ead491941f06aa8dbd992b2ea060"
   }
  }
 },
 "nbformat": 4,
 "nbformat_minor": 2
}
