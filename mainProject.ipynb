{
 "cells": [
  {
   "cell_type": "markdown",
   "metadata": {},
   "source": [
    "**1. Read and import data**"
   ]
  },
  {
   "cell_type": "code",
   "execution_count": 1,
   "metadata": {},
   "outputs": [],
   "source": [
    "import numpy as np\n",
    "import pandas as pd\n",
    "\n",
    "import matplotlib.pyplot as plt\n",
    "import seaborn as sns\n",
    "\n",
    "import statsmodels.api as sm\n",
    "import statsmodels.formula.api as smf\n",
    "\n",
    "from sklearn.linear_model import LinearRegression\n",
    "from sklearn.ensemble import RandomForestRegressor\n",
    "from sklearn.model_selection import train_test_split\n",
    "from sklearn.metrics import mean_squared_error"
   ]
  },
  {
   "cell_type": "code",
   "execution_count": 2,
   "metadata": {},
   "outputs": [],
   "source": [
    "dataset = pd.read_csv('./data/salary.csv', sep='|')"
   ]
  },
  {
   "cell_type": "code",
   "execution_count": 3,
   "metadata": {},
   "outputs": [
    {
     "data": {
      "text/html": [
       "<div>\n",
       "<style scoped>\n",
       "    .dataframe tbody tr th:only-of-type {\n",
       "        vertical-align: middle;\n",
       "    }\n",
       "\n",
       "    .dataframe tbody tr th {\n",
       "        vertical-align: top;\n",
       "    }\n",
       "\n",
       "    .dataframe thead th {\n",
       "        text-align: right;\n",
       "    }\n",
       "</style>\n",
       "<table border=\"1\" class=\"dataframe\">\n",
       "  <thead>\n",
       "    <tr style=\"text-align: right;\">\n",
       "      <th></th>\n",
       "      <th>id</th>\n",
       "      <th>job_title</th>\n",
       "      <th>location</th>\n",
       "      <th>salary_currency</th>\n",
       "      <th>career_level</th>\n",
       "      <th>experience_level</th>\n",
       "      <th>education_level</th>\n",
       "      <th>employment_type</th>\n",
       "      <th>job_function</th>\n",
       "      <th>job_benefits</th>\n",
       "      <th>company_process_time</th>\n",
       "      <th>company_size</th>\n",
       "      <th>company_industry</th>\n",
       "      <th>job_description</th>\n",
       "      <th>salary</th>\n",
       "    </tr>\n",
       "  </thead>\n",
       "  <tbody>\n",
       "    <tr>\n",
       "      <th>0</th>\n",
       "      <td>1</td>\n",
       "      <td>Facility Maintenance &amp; Smart Warehouse Manager</td>\n",
       "      <td>Bandung</td>\n",
       "      <td>IDR</td>\n",
       "      <td>Manajer/Asisten Manajer</td>\n",
       "      <td>5 tahun</td>\n",
       "      <td>Sertifikat Professional, D3 (Diploma), D4 (Dip...</td>\n",
       "      <td>Penuh Waktu</td>\n",
       "      <td>Manufaktur,Pemeliharaan</td>\n",
       "      <td>NaN</td>\n",
       "      <td>NaN</td>\n",
       "      <td>NaN</td>\n",
       "      <td>NaN</td>\n",
       "      <td>Deskripsi PekerjaanRequirements :D3/SI from re...</td>\n",
       "      <td>NaN</td>\n",
       "    </tr>\n",
       "    <tr>\n",
       "      <th>1</th>\n",
       "      <td>2</td>\n",
       "      <td>Procurement Department Head</td>\n",
       "      <td>Jakarta Raya</td>\n",
       "      <td>IDR</td>\n",
       "      <td>Manajer/Asisten Manajer</td>\n",
       "      <td>5 tahun</td>\n",
       "      <td>Sarjana (S1), Diploma Pascasarjana, Gelar Prof...</td>\n",
       "      <td>Penuh Waktu</td>\n",
       "      <td>Manufaktur,Pembelian/Manajemen Material</td>\n",
       "      <td>NaN</td>\n",
       "      <td>25 days</td>\n",
       "      <td>51 - 200 pekerja</td>\n",
       "      <td>Manajemen/Konsulting HR</td>\n",
       "      <td>Job Role: 1. Responsible for material availabi...</td>\n",
       "      <td>NaN</td>\n",
       "    </tr>\n",
       "  </tbody>\n",
       "</table>\n",
       "</div>"
      ],
      "text/plain": [
       "   id                                       job_title      location  \\\n",
       "0   1  Facility Maintenance & Smart Warehouse Manager       Bandung   \n",
       "1   2                     Procurement Department Head  Jakarta Raya   \n",
       "\n",
       "  salary_currency             career_level experience_level  \\\n",
       "0             IDR  Manajer/Asisten Manajer          5 tahun   \n",
       "1             IDR  Manajer/Asisten Manajer          5 tahun   \n",
       "\n",
       "                                     education_level employment_type  \\\n",
       "0  Sertifikat Professional, D3 (Diploma), D4 (Dip...     Penuh Waktu   \n",
       "1  Sarjana (S1), Diploma Pascasarjana, Gelar Prof...     Penuh Waktu   \n",
       "\n",
       "                              job_function job_benefits company_process_time  \\\n",
       "0                  Manufaktur,Pemeliharaan          NaN                  NaN   \n",
       "1  Manufaktur,Pembelian/Manajemen Material          NaN              25 days   \n",
       "\n",
       "       company_size         company_industry  \\\n",
       "0               NaN                      NaN   \n",
       "1  51 - 200 pekerja  Manajemen/Konsulting HR   \n",
       "\n",
       "                                     job_description  salary  \n",
       "0  Deskripsi PekerjaanRequirements :D3/SI from re...     NaN  \n",
       "1  Job Role: 1. Responsible for material availabi...     NaN  "
      ]
     },
     "execution_count": 3,
     "metadata": {},
     "output_type": "execute_result"
    }
   ],
   "source": [
    "dataset.head(2)"
   ]
  },
  {
   "cell_type": "markdown",
   "metadata": {},
   "source": [
    "**2. Cleaning the data**"
   ]
  },
  {
   "cell_type": "code",
   "execution_count": 4,
   "metadata": {},
   "outputs": [],
   "source": [
    "# Size grafik\n",
    "sns.set(rc={'figure.figsize':(10, 5)})"
   ]
  },
  {
   "cell_type": "code",
   "execution_count": 5,
   "metadata": {},
   "outputs": [
    {
     "name": "stdout",
     "output_type": "stream",
     "text": [
      "<class 'pandas.core.frame.DataFrame'>\n",
      "RangeIndex: 34746 entries, 0 to 34745\n",
      "Data columns (total 15 columns):\n",
      "id                      34746 non-null int64\n",
      "job_title               34746 non-null object\n",
      "location                34746 non-null object\n",
      "salary_currency         34742 non-null object\n",
      "career_level            34746 non-null object\n",
      "experience_level        30205 non-null object\n",
      "education_level         34746 non-null object\n",
      "employment_type         33402 non-null object\n",
      "job_function            34746 non-null object\n",
      "job_benefits            27330 non-null object\n",
      "company_process_time    24555 non-null object\n",
      "company_size            29103 non-null object\n",
      "company_industry        33132 non-null object\n",
      "job_description         34745 non-null object\n",
      "salary                  9352 non-null float64\n",
      "dtypes: float64(1), int64(1), object(13)\n",
      "memory usage: 4.0+ MB\n"
     ]
    }
   ],
   "source": [
    "dataset.info()"
   ]
  },
  {
   "cell_type": "code",
   "execution_count": 6,
   "metadata": {},
   "outputs": [
    {
     "data": {
      "text/plain": [
       "id                          0\n",
       "job_title                   0\n",
       "location                    0\n",
       "salary_currency             4\n",
       "career_level                0\n",
       "experience_level         4541\n",
       "education_level             0\n",
       "employment_type          1344\n",
       "job_function                0\n",
       "job_benefits             7416\n",
       "company_process_time    10191\n",
       "company_size             5643\n",
       "company_industry         1614\n",
       "job_description             1\n",
       "salary                  25394\n",
       "dtype: int64"
      ]
     },
     "execution_count": 6,
     "metadata": {},
     "output_type": "execute_result"
    }
   ],
   "source": [
    "# Check null values\n",
    "dataset.isnull().sum()"
   ]
  },
  {
   "cell_type": "code",
   "execution_count": 7,
   "metadata": {},
   "outputs": [],
   "source": [
    "# Remove Column \n",
    "dataset = dataset.drop(labels=[\"id\", \"salary_currency\", \"job_benefits\", \"job_function\", \"job_description\",\n",
    "\"company_process_time\", \"company_size\", \"company_industry\", \"employment_type\"], axis=1)"
   ]
  },
  {
   "cell_type": "markdown",
   "metadata": {},
   "source": [
    "Cleaning Salary"
   ]
  },
  {
   "cell_type": "code",
   "execution_count": 8,
   "metadata": {},
   "outputs": [],
   "source": [
    "# Mengisi data salary yang nan atau null dengan median\n",
    "dataset['salary'].fillna(dataset.groupby([\"experience_level\"])['salary'].transform('median'), inplace=True)\n",
    "dataset['salary'] = dataset['salary'].round(0)"
   ]
  },
  {
   "cell_type": "markdown",
   "metadata": {},
   "source": [
    "Cleaning Experience Level"
   ]
  },
  {
   "cell_type": "code",
   "execution_count": 9,
   "metadata": {},
   "outputs": [],
   "source": [
    "# Convert experience_level str => float\n",
    "dataset[\"experience_level\"] = dataset[\"experience_level\"].str.replace(\"\\D\", \"\").fillna(0).astype('float')\n",
    "\n",
    "# Mengisi data experience_level yang 0 dengan median\n",
    "dataset['experience_level'].replace(to_replace=0, value=dataset.groupby([\"job_title\"])['experience_level'].transform('median'), inplace=True)"
   ]
  },
  {
   "cell_type": "markdown",
   "metadata": {},
   "source": [
    "Grouping Education Level"
   ]
  },
  {
   "cell_type": "code",
   "execution_count": 10,
   "metadata": {},
   "outputs": [],
   "source": [
    "# edu = []\n",
    "# for i in dataset['education_level']:\n",
    "#     if i == \"Diploma Pascasarjana, Gelar Professional, Magister (S2)\":\n",
    "#         edu.append('S1 - S2')\n",
    "                                                                                 \n",
    "#     else:\n",
    "#         edu.append('Tidak terspesifikasi')\n",
    "# dataset['education_level'] = edu"
   ]
  },
  {
   "cell_type": "markdown",
   "metadata": {},
   "source": [
    "Outlier"
   ]
  },
  {
   "cell_type": "code",
   "execution_count": 11,
   "metadata": {},
   "outputs": [],
   "source": [
    "dataset.dropna(inplace=True)"
   ]
  },
  {
   "cell_type": "code",
   "execution_count": 12,
   "metadata": {},
   "outputs": [
    {
     "data": {
      "image/png": "[encoded data removed]",
      "text/plain": [
       "<Figure size 720x360 with 1 Axes>"
      ]
     },
     "metadata": {},
     "output_type": "display_data"
    }
   ],
   "source": [
    "# Experience\n",
    "per25Exp = dataset['experience_level'].quantile(0.25)\n",
    "per75Exp = dataset['experience_level'].quantile(0.75)\n",
    "iqrExp = per75Exp - per25Exp\n",
    "\n",
    "lower_limit = per25Exp - 1.5 * iqrExp\n",
    "upper_limit = per75Exp + 1.5 * iqrExp\n",
    "\n",
    "dataset = dataset[~((dataset[\"experience_level\"] < (lower_limit)) | (dataset[\"experience_level\"] > (upper_limit)))]\n",
    "\n",
    "sns.boxplot(dataset[\"experience_level\"])\n",
    "plt.show()"
   ]
  },
  {
   "cell_type": "code",
   "execution_count": 13,
   "metadata": {},
   "outputs": [
    {
     "data": {
      "image/png": "[encoded data removed]",
      "text/plain": [
       "<Figure size 720x360 with 1 Axes>"
      ]
     },
     "metadata": {},
     "output_type": "display_data"
    }
   ],
   "source": [
    "# Salary\n",
    "per25Salary = dataset['salary'].quantile(0.25)\n",
    "per75Salary = dataset['salary'].quantile(0.75)\n",
    "iqrSalary = per75Salary - per25Salary\n",
    "\n",
    "lower_limit = per25Salary - 1.5 * iqrSalary\n",
    "upper_limit = per75Salary + 1.5 * iqrSalary\n",
    "\n",
    "dataset = dataset[~((dataset[\"salary\"] < (lower_limit)) | (dataset[\"salary\"] > (upper_limit)))]\n",
    "\n",
    "sns.boxplot(dataset[\"salary\"])\n",
    "plt.show()"
   ]
  },
  {
   "cell_type": "markdown",
   "metadata": {},
   "source": [
    "Convert Type"
   ]
  },
  {
   "cell_type": "code",
   "execution_count": 14,
   "metadata": {},
   "outputs": [],
   "source": [
    "dataset['career_level'] = dataset['career_level'].astype(\"category\")\n",
    "dataset['experience_level'] = dataset['experience_level'].astype(\"category\")\n",
    "dataset['education_level'] = dataset['education_level'].astype(\"category\")"
   ]
  },
  {
   "cell_type": "markdown",
   "metadata": {},
   "source": [
    "Result Cleaning"
   ]
  },
  {
   "cell_type": "code",
   "execution_count": 15,
   "metadata": {},
   "outputs": [
    {
     "data": {
      "text/plain": [
       "(28607, 6)"
      ]
     },
     "execution_count": 15,
     "metadata": {},
     "output_type": "execute_result"
    }
   ],
   "source": [
    "dataset.shape"
   ]
  },
  {
   "cell_type": "code",
   "execution_count": 16,
   "metadata": {},
   "outputs": [
    {
     "name": "stdout",
     "output_type": "stream",
     "text": [
      "<class 'pandas.core.frame.DataFrame'>\n",
      "Int64Index: 28607 entries, 0 to 34745\n",
      "Data columns (total 6 columns):\n",
      "job_title           28607 non-null object\n",
      "location            28607 non-null object\n",
      "career_level        28607 non-null category\n",
      "experience_level    28607 non-null category\n",
      "education_level     28607 non-null category\n",
      "salary              28607 non-null float64\n",
      "dtypes: category(3), float64(1), object(2)\n",
      "memory usage: 979.1+ KB\n"
     ]
    }
   ],
   "source": [
    "dataset.info()"
   ]
  },
  {
   "cell_type": "code",
   "execution_count": 17,
   "metadata": {},
   "outputs": [
    {
     "data": {
      "text/plain": [
       "job_title           0\n",
       "location            0\n",
       "career_level        0\n",
       "experience_level    0\n",
       "education_level     0\n",
       "salary              0\n",
       "dtype: int64"
      ]
     },
     "execution_count": 17,
     "metadata": {},
     "output_type": "execute_result"
    }
   ],
   "source": [
    "# Check null values\n",
    "dataset.isnull().sum()"
   ]
  },
  {
   "cell_type": "code",
   "execution_count": 18,
   "metadata": {},
   "outputs": [
    {
     "data": {
      "text/html": [
       "<div>\n",
       "<style scoped>\n",
       "    .dataframe tbody tr th:only-of-type {\n",
       "        vertical-align: middle;\n",
       "    }\n",
       "\n",
       "    .dataframe tbody tr th {\n",
       "        vertical-align: top;\n",
       "    }\n",
       "\n",
       "    .dataframe thead th {\n",
       "        text-align: right;\n",
       "    }\n",
       "</style>\n",
       "<table border=\"1\" class=\"dataframe\">\n",
       "  <thead>\n",
       "    <tr style=\"text-align: right;\">\n",
       "      <th></th>\n",
       "      <th>salary</th>\n",
       "    </tr>\n",
       "  </thead>\n",
       "  <tbody>\n",
       "    <tr>\n",
       "      <th>count</th>\n",
       "      <td>2.860700e+04</td>\n",
       "    </tr>\n",
       "    <tr>\n",
       "      <th>mean</th>\n",
       "      <td>5.980619e+06</td>\n",
       "    </tr>\n",
       "    <tr>\n",
       "      <th>std</th>\n",
       "      <td>1.923043e+06</td>\n",
       "    </tr>\n",
       "    <tr>\n",
       "      <th>min</th>\n",
       "      <td>9.600000e+05</td>\n",
       "    </tr>\n",
       "    <tr>\n",
       "      <th>25%</th>\n",
       "      <td>4.700000e+06</td>\n",
       "    </tr>\n",
       "    <tr>\n",
       "      <th>50%</th>\n",
       "      <td>5.500000e+06</td>\n",
       "    </tr>\n",
       "    <tr>\n",
       "      <th>75%</th>\n",
       "      <td>7.200000e+06</td>\n",
       "    </tr>\n",
       "    <tr>\n",
       "      <th>max</th>\n",
       "      <td>1.080000e+07</td>\n",
       "    </tr>\n",
       "  </tbody>\n",
       "</table>\n",
       "</div>"
      ],
      "text/plain": [
       "             salary\n",
       "count  2.860700e+04\n",
       "mean   5.980619e+06\n",
       "std    1.923043e+06\n",
       "min    9.600000e+05\n",
       "25%    4.700000e+06\n",
       "50%    5.500000e+06\n",
       "75%    7.200000e+06\n",
       "max    1.080000e+07"
      ]
     },
     "execution_count": 18,
     "metadata": {},
     "output_type": "execute_result"
    }
   ],
   "source": [
    "dataset.describe()"
   ]
  },
  {
   "cell_type": "markdown",
   "metadata": {},
   "source": [
    "**3. Predict the salary**"
   ]
  },
  {
   "cell_type": "code",
   "execution_count": 19,
   "metadata": {},
   "outputs": [],
   "source": [
    "X = pd.DataFrame(dataset, columns=[\"career_level\", \"experience_level\", \"education_level\"])\n",
    "Y = pd.DataFrame(dataset, columns=[\"salary\"])"
   ]
  },
  {
   "cell_type": "markdown",
   "metadata": {},
   "source": [
    "Metode OLS"
   ]
  },
  {
   "cell_type": "code",
   "execution_count": 20,
   "metadata": {},
   "outputs": [
    {
     "name": "stdout",
     "output_type": "stream",
     "text": [
      "                            OLS Regression Results                            \n",
      "==============================================================================\n",
      "Dep. Variable:                 salary   R-squared:                       0.736\n",
      "Model:                            OLS   Adj. R-squared:                  0.736\n",
      "Method:                 Least Squares   F-statistic:                     2492.\n",
      "Date:                Thu, 08 Jun 2023   Prob (F-statistic):               0.00\n",
      "Time:                        16:51:04   Log-Likelihood:            -4.3546e+05\n",
      "No. Observations:               28607   AIC:                         8.710e+05\n",
      "Df Residuals:                   28574   BIC:                         8.713e+05\n",
      "Df Model:                          32                                         \n",
      "Covariance Type:            nonrobust                                         \n",
      "=====================================================================================================================================================================================================================\n",
      "                                                                                                                                                        coef    std err          t      P>|t|      [0.025      0.975]\n",
      "---------------------------------------------------------------------------------------------------------------------------------------------------------------------------------------------------------------------\n",
      "Intercept                                                                                                                                          4.761e+06   1.44e+05     33.023      0.000    4.48e+06    5.04e+06\n",
      "career_level[T.Lulusan baru/Pengalaman kerja kurang dari 1 tahun]                                                                                 -5.044e+05   9.08e+04     -5.553      0.000   -6.82e+05   -3.26e+05\n",
      "career_level[T.Manajer/Asisten Manajer]                                                                                                            4.991e+04   8.45e+04      0.591      0.555   -1.16e+05    2.15e+05\n",
      "career_level[T.Pegawai (non-manajemen & non-supervisor)]                                                                                          -4.048e+05   8.42e+04     -4.806      0.000    -5.7e+05    -2.4e+05\n",
      "career_level[T.Supervisor/Koordinator]                                                                                                            -2.055e+05   8.42e+04     -2.440      0.015   -3.71e+05   -4.04e+04\n",
      "experience_level[T.0.5]                                                                                                                            2.653e+05   1.95e+05      1.358      0.175   -1.18e+05    6.48e+05\n",
      "experience_level[T.1.0]                                                                                                                            4.801e+05   4.93e+04      9.738      0.000    3.83e+05    5.77e+05\n",
      "experience_level[T.1.5]                                                                                                                            5.703e+05   2.44e+05      2.336      0.020    9.17e+04    1.05e+06\n",
      "experience_level[T.2.0]                                                                                                                            1.139e+06   5.03e+04     22.637      0.000    1.04e+06    1.24e+06\n",
      "experience_level[T.2.5]                                                                                                                            3.172e+06   9.89e+05      3.206      0.001    1.23e+06    5.11e+06\n",
      "experience_level[T.3.0]                                                                                                                            2.544e+06   5.15e+04     49.421      0.000    2.44e+06    2.64e+06\n",
      "experience_level[T.4.0]                                                                                                                            3.626e+06   6.07e+04     59.695      0.000    3.51e+06    3.74e+06\n",
      "experience_level[T.5.0]                                                                                                                            5.363e+06    5.4e+04     99.342      0.000    5.26e+06    5.47e+06\n",
      "experience_level[T.6.0]                                                                                                                             3.22e+06   4.45e+05      7.235      0.000    2.35e+06    4.09e+06\n",
      "education_level[T.Diploma Pascasarjana, Gelar Professional, Magister (S2), Doktor (S3)]                                                             8.87e+04   2.14e+05      0.414      0.679   -3.31e+05    5.09e+05\n",
      "education_level[T.Doktor (S3)]                                                                                                                      5.76e+05   3.32e+05      1.737      0.082    -7.4e+04    1.23e+06\n",
      "education_level[T.SMA, SMU/SMK/STM]                                                                                                               -5.243e+05   1.13e+05     -4.627      0.000   -7.46e+05   -3.02e+05\n",
      "education_level[T.SMA, SMU/SMK/STM, Sarjana (S1)]                                                                                                  -4.32e+05    1.4e+05     -3.094      0.002   -7.06e+05   -1.58e+05\n",
      "education_level[T.SMA, SMU/SMK/STM, Sarjana (S1), Diploma Pascasarjana, Gelar Professional, Magister (S2)]                                        -9.098e+05   2.64e+05     -3.444      0.001   -1.43e+06   -3.92e+05\n",
      "education_level[T.SMA, SMU/SMK/STM, Sarjana (S1), Doktor (S3)]                                                                                    -1.359e+05   9.94e+05     -0.137      0.891   -2.09e+06    1.81e+06\n",
      "education_level[T.SMA, SMU/SMK/STM, Sertifikat Professional, D3 (Diploma), D4 (Diploma)]                                                          -2.997e+05   1.17e+05     -2.566      0.010   -5.29e+05   -7.08e+04\n",
      "education_level[T.SMA, SMU/SMK/STM, Sertifikat Professional, D3 (Diploma), D4 (Diploma), Diploma Pascasarjana, Gelar Professional, Magister (S2)]  7.216e+04    3.9e+05      0.185      0.853   -6.92e+05    8.36e+05\n",
      "education_level[T.SMA, SMU/SMK/STM, Sertifikat Professional, D3 (Diploma), D4 (Diploma), Sarjana (S1)]                                            -1.936e+05   1.13e+05     -1.719      0.086   -4.14e+05    2.72e+04\n",
      "education_level[T.Sarjana (S1)]                                                                                                                    7.157e+04   1.11e+05      0.644      0.520   -1.46e+05     2.9e+05\n",
      "education_level[T.Sarjana (S1), Diploma Pascasarjana, Gelar Professional, Magister (S2)]                                                           1.325e+05   1.13e+05      1.170      0.242   -8.95e+04    3.54e+05\n",
      "education_level[T.Sarjana (S1), Diploma Pascasarjana, Gelar Professional, Magister (S2), Doktor (S3)]                                              2.444e+05   1.66e+05      1.474      0.141   -8.06e+04    5.69e+05\n",
      "education_level[T.Sarjana (S1), Doktor (S3)]                                                                                                       -1.11e+04   3.32e+05     -0.033      0.973   -6.61e+05    6.39e+05\n",
      "education_level[T.Sertifikat Professional, D3 (Diploma), D4 (Diploma)]                                                                            -2.376e+05   1.13e+05     -2.094      0.036    -4.6e+05   -1.53e+04\n",
      "education_level[T.Sertifikat Professional, D3 (Diploma), D4 (Diploma), Diploma Pascasarjana, Gelar Professional, Magister (S2)]                    4.582e+05   2.64e+05      1.735      0.083   -5.94e+04    9.76e+05\n",
      "education_level[T.Sertifikat Professional, D3 (Diploma), D4 (Diploma), Sarjana (S1)]                                                               -1.06e+05   1.12e+05     -0.949      0.343   -3.25e+05    1.13e+05\n",
      "education_level[T.Sertifikat Professional, D3 (Diploma), D4 (Diploma), Sarjana (S1), Diploma Pascasarjana, Gelar Professional, Magister (S2)]      2.078e+05   1.16e+05      1.788      0.074      -2e+04    4.36e+05\n",
      "education_level[T.Sertifikat Professional, D3 (Diploma), D4 (Diploma), Sarjana (S1), Doktor (S3)]                                                  1.554e+05   7.08e+05      0.220      0.826   -1.23e+06    1.54e+06\n",
      "education_level[T.Tidak terspesifikasi]                                                                                                           -1.656e+05   1.12e+05     -1.478      0.139   -3.85e+05     5.4e+04\n",
      "==============================================================================\n",
      "Omnibus:                     4708.274   Durbin-Watson:                   1.981\n",
      "Prob(Omnibus):                  0.000   Jarque-Bera (JB):            85642.295\n",
      "Skew:                           0.206   Prob(JB):                         0.00\n",
      "Kurtosis:                      11.466   Cond. No.                         240.\n",
      "==============================================================================\n",
      "\n",
      "Warnings:\n",
      "[1] Standard Errors assume that the covariance matrix of the errors is correctly specified.\n"
     ]
    }
   ],
   "source": [
    "modelOLS = smf.ols(\"salary~career_level + experience_level + education_level\", data=dataset).fit()\n",
    "print(modelOLS.summary())"
   ]
  },
  {
   "cell_type": "code",
   "execution_count": 21,
   "metadata": {},
   "outputs": [
    {
     "data": {
      "text/plain": [
       "0    1.006794e+07\n",
       "1    1.030638e+07\n",
       "2    8.252212e+06\n",
       "3    1.005093e+07\n",
       "4    5.388400e+06\n",
       "dtype: float64"
      ]
     },
     "execution_count": 21,
     "metadata": {},
     "output_type": "execute_result"
    }
   ],
   "source": [
    "yPredOLS = modelOLS.predict(X)\n",
    "yPredOLS.head()"
   ]
  },
  {
   "cell_type": "code",
   "execution_count": 22,
   "metadata": {},
   "outputs": [
    {
     "data": {
      "text/plain": [
       "975474968189.943"
      ]
     },
     "execution_count": 22,
     "metadata": {},
     "output_type": "execute_result"
    }
   ],
   "source": [
    "mean_squared_error(Y, yPredOLS)"
   ]
  },
  {
   "cell_type": "markdown",
   "metadata": {},
   "source": [
    "Metode Robust Reggression"
   ]
  },
  {
   "cell_type": "code",
   "execution_count": 23,
   "metadata": {},
   "outputs": [
    {
     "name": "stdout",
     "output_type": "stream",
     "text": [
      "                    Robust linear Model Regression Results                    \n",
      "==============================================================================\n",
      "Dep. Variable:                 salary   No. Observations:                28607\n",
      "Model:                            RLM   Df Residuals:                    28574\n",
      "Method:                          IRLS   Df Model:                           32\n",
      "Norm:                          HuberT                                         \n",
      "Scale Est.:                       mad                                         \n",
      "Cov Type:                          H1                                         \n",
      "Date:                Thu, 08 Jun 2023                                         \n",
      "Time:                        16:51:08                                         \n",
      "No. Iterations:                    50                                         \n",
      "=====================================================================================================================================================================================================================\n",
      "                                                                                                                                                        coef    std err          z      P>|z|      [0.025      0.975]\n",
      "---------------------------------------------------------------------------------------------------------------------------------------------------------------------------------------------------------------------\n",
      "Intercept                                                                                                                                            3.9e+06   2.33e-09   1.67e+15      0.000     3.9e+06     3.9e+06\n",
      "career_level[T.Lulusan baru/Pengalaman kerja kurang dari 1 tahun]                                                                                 -4.825e-08   1.47e-09    -32.877      0.000   -5.11e-08   -4.54e-08\n",
      "career_level[T.Manajer/Asisten Manajer]                                                                                                           -1.409e-08   1.36e-09    -10.322      0.000   -1.68e-08   -1.14e-08\n",
      "career_level[T.Pegawai (non-manajemen & non-supervisor)]                                                                                          -1.653e-08   1.36e-09    -12.148      0.000   -1.92e-08   -1.39e-08\n",
      "career_level[T.Supervisor/Koordinator]                                                                                                            -8.848e-09   1.36e-09     -6.500      0.000   -1.15e-08   -6.18e-09\n",
      "experience_level[T.0.5]                                                                                                                            -3.72e+05   3.16e-09  -1.18e+14      0.000   -3.72e+05   -3.72e+05\n",
      "experience_level[T.1.0]                                                                                                                                8e+05   7.97e-10      1e+15      0.000       8e+05       8e+05\n",
      "experience_level[T.1.5]                                                                                                                             8.25e+05   3.95e-09   2.09e+14      0.000    8.25e+05    8.25e+05\n",
      "experience_level[T.2.0]                                                                                                                              1.6e+06   8.13e-10   1.97e+15      0.000     1.6e+06     1.6e+06\n",
      "experience_level[T.2.5]                                                                                                                              3.6e+06    1.6e-08   2.25e+14      0.000     3.6e+06     3.6e+06\n",
      "experience_level[T.3.0]                                                                                                                              3.3e+06   8.32e-10   3.97e+15      0.000     3.3e+06     3.3e+06\n",
      "experience_level[T.4.0]                                                                                                                             4.55e+06   9.81e-10   4.64e+15      0.000    4.55e+06    4.55e+06\n",
      "experience_level[T.5.0]                                                                                                                              6.6e+06   8.72e-10   7.57e+15      0.000     6.6e+06     6.6e+06\n",
      "experience_level[T.6.0]                                                                                                                              4.5e+06   7.19e-09   6.26e+14      0.000     4.5e+06     4.5e+06\n",
      "education_level[T.Diploma Pascasarjana, Gelar Professional, Magister (S2), Doktor (S3)]                                                            -1.35e-08   3.46e-09     -3.899      0.000   -2.03e-08   -6.72e-09\n",
      "education_level[T.Doktor (S3)]                                                                                                                     7.258e-09   5.36e-09      1.354      0.176   -3.24e-09    1.78e-08\n",
      "education_level[T.SMA, SMU/SMK/STM]                                                                                                               -7.451e-09   1.83e-09     -4.069      0.000    -1.1e-08   -3.86e-09\n",
      "education_level[T.SMA, SMU/SMK/STM, Sarjana (S1)]                                                                                                 -1.851e-08   2.26e-09     -8.204      0.000   -2.29e-08   -1.41e-08\n",
      "education_level[T.SMA, SMU/SMK/STM, Sarjana (S1), Diploma Pascasarjana, Gelar Professional, Magister (S2)]                                            -7e+05   4.27e-09  -1.64e+14      0.000      -7e+05      -7e+05\n",
      "education_level[T.SMA, SMU/SMK/STM, Sarjana (S1), Doktor (S3)]                                                                                    -1.481e-08   1.61e-08     -0.922      0.357   -4.63e-08    1.67e-08\n",
      "education_level[T.SMA, SMU/SMK/STM, Sertifikat Professional, D3 (Diploma), D4 (Diploma)]                                                          -8.964e-09   1.89e-09     -4.751      0.000   -1.27e-08   -5.27e-09\n",
      "education_level[T.SMA, SMU/SMK/STM, Sertifikat Professional, D3 (Diploma), D4 (Diploma), Diploma Pascasarjana, Gelar Professional, Magister (S2)] -4.569e-09    6.3e-09     -0.726      0.468   -1.69e-08    7.77e-09\n",
      "education_level[T.SMA, SMU/SMK/STM, Sertifikat Professional, D3 (Diploma), D4 (Diploma), Sarjana (S1)]                                            -1.024e-08   1.82e-09     -5.629      0.000   -1.38e-08   -6.68e-09\n",
      "education_level[T.Sarjana (S1)]                                                                                                                   -1.048e-09    1.8e-09     -0.583      0.560   -4.57e-09    2.47e-09\n",
      "education_level[T.Sarjana (S1), Diploma Pascasarjana, Gelar Professional, Magister (S2)]                                                           -1.63e-09   1.83e-09     -0.891      0.373   -5.22e-09    1.96e-09\n",
      "education_level[T.Sarjana (S1), Diploma Pascasarjana, Gelar Professional, Magister (S2), Doktor (S3)]                                             -1.154e-08   2.68e-09     -4.307      0.000   -1.68e-08   -6.29e-09\n",
      "education_level[T.Sarjana (S1), Doktor (S3)]                                                                                                       1.004e-09   5.36e-09      0.187      0.851    -9.5e-09    1.15e-08\n",
      "education_level[T.Sertifikat Professional, D3 (Diploma), D4 (Diploma)]                                                                            -3.958e-09   1.83e-09     -2.159      0.031   -7.55e-09   -3.65e-10\n",
      "education_level[T.Sertifikat Professional, D3 (Diploma), D4 (Diploma), Diploma Pascasarjana, Gelar Professional, Magister (S2)]                   -4.744e-09   4.27e-09     -1.112      0.266   -1.31e-08    3.62e-09\n",
      "education_level[T.Sertifikat Professional, D3 (Diploma), D4 (Diploma), Sarjana (S1)]                                                              -4.889e-09    1.8e-09     -2.710      0.007   -8.43e-09   -1.35e-09\n",
      "education_level[T.Sertifikat Professional, D3 (Diploma), D4 (Diploma), Sarjana (S1), Diploma Pascasarjana, Gelar Professional, Magister (S2)]      3.492e-10   1.88e-09      0.186      0.853   -3.33e-09    4.03e-09\n",
      "education_level[T.Sertifikat Professional, D3 (Diploma), D4 (Diploma), Sarjana (S1), Doktor (S3)]                                                      4e+05   1.14e-08    3.5e+13      0.000       4e+05       4e+05\n",
      "education_level[T.Tidak terspesifikasi]                                                                                                           -3.842e-09   1.81e-09     -2.122      0.034   -7.39e-09   -2.93e-10\n",
      "=====================================================================================================================================================================================================================\n",
      "\n",
      "If the model instance has been used for another fit with different fit\n",
      "parameters, then the fit options might not be the correct ones anymore .\n"
     ]
    }
   ],
   "source": [
    "modelRLM = smf.rlm(\"salary~career_level + experience_level + education_level\", data=dataset).fit()\n",
    "print(modelRLM.summary())"
   ]
  },
  {
   "cell_type": "code",
   "execution_count": 24,
   "metadata": {},
   "outputs": [
    {
     "data": {
      "text/plain": [
       "0    10500000.0\n",
       "1    10500000.0\n",
       "2     8450000.0\n",
       "3    10500000.0\n",
       "4     5500000.0\n",
       "dtype: float64"
      ]
     },
     "execution_count": 24,
     "metadata": {},
     "output_type": "execute_result"
    }
   ],
   "source": [
    "yPredRLM = modelRLM.predict(X)\n",
    "yPredRLM.head()"
   ]
  },
  {
   "cell_type": "code",
   "execution_count": 25,
   "metadata": {},
   "outputs": [
    {
     "data": {
      "text/plain": [
       "1060118739508.8807"
      ]
     },
     "execution_count": 25,
     "metadata": {},
     "output_type": "execute_result"
    }
   ],
   "source": [
    "mean_squared_error(Y, yPredRLM)"
   ]
  },
  {
   "cell_type": "markdown",
   "metadata": {},
   "source": [
    "Metode Random Forest"
   ]
  },
  {
   "cell_type": "markdown",
   "metadata": {},
   "source": [
    "**4. Visualization Data**"
   ]
  }
 ],
 "metadata": {
  "kernelspec": {
   "display_name": "Python 3.7.1 64-bit ('PYTHON_SERVER')",
   "language": "python",
   "name": "python3"
  },
  "language_info": {
   "codemirror_mode": {
    "name": "ipython",
    "version": 3
   },
   "file_extension": ".py",
   "mimetype": "text/x-python",
   "name": "python",
   "nbconvert_exporter": "python",
   "pygments_lexer": "ipython3",
   "version": "3.7.1"
  },
  "orig_nbformat": 4,
  "vscode": {
   "interpreter": {
    "hash": "7dd15e51a4470d085f7a243fb04650bc4fe166c7b9d4ae5b8d1a77af89f8b74e"
   }
  }
 },
 "nbformat": 4,
 "nbformat_minor": 2
}
