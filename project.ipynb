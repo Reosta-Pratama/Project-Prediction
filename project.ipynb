{
 "cells": [
  {
   "cell_type": "markdown",
   "metadata": {},
   "source": [
    "**1. Read and import data**"
   ]
  },
  {
   "cell_type": "code",
   "execution_count": 30,
   "metadata": {},
   "outputs": [],
   "source": [
    "import pandas as pd\n",
    "\n",
    "import matplotlib.pyplot as plt\n",
    "import seaborn as sns\n",
    "\n",
    "import statsmodels.api as sm\n",
    "import statsmodels.formula.api as smf\n",
    "\n",
    "from sklearn.linear_model import LinearRegression, Ridge, Lasso\n",
    "from sklearn.model_selection import train_test_split\n",
    "from sklearn.metrics import mean_squared_error"
   ]
  },
  {
   "cell_type": "code",
   "execution_count": 2,
   "metadata": {},
   "outputs": [],
   "source": [
    "dataset = pd.read_csv('./data/salary.csv', sep='|')"
   ]
  },
  {
   "cell_type": "code",
   "execution_count": 3,
   "metadata": {},
   "outputs": [
    {
     "data": {
      "text/html": [
       "<div>\n",
       "<style scoped>\n",
       "    .dataframe tbody tr th:only-of-type {\n",
       "        vertical-align: middle;\n",
       "    }\n",
       "\n",
       "    .dataframe tbody tr th {\n",
       "        vertical-align: top;\n",
       "    }\n",
       "\n",
       "    .dataframe thead th {\n",
       "        text-align: right;\n",
       "    }\n",
       "</style>\n",
       "<table border=\"1\" class=\"dataframe\">\n",
       "  <thead>\n",
       "    <tr style=\"text-align: right;\">\n",
       "      <th></th>\n",
       "      <th>id</th>\n",
       "      <th>job_title</th>\n",
       "      <th>location</th>\n",
       "      <th>salary_currency</th>\n",
       "      <th>career_level</th>\n",
       "      <th>experience_level</th>\n",
       "      <th>education_level</th>\n",
       "      <th>employment_type</th>\n",
       "      <th>job_function</th>\n",
       "      <th>job_benefits</th>\n",
       "      <th>company_process_time</th>\n",
       "      <th>company_size</th>\n",
       "      <th>company_industry</th>\n",
       "      <th>job_description</th>\n",
       "      <th>salary</th>\n",
       "    </tr>\n",
       "  </thead>\n",
       "  <tbody>\n",
       "    <tr>\n",
       "      <th>0</th>\n",
       "      <td>1</td>\n",
       "      <td>Facility Maintenance &amp; Smart Warehouse Manager</td>\n",
       "      <td>Bandung</td>\n",
       "      <td>IDR</td>\n",
       "      <td>Manajer/Asisten Manajer</td>\n",
       "      <td>5 tahun</td>\n",
       "      <td>Sertifikat Professional, D3 (Diploma), D4 (Dip...</td>\n",
       "      <td>Penuh Waktu</td>\n",
       "      <td>Manufaktur,Pemeliharaan</td>\n",
       "      <td>NaN</td>\n",
       "      <td>NaN</td>\n",
       "      <td>NaN</td>\n",
       "      <td>NaN</td>\n",
       "      <td>Deskripsi PekerjaanRequirements :D3/SI from re...</td>\n",
       "      <td>NaN</td>\n",
       "    </tr>\n",
       "    <tr>\n",
       "      <th>1</th>\n",
       "      <td>2</td>\n",
       "      <td>Procurement Department Head</td>\n",
       "      <td>Jakarta Raya</td>\n",
       "      <td>IDR</td>\n",
       "      <td>Manajer/Asisten Manajer</td>\n",
       "      <td>5 tahun</td>\n",
       "      <td>Sarjana (S1), Diploma Pascasarjana, Gelar Prof...</td>\n",
       "      <td>Penuh Waktu</td>\n",
       "      <td>Manufaktur,Pembelian/Manajemen Material</td>\n",
       "      <td>NaN</td>\n",
       "      <td>25 days</td>\n",
       "      <td>51 - 200 pekerja</td>\n",
       "      <td>Manajemen/Konsulting HR</td>\n",
       "      <td>Job Role: 1. Responsible for material availabi...</td>\n",
       "      <td>NaN</td>\n",
       "    </tr>\n",
       "  </tbody>\n",
       "</table>\n",
       "</div>"
      ],
      "text/plain": [
       "   id                                       job_title      location  \\\n",
       "0   1  Facility Maintenance & Smart Warehouse Manager       Bandung   \n",
       "1   2                     Procurement Department Head  Jakarta Raya   \n",
       "\n",
       "  salary_currency             career_level experience_level  \\\n",
       "0             IDR  Manajer/Asisten Manajer          5 tahun   \n",
       "1             IDR  Manajer/Asisten Manajer          5 tahun   \n",
       "\n",
       "                                     education_level employment_type  \\\n",
       "0  Sertifikat Professional, D3 (Diploma), D4 (Dip...     Penuh Waktu   \n",
       "1  Sarjana (S1), Diploma Pascasarjana, Gelar Prof...     Penuh Waktu   \n",
       "\n",
       "                              job_function job_benefits company_process_time  \\\n",
       "0                  Manufaktur,Pemeliharaan          NaN                  NaN   \n",
       "1  Manufaktur,Pembelian/Manajemen Material          NaN              25 days   \n",
       "\n",
       "       company_size         company_industry  \\\n",
       "0               NaN                      NaN   \n",
       "1  51 - 200 pekerja  Manajemen/Konsulting HR   \n",
       "\n",
       "                                     job_description  salary  \n",
       "0  Deskripsi PekerjaanRequirements :D3/SI from re...     NaN  \n",
       "1  Job Role: 1. Responsible for material availabi...     NaN  "
      ]
     },
     "execution_count": 3,
     "metadata": {},
     "output_type": "execute_result"
    }
   ],
   "source": [
    "dataset.head(2)"
   ]
  },
  {
   "cell_type": "markdown",
   "metadata": {},
   "source": [
    "**2. Cleaning the data**"
   ]
  },
  {
   "cell_type": "code",
   "execution_count": 4,
   "metadata": {},
   "outputs": [],
   "source": [
    "# Size grafik\n",
    "sns.set(rc={'figure.figsize':(10, 5)})"
   ]
  },
  {
   "cell_type": "code",
   "execution_count": 5,
   "metadata": {},
   "outputs": [
    {
     "name": "stdout",
     "output_type": "stream",
     "text": [
      "<class 'pandas.core.frame.DataFrame'>\n",
      "RangeIndex: 34746 entries, 0 to 34745\n",
      "Data columns (total 15 columns):\n",
      "id                      34746 non-null int64\n",
      "job_title               34746 non-null object\n",
      "location                34746 non-null object\n",
      "salary_currency         34742 non-null object\n",
      "career_level            34746 non-null object\n",
      "experience_level        30205 non-null object\n",
      "education_level         34746 non-null object\n",
      "employment_type         33402 non-null object\n",
      "job_function            34746 non-null object\n",
      "job_benefits            27330 non-null object\n",
      "company_process_time    24555 non-null object\n",
      "company_size            29103 non-null object\n",
      "company_industry        33132 non-null object\n",
      "job_description         34745 non-null object\n",
      "salary                  9352 non-null float64\n",
      "dtypes: float64(1), int64(1), object(13)\n",
      "memory usage: 4.0+ MB\n"
     ]
    }
   ],
   "source": [
    "dataset.info()"
   ]
  },
  {
   "cell_type": "code",
   "execution_count": 6,
   "metadata": {},
   "outputs": [
    {
     "data": {
      "text/plain": [
       "id                          0\n",
       "job_title                   0\n",
       "location                    0\n",
       "salary_currency             4\n",
       "career_level                0\n",
       "experience_level         4541\n",
       "education_level             0\n",
       "employment_type          1344\n",
       "job_function                0\n",
       "job_benefits             7416\n",
       "company_process_time    10191\n",
       "company_size             5643\n",
       "company_industry         1614\n",
       "job_description             1\n",
       "salary                  25394\n",
       "dtype: int64"
      ]
     },
     "execution_count": 6,
     "metadata": {},
     "output_type": "execute_result"
    }
   ],
   "source": [
    "# Check null values\n",
    "dataset.isnull().sum()"
   ]
  },
  {
   "cell_type": "code",
   "execution_count": 7,
   "metadata": {},
   "outputs": [],
   "source": [
    "# Remove Column \n",
    "dataset = dataset.drop(labels=[\"id\", \"salary_currency\", \"job_benefits\", \"job_function\", \"job_description\",\n",
    "\"company_process_time\", \"company_size\", \"company_industry\", \"employment_type\"], axis=1)"
   ]
  },
  {
   "cell_type": "markdown",
   "metadata": {},
   "source": [
    "Cleaning Salary"
   ]
  },
  {
   "cell_type": "code",
   "execution_count": 8,
   "metadata": {},
   "outputs": [],
   "source": [
    "# Mengisi data salary yang nan atau null dengan median\n",
    "dataset['salary'].fillna(dataset.groupby([\"experience_level\"])['salary'].transform('median'), inplace=True)\n",
    "dataset['salary'] = dataset['salary'].round(0)"
   ]
  },
  {
   "cell_type": "markdown",
   "metadata": {},
   "source": [
    "Cleaning Experience Level"
   ]
  },
  {
   "cell_type": "code",
   "execution_count": 9,
   "metadata": {},
   "outputs": [],
   "source": [
    "# Convert experience_level str => float\n",
    "dataset[\"experience_level\"] = dataset[\"experience_level\"].str.replace(\"\\D\", \"\").fillna(0).astype('float')\n",
    "\n",
    "# Mengisi data experience_level yang 0 dengan median\n",
    "dataset['experience_level'].replace(to_replace=0, value=dataset.groupby([\"salary\"])['experience_level'].transform('median'), inplace=True)"
   ]
  },
  {
   "cell_type": "markdown",
   "metadata": {},
   "source": [
    "Outlier"
   ]
  },
  {
   "cell_type": "code",
   "execution_count": 10,
   "metadata": {},
   "outputs": [],
   "source": [
    "dataset.dropna(inplace=True)"
   ]
  },
  {
   "cell_type": "code",
   "execution_count": 11,
   "metadata": {},
   "outputs": [
    {
     "data": {
      "image/png": "[encoded data removed]",
      "text/plain": [
       "<Figure size 720x360 with 1 Axes>"
      ]
     },
     "metadata": {},
     "output_type": "display_data"
    }
   ],
   "source": [
    "# Experience\n",
    "per25Exp = dataset['experience_level'].quantile(0.25)\n",
    "per75Exp = dataset['experience_level'].quantile(0.75)\n",
    "iqrExp = per75Exp - per25Exp\n",
    "\n",
    "lower_limit = per25Exp - 1.5 * iqrExp\n",
    "upper_limit = per75Exp + 1.5 * iqrExp\n",
    "\n",
    "dataset = dataset[~((dataset[\"experience_level\"] < (lower_limit)) | (dataset[\"experience_level\"] > (upper_limit)))]\n",
    "\n",
    "sns.boxplot(dataset[\"experience_level\"])\n",
    "plt.show()"
   ]
  },
  {
   "cell_type": "code",
   "execution_count": 12,
   "metadata": {},
   "outputs": [
    {
     "data": {
      "image/png": "[encoded data removed]",
      "text/plain": [
       "<Figure size 720x360 with 1 Axes>"
      ]
     },
     "metadata": {},
     "output_type": "display_data"
    }
   ],
   "source": [
    "# Salary\n",
    "per25Salary = dataset['salary'].quantile(0.25)\n",
    "per75Salary = dataset['salary'].quantile(0.75)\n",
    "iqrSalary = per75Salary - per25Salary\n",
    "\n",
    "lower_limit = per25Salary - 1.5 * iqrSalary\n",
    "upper_limit = per75Salary + 1.5 * iqrSalary\n",
    "\n",
    "dataset = dataset[~((dataset[\"salary\"] < (lower_limit)) | (dataset[\"salary\"] > (upper_limit)))]\n",
    "\n",
    "sns.boxplot(dataset[\"salary\"])\n",
    "plt.show()"
   ]
  },
  {
   "cell_type": "markdown",
   "metadata": {},
   "source": [
    "Result Cleaning"
   ]
  },
  {
   "cell_type": "code",
   "execution_count": 13,
   "metadata": {},
   "outputs": [
    {
     "data": {
      "text/plain": [
       "(28607, 6)"
      ]
     },
     "execution_count": 13,
     "metadata": {},
     "output_type": "execute_result"
    }
   ],
   "source": [
    "dataset.shape"
   ]
  },
  {
   "cell_type": "code",
   "execution_count": 14,
   "metadata": {},
   "outputs": [
    {
     "data": {
      "text/plain": [
       "job_title           0\n",
       "location            0\n",
       "career_level        0\n",
       "experience_level    0\n",
       "education_level     0\n",
       "salary              0\n",
       "dtype: int64"
      ]
     },
     "execution_count": 14,
     "metadata": {},
     "output_type": "execute_result"
    }
   ],
   "source": [
    "# Check null values\n",
    "dataset.isnull().sum()"
   ]
  },
  {
   "cell_type": "code",
   "execution_count": 15,
   "metadata": {},
   "outputs": [
    {
     "data": {
      "text/html": [
       "<div>\n",
       "<style scoped>\n",
       "    .dataframe tbody tr th:only-of-type {\n",
       "        vertical-align: middle;\n",
       "    }\n",
       "\n",
       "    .dataframe tbody tr th {\n",
       "        vertical-align: top;\n",
       "    }\n",
       "\n",
       "    .dataframe thead th {\n",
       "        text-align: right;\n",
       "    }\n",
       "</style>\n",
       "<table border=\"1\" class=\"dataframe\">\n",
       "  <thead>\n",
       "    <tr style=\"text-align: right;\">\n",
       "      <th></th>\n",
       "      <th>job_title</th>\n",
       "      <th>location</th>\n",
       "      <th>career_level</th>\n",
       "      <th>experience_level</th>\n",
       "      <th>education_level</th>\n",
       "      <th>salary</th>\n",
       "    </tr>\n",
       "  </thead>\n",
       "  <tbody>\n",
       "    <tr>\n",
       "      <th>0</th>\n",
       "      <td>Facility Maintenance &amp; Smart Warehouse Manager</td>\n",
       "      <td>Bandung</td>\n",
       "      <td>Manajer/Asisten Manajer</td>\n",
       "      <td>5.0</td>\n",
       "      <td>Sertifikat Professional, D3 (Diploma), D4 (Dip...</td>\n",
       "      <td>10500000.0</td>\n",
       "    </tr>\n",
       "    <tr>\n",
       "      <th>1</th>\n",
       "      <td>Procurement Department Head</td>\n",
       "      <td>Jakarta Raya</td>\n",
       "      <td>Manajer/Asisten Manajer</td>\n",
       "      <td>5.0</td>\n",
       "      <td>Sarjana (S1), Diploma Pascasarjana, Gelar Prof...</td>\n",
       "      <td>10500000.0</td>\n",
       "    </tr>\n",
       "    <tr>\n",
       "      <th>2</th>\n",
       "      <td>SALES ADMIN</td>\n",
       "      <td>Jakarta Barat</td>\n",
       "      <td>Supervisor/Koordinator</td>\n",
       "      <td>4.0</td>\n",
       "      <td>Sarjana (S1)</td>\n",
       "      <td>8450000.0</td>\n",
       "    </tr>\n",
       "    <tr>\n",
       "      <th>3</th>\n",
       "      <td>City Operation Lead Shopee Express (Cirebon)</td>\n",
       "      <td>Cirebon</td>\n",
       "      <td>Supervisor/Koordinator</td>\n",
       "      <td>5.0</td>\n",
       "      <td>Sarjana (S1), Diploma Pascasarjana, Gelar Prof...</td>\n",
       "      <td>10500000.0</td>\n",
       "    </tr>\n",
       "    <tr>\n",
       "      <th>4</th>\n",
       "      <td>Japanese Interpreter</td>\n",
       "      <td>Bekasi</td>\n",
       "      <td>Pegawai (non-manajemen &amp; non-supervisor)</td>\n",
       "      <td>2.0</td>\n",
       "      <td>Sertifikat Professional, D3 (Diploma), D4 (Dip...</td>\n",
       "      <td>5500000.0</td>\n",
       "    </tr>\n",
       "  </tbody>\n",
       "</table>\n",
       "</div>"
      ],
      "text/plain": [
       "                                        job_title       location  \\\n",
       "0  Facility Maintenance & Smart Warehouse Manager        Bandung   \n",
       "1                     Procurement Department Head   Jakarta Raya   \n",
       "2                                     SALES ADMIN  Jakarta Barat   \n",
       "3    City Operation Lead Shopee Express (Cirebon)        Cirebon   \n",
       "4                            Japanese Interpreter         Bekasi   \n",
       "\n",
       "                               career_level  experience_level  \\\n",
       "0                   Manajer/Asisten Manajer               5.0   \n",
       "1                   Manajer/Asisten Manajer               5.0   \n",
       "2                    Supervisor/Koordinator               4.0   \n",
       "3                    Supervisor/Koordinator               5.0   \n",
       "4  Pegawai (non-manajemen & non-supervisor)               2.0   \n",
       "\n",
       "                                     education_level      salary  \n",
       "0  Sertifikat Professional, D3 (Diploma), D4 (Dip...  10500000.0  \n",
       "1  Sarjana (S1), Diploma Pascasarjana, Gelar Prof...  10500000.0  \n",
       "2                                       Sarjana (S1)   8450000.0  \n",
       "3  Sarjana (S1), Diploma Pascasarjana, Gelar Prof...  10500000.0  \n",
       "4  Sertifikat Professional, D3 (Diploma), D4 (Dip...   5500000.0  "
      ]
     },
     "execution_count": 15,
     "metadata": {},
     "output_type": "execute_result"
    }
   ],
   "source": [
    "dataset.reset_index(drop=True, inplace=True)\n",
    "dataset.head(5)"
   ]
  },
  {
   "cell_type": "code",
   "execution_count": 16,
   "metadata": {},
   "outputs": [
    {
     "data": {
      "text/html": [
       "<div>\n",
       "<style scoped>\n",
       "    .dataframe tbody tr th:only-of-type {\n",
       "        vertical-align: middle;\n",
       "    }\n",
       "\n",
       "    .dataframe tbody tr th {\n",
       "        vertical-align: top;\n",
       "    }\n",
       "\n",
       "    .dataframe thead th {\n",
       "        text-align: right;\n",
       "    }\n",
       "</style>\n",
       "<table border=\"1\" class=\"dataframe\">\n",
       "  <thead>\n",
       "    <tr style=\"text-align: right;\">\n",
       "      <th></th>\n",
       "      <th>experience_level</th>\n",
       "      <th>salary</th>\n",
       "    </tr>\n",
       "  </thead>\n",
       "  <tbody>\n",
       "    <tr>\n",
       "      <th>count</th>\n",
       "      <td>28607.000000</td>\n",
       "      <td>2.860700e+04</td>\n",
       "    </tr>\n",
       "    <tr>\n",
       "      <th>mean</th>\n",
       "      <td>2.141084</td>\n",
       "      <td>5.980619e+06</td>\n",
       "    </tr>\n",
       "    <tr>\n",
       "      <th>std</th>\n",
       "      <td>1.251596</td>\n",
       "      <td>1.923043e+06</td>\n",
       "    </tr>\n",
       "    <tr>\n",
       "      <th>min</th>\n",
       "      <td>0.000000</td>\n",
       "      <td>9.600000e+05</td>\n",
       "    </tr>\n",
       "    <tr>\n",
       "      <th>25%</th>\n",
       "      <td>1.000000</td>\n",
       "      <td>4.700000e+06</td>\n",
       "    </tr>\n",
       "    <tr>\n",
       "      <th>50%</th>\n",
       "      <td>2.000000</td>\n",
       "      <td>5.500000e+06</td>\n",
       "    </tr>\n",
       "    <tr>\n",
       "      <th>75%</th>\n",
       "      <td>3.000000</td>\n",
       "      <td>7.200000e+06</td>\n",
       "    </tr>\n",
       "    <tr>\n",
       "      <th>max</th>\n",
       "      <td>6.000000</td>\n",
       "      <td>1.080000e+07</td>\n",
       "    </tr>\n",
       "  </tbody>\n",
       "</table>\n",
       "</div>"
      ],
      "text/plain": [
       "       experience_level        salary\n",
       "count      28607.000000  2.860700e+04\n",
       "mean           2.141084  5.980619e+06\n",
       "std            1.251596  1.923043e+06\n",
       "min            0.000000  9.600000e+05\n",
       "25%            1.000000  4.700000e+06\n",
       "50%            2.000000  5.500000e+06\n",
       "75%            3.000000  7.200000e+06\n",
       "max            6.000000  1.080000e+07"
      ]
     },
     "execution_count": 16,
     "metadata": {},
     "output_type": "execute_result"
    }
   ],
   "source": [
    "dataset.describe()"
   ]
  },
  {
   "cell_type": "markdown",
   "metadata": {},
   "source": [
    "**3. Discovering the data**"
   ]
  },
  {
   "cell_type": "markdown",
   "metadata": {},
   "source": [
    "Kind of Experience Level"
   ]
  },
  {
   "cell_type": "code",
   "execution_count": 17,
   "metadata": {},
   "outputs": [
    {
     "data": {
      "image/png": "[encoded data removed]",
      "text/plain": [
       "<Figure size 720x360 with 1 Axes>"
      ]
     },
     "metadata": {},
     "output_type": "display_data"
    }
   ],
   "source": [
    "countEXP = sns.load_dataset(\"tips\")\n",
    "barExp = sns.countplot(data = countEXP, x = dataset[\"experience_level\"], palette=\"rocket\", order = dataset[\"experience_level\"].value_counts().index)\n",
    "plt.ylabel(\"Count\", fontweight='bold')\n",
    "plt.xlabel(\"Year\", fontweight='bold')\n",
    "\n",
    "for p, label in zip(barExp.patches, dataset[\"experience_level\"].value_counts()):\n",
    "    barExp.annotate(label, (p.get_x() + 1/6, p.get_height() + 100), fontweight='bold')\n",
    "    \n",
    "plt.show()"
   ]
  },
  {
   "cell_type": "markdown",
   "metadata": {},
   "source": [
    "Average Salary based on Experience Level"
   ]
  },
  {
   "cell_type": "code",
   "execution_count": 18,
   "metadata": {},
   "outputs": [
    {
     "data": {
      "text/plain": [
       "experience_level\n",
       "5.0    10019746.0\n",
       "4.0     8198712.0\n",
       "6.0     7890000.0\n",
       "3.0     7027532.0\n",
       "1.5     5516667.0\n",
       "2.0     5514822.0\n",
       "1.0     4679527.0\n",
       "0.0     3352857.0\n",
       "0.5     3097778.0\n",
       "Name: salary, dtype: float64"
      ]
     },
     "execution_count": 18,
     "metadata": {},
     "output_type": "execute_result"
    }
   ],
   "source": [
    "dataset.groupby(by=\"experience_level\")[\"salary\"].mean().round(0).nlargest(10) "
   ]
  },
  {
   "cell_type": "markdown",
   "metadata": {},
   "source": [
    "**4. Predict the salary**"
   ]
  },
  {
   "cell_type": "code",
   "execution_count": 19,
   "metadata": {},
   "outputs": [],
   "source": [
    "X = pd.DataFrame(dataset, columns=[\"location\", \"career_level\", \"experience_level\", \"education_level\"])\n",
    "Y = pd.DataFrame(dataset, columns=[\"salary\"])"
   ]
  },
  {
   "cell_type": "markdown",
   "metadata": {},
   "source": [
    "Metode OLS"
   ]
  },
  {
   "cell_type": "code",
   "execution_count": 53,
   "metadata": {},
   "outputs": [
    {
     "name": "stdout",
     "output_type": "stream",
     "text": [
      "                            OLS Regression Results                            \n",
      "==============================================================================\n",
      "Dep. Variable:                 salary   R-squared:                       0.052\n",
      "Model:                            OLS   Adj. R-squared:                  0.046\n",
      "Method:                 Least Squares   F-statistic:                     8.199\n",
      "Date:                Tue, 06 Jun 2023   Prob (F-statistic):          2.35e-208\n",
      "Time:                        15:30:29   Log-Likelihood:            -4.5375e+05\n",
      "No. Observations:               28607   AIC:                         9.079e+05\n",
      "Df Residuals:                   28414   BIC:                         9.095e+05\n",
      "Df Model:                         192                                         \n",
      "Covariance Type:            nonrobust                                         \n",
      "===================================================================================================\n",
      "                                      coef    std err          t      P>|t|      [0.025      0.975]\n",
      "---------------------------------------------------------------------------------------------------\n",
      "Intercept                        5.478e+06   1.02e+05     53.620      0.000    5.28e+06    5.68e+06\n",
      "location[T.Ambon]               -3.201e+05   3.82e+05     -0.837      0.402   -1.07e+06    4.29e+05\n",
      "location[T.Asahan Kisaran]       7.389e+05   1.09e+06      0.678      0.498    -1.4e+06    2.87e+06\n",
      "location[T.Badung]               1.083e+06   1.71e+05      6.336      0.000    7.48e+05    1.42e+06\n",
      "location[T.Bali]                 2.743e+05   1.28e+05      2.146      0.032    2.37e+04    5.25e+05\n",
      "location[T.Balikpapan]           6.255e+05   1.85e+05      3.379      0.001    2.63e+05    9.88e+05\n",
      "location[T.Bandar Lampung]      -1.947e+05   2.95e+05     -0.659      0.510   -7.73e+05    3.84e+05\n",
      "location[T.Bandung]              9.262e+04   1.22e+05      0.761      0.447   -1.46e+05    3.31e+05\n",
      "location[T.Bangka]               3.689e+05   4.96e+05      0.744      0.457   -6.03e+05    1.34e+06\n",
      "location[T.Bangka Belitung]     -4.278e+05   6.03e+05     -0.710      0.478   -1.61e+06    7.53e+05\n",
      "location[T.Banjar]               1.822e+06   7.74e+05      2.356      0.018    3.06e+05    3.34e+06\n",
      "location[T.Banjarbaru]          -4.778e+05   7.74e+05     -0.618      0.537   -1.99e+06    1.04e+06\n",
      "location[T.Banjarmasin]          3.402e+05   1.93e+05      1.760      0.078   -3.87e+04    7.19e+05\n",
      "location[T.Banjarnegara]        -8.236e+04   5.75e+05     -0.143      0.886   -1.21e+06    1.05e+06\n",
      "location[T.Banten]               5.204e+05   1.38e+05      3.771      0.000     2.5e+05    7.91e+05\n",
      "location[T.Bantul]              -2.216e+05   3.52e+05     -0.629      0.530   -9.12e+05    4.69e+05\n",
      "location[T.Banyuwangi]          -6.278e+05   4.54e+05     -1.382      0.167   -1.52e+06    2.63e+05\n",
      "location[T.Barito Utara]         2.822e+06   1.09e+06      2.591      0.010    6.87e+05    4.96e+06\n",
      "location[T.Batam]                9.447e+05   1.77e+05      5.349      0.000    5.99e+05    1.29e+06\n",
      "location[T.Batu]                -1.175e+06   9.45e+05     -1.244      0.213   -3.03e+06    6.76e+05\n",
      "location[T.Bekasi]                5.61e+05   1.26e+05      4.457      0.000    3.14e+05    8.08e+05\n",
      "location[T.Belitung]            -2.228e+06   1.88e+06     -1.184      0.236   -5.91e+06    1.46e+06\n",
      "location[T.Bengkulu]            -1.082e+06   2.16e+05     -5.002      0.000   -1.51e+06   -6.58e+05\n",
      "location[T.Bima]                 8.555e+05   1.09e+06      0.785      0.432   -1.28e+06    2.99e+06\n",
      "location[T.Binjai]               5.136e+04   5.52e+05      0.093      0.926   -1.03e+06    1.13e+06\n",
      "location[T.Bintan]              -4.656e+04   6.72e+05     -0.069      0.945   -1.36e+06    1.27e+06\n",
      "location[T.Bitung]              -7.678e+05   8.46e+05     -0.907      0.364   -2.43e+06    8.91e+05\n",
      "location[T.Blitar]              -4.148e+05   4.05e+05     -1.025      0.305   -1.21e+06    3.79e+05\n",
      "location[T.Bogor]                3.723e+05   1.37e+05      2.714      0.007    1.03e+05    6.41e+05\n",
      "location[T.Bone]                -7.778e+05   1.33e+06     -0.584      0.559   -3.39e+06    1.83e+06\n",
      "location[T.Bontang]             -7.781e+04   7.17e+05     -0.108      0.914   -1.48e+06    1.33e+06\n",
      "location[T.Brebes]               3.313e+05   5.75e+05      0.576      0.565   -7.97e+05    1.46e+06\n",
      "location[T.Bukittinggi]         -2.153e+05   7.74e+05     -0.278      0.781   -1.73e+06     1.3e+06\n",
      "location[T.Bulungan]             1.706e+06   7.74e+05      2.205      0.027    1.89e+05    3.22e+06\n",
      "location[T.Cianjur]              1.864e+05   3.76e+05      0.496      0.620    -5.5e+05    9.23e+05\n",
      "location[T.Cibinong]             1.176e+05   5.75e+05      0.204      0.838   -1.01e+06    1.25e+06\n",
      "location[T.Cikarang]             7.832e+05   1.38e+05      5.666      0.000    5.12e+05    1.05e+06\n",
      "location[T.Cikupa]               8.514e+05   2.13e+05      3.997      0.000    4.34e+05    1.27e+06\n",
      "location[T.Cilacap]             -7.334e+05   4.54e+05     -1.614      0.107   -1.62e+06    1.57e+05\n",
      "location[T.Cilegon]              7.389e+05   3.18e+05      2.326      0.020    1.16e+05    1.36e+06\n",
      "location[T.Cileungsi]              4.4e+05   3.34e+05      1.319      0.187   -2.14e+05    1.09e+06\n",
      "location[T.Cimahi]               9.719e+04   3.69e+05      0.263      0.792   -6.27e+05    8.21e+05\n",
      "location[T.Cirebon]              3.626e+05   2.26e+05      1.606      0.108      -8e+04    8.05e+05\n",
      "location[T.Citeureup]            9.472e+05   3.97e+05      2.387      0.017     1.7e+05    1.72e+06\n",
      "location[T.Demak]                1.132e+06   6.03e+05      1.879      0.060   -4.91e+04    2.31e+06\n",
      "location[T.Denpasar]             7.468e+04   1.59e+05      0.471      0.638   -2.36e+05    3.85e+05\n",
      "location[T.Depok]                2.058e+05   1.62e+05      1.272      0.203   -1.11e+05    5.23e+05\n",
      "location[T.Dumai]               -7.103e+05   6.03e+05     -1.179      0.239   -1.89e+06    4.71e+05\n",
      "location[T.Gianyar]              6.722e+05   7.17e+05      0.937      0.349   -7.34e+05    2.08e+06\n",
      "location[T.Gorontalo]           -9.418e+05   5.75e+05     -1.637      0.102   -2.07e+06    1.86e+05\n",
      "location[T.Gowa]                -9.778e+05   1.09e+06     -0.898      0.369   -3.11e+06    1.16e+06\n",
      "location[T.Gresik]               1.381e+06   2.25e+05      6.145      0.000    9.41e+05    1.82e+06\n",
      "location[T.Gunung Mas]           2.219e+04   1.09e+06      0.020      0.984   -2.11e+06    2.16e+06\n",
      "location[T.Halmahera]            2.885e+06   9.45e+05      3.054      0.002    1.03e+06    4.74e+06\n",
      "location[T.Hulu Sungai Tengah]  -1.578e+06   1.88e+06     -0.839      0.402   -5.26e+06    2.11e+06\n",
      "location[T.Jakarta Barat]        5.807e+05   1.12e+05      5.200      0.000    3.62e+05       8e+05\n",
      "location[T.Jakarta Pusat]        7.445e+05   1.16e+05      6.408      0.000    5.17e+05    9.72e+05\n",
      "location[T.Jakarta Raya]         8.455e+05   1.05e+05      8.059      0.000     6.4e+05    1.05e+06\n",
      "location[T.Jakarta Selatan]      8.894e+05    1.1e+05      8.095      0.000    6.74e+05     1.1e+06\n",
      "location[T.Jakarta Timur]        7.432e+05   1.28e+05      5.802      0.000    4.92e+05    9.94e+05\n",
      "location[T.Jakarta Utara]        6.015e+05   1.14e+05      5.298      0.000    3.79e+05    8.24e+05\n",
      "location[T.Jambi]               -5.152e+05   1.81e+05     -2.853      0.004   -8.69e+05   -1.61e+05\n",
      "location[T.Jawa Barat]           2.458e+05   1.29e+05      1.909      0.056   -6585.823    4.98e+05\n",
      "location[T.Jawa Tengah]           3.49e+05   1.42e+05      2.450      0.014    6.98e+04    6.28e+05\n",
      "location[T.Jawa Timur]           1.067e+05   1.38e+05      0.772      0.440   -1.64e+05    3.78e+05\n",
      "location[T.Jayapura]             7.522e+04   3.43e+05      0.220      0.826   -5.96e+05    7.47e+05\n",
      "location[T.Jember]              -5.212e+05   2.67e+05     -1.952      0.051   -1.04e+06    2046.717\n",
      "location[T.Jepara]               4.466e+05   3.47e+05      1.286      0.199   -2.34e+05    1.13e+06\n",
      "location[T.Kalimantan Barat]     8.906e+05   1.71e+05      5.203      0.000    5.55e+05    1.23e+06\n",
      "location[T.Kalimantan Selatan]   6.312e+05   2.24e+05      2.821      0.005    1.93e+05    1.07e+06\n",
      "location[T.Kalimantan Tengah]      1.6e+06    2.8e+05      5.719      0.000    1.05e+06    2.15e+06\n",
      "location[T.Kalimantan Timur]     1.956e+06   2.32e+05      8.419      0.000     1.5e+06    2.41e+06\n",
      "location[T.Kalimantan Utara]      7.94e+05   8.46e+05      0.938      0.348   -8.64e+05    2.45e+06\n",
      "location[T.Kapuas]               2.219e+04   1.33e+06      0.017      0.987   -2.59e+06    2.63e+06\n",
      "location[T.Karangasem]          -7.778e+05   1.88e+06     -0.414      0.679   -4.46e+06    2.91e+06\n",
      "location[T.Karawang]              1.22e+06   1.67e+05      7.315      0.000    8.93e+05    1.55e+06\n",
      "location[T.Kediri]              -6.329e+05   2.82e+05     -2.243      0.025   -1.19e+06   -7.99e+04\n",
      "location[T.Kendari]             -6.602e+05   4.05e+05     -1.631      0.103   -1.45e+06    1.33e+05\n",
      "location[T.Kepulauan Riau]       1.031e+06   5.52e+05      1.868      0.062   -5.09e+04    2.11e+06\n",
      "location[T.Kepulauan Seribu]     1.897e+06   1.33e+06      1.424      0.154   -7.14e+05    4.51e+06\n",
      "location[T.Ketapang]             1.691e+06   4.43e+05      3.818      0.000    8.23e+05    2.56e+06\n",
      "location[T.Klaten]               7.447e+05   4.32e+05      1.723      0.085   -1.02e+05    1.59e+06\n",
      "location[T.Klungkung]            4.597e+05   9.45e+05      0.487      0.627   -1.39e+06    2.31e+06\n",
      "location[T.Kota Banda Aceh]      2.579e+05   3.69e+05      0.698      0.485   -4.66e+05    9.82e+05\n",
      "location[T.Kotawaringin Barat]  -1.378e+06   1.88e+06     -0.732      0.464   -5.06e+06    2.31e+06\n",
      "location[T.Kotawaringin Timur]  -3.974e+05   4.67e+05     -0.851      0.395   -1.31e+06    5.18e+05\n",
      "location[T.Kudus]               -3.583e+05   3.47e+05     -1.031      0.302   -1.04e+06    3.23e+05\n",
      "location[T.Kulon Progo]          1.555e+05   1.09e+06      0.143      0.886   -1.98e+06    2.29e+06\n",
      "location[T.Kupang]              -9.903e+05   6.03e+05     -1.643      0.100   -2.17e+06    1.91e+05\n",
      "location[T.Kuta]                -5.711e+05   4.96e+05     -1.152      0.249   -1.54e+06       4e+05\n",
      "location[T.Kutai Barat]          2.181e+06   7.74e+05      2.819      0.005    6.64e+05     3.7e+06\n",
      "location[T.Kutai Kartanegara]    1.577e+06   6.03e+05      2.617      0.009    3.96e+05    2.76e+06\n",
      "location[T.Kutai Timur]          1.433e+06   6.34e+05      2.259      0.024     1.9e+05    2.68e+06\n",
      "location[T.Lampung]              8.289e+04   2.45e+05      0.338      0.735   -3.98e+05    5.63e+05\n",
      "location[T.Lhokseumawe]         -1.278e+05   6.72e+05     -0.190      0.849   -1.44e+06    1.19e+06\n",
      "location[T.Lombok]                -2.3e+05   4.05e+05     -0.568      0.570   -1.02e+06    5.63e+05\n",
      "location[T.Madiun]              -4.411e+05   4.43e+05     -0.996      0.319   -1.31e+06    4.27e+05\n",
      "location[T.Madura]              -2.195e+05   5.52e+05     -0.398      0.691    -1.3e+06    8.62e+05\n",
      "location[T.Magelang]             -8.46e+05   4.13e+05     -2.047      0.041   -1.66e+06    -3.6e+04\n",
      "location[T.Mahakam Ulu]          2.219e+04   1.33e+06      0.017      0.987   -2.59e+06    2.63e+06\n",
      "location[T.Makassar]            -4.556e+04   1.63e+05     -0.279      0.780   -3.66e+05    2.75e+05\n",
      "location[T.Malang]              -3.939e+05    1.8e+05     -2.190      0.029   -7.46e+05   -4.14e+04\n",
      "location[T.Malinau]              3.372e+06   1.33e+06      2.532      0.011    7.61e+05    5.98e+06\n",
      "location[T.Maluku]                -1.9e+05   3.58e+05     -0.531      0.595   -8.91e+05    5.11e+05\n",
      "location[T.Maluku Barat]         1.422e+06   1.09e+06      1.306      0.192   -7.13e+05    3.56e+06\n",
      "location[T.Maluku Utara]         1.231e+06   5.12e+05      2.404      0.016    2.27e+05    2.24e+06\n",
      "location[T.Mamuju]               8.122e+05   8.46e+05      0.960      0.337   -8.46e+05    2.47e+06\n",
      "location[T.Manado]              -1.906e+05   2.95e+05     -0.646      0.519   -7.69e+05    3.88e+05\n",
      "location[T.Manokwari]           -1.028e+05   1.33e+06     -0.077      0.938   -2.71e+06    2.51e+06\n",
      "location[T.Maros]               -1.234e+06   7.17e+05     -1.721      0.085   -2.64e+06    1.71e+05\n",
      "location[T.Mataram]             -7.994e+05   4.13e+05     -1.934      0.053   -1.61e+06    1.06e+04\n",
      "location[T.Medan]                2.578e+04   1.39e+05      0.186      0.852   -2.46e+05    2.97e+05\n",
      "location[T.Merauke]              1.722e+06   1.88e+06      0.916      0.360   -1.96e+06    5.41e+06\n",
      "location[T.Metro]               -3.978e+05   8.46e+05     -0.470      0.638   -2.06e+06    1.26e+06\n",
      "location[T.Meulaboh]             1.422e+06   1.09e+06      1.306      0.192   -7.13e+05    3.56e+06\n",
      "location[T.Minahasa]            -1.505e+06   1.88e+06     -0.800      0.424   -5.19e+06    2.18e+06\n",
      "location[T.Mojokerto]            6.149e+05   2.51e+05      2.448      0.014    1.23e+05    1.11e+06\n",
      "location[T.Muara Enim]           1.447e+06   6.72e+05      2.154      0.031     1.3e+05    2.76e+06\n",
      "location[T.Murung Raya]          4.272e+06   1.33e+06      3.207      0.001    1.66e+06    6.88e+06\n",
      "location[T.Nias]                 2.219e+04   1.33e+06      0.017      0.987   -2.59e+06    2.63e+06\n",
      "location[T.Nunukan]              8.722e+05   7.17e+05      1.216      0.224   -5.34e+05    2.28e+06\n",
      "location[T.Nusa Tenggara Barat]  1.735e+06   7.74e+05      2.243      0.025    2.18e+05    3.25e+06\n",
      "location[T.Nusa Tenggara Timur] -3.816e+04   3.63e+05     -0.105      0.916    -7.5e+05    6.74e+05\n",
      "location[T.Padang]              -2.541e+05   2.61e+05     -0.973      0.331   -7.66e+05    2.58e+05\n",
      "location[T.Padang Sidempuan]     8.889e+05   1.09e+06      0.816      0.414   -1.25e+06    3.02e+06\n",
      "location[T.Palangkaraya]        -7.674e+05   4.13e+05     -1.857      0.063   -1.58e+06    4.27e+04\n",
      "location[T.Palembang]           -2.558e+05   1.73e+05     -1.476      0.140   -5.95e+05    8.39e+04\n",
      "location[T.Palopo]              -9.074e+05   6.03e+05     -1.506      0.132   -2.09e+06    2.74e+05\n",
      "location[T.Palu]                 2.823e+05   3.47e+05      0.813      0.416   -3.99e+05    9.63e+05\n",
      "location[T.Pandeglang]          -2.135e+05   7.17e+05     -0.298      0.766   -1.62e+06    1.19e+06\n",
      "location[T.Pangandaran]          2.219e+04   1.33e+06      0.017      0.987   -2.59e+06    2.63e+06\n",
      "location[T.Pangkal Pinang]      -8.528e+05   7.17e+05     -1.189      0.234   -2.26e+06    5.53e+05\n",
      "location[T.Papua]               -5.263e+04   2.28e+05     -0.231      0.817   -4.99e+05    3.94e+05\n",
      "location[T.Papua Barat]         -8.528e+05   1.33e+06     -0.640      0.522   -3.46e+06    1.76e+06\n",
      "location[T.Pare-Pare]           -9.212e+05   7.17e+05     -1.284      0.199   -2.33e+06    4.85e+05\n",
      "location[T.Paser]                1.805e+05   5.52e+05      0.327      0.744   -9.01e+05    1.26e+06\n",
      "location[T.Pasuruan]             9.473e+05   2.34e+05      4.057      0.000     4.9e+05    1.41e+06\n",
      "location[T.Pekalongan]          -2.984e+05   3.38e+05     -0.883      0.377   -9.61e+05    3.64e+05\n",
      "location[T.Pekanbaru]             -5.2e+05   1.91e+05     -2.719      0.007   -8.95e+05   -1.45e+05\n",
      "location[T.Pemalang]            -4.517e+05   6.34e+05     -0.712      0.476    -1.7e+06    7.92e+05\n",
      "location[T.Pematangsiantar]     -4.108e+05   4.13e+05     -0.994      0.320   -1.22e+06    3.99e+05\n",
      "location[T.Penajam Paser Utara]  2.272e+06   1.88e+06      1.208      0.227   -1.41e+06    5.96e+06\n",
      "location[T.Ponorogo]            -3.869e+05   5.75e+05     -0.672      0.501   -1.51e+06    7.41e+05\n",
      "location[T.Pontianak]           -7.475e+05   2.05e+05     -3.638      0.000   -1.15e+06   -3.45e+05\n",
      "location[T.Poso]                 3.811e+05   1.33e+06      0.286      0.775   -2.23e+06    2.99e+06\n",
      "location[T.Prabumulih]          -1.353e+06   9.45e+05     -1.432      0.152    -3.2e+06    4.99e+05\n",
      "location[T.Probolinggo]          6.889e+05   1.09e+06      0.632      0.527   -1.45e+06    2.82e+06\n",
      "location[T.Purbalingga]          1.472e+05   6.72e+05      0.219      0.827   -1.17e+06    1.46e+06\n",
      "location[T.Purwakarta]            1.14e+06   2.95e+05      3.861      0.000    5.61e+05    1.72e+06\n",
      "location[T.Purwokerto]          -5.055e+05   2.71e+05     -1.865      0.062   -1.04e+06    2.56e+04\n",
      "location[T.Purworejo]           -7.673e+05   4.43e+05     -1.733      0.083   -1.64e+06    1.01e+05\n",
      "location[T.Rangkasbitung]        1.772e+06   7.17e+05      2.471      0.013    3.66e+05    3.18e+06\n",
      "location[T.Riau]                 6.294e+05   3.52e+05      1.786      0.074   -6.14e+04    1.32e+06\n",
      "location[T.Salatiga]             5.837e+05   5.31e+05      1.100      0.272   -4.57e+05    1.62e+06\n",
      "location[T.Samarinda]            7.756e+04   2.16e+05      0.359      0.720   -3.46e+05    5.02e+05\n",
      "location[T.Semarang]             2.602e+05   1.31e+05      1.990      0.047    3906.191    5.16e+05\n",
      "location[T.Seminyak]            -3.337e+04   6.34e+05     -0.053      0.958   -1.28e+06    1.21e+06\n",
      "location[T.Serang]               6.369e+05   2.08e+05      3.057      0.002    2.29e+05    1.05e+06\n",
      "location[T.Sibolga]              1.889e+05   1.09e+06      0.173      0.862   -1.95e+06    2.32e+06\n",
      "location[T.Sidoarjo]             4.372e+05   1.68e+05      2.610      0.009    1.09e+05    7.66e+05\n",
      "location[T.Singkawang]          -1.178e+05   8.46e+05     -0.139      0.889   -1.78e+06    1.54e+06\n",
      "location[T.Sintang]              2.335e+06   6.72e+05      3.475      0.001    1.02e+06    3.65e+06\n",
      "location[T.Sleman]              -4.961e+05    2.2e+05     -2.256      0.024   -9.27e+05    -6.5e+04\n",
      "location[T.Sorong]                2.01e+06   6.72e+05      2.991      0.003    6.93e+05    3.33e+06\n",
      "location[T.Sukabumi]            -1.181e+05   2.98e+05     -0.396      0.692   -7.02e+05    4.66e+05\n",
      "location[T.Sulawesi Barat]      -5.156e+05   4.96e+05     -1.040      0.298   -1.49e+06    4.56e+05\n",
      "location[T.Sulawesi Selatan]     4.484e+05   2.44e+05      1.839      0.066   -2.94e+04    9.26e+05\n",
      "location[T.Sulawesi Tengah]      1.167e+06   2.73e+05      4.274      0.000    6.32e+05     1.7e+06\n",
      "location[T.Sulawesi Tenggara]    6.586e+05   5.75e+05      1.144      0.252   -4.69e+05    1.79e+06\n",
      "location[T.Sulawesi Utara]       1537.1752   4.05e+05      0.004      0.997   -7.92e+05    7.95e+05\n",
      "location[T.Sumatera Barat]       1.232e+06   3.38e+05      3.646      0.000     5.7e+05    1.89e+06\n",
      "location[T.Sumatera Selatan]     5.812e+05   2.16e+05      2.686      0.007    1.57e+05    1.01e+06\n",
      "location[T.Sumatera Utara]       3.753e+05   1.85e+05      2.032      0.042    1.33e+04    7.37e+05\n",
      "location[T.Sumbawa]              1.556e+06   7.74e+05      2.011      0.044    3.93e+04    3.07e+06\n",
      "location[T.Surabaya]             7.802e+04   1.16e+05      0.672      0.501   -1.49e+05    3.05e+05\n",
      "location[T.Surakarta]           -7.762e+04   1.93e+05     -0.403      0.687   -4.55e+05       3e+05\n",
      "location[T.Tabalong]             1.722e+06   1.88e+06      0.916      0.360   -1.96e+06    5.41e+06\n",
      "location[T.Tanah Bumbu]         -1.778e+05   7.74e+05     -0.230      0.818   -1.69e+06    1.34e+06\n",
      "location[T.Tanah Laut]           1.722e+06   1.88e+06      0.916      0.360   -1.96e+06    5.41e+06\n",
      "location[T.Tangerang]             4.84e+05   1.12e+05      4.320      0.000    2.64e+05    7.04e+05\n",
      "location[T.Tanjung Balai]       -1.228e+06   1.88e+06     -0.653      0.514   -4.91e+06    2.46e+06\n",
      "location[T.Tanjung Pinang]      -1.038e+06   8.46e+05     -1.227      0.220    -2.7e+06    6.21e+05\n",
      "location[T.Tapanuli]            -7.778e+05   1.88e+06     -0.414      0.679   -4.46e+06    2.91e+06\n",
      "location[T.Tarakan]             -3.778e+05   7.17e+05     -0.527      0.598   -1.78e+06    1.03e+06\n",
      "location[T.Tasikmalaya]          1.183e+05   3.07e+05      0.385      0.700   -4.84e+05    7.21e+05\n",
      "location[T.Tegal]                -3.21e+05   3.01e+05     -1.066      0.286   -9.11e+05    2.69e+05\n",
      "location[T.Ternate]             -3.893e+05   5.31e+05     -0.733      0.463   -1.43e+06    6.51e+05\n",
      "location[T.Timika]              -1.303e+06   1.09e+06     -1.196      0.232   -3.44e+06    8.32e+05\n",
      "location[T.Tuban]                 -6.5e+05   6.34e+05     -1.025      0.306   -1.89e+06    5.93e+05\n",
      "location[T.Ubud]                -1.253e+06   1.33e+06     -0.941      0.347   -3.86e+06    1.36e+06\n",
      "location[T.Ungaran]             -2.151e+05   5.75e+05     -0.374      0.709   -1.34e+06    9.13e+05\n",
      "location[T.Wonogiri ]           -1.253e+06   1.33e+06     -0.941      0.347   -3.86e+06    1.36e+06\n",
      "location[T.Yogyakarta]          -4.553e+05   1.44e+05     -3.154      0.002   -7.38e+05   -1.72e+05\n",
      "==============================================================================\n",
      "Omnibus:                     3512.780   Durbin-Watson:                   1.979\n",
      "Prob(Omnibus):                  0.000   Jarque-Bera (JB):             4941.062\n",
      "Skew:                           0.984   Prob(JB):                         0.00\n",
      "Kurtosis:                       3.519   Cond. No.                         182.\n",
      "==============================================================================\n",
      "\n",
      "Warnings:\n",
      "[1] Standard Errors assume that the covariance matrix of the errors is correctly specified.\n",
      "\n",
      "\n",
      "Prekdiksi Salary vs Location 0    5.570427e+06\n",
      "1    6.323343e+06\n",
      "2    6.058505e+06\n",
      "3    5.840402e+06\n",
      "4    6.038766e+06\n",
      "dtype: float64\n",
      "\n",
      "\n",
      "MSE Salary vs Location 3503838848952.2183\n"
     ]
    }
   ],
   "source": [
    "model1 = smf.ols(\"salary~location\", data=dataset).fit()\n",
    "print(model1.summary())\n",
    "print(\"\\n\")\n",
    "\n",
    "yPred1 = model1.predict(X)\n",
    "print(\"Prekdiksi Salary vs Location\", yPred1.head(5))\n",
    "print(\"\\n\")\n",
    "print(\"MSE Salary vs Location\",  mean_squared_error(Y, yPred1))"
   ]
  },
  {
   "cell_type": "code",
   "execution_count": 21,
   "metadata": {},
   "outputs": [
    {
     "name": "stdout",
     "output_type": "stream",
     "text": [
      "                            OLS Regression Results                            \n",
      "==============================================================================\n",
      "Dep. Variable:                 salary   R-squared:                       0.283\n",
      "Model:                            OLS   Adj. R-squared:                  0.283\n",
      "Method:                 Least Squares   F-statistic:                     2819.\n",
      "Date:                Tue, 06 Jun 2023   Prob (F-statistic):               0.00\n",
      "Time:                        14:32:45   Log-Likelihood:            -4.4976e+05\n",
      "No. Observations:               28607   AIC:                         8.995e+05\n",
      "Df Residuals:                   28602   BIC:                         8.996e+05\n",
      "Df Model:                           4                                         \n",
      "Covariance Type:            nonrobust                                         \n",
      "=====================================================================================================================================\n",
      "                                                                        coef    std err          t      P>|t|      [0.025      0.975]\n",
      "-------------------------------------------------------------------------------------------------------------------------------------\n",
      "Intercept                                                          8.785e+06   1.36e+05     64.727      0.000    8.52e+06    9.05e+06\n",
      "career_level[T.Lulusan baru/Pengalaman kerja kurang dari 1 tahun] -4.264e+06   1.45e+05    -29.482      0.000   -4.55e+06   -3.98e+06\n",
      "career_level[T.Manajer/Asisten Manajer]                           -5.928e+05   1.39e+05     -4.275      0.000   -8.65e+05   -3.21e+05\n",
      "career_level[T.Pegawai (non-manajemen & non-supervisor)]           -3.41e+06   1.36e+05    -25.021      0.000   -3.68e+06   -3.14e+06\n",
      "career_level[T.Supervisor/Koordinator]                            -2.007e+06   1.37e+05    -14.616      0.000   -2.28e+06   -1.74e+06\n",
      "==============================================================================\n",
      "Omnibus:                     2874.563   Durbin-Watson:                   1.989\n",
      "Prob(Omnibus):                  0.000   Jarque-Bera (JB):             4139.567\n",
      "Skew:                           0.784   Prob(JB):                         0.00\n",
      "Kurtosis:                       4.006   Cond. No.                         38.8\n",
      "==============================================================================\n",
      "\n",
      "Warnings:\n",
      "[1] Standard Errors assume that the covariance matrix of the errors is correctly specified.\n",
      "\n",
      "\n",
      "Prekdiksi Salary vs Career 0    8.192580e+06\n",
      "1    8.192580e+06\n",
      "2    6.778034e+06\n",
      "3    6.778034e+06\n",
      "4    5.375810e+06\n",
      "dtype: float64\n",
      "\n",
      "\n",
      "MSE Salary vs Career 2652412884348.485\n"
     ]
    }
   ],
   "source": [
    "model2 = smf.ols(\"salary~career_level\", data=dataset).fit()\n",
    "print(model2.summary())\n",
    "print(\"\\n\")\n",
    "\n",
    "yPred2 = model2.predict(X)\n",
    "print(\"Prekdiksi Salary vs Career\", yPred2.head(5))\n",
    "print(\"\\n\")\n",
    "print(\"MSE Salary vs Career\",  mean_squared_error(Y, yPred2))"
   ]
  },
  {
   "cell_type": "code",
   "execution_count": 22,
   "metadata": {},
   "outputs": [
    {
     "name": "stdout",
     "output_type": "stream",
     "text": [
      "                            OLS Regression Results                            \n",
      "==============================================================================\n",
      "Dep. Variable:                 salary   R-squared:                       0.714\n",
      "Model:                            OLS   Adj. R-squared:                  0.714\n",
      "Method:                 Least Squares   F-statistic:                 7.126e+04\n",
      "Date:                Tue, 06 Jun 2023   Prob (F-statistic):               0.00\n",
      "Time:                        14:32:46   Log-Likelihood:            -4.3663e+05\n",
      "No. Observations:               28607   AIC:                         8.733e+05\n",
      "Df Residuals:                   28605   BIC:                         8.733e+05\n",
      "Df Model:                           1                                         \n",
      "Covariance Type:            nonrobust                                         \n",
      "====================================================================================\n",
      "                       coef    std err          t      P>|t|      [0.025      0.975]\n",
      "------------------------------------------------------------------------------------\n",
      "Intercept         3.202e+06   1.21e+04    265.525      0.000    3.18e+06    3.23e+06\n",
      "experience_level  1.298e+06   4861.962    266.951      0.000    1.29e+06    1.31e+06\n",
      "==============================================================================\n",
      "Omnibus:                     4119.768   Durbin-Watson:                   1.971\n",
      "Prob(Omnibus):                  0.000   Jarque-Bera (JB):            64108.992\n",
      "Skew:                          -0.001   Prob(JB):                         0.00\n",
      "Kurtosis:                      10.334   Cond. No.                         5.53\n",
      "==============================================================================\n",
      "\n",
      "Warnings:\n",
      "[1] Standard Errors assume that the covariance matrix of the errors is correctly specified.\n",
      "\n",
      "\n",
      "Prekdiksi Salary vs Experience 0    9.691227e+06\n",
      "1    9.691227e+06\n",
      "2    8.393320e+06\n",
      "3    9.691227e+06\n",
      "4    5.797505e+06\n",
      "dtype: float64\n",
      "\n",
      "\n",
      "MSE Salary vs Experience 1059200405398.8856\n"
     ]
    }
   ],
   "source": [
    "model3 = smf.ols(\"salary~experience_level\", data=dataset).fit()\n",
    "print(model3.summary())\n",
    "print(\"\\n\")\n",
    "\n",
    "yPred3 = model3.predict(X)\n",
    "print(\"Prekdiksi Salary vs Experience\", yPred3.head(5))\n",
    "print(\"\\n\")\n",
    "print(\"MSE Salary vs Experience\",  mean_squared_error(Y, yPred3))"
   ]
  },
  {
   "cell_type": "code",
   "execution_count": 23,
   "metadata": {},
   "outputs": [
    {
     "name": "stdout",
     "output_type": "stream",
     "text": [
      "                            OLS Regression Results                            \n",
      "==============================================================================\n",
      "Dep. Variable:                 salary   R-squared:                       0.119\n",
      "Model:                            OLS   Adj. R-squared:                  0.119\n",
      "Method:                 Least Squares   F-statistic:                     203.6\n",
      "Date:                Tue, 06 Jun 2023   Prob (F-statistic):               0.00\n",
      "Time:                        14:32:46   Log-Likelihood:            -4.5270e+05\n",
      "No. Observations:               28607   AIC:                         9.054e+05\n",
      "Df Residuals:                   28587   BIC:                         9.056e+05\n",
      "Df Model:                          19                                         \n",
      "Covariance Type:            nonrobust                                         \n",
      "=====================================================================================================================================================================================================================\n",
      "                                                                                                                                                        coef    std err          t      P>|t|      [0.025      0.975]\n",
      "---------------------------------------------------------------------------------------------------------------------------------------------------------------------------------------------------------------------\n",
      "Intercept                                                                                                                                          7.251e+06   2.02e+05     35.924      0.000    6.86e+06    7.65e+06\n",
      "education_level[T.Diploma Pascasarjana, Gelar Professional, Magister (S2), Doktor (S3)]                                                           -1.263e+06   3.91e+05     -3.228      0.001   -2.03e+06   -4.96e+05\n",
      "education_level[T.Doktor (S3)]                                                                                                                    -6.713e+05   6.06e+05     -1.109      0.268   -1.86e+06    5.16e+05\n",
      "education_level[T.SMA, SMU/SMK/STM]                                                                                                               -2.553e+06   2.06e+05    -12.391      0.000   -2.96e+06   -2.15e+06\n",
      "education_level[T.SMA, SMU/SMK/STM, Sarjana (S1)]                                                                                                 -2.342e+06   2.54e+05     -9.206      0.000   -2.84e+06   -1.84e+06\n",
      "education_level[T.SMA, SMU/SMK/STM, Sarjana (S1), Diploma Pascasarjana, Gelar Professional, Magister (S2)]                                        -2.157e+06   4.82e+05     -4.474      0.000    -3.1e+06   -1.21e+06\n",
      "education_level[T.SMA, SMU/SMK/STM, Sarjana (S1), Doktor (S3)]                                                                                    -2.551e+06   1.82e+06     -1.404      0.160   -6.11e+06    1.01e+06\n",
      "education_level[T.SMA, SMU/SMK/STM, Sertifikat Professional, D3 (Diploma), D4 (Diploma)]                                                          -2.122e+06   2.12e+05     -9.990      0.000   -2.54e+06   -1.71e+06\n",
      "education_level[T.SMA, SMU/SMK/STM, Sertifikat Professional, D3 (Diploma), D4 (Diploma), Diploma Pascasarjana, Gelar Professional, Magister (S2)] -1.493e+06   7.12e+05     -2.098      0.036   -2.89e+06    -9.8e+04\n",
      "education_level[T.SMA, SMU/SMK/STM, Sertifikat Professional, D3 (Diploma), D4 (Diploma), Sarjana (S1)]                                            -1.967e+06   2.05e+05     -9.596      0.000   -2.37e+06   -1.56e+06\n",
      "education_level[T.Sarjana (S1)]                                                                                                                   -7.483e+05   2.03e+05     -3.692      0.000   -1.15e+06   -3.51e+05\n",
      "education_level[T.Sarjana (S1), Diploma Pascasarjana, Gelar Professional, Magister (S2)]                                                           1.469e+05   2.07e+05      0.711      0.477   -2.58e+05    5.52e+05\n",
      "education_level[T.Sarjana (S1), Diploma Pascasarjana, Gelar Professional, Magister (S2), Doktor (S3)]                                              3.413e+05   3.03e+05      1.127      0.260   -2.52e+05    9.35e+05\n",
      "education_level[T.Sarjana (S1), Doktor (S3)]                                                                                                      -1.911e+06   6.06e+05     -3.156      0.002    -3.1e+06   -7.24e+05\n",
      "education_level[T.Sertifikat Professional, D3 (Diploma), D4 (Diploma)]                                                                             -1.83e+06   2.07e+05     -8.859      0.000   -2.23e+06   -1.42e+06\n",
      "education_level[T.Sertifikat Professional, D3 (Diploma), D4 (Diploma), Diploma Pascasarjana, Gelar Professional, Magister (S2)]                   -9.107e+05   4.82e+05     -1.889      0.059   -1.86e+06    3.43e+04\n",
      "education_level[T.Sertifikat Professional, D3 (Diploma), D4 (Diploma), Sarjana (S1)]                                                              -1.495e+06   2.03e+05     -7.353      0.000   -1.89e+06    -1.1e+06\n",
      "education_level[T.Sertifikat Professional, D3 (Diploma), D4 (Diploma), Sarjana (S1), Diploma Pascasarjana, Gelar Professional, Magister (S2)]     -7.129e+05   2.12e+05     -3.365      0.001   -1.13e+06   -2.98e+05\n",
      "education_level[T.Sertifikat Professional, D3 (Diploma), D4 (Diploma), Sarjana (S1), Doktor (S3)]                                                 -9.013e+05   1.29e+06     -0.697      0.486   -3.43e+06    1.63e+06\n",
      "education_level[T.Tidak terspesifikasi]                                                                                                           -1.492e+06   2.04e+05     -7.310      0.000   -1.89e+06   -1.09e+06\n",
      "==============================================================================\n",
      "Omnibus:                     3256.082   Durbin-Watson:                   1.993\n",
      "Prob(Omnibus):                  0.000   Jarque-Bera (JB):             4475.368\n",
      "Skew:                           0.935   Prob(JB):                         0.00\n",
      "Kurtosis:                       3.511   Cond. No.                         187.\n",
      "==============================================================================\n",
      "\n",
      "Warnings:\n",
      "[1] Standard Errors assume that the covariance matrix of the errors is correctly specified.\n",
      "\n",
      "\n",
      "Prekdiksi Salary vs Education 0    5.756431e+06\n",
      "1    7.398233e+06\n",
      "2    6.503007e+06\n",
      "3    7.398233e+06\n",
      "4    5.756431e+06\n",
      "dtype: float64\n",
      "\n",
      "\n",
      "MSE Salary vs Education 3257230614059.023\n"
     ]
    }
   ],
   "source": [
    "model4 = smf.ols(\"salary~education_level\", data=dataset).fit()\n",
    "print(model4.summary())\n",
    "print(\"\\n\")\n",
    "\n",
    "yPred4 = model4.predict(X)\n",
    "print(\"Prekdiksi Salary vs Education\", yPred4.head(5))\n",
    "print(\"\\n\")\n",
    "print(\"MSE Salary vs Education\",  mean_squared_error(Y, yPred4))"
   ]
  },
  {
   "cell_type": "markdown",
   "metadata": {},
   "source": [
    "Metode Pendekatan Bayesian Regresi Linear"
   ]
  },
  {
   "cell_type": "code",
   "execution_count": 61,
   "metadata": {},
   "outputs": [
    {
     "name": "stdout",
     "output_type": "stream",
     "text": [
      "                 Generalized Linear Model Regression Results                  \n",
      "==============================================================================\n",
      "Dep. Variable:                 salary   No. Observations:                28607\n",
      "Model:                            GLM   Df Residuals:                    28605\n",
      "Model Family:                Gaussian   Df Model:                            1\n",
      "Link Function:               identity   Scale:                      1.0593e+12\n",
      "Method:                          IRLS   Log-Likelihood:            -4.3663e+05\n",
      "Date:                Tue, 06 Jun 2023   Deviance:                   3.0301e+16\n",
      "Time:                        16:06:11   Pearson chi2:                 3.03e+16\n",
      "No. Iterations:                     3   Covariance Type:             nonrobust\n",
      "====================================================================================\n",
      "                       coef    std err          z      P>|z|      [0.025      0.975]\n",
      "------------------------------------------------------------------------------------\n",
      "Intercept         3.202e+06   1.21e+04    265.525      0.000    3.18e+06    3.23e+06\n",
      "experience_level  1.298e+06   4861.962    266.951      0.000    1.29e+06    1.31e+06\n",
      "====================================================================================\n",
      "\n",
      "\n"
     ]
    }
   ],
   "source": [
    "modelGLS = smf.glm(\"salary~experience_level\", data=dataset).fit()\n",
    "print(modelGLS.summary())\n",
    "print(\"\\n\")"
   ]
  },
  {
   "cell_type": "markdown",
   "metadata": {},
   "source": [
    "Visualisasi Data Prediksi"
   ]
  },
  {
   "cell_type": "code",
   "execution_count": 24,
   "metadata": {},
   "outputs": [
    {
     "name": "stdout",
     "output_type": "stream",
     "text": [
      "Data Training Set (20024, 1)\n",
      "Data Test Set (8583, 1)\n"
     ]
    }
   ],
   "source": [
    "xYear = dataset.loc[:, [\"experience_level\"]].values\n",
    "ySalary = dataset.loc[:, [\"salary\"]].values\n",
    "\n",
    "xTrain, xTest, yTrain, yTest = train_test_split(xYear, ySalary, test_size = 0.3, random_state = 0)\n",
    "predictExpSal = LinearRegression()\n",
    "predictExpSal.fit(xTrain, yTrain)\n",
    "\n",
    "print(\"Data Training Set\", xTrain.shape)\n",
    "print(\"Data Test Set\", xTest.shape)"
   ]
  },
  {
   "cell_type": "code",
   "execution_count": 25,
   "metadata": {},
   "outputs": [
    {
     "data": {
      "image/png": "[encoded data removed]",
      "text/plain": [
       "<Figure size 720x360 with 1 Axes>"
      ]
     },
     "metadata": {},
     "output_type": "display_data"
    }
   ],
   "source": [
    "plt.scatter(xTrain, yTrain, color = 'red')\n",
    "plt.plot(xTrain, predictExpSal.predict(xTrain), color = 'blue')\n",
    "plt.title('Salary vs Experience (Training set)')\n",
    "plt.xlabel('Years of Experience')\n",
    "plt.ylabel('Salary')\n",
    "\n",
    "formatSal = plt.gca().get_yticks()\n",
    "plt.gca().set_yticklabels(['{:,.0f}'.format(i) for i in formatSal])\n",
    "\n",
    "plt.show()"
   ]
  },
  {
   "cell_type": "code",
   "execution_count": 26,
   "metadata": {},
   "outputs": [
    {
     "data": {
      "image/png": "[encoded data removed]",
      "text/plain": [
       "<Figure size 720x360 with 1 Axes>"
      ]
     },
     "metadata": {},
     "output_type": "display_data"
    }
   ],
   "source": [
    "plt.scatter(xTest, yTest, color = 'red')\n",
    "plt.plot(xTrain, predictExpSal.predict(xTrain), color = 'blue')\n",
    "plt.title('Salary vs Experience (Test set)')\n",
    "plt.xlabel('Years of Experience')\n",
    "plt.ylabel('Salary')\n",
    "\n",
    "plt.gca().set_yticklabels(['{:,.0f}'.format(i) for i in formatSal])\n",
    "\n",
    "plt.show()"
   ]
  },
  {
   "cell_type": "code",
   "execution_count": 27,
   "metadata": {},
   "outputs": [
    {
     "data": {
      "text/plain": [
       "array([[16198407.66655117]])"
      ]
     },
     "execution_count": 27,
     "metadata": {},
     "output_type": "execute_result"
    }
   ],
   "source": [
    "# Memprediksi gaji berdasarkan experience \n",
    "# model.predict(year)\n",
    "predictExpSal.predict([[10]])"
   ]
  },
  {
   "cell_type": "code",
   "execution_count": 28,
   "metadata": {},
   "outputs": [
    {
     "data": {
      "text/plain": [
       "0.7155417503389994"
      ]
     },
     "execution_count": 28,
     "metadata": {},
     "output_type": "execute_result"
    }
   ],
   "source": [
    "# Keakuratan model data\n",
    "predictExpSal.score(xTest, yTest)"
   ]
  }
 ],
 "metadata": {
  "kernelspec": {
   "display_name": "Python 3.7.1 64-bit ('PYTHON_SERVER')",
   "language": "python",
   "name": "python3"
  },
  "language_info": {
   "codemirror_mode": {
    "name": "ipython",
    "version": 3
   },
   "file_extension": ".py",
   "mimetype": "text/x-python",
   "name": "python",
   "nbconvert_exporter": "python",
   "pygments_lexer": "ipython3",
   "version": "3.7.1"
  },
  "orig_nbformat": 4,
  "vscode": {
   "interpreter": {
    "hash": "7dd15e51a4470d085f7a243fb04650bc4fe166c7b9d4ae5b8d1a77af89f8b74e"
   }
  }
 },
 "nbformat": 4,
 "nbformat_minor": 2
}
