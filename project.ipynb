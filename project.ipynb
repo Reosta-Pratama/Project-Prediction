{
 "cells": [
  {
   "cell_type": "markdown",
   "metadata": {},
   "source": [
    "**1. Read and import data**"
   ]
  },
  {
   "cell_type": "code",
   "execution_count": 1,
   "metadata": {},
   "outputs": [],
   "source": [
    "import numpy as np\n",
    "import pandas as pd\n",
    "\n",
    "import matplotlib.pyplot as plt\n",
    "import seaborn as sns\n",
    "\n",
    "import scipy.stats as stats\n",
    "\n",
    "from sklearn.linear_model import LinearRegression\n",
    "from sklearn.model_selection import train_test_split"
   ]
  },
  {
   "cell_type": "code",
   "execution_count": 2,
   "metadata": {},
   "outputs": [],
   "source": [
    "dataset = pd.read_csv('./data/salary.csv', sep='|')"
   ]
  },
  {
   "cell_type": "code",
   "execution_count": 3,
   "metadata": {},
   "outputs": [
    {
     "data": {
      "text/html": [
       "<div>\n",
       "<style scoped>\n",
       "    .dataframe tbody tr th:only-of-type {\n",
       "        vertical-align: middle;\n",
       "    }\n",
       "\n",
       "    .dataframe tbody tr th {\n",
       "        vertical-align: top;\n",
       "    }\n",
       "\n",
       "    .dataframe thead th {\n",
       "        text-align: right;\n",
       "    }\n",
       "</style>\n",
       "<table border=\"1\" class=\"dataframe\">\n",
       "  <thead>\n",
       "    <tr style=\"text-align: right;\">\n",
       "      <th></th>\n",
       "      <th>id</th>\n",
       "      <th>job_title</th>\n",
       "      <th>location</th>\n",
       "      <th>salary_currency</th>\n",
       "      <th>career_level</th>\n",
       "      <th>experience_level</th>\n",
       "      <th>education_level</th>\n",
       "      <th>employment_type</th>\n",
       "      <th>job_function</th>\n",
       "      <th>job_benefits</th>\n",
       "      <th>company_process_time</th>\n",
       "      <th>company_size</th>\n",
       "      <th>company_industry</th>\n",
       "      <th>job_description</th>\n",
       "      <th>salary</th>\n",
       "    </tr>\n",
       "  </thead>\n",
       "  <tbody>\n",
       "    <tr>\n",
       "      <th>0</th>\n",
       "      <td>1</td>\n",
       "      <td>Facility Maintenance &amp; Smart Warehouse Manager</td>\n",
       "      <td>Bandung</td>\n",
       "      <td>IDR</td>\n",
       "      <td>Manajer/Asisten Manajer</td>\n",
       "      <td>5 tahun</td>\n",
       "      <td>Sertifikat Professional, D3 (Diploma), D4 (Dip...</td>\n",
       "      <td>Penuh Waktu</td>\n",
       "      <td>Manufaktur,Pemeliharaan</td>\n",
       "      <td>NaN</td>\n",
       "      <td>NaN</td>\n",
       "      <td>NaN</td>\n",
       "      <td>NaN</td>\n",
       "      <td>Deskripsi PekerjaanRequirements :D3/SI from re...</td>\n",
       "      <td>NaN</td>\n",
       "    </tr>\n",
       "    <tr>\n",
       "      <th>1</th>\n",
       "      <td>2</td>\n",
       "      <td>Procurement Department Head</td>\n",
       "      <td>Jakarta Raya</td>\n",
       "      <td>IDR</td>\n",
       "      <td>Manajer/Asisten Manajer</td>\n",
       "      <td>5 tahun</td>\n",
       "      <td>Sarjana (S1), Diploma Pascasarjana, Gelar Prof...</td>\n",
       "      <td>Penuh Waktu</td>\n",
       "      <td>Manufaktur,Pembelian/Manajemen Material</td>\n",
       "      <td>NaN</td>\n",
       "      <td>25 days</td>\n",
       "      <td>51 - 200 pekerja</td>\n",
       "      <td>Manajemen/Konsulting HR</td>\n",
       "      <td>Job Role: 1. Responsible for material availabi...</td>\n",
       "      <td>NaN</td>\n",
       "    </tr>\n",
       "  </tbody>\n",
       "</table>\n",
       "</div>"
      ],
      "text/plain": [
       "   id                                       job_title      location  \\\n",
       "0   1  Facility Maintenance & Smart Warehouse Manager       Bandung   \n",
       "1   2                     Procurement Department Head  Jakarta Raya   \n",
       "\n",
       "  salary_currency             career_level experience_level  \\\n",
       "0             IDR  Manajer/Asisten Manajer          5 tahun   \n",
       "1             IDR  Manajer/Asisten Manajer          5 tahun   \n",
       "\n",
       "                                     education_level employment_type  \\\n",
       "0  Sertifikat Professional, D3 (Diploma), D4 (Dip...     Penuh Waktu   \n",
       "1  Sarjana (S1), Diploma Pascasarjana, Gelar Prof...     Penuh Waktu   \n",
       "\n",
       "                              job_function job_benefits company_process_time  \\\n",
       "0                  Manufaktur,Pemeliharaan          NaN                  NaN   \n",
       "1  Manufaktur,Pembelian/Manajemen Material          NaN              25 days   \n",
       "\n",
       "       company_size         company_industry  \\\n",
       "0               NaN                      NaN   \n",
       "1  51 - 200 pekerja  Manajemen/Konsulting HR   \n",
       "\n",
       "                                     job_description  salary  \n",
       "0  Deskripsi PekerjaanRequirements :D3/SI from re...     NaN  \n",
       "1  Job Role: 1. Responsible for material availabi...     NaN  "
      ]
     },
     "execution_count": 3,
     "metadata": {},
     "output_type": "execute_result"
    }
   ],
   "source": [
    "dataset.head(2)"
   ]
  },
  {
   "cell_type": "markdown",
   "metadata": {},
   "source": [
    "**2. Cleaning the data**"
   ]
  },
  {
   "cell_type": "code",
   "execution_count": 4,
   "metadata": {},
   "outputs": [
    {
     "name": "stdout",
     "output_type": "stream",
     "text": [
      "<class 'pandas.core.frame.DataFrame'>\n",
      "RangeIndex: 34746 entries, 0 to 34745\n",
      "Data columns (total 15 columns):\n",
      "id                      34746 non-null int64\n",
      "job_title               34746 non-null object\n",
      "location                34746 non-null object\n",
      "salary_currency         34742 non-null object\n",
      "career_level            34746 non-null object\n",
      "experience_level        30205 non-null object\n",
      "education_level         34746 non-null object\n",
      "employment_type         33402 non-null object\n",
      "job_function            34746 non-null object\n",
      "job_benefits            27330 non-null object\n",
      "company_process_time    24555 non-null object\n",
      "company_size            29103 non-null object\n",
      "company_industry        33132 non-null object\n",
      "job_description         34745 non-null object\n",
      "salary                  9352 non-null float64\n",
      "dtypes: float64(1), int64(1), object(13)\n",
      "memory usage: 4.0+ MB\n"
     ]
    }
   ],
   "source": [
    "dataset.info()"
   ]
  },
  {
   "cell_type": "code",
   "execution_count": 5,
   "metadata": {},
   "outputs": [
    {
     "data": {
      "text/plain": [
       "id                          0\n",
       "job_title                   0\n",
       "location                    0\n",
       "salary_currency             4\n",
       "career_level                0\n",
       "experience_level         4541\n",
       "education_level             0\n",
       "employment_type          1344\n",
       "job_function                0\n",
       "job_benefits             7416\n",
       "company_process_time    10191\n",
       "company_size             5643\n",
       "company_industry         1614\n",
       "job_description             1\n",
       "salary                  25394\n",
       "dtype: int64"
      ]
     },
     "execution_count": 5,
     "metadata": {},
     "output_type": "execute_result"
    }
   ],
   "source": [
    "# Check null values\n",
    "dataset.isnull().sum()"
   ]
  },
  {
   "cell_type": "code",
   "execution_count": 6,
   "metadata": {},
   "outputs": [],
   "source": [
    "# Remove Column \n",
    "dataset = dataset.drop(labels=[\"id\", \"salary_currency\", \"job_benefits\", \"job_function\", \"job_description\",\n",
    "\"company_process_time\", \"company_size\", \"company_industry\", \"employment_type\"], axis=1)"
   ]
  },
  {
   "cell_type": "markdown",
   "metadata": {},
   "source": [
    "Cleaning Salary"
   ]
  },
  {
   "cell_type": "code",
   "execution_count": 7,
   "metadata": {},
   "outputs": [],
   "source": [
    "# Mengisi data salary yang nan atau null dengan median\n",
    "dataset['salary'].fillna(dataset.groupby([\"experience_level\"])['salary'].transform('median'), inplace=True)\n",
    "dataset['salary'] = dataset['salary'].round(0)"
   ]
  },
  {
   "cell_type": "markdown",
   "metadata": {},
   "source": [
    "Cleaning Experience Level"
   ]
  },
  {
   "cell_type": "code",
   "execution_count": 8,
   "metadata": {},
   "outputs": [],
   "source": [
    "# Convert experience_level str => float\n",
    "dataset[\"experience_level\"] = dataset[\"experience_level\"].str.replace(\"\\D\", \"\").fillna(0).astype('float')\n",
    "\n",
    "# Mengisi data experience_level yang 0 dengan median\n",
    "dataset['experience_level'].replace(to_replace=0, value=dataset.groupby([\"salary\"])['experience_level'].transform('median'), inplace=True)"
   ]
  },
  {
   "cell_type": "markdown",
   "metadata": {},
   "source": [
    "Outlier"
   ]
  },
  {
   "cell_type": "code",
   "execution_count": 9,
   "metadata": {},
   "outputs": [],
   "source": [
    "dataset.dropna(inplace=True)"
   ]
  },
  {
   "cell_type": "code",
   "execution_count": 10,
   "metadata": {},
   "outputs": [
    {
     "data": {
      "image/png": "[encoded data removed]",
      "text/plain": [
       "<Figure size 432x288 with 1 Axes>"
      ]
     },
     "metadata": {
      "needs_background": "light"
     },
     "output_type": "display_data"
    }
   ],
   "source": [
    "# Experience\n",
    "per25Exp = dataset['experience_level'].quantile(0.25)\n",
    "per75Exp = dataset['experience_level'].quantile(0.75)\n",
    "iqrExp = per75Exp - per25Exp\n",
    "\n",
    "lower_limit = per25Exp - 1.5 * iqrExp\n",
    "upper_limit = per75Exp + 1.5 * iqrExp\n",
    "\n",
    "dataset = dataset[~((dataset[\"experience_level\"] < (lower_limit)) | (dataset[\"experience_level\"] > (upper_limit)))]\n",
    "\n",
    "sns.boxplot(dataset[\"experience_level\"])\n",
    "plt.show()"
   ]
  },
  {
   "cell_type": "code",
   "execution_count": 11,
   "metadata": {},
   "outputs": [
    {
     "data": {
      "image/png": "[encoded data removed]",
      "text/plain": [
       "<Figure size 432x288 with 1 Axes>"
      ]
     },
     "metadata": {
      "needs_background": "light"
     },
     "output_type": "display_data"
    }
   ],
   "source": [
    "# Salary\n",
    "per25Salary = dataset['salary'].quantile(0.25)\n",
    "per75Salary = dataset['salary'].quantile(0.75)\n",
    "iqrSalary = per75Salary - per25Salary\n",
    "\n",
    "lower_limit = per25Salary - 1.5 * iqrSalary\n",
    "upper_limit = per75Salary + 1.5 * iqrSalary\n",
    "\n",
    "dataset = dataset[~((dataset[\"salary\"] < (lower_limit)) | (dataset[\"salary\"] > (upper_limit)))]\n",
    "\n",
    "sns.boxplot(dataset[\"salary\"])\n",
    "plt.show()"
   ]
  },
  {
   "cell_type": "markdown",
   "metadata": {},
   "source": [
    "Result Cleaning"
   ]
  },
  {
   "cell_type": "code",
   "execution_count": 12,
   "metadata": {},
   "outputs": [
    {
     "data": {
      "text/plain": [
       "(28607, 6)"
      ]
     },
     "execution_count": 12,
     "metadata": {},
     "output_type": "execute_result"
    }
   ],
   "source": [
    "dataset.shape"
   ]
  },
  {
   "cell_type": "code",
   "execution_count": 13,
   "metadata": {},
   "outputs": [
    {
     "data": {
      "text/plain": [
       "job_title           0\n",
       "location            0\n",
       "career_level        0\n",
       "experience_level    0\n",
       "education_level     0\n",
       "salary              0\n",
       "dtype: int64"
      ]
     },
     "execution_count": 13,
     "metadata": {},
     "output_type": "execute_result"
    }
   ],
   "source": [
    "# Check null values\n",
    "dataset.isnull().sum()"
   ]
  },
  {
   "cell_type": "code",
   "execution_count": 14,
   "metadata": {},
   "outputs": [
    {
     "data": {
      "text/html": [
       "<div>\n",
       "<style scoped>\n",
       "    .dataframe tbody tr th:only-of-type {\n",
       "        vertical-align: middle;\n",
       "    }\n",
       "\n",
       "    .dataframe tbody tr th {\n",
       "        vertical-align: top;\n",
       "    }\n",
       "\n",
       "    .dataframe thead th {\n",
       "        text-align: right;\n",
       "    }\n",
       "</style>\n",
       "<table border=\"1\" class=\"dataframe\">\n",
       "  <thead>\n",
       "    <tr style=\"text-align: right;\">\n",
       "      <th></th>\n",
       "      <th>job_title</th>\n",
       "      <th>location</th>\n",
       "      <th>career_level</th>\n",
       "      <th>experience_level</th>\n",
       "      <th>education_level</th>\n",
       "      <th>salary</th>\n",
       "    </tr>\n",
       "  </thead>\n",
       "  <tbody>\n",
       "    <tr>\n",
       "      <th>0</th>\n",
       "      <td>Facility Maintenance &amp; Smart Warehouse Manager</td>\n",
       "      <td>Bandung</td>\n",
       "      <td>Manajer/Asisten Manajer</td>\n",
       "      <td>5.0</td>\n",
       "      <td>Sertifikat Professional, D3 (Diploma), D4 (Dip...</td>\n",
       "      <td>10500000.0</td>\n",
       "    </tr>\n",
       "    <tr>\n",
       "      <th>1</th>\n",
       "      <td>Procurement Department Head</td>\n",
       "      <td>Jakarta Raya</td>\n",
       "      <td>Manajer/Asisten Manajer</td>\n",
       "      <td>5.0</td>\n",
       "      <td>Sarjana (S1), Diploma Pascasarjana, Gelar Prof...</td>\n",
       "      <td>10500000.0</td>\n",
       "    </tr>\n",
       "    <tr>\n",
       "      <th>2</th>\n",
       "      <td>SALES ADMIN</td>\n",
       "      <td>Jakarta Barat</td>\n",
       "      <td>Supervisor/Koordinator</td>\n",
       "      <td>4.0</td>\n",
       "      <td>Sarjana (S1)</td>\n",
       "      <td>8450000.0</td>\n",
       "    </tr>\n",
       "    <tr>\n",
       "      <th>3</th>\n",
       "      <td>City Operation Lead Shopee Express (Cirebon)</td>\n",
       "      <td>Cirebon</td>\n",
       "      <td>Supervisor/Koordinator</td>\n",
       "      <td>5.0</td>\n",
       "      <td>Sarjana (S1), Diploma Pascasarjana, Gelar Prof...</td>\n",
       "      <td>10500000.0</td>\n",
       "    </tr>\n",
       "    <tr>\n",
       "      <th>4</th>\n",
       "      <td>Japanese Interpreter</td>\n",
       "      <td>Bekasi</td>\n",
       "      <td>Pegawai (non-manajemen &amp; non-supervisor)</td>\n",
       "      <td>2.0</td>\n",
       "      <td>Sertifikat Professional, D3 (Diploma), D4 (Dip...</td>\n",
       "      <td>5500000.0</td>\n",
       "    </tr>\n",
       "  </tbody>\n",
       "</table>\n",
       "</div>"
      ],
      "text/plain": [
       "                                        job_title       location  \\\n",
       "0  Facility Maintenance & Smart Warehouse Manager        Bandung   \n",
       "1                     Procurement Department Head   Jakarta Raya   \n",
       "2                                     SALES ADMIN  Jakarta Barat   \n",
       "3    City Operation Lead Shopee Express (Cirebon)        Cirebon   \n",
       "4                            Japanese Interpreter         Bekasi   \n",
       "\n",
       "                               career_level  experience_level  \\\n",
       "0                   Manajer/Asisten Manajer               5.0   \n",
       "1                   Manajer/Asisten Manajer               5.0   \n",
       "2                    Supervisor/Koordinator               4.0   \n",
       "3                    Supervisor/Koordinator               5.0   \n",
       "4  Pegawai (non-manajemen & non-supervisor)               2.0   \n",
       "\n",
       "                                     education_level      salary  \n",
       "0  Sertifikat Professional, D3 (Diploma), D4 (Dip...  10500000.0  \n",
       "1  Sarjana (S1), Diploma Pascasarjana, Gelar Prof...  10500000.0  \n",
       "2                                       Sarjana (S1)   8450000.0  \n",
       "3  Sarjana (S1), Diploma Pascasarjana, Gelar Prof...  10500000.0  \n",
       "4  Sertifikat Professional, D3 (Diploma), D4 (Dip...   5500000.0  "
      ]
     },
     "execution_count": 14,
     "metadata": {},
     "output_type": "execute_result"
    }
   ],
   "source": [
    "dataset.reset_index(drop=True, inplace=True)\n",
    "dataset.head(5)"
   ]
  },
  {
   "cell_type": "code",
   "execution_count": 15,
   "metadata": {},
   "outputs": [
    {
     "data": {
      "text/html": [
       "<div>\n",
       "<style scoped>\n",
       "    .dataframe tbody tr th:only-of-type {\n",
       "        vertical-align: middle;\n",
       "    }\n",
       "\n",
       "    .dataframe tbody tr th {\n",
       "        vertical-align: top;\n",
       "    }\n",
       "\n",
       "    .dataframe thead th {\n",
       "        text-align: right;\n",
       "    }\n",
       "</style>\n",
       "<table border=\"1\" class=\"dataframe\">\n",
       "  <thead>\n",
       "    <tr style=\"text-align: right;\">\n",
       "      <th></th>\n",
       "      <th>experience_level</th>\n",
       "      <th>salary</th>\n",
       "    </tr>\n",
       "  </thead>\n",
       "  <tbody>\n",
       "    <tr>\n",
       "      <th>count</th>\n",
       "      <td>28607.000000</td>\n",
       "      <td>2.860700e+04</td>\n",
       "    </tr>\n",
       "    <tr>\n",
       "      <th>mean</th>\n",
       "      <td>2.141084</td>\n",
       "      <td>5.980619e+06</td>\n",
       "    </tr>\n",
       "    <tr>\n",
       "      <th>std</th>\n",
       "      <td>1.251596</td>\n",
       "      <td>1.923043e+06</td>\n",
       "    </tr>\n",
       "    <tr>\n",
       "      <th>min</th>\n",
       "      <td>0.000000</td>\n",
       "      <td>9.600000e+05</td>\n",
       "    </tr>\n",
       "    <tr>\n",
       "      <th>25%</th>\n",
       "      <td>1.000000</td>\n",
       "      <td>4.700000e+06</td>\n",
       "    </tr>\n",
       "    <tr>\n",
       "      <th>50%</th>\n",
       "      <td>2.000000</td>\n",
       "      <td>5.500000e+06</td>\n",
       "    </tr>\n",
       "    <tr>\n",
       "      <th>75%</th>\n",
       "      <td>3.000000</td>\n",
       "      <td>7.200000e+06</td>\n",
       "    </tr>\n",
       "    <tr>\n",
       "      <th>max</th>\n",
       "      <td>6.000000</td>\n",
       "      <td>1.080000e+07</td>\n",
       "    </tr>\n",
       "  </tbody>\n",
       "</table>\n",
       "</div>"
      ],
      "text/plain": [
       "       experience_level        salary\n",
       "count      28607.000000  2.860700e+04\n",
       "mean           2.141084  5.980619e+06\n",
       "std            1.251596  1.923043e+06\n",
       "min            0.000000  9.600000e+05\n",
       "25%            1.000000  4.700000e+06\n",
       "50%            2.000000  5.500000e+06\n",
       "75%            3.000000  7.200000e+06\n",
       "max            6.000000  1.080000e+07"
      ]
     },
     "execution_count": 15,
     "metadata": {},
     "output_type": "execute_result"
    }
   ],
   "source": [
    "dataset.describe()"
   ]
  },
  {
   "cell_type": "markdown",
   "metadata": {},
   "source": [
    "**3. Discovering the data**"
   ]
  },
  {
   "cell_type": "markdown",
   "metadata": {},
   "source": [
    "Kind of Experience Level"
   ]
  },
  {
   "cell_type": "code",
   "execution_count": 16,
   "metadata": {},
   "outputs": [
    {
     "data": {
      "image/png": "[encoded data removed]",
      "text/plain": [
       "<Figure size 432x288 with 1 Axes>"
      ]
     },
     "metadata": {
      "needs_background": "light"
     },
     "output_type": "display_data"
    }
   ],
   "source": [
    "countEXP = sns.load_dataset(\"tips\")\n",
    "barExp = sns.countplot(data = countEXP, x = dataset[\"experience_level\"], palette=\"rocket\", order = dataset[\"experience_level\"].value_counts().index)\n",
    "plt.ylabel(\"Count\", fontweight='bold')\n",
    "plt.xlabel(\"Year\", fontweight='bold')\n",
    "\n",
    "for p, label in zip(barExp.patches, dataset[\"experience_level\"].value_counts()):\n",
    "    barExp.annotate(label, (p.get_x() + 1/6, p.get_height() + 100), fontweight='bold')\n",
    "    \n",
    "plt.show()"
   ]
  },
  {
   "cell_type": "markdown",
   "metadata": {},
   "source": [
    "Average Salary based on Experience Level"
   ]
  },
  {
   "cell_type": "code",
   "execution_count": 17,
   "metadata": {},
   "outputs": [
    {
     "data": {
      "text/plain": [
       "experience_level\n",
       "5.0    10019746.0\n",
       "4.0     8198712.0\n",
       "6.0     7890000.0\n",
       "3.0     7027532.0\n",
       "1.5     5516667.0\n",
       "2.0     5514822.0\n",
       "1.0     4679527.0\n",
       "0.0     3352857.0\n",
       "0.5     3097778.0\n",
       "Name: salary, dtype: float64"
      ]
     },
     "execution_count": 17,
     "metadata": {},
     "output_type": "execute_result"
    }
   ],
   "source": [
    "dataset.groupby(by=\"experience_level\")[\"salary\"].mean().round(0).nlargest(10) "
   ]
  },
  {
   "cell_type": "markdown",
   "metadata": {},
   "source": [
    "**4. Predict the salary**"
   ]
  },
  {
   "cell_type": "code",
   "execution_count": 18,
   "metadata": {},
   "outputs": [
    {
     "data": {
      "text/plain": [
       "(0.8447319414457128, 0.0)"
      ]
     },
     "execution_count": 18,
     "metadata": {},
     "output_type": "execute_result"
    }
   ],
   "source": [
    "stats.pearsonr(x=dataset[\"experience_level\"], y=dataset[\"salary\"])"
   ]
  },
  {
   "cell_type": "code",
   "execution_count": 19,
   "metadata": {},
   "outputs": [
    {
     "name": "stdout",
     "output_type": "stream",
     "text": [
      "Data Training Set (22885, 1)\n",
      "Data Test Set (5722, 1)\n"
     ]
    }
   ],
   "source": [
    "xYear = dataset.loc[:, [\"experience_level\"]].values\n",
    "ySalary = dataset.loc[:, [\"salary\"]].values\n",
    "\n",
    "xTrain, xTest, yTrain, yTest = train_test_split(xYear, ySalary, test_size = 0.2, random_state = 0)\n",
    "predictExpSal = LinearRegression()\n",
    "predictExpSal.fit(xTrain, yTrain)\n",
    "\n",
    "print(\"Data Training Set\", xTrain.shape)\n",
    "print(\"Data Test Set\", xTest.shape)"
   ]
  },
  {
   "cell_type": "code",
   "execution_count": 20,
   "metadata": {},
   "outputs": [
    {
     "data": {
      "image/png": "[encoded data removed]",
      "text/plain": [
       "<Figure size 432x288 with 1 Axes>"
      ]
     },
     "metadata": {
      "needs_background": "light"
     },
     "output_type": "display_data"
    }
   ],
   "source": [
    "plt.scatter(xTrain, yTrain, color = 'red')\n",
    "plt.plot(xTrain, predictExpSal.predict(xTrain), color = 'blue')\n",
    "plt.title('Salary vs Experience (Training set)')\n",
    "plt.xlabel('Years of Experience')\n",
    "plt.ylabel('Salary')\n",
    "\n",
    "formatSal = plt.gca().get_yticks()\n",
    "plt.gca().set_yticklabels(['{:,.0f}'.format(i) for i in formatSal])\n",
    "\n",
    "plt.show()"
   ]
  },
  {
   "cell_type": "code",
   "execution_count": 21,
   "metadata": {},
   "outputs": [
    {
     "data": {
      "image/png": "[encoded data removed]",
      "text/plain": [
       "<Figure size 432x288 with 1 Axes>"
      ]
     },
     "metadata": {
      "needs_background": "light"
     },
     "output_type": "display_data"
    }
   ],
   "source": [
    "plt.scatter(xTest, yTest, color = 'red')\n",
    "plt.plot(xTrain, predictExpSal.predict(xTrain), color = 'blue')\n",
    "plt.title('Salary vs Experience (Test set)')\n",
    "plt.xlabel('Years of Experience')\n",
    "plt.ylabel('Salary')\n",
    "\n",
    "plt.gca().set_yticklabels(['{:,.0f}'.format(i) for i in formatSal])\n",
    "\n",
    "plt.show()"
   ]
  },
  {
   "cell_type": "code",
   "execution_count": 22,
   "metadata": {},
   "outputs": [
    {
     "data": {
      "text/plain": [
       "array([[16176781.07268955]])"
      ]
     },
     "execution_count": 22,
     "metadata": {},
     "output_type": "execute_result"
    }
   ],
   "source": [
    "# Memprediksi gaji berdasarkan experience \n",
    "# model.predict(year)\n",
    "predictExpSal.predict([[10]])"
   ]
  },
  {
   "cell_type": "code",
   "execution_count": 23,
   "metadata": {},
   "outputs": [
    {
     "data": {
      "text/plain": [
       "0.7196629197502402"
      ]
     },
     "execution_count": 23,
     "metadata": {},
     "output_type": "execute_result"
    }
   ],
   "source": [
    "# Keakuratan model data\n",
    "predictExpSal.score(xTest, yTest)"
   ]
  }
 ],
 "metadata": {
  "kernelspec": {
   "display_name": "Python 3.7.1 64-bit ('PYTHON_SERVER')",
   "language": "python",
   "name": "python3"
  },
  "language_info": {
   "codemirror_mode": {
    "name": "ipython",
    "version": 3
   },
   "file_extension": ".py",
   "mimetype": "text/x-python",
   "name": "python",
   "nbconvert_exporter": "python",
   "pygments_lexer": "ipython3",
   "version": "3.7.1"
  },
  "orig_nbformat": 4,
  "vscode": {
   "interpreter": {
    "hash": "7dd15e51a4470d085f7a243fb04650bc4fe166c7b9d4ae5b8d1a77af89f8b74e"
   }
  }
 },
 "nbformat": 4,
 "nbformat_minor": 2
}
