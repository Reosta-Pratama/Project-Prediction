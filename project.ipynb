{
 "cells": [
  {
   "cell_type": "markdown",
   "metadata": {},
   "source": [
    "**1. Read and import data**"
   ]
  },
  {
   "cell_type": "code",
   "execution_count": 456,
   "metadata": {},
   "outputs": [],
   "source": [
    "import numpy as np\n",
    "import pandas as pd\n",
    "import matplotlib.pyplot as plt\n",
    "from sklearn.linear_model import LinearRegression\n",
    "from sklearn.model_selection import train_test_split"
   ]
  },
  {
   "cell_type": "code",
   "execution_count": 457,
   "metadata": {},
   "outputs": [],
   "source": [
    "dataset = pd.read_csv('./data/salary.csv', sep='|')"
   ]
  },
  {
   "cell_type": "code",
   "execution_count": 458,
   "metadata": {},
   "outputs": [
    {
     "data": {
      "text/html": [
       "<div>\n",
       "<style scoped>\n",
       "    .dataframe tbody tr th:only-of-type {\n",
       "        vertical-align: middle;\n",
       "    }\n",
       "\n",
       "    .dataframe tbody tr th {\n",
       "        vertical-align: top;\n",
       "    }\n",
       "\n",
       "    .dataframe thead th {\n",
       "        text-align: right;\n",
       "    }\n",
       "</style>\n",
       "<table border=\"1\" class=\"dataframe\">\n",
       "  <thead>\n",
       "    <tr style=\"text-align: right;\">\n",
       "      <th></th>\n",
       "      <th>id</th>\n",
       "      <th>job_title</th>\n",
       "      <th>location</th>\n",
       "      <th>salary_currency</th>\n",
       "      <th>career_level</th>\n",
       "      <th>experience_level</th>\n",
       "      <th>education_level</th>\n",
       "      <th>employment_type</th>\n",
       "      <th>job_function</th>\n",
       "      <th>job_benefits</th>\n",
       "      <th>company_process_time</th>\n",
       "      <th>company_size</th>\n",
       "      <th>company_industry</th>\n",
       "      <th>job_description</th>\n",
       "      <th>salary</th>\n",
       "    </tr>\n",
       "  </thead>\n",
       "  <tbody>\n",
       "    <tr>\n",
       "      <th>0</th>\n",
       "      <td>1</td>\n",
       "      <td>Facility Maintenance &amp; Smart Warehouse Manager</td>\n",
       "      <td>Bandung</td>\n",
       "      <td>IDR</td>\n",
       "      <td>Manajer/Asisten Manajer</td>\n",
       "      <td>5 tahun</td>\n",
       "      <td>Sertifikat Professional, D3 (Diploma), D4 (Dip...</td>\n",
       "      <td>Penuh Waktu</td>\n",
       "      <td>Manufaktur,Pemeliharaan</td>\n",
       "      <td>NaN</td>\n",
       "      <td>NaN</td>\n",
       "      <td>NaN</td>\n",
       "      <td>NaN</td>\n",
       "      <td>Deskripsi PekerjaanRequirements :D3/SI from re...</td>\n",
       "      <td>NaN</td>\n",
       "    </tr>\n",
       "    <tr>\n",
       "      <th>1</th>\n",
       "      <td>2</td>\n",
       "      <td>Procurement Department Head</td>\n",
       "      <td>Jakarta Raya</td>\n",
       "      <td>IDR</td>\n",
       "      <td>Manajer/Asisten Manajer</td>\n",
       "      <td>5 tahun</td>\n",
       "      <td>Sarjana (S1), Diploma Pascasarjana, Gelar Prof...</td>\n",
       "      <td>Penuh Waktu</td>\n",
       "      <td>Manufaktur,Pembelian/Manajemen Material</td>\n",
       "      <td>NaN</td>\n",
       "      <td>25 days</td>\n",
       "      <td>51 - 200 pekerja</td>\n",
       "      <td>Manajemen/Konsulting HR</td>\n",
       "      <td>Job Role: 1. Responsible for material availabi...</td>\n",
       "      <td>NaN</td>\n",
       "    </tr>\n",
       "  </tbody>\n",
       "</table>\n",
       "</div>"
      ],
      "text/plain": [
       "   id                                       job_title      location  \\\n",
       "0   1  Facility Maintenance & Smart Warehouse Manager       Bandung   \n",
       "1   2                     Procurement Department Head  Jakarta Raya   \n",
       "\n",
       "  salary_currency             career_level experience_level  \\\n",
       "0             IDR  Manajer/Asisten Manajer          5 tahun   \n",
       "1             IDR  Manajer/Asisten Manajer          5 tahun   \n",
       "\n",
       "                                     education_level employment_type  \\\n",
       "0  Sertifikat Professional, D3 (Diploma), D4 (Dip...     Penuh Waktu   \n",
       "1  Sarjana (S1), Diploma Pascasarjana, Gelar Prof...     Penuh Waktu   \n",
       "\n",
       "                              job_function job_benefits company_process_time  \\\n",
       "0                  Manufaktur,Pemeliharaan          NaN                  NaN   \n",
       "1  Manufaktur,Pembelian/Manajemen Material          NaN              25 days   \n",
       "\n",
       "       company_size         company_industry  \\\n",
       "0               NaN                      NaN   \n",
       "1  51 - 200 pekerja  Manajemen/Konsulting HR   \n",
       "\n",
       "                                     job_description  salary  \n",
       "0  Deskripsi PekerjaanRequirements :D3/SI from re...     NaN  \n",
       "1  Job Role: 1. Responsible for material availabi...     NaN  "
      ]
     },
     "execution_count": 458,
     "metadata": {},
     "output_type": "execute_result"
    }
   ],
   "source": [
    "dataset.head(2)"
   ]
  },
  {
   "cell_type": "markdown",
   "metadata": {},
   "source": [
    "**2. Cleaning the data**"
   ]
  },
  {
   "cell_type": "code",
   "execution_count": 459,
   "metadata": {},
   "outputs": [],
   "source": [
    "# Remove Column $ Null Value \n",
    "dataset = dataset.drop(labels=[\"salary_currency\", \"job_benefits\", \"job_function\", \"job_description\",\n",
    "\"company_process_time\"], axis=1)\n",
    "dataset.dropna(inplace=True)"
   ]
  },
  {
   "cell_type": "code",
   "execution_count": 460,
   "metadata": {},
   "outputs": [
    {
     "name": "stdout",
     "output_type": "stream",
     "text": [
      "Index(['job_title', 'location', 'career_level', 'experience_level',\n",
      "       'education_level', 'employment_type', 'company_size',\n",
      "       'company_industry'],\n",
      "      dtype='object')\n",
      "Index(['id', 'salary'], dtype='object')\n"
     ]
    }
   ],
   "source": [
    "# Nampilin tipe kolom \"Object\" & \"Number\"\n",
    "objectType  = dataset.select_dtypes(['object']).columns\n",
    "numericType  = dataset.select_dtypes(['number']).columns\n",
    "print(objectType)\n",
    "print(numericType)"
   ]
  },
  {
   "cell_type": "code",
   "execution_count": 461,
   "metadata": {},
   "outputs": [
    {
     "data": {
      "text/plain": [
       "id                  0\n",
       "job_title           0\n",
       "location            0\n",
       "career_level        0\n",
       "experience_level    0\n",
       "education_level     0\n",
       "employment_type     0\n",
       "company_size        0\n",
       "company_industry    0\n",
       "salary              0\n",
       "dtype: int64"
      ]
     },
     "execution_count": 461,
     "metadata": {},
     "output_type": "execute_result"
    }
   ],
   "source": [
    "# Check null values\n",
    "dataset.isnull().sum()"
   ]
  },
  {
   "cell_type": "code",
   "execution_count": 462,
   "metadata": {},
   "outputs": [
    {
     "data": {
      "text/html": [
       "<div>\n",
       "<style scoped>\n",
       "    .dataframe tbody tr th:only-of-type {\n",
       "        vertical-align: middle;\n",
       "    }\n",
       "\n",
       "    .dataframe tbody tr th {\n",
       "        vertical-align: top;\n",
       "    }\n",
       "\n",
       "    .dataframe thead th {\n",
       "        text-align: right;\n",
       "    }\n",
       "</style>\n",
       "<table border=\"1\" class=\"dataframe\">\n",
       "  <thead>\n",
       "    <tr style=\"text-align: right;\">\n",
       "      <th></th>\n",
       "      <th>id</th>\n",
       "      <th>salary</th>\n",
       "    </tr>\n",
       "  </thead>\n",
       "  <tbody>\n",
       "    <tr>\n",
       "      <th>count</th>\n",
       "      <td>7338.000000</td>\n",
       "      <td>7.338000e+03</td>\n",
       "    </tr>\n",
       "    <tr>\n",
       "      <th>mean</th>\n",
       "      <td>21364.472200</td>\n",
       "      <td>7.836481e+06</td>\n",
       "    </tr>\n",
       "    <tr>\n",
       "      <th>std</th>\n",
       "      <td>11139.744178</td>\n",
       "      <td>2.405146e+07</td>\n",
       "    </tr>\n",
       "    <tr>\n",
       "      <th>min</th>\n",
       "      <td>10.000000</td>\n",
       "      <td>1.000000e+01</td>\n",
       "    </tr>\n",
       "    <tr>\n",
       "      <th>25%</th>\n",
       "      <td>11641.250000</td>\n",
       "      <td>4.500000e+06</td>\n",
       "    </tr>\n",
       "    <tr>\n",
       "      <th>50%</th>\n",
       "      <td>23275.000000</td>\n",
       "      <td>5.800000e+06</td>\n",
       "    </tr>\n",
       "    <tr>\n",
       "      <th>75%</th>\n",
       "      <td>32380.750000</td>\n",
       "      <td>8.500000e+06</td>\n",
       "    </tr>\n",
       "    <tr>\n",
       "      <th>max</th>\n",
       "      <td>34746.000000</td>\n",
       "      <td>2.000000e+09</td>\n",
       "    </tr>\n",
       "  </tbody>\n",
       "</table>\n",
       "</div>"
      ],
      "text/plain": [
       "                 id        salary\n",
       "count   7338.000000  7.338000e+03\n",
       "mean   21364.472200  7.836481e+06\n",
       "std    11139.744178  2.405146e+07\n",
       "min       10.000000  1.000000e+01\n",
       "25%    11641.250000  4.500000e+06\n",
       "50%    23275.000000  5.800000e+06\n",
       "75%    32380.750000  8.500000e+06\n",
       "max    34746.000000  2.000000e+09"
      ]
     },
     "execution_count": 462,
     "metadata": {},
     "output_type": "execute_result"
    }
   ],
   "source": [
    "dataset[numericType].describe()"
   ]
  },
  {
   "cell_type": "markdown",
   "metadata": {},
   "source": [
    "**3. Discovering the data**"
   ]
  },
  {
   "cell_type": "markdown",
   "metadata": {},
   "source": [
    "Top 10 Job Have The Highest Average Salary"
   ]
  },
  {
   "cell_type": "markdown",
   "metadata": {},
   "source": [
    "Top 10 Region Have The Highest Average Salary"
   ]
  },
  {
   "cell_type": "code",
   "execution_count": 463,
   "metadata": {},
   "outputs": [],
   "source": [
    "topRegion = dataset[[\"location\",\"salary\"]]\n",
    "topRegion = topRegion[(topRegion.groupby(['location'])['location'].transform('count') > 10)]\n",
    "topRegion.set_index(\"location\", inplace=True)"
   ]
  },
  {
   "cell_type": "code",
   "execution_count": 464,
   "metadata": {},
   "outputs": [
    {
     "data": {
      "text/plain": [
       "location\n",
       "Tangerang             12012053\n",
       "Sumatera Utara        11809320\n",
       "Sulawesi Tengah        9735714\n",
       "Jakarta Raya           9672055\n",
       "Aceh                   9519090\n",
       "Bali                   9458268\n",
       "Jakarta Selatan        9450509\n",
       "Kalimantan Selatan     8723076\n",
       "Cikarang               7980941\n",
       "Sumatera Selatan       7933940\n",
       "Name: salary, dtype: int32"
      ]
     },
     "execution_count": 464,
     "metadata": {},
     "output_type": "execute_result"
    }
   ],
   "source": [
    "topRegion.groupby(['location'])['salary'].mean().astype(int).nlargest(10)"
   ]
  },
  {
   "cell_type": "markdown",
   "metadata": {},
   "source": [
    "Kind of Company"
   ]
  },
  {
   "cell_type": "markdown",
   "metadata": {},
   "source": [
    "Average Salary by size of Company"
   ]
  },
  {
   "cell_type": "markdown",
   "metadata": {},
   "source": [
    "Kind of Career Level"
   ]
  },
  {
   "cell_type": "code",
   "execution_count": 465,
   "metadata": {},
   "outputs": [
    {
     "name": "stderr",
     "output_type": "stream",
     "text": [
      "c:\\Program Files\\Microsoft SQL Server\\150\\PYTHON_SERVER\\lib\\site-packages\\ipykernel_launcher.py:3: SettingWithCopyWarning: \n",
      "A value is trying to be set on a copy of a slice from a DataFrame.\n",
      "Try using .loc[row_indexer,col_indexer] = value instead\n",
      "\n",
      "See the caveats in the documentation: http://pandas.pydata.org/pandas-docs/stable/indexing.html#indexing-view-versus-copy\n",
      "  This is separate from the ipykernel package so we can avoid doing imports until\n"
     ]
    }
   ],
   "source": [
    "CL = dataset[\"career_level\"]\n",
    "tableCareer = dataset[[\"career_level\"]]\n",
    "tableCareer[\"count_career\"] = tableCareer.groupby(['career_level'])['career_level'].transform('count')"
   ]
  },
  {
   "cell_type": "code",
   "execution_count": 466,
   "metadata": {},
   "outputs": [
    {
     "data": {
      "image/png": "[encoded data removed]",
      "text/plain": [
       "<Figure size 720x360 with 1 Axes>"
      ]
     },
     "metadata": {
      "needs_background": "light"
     },
     "output_type": "display_data"
    }
   ],
   "source": [
    "xCareer = list(tableCareer.loc[:, \"career_level\"])\n",
    "yCareer = list(tableCareer.loc[:, \"count_career\"])\n",
    "\n",
    "plt.figure(figsize=(10, 5))\n",
    "plt.barh(xCareer, yCareer, color='green')\n",
    "plt.title(\"Number of Workers per level\")\n",
    "plt.xlabel(\"Number of Workers\")\n",
    "plt.show()"
   ]
  },
  {
   "cell_type": "markdown",
   "metadata": {},
   "source": [
    "Average Salary by size of Career Level"
   ]
  },
  {
   "cell_type": "code",
   "execution_count": 467,
   "metadata": {},
   "outputs": [
    {
     "data": {
      "text/plain": [
       "career_level\n",
       "CEO/GM/Direktur/Manajer Senior                       24708745\n",
       "Manajer/Asisten Manajer                              13427828\n",
       "Supervisor/Koordinator                                7901489\n",
       "Pegawai (non-manajemen & non-supervisor)              6160495\n",
       "Lulusan baru/Pengalaman kerja kurang dari 1 tahun     5221986\n",
       "Name: salary, dtype: int32"
      ]
     },
     "execution_count": 467,
     "metadata": {},
     "output_type": "execute_result"
    }
   ],
   "source": [
    "dataset.groupby(by=\"career_level\")[\"salary\"].mean().round(0).astype(\"int\").nlargest()"
   ]
  },
  {
   "cell_type": "markdown",
   "metadata": {},
   "source": [
    "**4. Predict the salary**"
   ]
  }
 ],
 "metadata": {
  "kernelspec": {
   "display_name": "Python 3.7.1 64-bit ('PYTHON_SERVER')",
   "language": "python",
   "name": "python3"
  },
  "language_info": {
   "codemirror_mode": {
    "name": "ipython",
    "version": 3
   },
   "file_extension": ".py",
   "mimetype": "text/x-python",
   "name": "python",
   "nbconvert_exporter": "python",
   "pygments_lexer": "ipython3",
   "version": "3.7.1"
  },
  "orig_nbformat": 4,
  "vscode": {
   "interpreter": {
    "hash": "7dd15e51a4470d085f7a243fb04650bc4fe166c7b9d4ae5b8d1a77af89f8b74e"
   }
  }
 },
 "nbformat": 4,
 "nbformat_minor": 2
}
