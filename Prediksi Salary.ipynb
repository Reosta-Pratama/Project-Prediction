{
 "cells": [
  {
   "cell_type": "code",
   "execution_count": 1,
   "metadata": {},
   "outputs": [],
   "source": [
    "import pandas as pd\n",
    "import matplotlib.pyplot as plt\n",
    "import seaborn as sns\n",
    "from sklearn.linear_model import LinearRegression\n",
    "from sklearn.metrics import mean_squared_error\n",
    "from sklearn.model_selection import train_test_split"
   ]
  },
  {
   "cell_type": "markdown",
   "metadata": {},
   "source": [
    "<!-- Collecting Data -->"
   ]
  },
  {
   "cell_type": "code",
   "execution_count": 2,
   "metadata": {},
   "outputs": [],
   "source": [
    "# Import data salary\n",
    "dataset = pd.read_csv('salary.csv', sep='|')"
   ]
  },
  {
   "cell_type": "code",
   "execution_count": 3,
   "metadata": {},
   "outputs": [
    {
     "data": {
      "text/html": [
       "<div>\n",
       "<style scoped>\n",
       "    .dataframe tbody tr th:only-of-type {\n",
       "        vertical-align: middle;\n",
       "    }\n",
       "\n",
       "    .dataframe tbody tr th {\n",
       "        vertical-align: top;\n",
       "    }\n",
       "\n",
       "    .dataframe thead th {\n",
       "        text-align: right;\n",
       "    }\n",
       "</style>\n",
       "<table border=\"1\" class=\"dataframe\">\n",
       "  <thead>\n",
       "    <tr style=\"text-align: right;\">\n",
       "      <th></th>\n",
       "      <th>id</th>\n",
       "      <th>job_title</th>\n",
       "      <th>location</th>\n",
       "      <th>salary_currency</th>\n",
       "      <th>career_level</th>\n",
       "      <th>experience_level</th>\n",
       "      <th>education_level</th>\n",
       "      <th>employment_type</th>\n",
       "      <th>job_function</th>\n",
       "      <th>job_benefits</th>\n",
       "      <th>company_process_time</th>\n",
       "      <th>company_size</th>\n",
       "      <th>company_industry</th>\n",
       "      <th>job_description</th>\n",
       "      <th>salary</th>\n",
       "    </tr>\n",
       "  </thead>\n",
       "  <tbody>\n",
       "    <tr>\n",
       "      <th>0</th>\n",
       "      <td>1</td>\n",
       "      <td>Facility Maintenance &amp; Smart Warehouse Manager</td>\n",
       "      <td>Bandung</td>\n",
       "      <td>IDR</td>\n",
       "      <td>Manajer/Asisten Manajer</td>\n",
       "      <td>5 tahun</td>\n",
       "      <td>Sertifikat Professional, D3 (Diploma), D4 (Dip...</td>\n",
       "      <td>Penuh Waktu</td>\n",
       "      <td>Manufaktur,Pemeliharaan</td>\n",
       "      <td>NaN</td>\n",
       "      <td>NaN</td>\n",
       "      <td>NaN</td>\n",
       "      <td>NaN</td>\n",
       "      <td>Deskripsi PekerjaanRequirements :D3/SI from re...</td>\n",
       "      <td>NaN</td>\n",
       "    </tr>\n",
       "    <tr>\n",
       "      <th>1</th>\n",
       "      <td>2</td>\n",
       "      <td>Procurement Department Head</td>\n",
       "      <td>Jakarta Raya</td>\n",
       "      <td>IDR</td>\n",
       "      <td>Manajer/Asisten Manajer</td>\n",
       "      <td>5 tahun</td>\n",
       "      <td>Sarjana (S1), Diploma Pascasarjana, Gelar Prof...</td>\n",
       "      <td>Penuh Waktu</td>\n",
       "      <td>Manufaktur,Pembelian/Manajemen Material</td>\n",
       "      <td>NaN</td>\n",
       "      <td>25 days</td>\n",
       "      <td>51 - 200 pekerja</td>\n",
       "      <td>Manajemen/Konsulting HR</td>\n",
       "      <td>Job Role: 1. Responsible for material availabi...</td>\n",
       "      <td>NaN</td>\n",
       "    </tr>\n",
       "    <tr>\n",
       "      <th>2</th>\n",
       "      <td>3</td>\n",
       "      <td>SALES ADMIN</td>\n",
       "      <td>Jakarta Barat</td>\n",
       "      <td>IDR</td>\n",
       "      <td>Supervisor/Koordinator</td>\n",
       "      <td>4 tahun</td>\n",
       "      <td>Sarjana (S1)</td>\n",
       "      <td>Penuh Waktu</td>\n",
       "      <td>Penjualan / Pemasaran,Penjualan Ritel</td>\n",
       "      <td>Waktu regular, Senin - Jumat;Bisnis (contoh: K...</td>\n",
       "      <td>30 days</td>\n",
       "      <td>51 - 200 pekerja</td>\n",
       "      <td>Umum &amp; Grosir</td>\n",
       "      <td>Internal Sales &amp; AdminJob Description :We are ...</td>\n",
       "      <td>NaN</td>\n",
       "    </tr>\n",
       "    <tr>\n",
       "      <th>3</th>\n",
       "      <td>4</td>\n",
       "      <td>City Operation Lead Shopee Express (Cirebon)</td>\n",
       "      <td>Cirebon</td>\n",
       "      <td>IDR</td>\n",
       "      <td>Supervisor/Koordinator</td>\n",
       "      <td>5 tahun</td>\n",
       "      <td>Sarjana (S1), Diploma Pascasarjana, Gelar Prof...</td>\n",
       "      <td>Penuh Waktu</td>\n",
       "      <td>Pelayanan,Logistik/Rantai Pasokan</td>\n",
       "      <td>Tip;Waktu regular, Senin - Jumat;Kasual (conto...</td>\n",
       "      <td>21 days</td>\n",
       "      <td>2001 - 5000 pekerja</td>\n",
       "      <td>Retail/Merchandise</td>\n",
       "      <td>Job Description:Responsible for HSE implementa...</td>\n",
       "      <td>NaN</td>\n",
       "    </tr>\n",
       "    <tr>\n",
       "      <th>4</th>\n",
       "      <td>5</td>\n",
       "      <td>Japanese Interpreter</td>\n",
       "      <td>Bekasi</td>\n",
       "      <td>IDR</td>\n",
       "      <td>Pegawai (non-manajemen &amp; non-supervisor)</td>\n",
       "      <td>2 tahun</td>\n",
       "      <td>Sertifikat Professional, D3 (Diploma), D4 (Dip...</td>\n",
       "      <td>Penuh Waktu</td>\n",
       "      <td>Lainnya,Jurnalis/Editor</td>\n",
       "      <td>NaN</td>\n",
       "      <td>23 days</td>\n",
       "      <td>201 - 500 pekerja</td>\n",
       "      <td>Manajemen/Konsulting HR</td>\n",
       "      <td>Overview: Our clients is manufacture for autom...</td>\n",
       "      <td>NaN</td>\n",
       "    </tr>\n",
       "  </tbody>\n",
       "</table>\n",
       "</div>"
      ],
      "text/plain": [
       "   id                                       job_title       location  \\\n",
       "0   1  Facility Maintenance & Smart Warehouse Manager        Bandung   \n",
       "1   2                     Procurement Department Head   Jakarta Raya   \n",
       "2   3                                     SALES ADMIN  Jakarta Barat   \n",
       "3   4    City Operation Lead Shopee Express (Cirebon)        Cirebon   \n",
       "4   5                            Japanese Interpreter         Bekasi   \n",
       "\n",
       "  salary_currency                              career_level experience_level  \\\n",
       "0             IDR                   Manajer/Asisten Manajer          5 tahun   \n",
       "1             IDR                   Manajer/Asisten Manajer          5 tahun   \n",
       "2             IDR                    Supervisor/Koordinator          4 tahun   \n",
       "3             IDR                    Supervisor/Koordinator          5 tahun   \n",
       "4             IDR  Pegawai (non-manajemen & non-supervisor)          2 tahun   \n",
       "\n",
       "                                     education_level employment_type  \\\n",
       "0  Sertifikat Professional, D3 (Diploma), D4 (Dip...     Penuh Waktu   \n",
       "1  Sarjana (S1), Diploma Pascasarjana, Gelar Prof...     Penuh Waktu   \n",
       "2                                       Sarjana (S1)     Penuh Waktu   \n",
       "3  Sarjana (S1), Diploma Pascasarjana, Gelar Prof...     Penuh Waktu   \n",
       "4  Sertifikat Professional, D3 (Diploma), D4 (Dip...     Penuh Waktu   \n",
       "\n",
       "                              job_function  \\\n",
       "0                  Manufaktur,Pemeliharaan   \n",
       "1  Manufaktur,Pembelian/Manajemen Material   \n",
       "2    Penjualan / Pemasaran,Penjualan Ritel   \n",
       "3        Pelayanan,Logistik/Rantai Pasokan   \n",
       "4                  Lainnya,Jurnalis/Editor   \n",
       "\n",
       "                                        job_benefits company_process_time  \\\n",
       "0                                                NaN                  NaN   \n",
       "1                                                NaN              25 days   \n",
       "2  Waktu regular, Senin - Jumat;Bisnis (contoh: K...              30 days   \n",
       "3  Tip;Waktu regular, Senin - Jumat;Kasual (conto...              21 days   \n",
       "4                                                NaN              23 days   \n",
       "\n",
       "          company_size         company_industry  \\\n",
       "0                  NaN                      NaN   \n",
       "1     51 - 200 pekerja  Manajemen/Konsulting HR   \n",
       "2     51 - 200 pekerja            Umum & Grosir   \n",
       "3  2001 - 5000 pekerja       Retail/Merchandise   \n",
       "4    201 - 500 pekerja  Manajemen/Konsulting HR   \n",
       "\n",
       "                                     job_description  salary  \n",
       "0  Deskripsi PekerjaanRequirements :D3/SI from re...     NaN  \n",
       "1  Job Role: 1. Responsible for material availabi...     NaN  \n",
       "2  Internal Sales & AdminJob Description :We are ...     NaN  \n",
       "3  Job Description:Responsible for HSE implementa...     NaN  \n",
       "4  Overview: Our clients is manufacture for autom...     NaN  "
      ]
     },
     "execution_count": 3,
     "metadata": {},
     "output_type": "execute_result"
    }
   ],
   "source": [
    "# Head buat nampilin data teratas\n",
    "dataset.head(5)"
   ]
  },
  {
   "cell_type": "markdown",
   "metadata": {},
   "source": [
    "<!-- Cleaning Data -->"
   ]
  },
  {
   "cell_type": "code",
   "execution_count": 4,
   "metadata": {},
   "outputs": [],
   "source": [
    "# Transform Dataframe Disini / Manipulasi Data\n",
    "\n",
    "# Remove Salary = null\n",
    "dataset.dropna(subset=[\"salary\"], inplace=True)\n",
    "dataset[\"salary\"] = dataset[\"salary\"].astype('int')\n",
    "\n",
    "# Change Salary = null => 0\n",
    "# dataset[\"salary\"] = dataset[\"salary\"].fillna(0).astype('int')\n",
    "\n",
    "# Add column year experience based on column experience_level\n",
    "dataset[\"years_experience\"] = dataset[\"experience_level\"]\n",
    "dataset[\"years_experience\"] = dataset[\"years_experience\"].str.replace(\"\\D\", \"\").fillna(0).astype('int')"
   ]
  },
  {
   "cell_type": "code",
   "execution_count": 5,
   "metadata": {},
   "outputs": [
    {
     "name": "stdout",
     "output_type": "stream",
     "text": [
      "<class 'pandas.core.frame.DataFrame'>\n",
      "Int64Index: 9352 entries, 5 to 34745\n",
      "Data columns (total 16 columns):\n",
      "id                      9352 non-null int64\n",
      "job_title               9352 non-null object\n",
      "location                9352 non-null object\n",
      "salary_currency         9352 non-null object\n",
      "career_level            9352 non-null object\n",
      "experience_level        8570 non-null object\n",
      "education_level         9352 non-null object\n",
      "employment_type         9352 non-null object\n",
      "job_function            9352 non-null object\n",
      "job_benefits            7070 non-null object\n",
      "company_process_time    6157 non-null object\n",
      "company_size            7928 non-null object\n",
      "company_industry        9060 non-null object\n",
      "job_description         9352 non-null object\n",
      "salary                  9352 non-null int32\n",
      "years_experience        9352 non-null int32\n",
      "dtypes: int32(2), int64(1), object(13)\n",
      "memory usage: 1.1+ MB\n"
     ]
    }
   ],
   "source": [
    "# Nampilin detail dataframe\n",
    "dataset.info()"
   ]
  },
  {
   "cell_type": "code",
   "execution_count": 6,
   "metadata": {},
   "outputs": [
    {
     "data": {
      "text/plain": [
       "Index(['job_title', 'location', 'salary_currency', 'career_level',\n",
       "       'experience_level', 'education_level', 'employment_type',\n",
       "       'job_function', 'job_benefits', 'company_process_time', 'company_size',\n",
       "       'company_industry', 'job_description'],\n",
       "      dtype='object')"
      ]
     },
     "execution_count": 6,
     "metadata": {},
     "output_type": "execute_result"
    }
   ],
   "source": [
    "# Nampilin tipe kolom \"Object\"\n",
    "objectType = dataset.select_dtypes('object').columns\n",
    "objectType"
   ]
  },
  {
   "cell_type": "code",
   "execution_count": 7,
   "metadata": {},
   "outputs": [
    {
     "data": {
      "text/plain": [
       "Index(['id', 'salary', 'years_experience'], dtype='object')"
      ]
     },
     "execution_count": 7,
     "metadata": {},
     "output_type": "execute_result"
    }
   ],
   "source": [
    "# Nampilin tipe kolom \"Numeric\"\n",
    "numericType = dataset.select_dtypes('number').columns\n",
    "numericType"
   ]
  },
  {
   "cell_type": "code",
   "execution_count": 8,
   "metadata": {},
   "outputs": [
    {
     "data": {
      "text/plain": [
       "id                         0\n",
       "job_title                  0\n",
       "location                   0\n",
       "salary_currency            0\n",
       "career_level               0\n",
       "experience_level         782\n",
       "education_level            0\n",
       "employment_type            0\n",
       "job_function               0\n",
       "job_benefits            2282\n",
       "company_process_time    3195\n",
       "company_size            1424\n",
       "company_industry         292\n",
       "job_description            0\n",
       "salary                     0\n",
       "years_experience           0\n",
       "dtype: int64"
      ]
     },
     "execution_count": 8,
     "metadata": {},
     "output_type": "execute_result"
    }
   ],
   "source": [
    "# Check data yang Null / NaN\n",
    "dataset.isnull().sum()"
   ]
  },
  {
   "cell_type": "code",
   "execution_count": 9,
   "metadata": {},
   "outputs": [
    {
     "data": {
      "text/plain": [
       "id                         0\n",
       "job_title                  0\n",
       "location                   0\n",
       "salary_currency            0\n",
       "career_level               0\n",
       "experience_level         782\n",
       "education_level            0\n",
       "employment_type            0\n",
       "job_function               0\n",
       "job_benefits            2282\n",
       "company_process_time    3195\n",
       "company_size            1424\n",
       "company_industry         292\n",
       "job_description            0\n",
       "salary                     0\n",
       "years_experience           0\n",
       "dtype: int64"
      ]
     },
     "execution_count": 9,
     "metadata": {},
     "output_type": "execute_result"
    }
   ],
   "source": [
    "# Re-check Isnull\n",
    "dataset.isnull().sum()"
   ]
  },
  {
   "cell_type": "code",
   "execution_count": 10,
   "metadata": {},
   "outputs": [
    {
     "data": {
      "text/html": [
       "<div>\n",
       "<style scoped>\n",
       "    .dataframe tbody tr th:only-of-type {\n",
       "        vertical-align: middle;\n",
       "    }\n",
       "\n",
       "    .dataframe tbody tr th {\n",
       "        vertical-align: top;\n",
       "    }\n",
       "\n",
       "    .dataframe thead th {\n",
       "        text-align: right;\n",
       "    }\n",
       "</style>\n",
       "<table border=\"1\" class=\"dataframe\">\n",
       "  <thead>\n",
       "    <tr style=\"text-align: right;\">\n",
       "      <th></th>\n",
       "      <th>id</th>\n",
       "      <th>salary</th>\n",
       "      <th>years_experience</th>\n",
       "    </tr>\n",
       "  </thead>\n",
       "  <tbody>\n",
       "    <tr>\n",
       "      <th>count</th>\n",
       "      <td>9352.000000</td>\n",
       "      <td>9.352000e+03</td>\n",
       "      <td>9352.000000</td>\n",
       "    </tr>\n",
       "    <tr>\n",
       "      <th>mean</th>\n",
       "      <td>21445.615483</td>\n",
       "      <td>7.358879e+06</td>\n",
       "      <td>2.184132</td>\n",
       "    </tr>\n",
       "    <tr>\n",
       "      <th>std</th>\n",
       "      <td>11107.218801</td>\n",
       "      <td>2.148128e+07</td>\n",
       "      <td>1.796006</td>\n",
       "    </tr>\n",
       "    <tr>\n",
       "      <th>min</th>\n",
       "      <td>6.000000</td>\n",
       "      <td>1.000000e+01</td>\n",
       "      <td>0.000000</td>\n",
       "    </tr>\n",
       "    <tr>\n",
       "      <th>25%</th>\n",
       "      <td>11865.750000</td>\n",
       "      <td>4.250000e+06</td>\n",
       "      <td>1.000000</td>\n",
       "    </tr>\n",
       "    <tr>\n",
       "      <th>50%</th>\n",
       "      <td>23332.500000</td>\n",
       "      <td>5.500000e+06</td>\n",
       "      <td>2.000000</td>\n",
       "    </tr>\n",
       "    <tr>\n",
       "      <th>75%</th>\n",
       "      <td>32408.250000</td>\n",
       "      <td>8.000000e+06</td>\n",
       "      <td>3.000000</td>\n",
       "    </tr>\n",
       "    <tr>\n",
       "      <th>max</th>\n",
       "      <td>34746.000000</td>\n",
       "      <td>2.000000e+09</td>\n",
       "      <td>20.000000</td>\n",
       "    </tr>\n",
       "  </tbody>\n",
       "</table>\n",
       "</div>"
      ],
      "text/plain": [
       "                 id        salary  years_experience\n",
       "count   9352.000000  9.352000e+03       9352.000000\n",
       "mean   21445.615483  7.358879e+06          2.184132\n",
       "std    11107.218801  2.148128e+07          1.796006\n",
       "min        6.000000  1.000000e+01          0.000000\n",
       "25%    11865.750000  4.250000e+06          1.000000\n",
       "50%    23332.500000  5.500000e+06          2.000000\n",
       "75%    32408.250000  8.000000e+06          3.000000\n",
       "max    34746.000000  2.000000e+09         20.000000"
      ]
     },
     "execution_count": 10,
     "metadata": {},
     "output_type": "execute_result"
    }
   ],
   "source": [
    "generalNumeric = dataset[numericType].describe()\n",
    "generalNumeric"
   ]
  },
  {
   "cell_type": "code",
   "execution_count": 11,
   "metadata": {},
   "outputs": [
    {
     "data": {
      "text/html": [
       "<div>\n",
       "<style scoped>\n",
       "    .dataframe tbody tr th:only-of-type {\n",
       "        vertical-align: middle;\n",
       "    }\n",
       "\n",
       "    .dataframe tbody tr th {\n",
       "        vertical-align: top;\n",
       "    }\n",
       "\n",
       "    .dataframe thead th {\n",
       "        text-align: right;\n",
       "    }\n",
       "</style>\n",
       "<table border=\"1\" class=\"dataframe\">\n",
       "  <thead>\n",
       "    <tr style=\"text-align: right;\">\n",
       "      <th></th>\n",
       "      <th>id</th>\n",
       "      <th>job_title</th>\n",
       "      <th>location</th>\n",
       "      <th>salary_currency</th>\n",
       "      <th>career_level</th>\n",
       "      <th>experience_level</th>\n",
       "      <th>education_level</th>\n",
       "      <th>employment_type</th>\n",
       "      <th>job_function</th>\n",
       "      <th>job_benefits</th>\n",
       "      <th>company_process_time</th>\n",
       "      <th>company_size</th>\n",
       "      <th>company_industry</th>\n",
       "      <th>job_description</th>\n",
       "      <th>salary</th>\n",
       "      <th>years_experience</th>\n",
       "    </tr>\n",
       "  </thead>\n",
       "  <tbody>\n",
       "    <tr>\n",
       "      <th>5</th>\n",
       "      <td>6</td>\n",
       "      <td>KEPALA PABRIK</td>\n",
       "      <td>Balikpapan</td>\n",
       "      <td>IDR</td>\n",
       "      <td>Supervisor/Koordinator</td>\n",
       "      <td>NaN</td>\n",
       "      <td>Sertifikat Professional, D3 (Diploma), D4 (Dip...</td>\n",
       "      <td>Penuh Waktu</td>\n",
       "      <td>Manufaktur,Manufaktur</td>\n",
       "      <td>Asuransi kesehatan;Bisnis (contoh: Kemeja);Pro...</td>\n",
       "      <td>18 days</td>\n",
       "      <td>51 - 200 pekerja</td>\n",
       "      <td>Manufaktur/Produksi</td>\n",
       "      <td>Tedmond Groups membuka Lowongan Kepala Pabrik,...</td>\n",
       "      <td>10500000</td>\n",
       "      <td>0</td>\n",
       "    </tr>\n",
       "    <tr>\n",
       "      <th>9</th>\n",
       "      <td>10</td>\n",
       "      <td>Tax Supervisor</td>\n",
       "      <td>Banten</td>\n",
       "      <td>IDR</td>\n",
       "      <td>Supervisor/Koordinator</td>\n",
       "      <td>3 tahun</td>\n",
       "      <td>Sertifikat Professional, D3 (Diploma), D4 (Dip...</td>\n",
       "      <td>Penuh Waktu</td>\n",
       "      <td>Akuntansi / Keuangan,Audit &amp; Pajak</td>\n",
       "      <td>Tip;Asuransi kesehatan;Waktu regular, Senin - ...</td>\n",
       "      <td>22 days</td>\n",
       "      <td>51 - 200 pekerja</td>\n",
       "      <td>Konstruksi/Bangunan/Teknik</td>\n",
       "      <td>ResponsibilitiesPrepare corporate income tax (...</td>\n",
       "      <td>8000000</td>\n",
       "      <td>3</td>\n",
       "    </tr>\n",
       "    <tr>\n",
       "      <th>18</th>\n",
       "      <td>19</td>\n",
       "      <td>Accounting Staff</td>\n",
       "      <td>Jakarta Pusat</td>\n",
       "      <td>IDR</td>\n",
       "      <td>Pegawai (non-manajemen &amp; non-supervisor)</td>\n",
       "      <td>1 tahun</td>\n",
       "      <td>SMA, SMU/SMK/STM, Sertifikat Professional, D3 ...</td>\n",
       "      <td>Penuh Waktu</td>\n",
       "      <td>Akuntansi / Keuangan,Akuntansi Umum / Pembiayaan</td>\n",
       "      <td>Tip;Asuransi kesehatan;Bisnis (contoh: Kemeja)...</td>\n",
       "      <td>NaN</td>\n",
       "      <td>1- 50 pekerja</td>\n",
       "      <td>Manufaktur/Produksi</td>\n",
       "      <td>DESKRIPSI PEKERJAAN:Memeriksa dan/atau membuat...</td>\n",
       "      <td>4750000</td>\n",
       "      <td>1</td>\n",
       "    </tr>\n",
       "    <tr>\n",
       "      <th>22</th>\n",
       "      <td>23</td>\n",
       "      <td>Senior Staff Purchasing</td>\n",
       "      <td>Surabaya</td>\n",
       "      <td>IDR</td>\n",
       "      <td>Pegawai (non-manajemen &amp; non-supervisor)</td>\n",
       "      <td>2 tahun</td>\n",
       "      <td>Sertifikat Professional, D3 (Diploma), D4 (Dip...</td>\n",
       "      <td>Penuh Waktu</td>\n",
       "      <td>Manufaktur,Pembelian/Manajemen Material</td>\n",
       "      <td>Asuransi kesehatan;Jam Bekerja yang Panjang;Bi...</td>\n",
       "      <td>29 days</td>\n",
       "      <td>1- 50 pekerja</td>\n",
       "      <td>Elektrikal &amp; Elektronik</td>\n",
       "      <td>Deskripsi Pekerjaan:Mampu melakukan rencana pe...</td>\n",
       "      <td>5250000</td>\n",
       "      <td>2</td>\n",
       "    </tr>\n",
       "    <tr>\n",
       "      <th>26</th>\n",
       "      <td>27</td>\n",
       "      <td>MARKETING COMMUNICATION &amp; CHANNEL MANAGER</td>\n",
       "      <td>Jakarta Pusat</td>\n",
       "      <td>IDR</td>\n",
       "      <td>Manajer/Asisten Manajer</td>\n",
       "      <td>2 tahun</td>\n",
       "      <td>Tidak terspesifikasi</td>\n",
       "      <td>Penuh Waktu</td>\n",
       "      <td>Penjualan / Pemasaran,Pemasaran/Pengembangan B...</td>\n",
       "      <td>Asuransi Gigi;Asuransi kesehatan;Parkir;Waktu ...</td>\n",
       "      <td>29 days</td>\n",
       "      <td>51 - 200 pekerja</td>\n",
       "      <td>Konsultasi (IT, Ilmu Pengetahuan, Teknis &amp; Tek...</td>\n",
       "      <td>SCOPE OF ROLE :To plan, develop, implement and...</td>\n",
       "      <td>15000000</td>\n",
       "      <td>2</td>\n",
       "    </tr>\n",
       "  </tbody>\n",
       "</table>\n",
       "</div>"
      ],
      "text/plain": [
       "    id                                  job_title       location  \\\n",
       "5    6                              KEPALA PABRIK     Balikpapan   \n",
       "9   10                             Tax Supervisor         Banten   \n",
       "18  19                           Accounting Staff  Jakarta Pusat   \n",
       "22  23                    Senior Staff Purchasing       Surabaya   \n",
       "26  27  MARKETING COMMUNICATION & CHANNEL MANAGER  Jakarta Pusat   \n",
       "\n",
       "   salary_currency                              career_level experience_level  \\\n",
       "5              IDR                    Supervisor/Koordinator              NaN   \n",
       "9              IDR                    Supervisor/Koordinator          3 tahun   \n",
       "18             IDR  Pegawai (non-manajemen & non-supervisor)          1 tahun   \n",
       "22             IDR  Pegawai (non-manajemen & non-supervisor)          2 tahun   \n",
       "26             IDR                   Manajer/Asisten Manajer          2 tahun   \n",
       "\n",
       "                                      education_level employment_type  \\\n",
       "5   Sertifikat Professional, D3 (Diploma), D4 (Dip...     Penuh Waktu   \n",
       "9   Sertifikat Professional, D3 (Diploma), D4 (Dip...     Penuh Waktu   \n",
       "18  SMA, SMU/SMK/STM, Sertifikat Professional, D3 ...     Penuh Waktu   \n",
       "22  Sertifikat Professional, D3 (Diploma), D4 (Dip...     Penuh Waktu   \n",
       "26                               Tidak terspesifikasi     Penuh Waktu   \n",
       "\n",
       "                                         job_function  \\\n",
       "5                               Manufaktur,Manufaktur   \n",
       "9                  Akuntansi / Keuangan,Audit & Pajak   \n",
       "18   Akuntansi / Keuangan,Akuntansi Umum / Pembiayaan   \n",
       "22            Manufaktur,Pembelian/Manajemen Material   \n",
       "26  Penjualan / Pemasaran,Pemasaran/Pengembangan B...   \n",
       "\n",
       "                                         job_benefits company_process_time  \\\n",
       "5   Asuransi kesehatan;Bisnis (contoh: Kemeja);Pro...              18 days   \n",
       "9   Tip;Asuransi kesehatan;Waktu regular, Senin - ...              22 days   \n",
       "18  Tip;Asuransi kesehatan;Bisnis (contoh: Kemeja)...                  NaN   \n",
       "22  Asuransi kesehatan;Jam Bekerja yang Panjang;Bi...              29 days   \n",
       "26  Asuransi Gigi;Asuransi kesehatan;Parkir;Waktu ...              29 days   \n",
       "\n",
       "        company_size                                   company_industry  \\\n",
       "5   51 - 200 pekerja                                Manufaktur/Produksi   \n",
       "9   51 - 200 pekerja                         Konstruksi/Bangunan/Teknik   \n",
       "18     1- 50 pekerja                                Manufaktur/Produksi   \n",
       "22     1- 50 pekerja                            Elektrikal & Elektronik   \n",
       "26  51 - 200 pekerja  Konsultasi (IT, Ilmu Pengetahuan, Teknis & Tek...   \n",
       "\n",
       "                                      job_description    salary  \\\n",
       "5   Tedmond Groups membuka Lowongan Kepala Pabrik,...  10500000   \n",
       "9   ResponsibilitiesPrepare corporate income tax (...   8000000   \n",
       "18  DESKRIPSI PEKERJAAN:Memeriksa dan/atau membuat...   4750000   \n",
       "22  Deskripsi Pekerjaan:Mampu melakukan rencana pe...   5250000   \n",
       "26  SCOPE OF ROLE :To plan, develop, implement and...  15000000   \n",
       "\n",
       "    years_experience  \n",
       "5                  0  \n",
       "9                  3  \n",
       "18                 1  \n",
       "22                 2  \n",
       "26                 2  "
      ]
     },
     "execution_count": 11,
     "metadata": {},
     "output_type": "execute_result"
    }
   ],
   "source": [
    "# Re-check table \n",
    "dataset.head(5)"
   ]
  },
  {
   "cell_type": "markdown",
   "metadata": {},
   "source": [
    "<!-- Analizing Data -->"
   ]
  },
  {
   "cell_type": "code",
   "execution_count": 12,
   "metadata": {},
   "outputs": [],
   "source": [
    "CL = dataset[\"career_level\"]"
   ]
  },
  {
   "cell_type": "code",
   "execution_count": 13,
   "metadata": {},
   "outputs": [],
   "source": [
    "dataset['count_career'] = dataset.id.where(dataset.career_level.isin(CL)).groupby(dataset['career_level']).transform('count')"
   ]
  },
  {
   "cell_type": "code",
   "execution_count": 14,
   "metadata": {},
   "outputs": [
    {
     "name": "stderr",
     "output_type": "stream",
     "text": [
      "c:\\Program Files\\Microsoft SQL Server\\150\\PYTHON_SERVER\\lib\\site-packages\\ipykernel_launcher.py:3: SettingWithCopyWarning: \n",
      "A value is trying to be set on a copy of a slice from a DataFrame\n",
      "\n",
      "See the caveats in the documentation: http://pandas.pydata.org/pandas-docs/stable/indexing.html#indexing-view-versus-copy\n",
      "  This is separate from the ipykernel package so we can avoid doing imports until\n"
     ]
    }
   ],
   "source": [
    "# dataset.drop_duplicates(subset=\"career_level\", inplace=True)\n",
    "tableCareer = dataset[[\"career_level\",\"count_career\"]]\n",
    "tableCareer.drop_duplicates(inplace=True)"
   ]
  },
  {
   "cell_type": "code",
   "execution_count": 21,
   "metadata": {},
   "outputs": [
    {
     "data": {
      "text/html": [
       "<div>\n",
       "<style scoped>\n",
       "    .dataframe tbody tr th:only-of-type {\n",
       "        vertical-align: middle;\n",
       "    }\n",
       "\n",
       "    .dataframe tbody tr th {\n",
       "        vertical-align: top;\n",
       "    }\n",
       "\n",
       "    .dataframe thead th {\n",
       "        text-align: right;\n",
       "    }\n",
       "</style>\n",
       "<table border=\"1\" class=\"dataframe\">\n",
       "  <thead>\n",
       "    <tr style=\"text-align: right;\">\n",
       "      <th></th>\n",
       "      <th>count_career</th>\n",
       "    </tr>\n",
       "    <tr>\n",
       "      <th>career_level</th>\n",
       "      <th></th>\n",
       "    </tr>\n",
       "  </thead>\n",
       "  <tbody>\n",
       "    <tr>\n",
       "      <th>Pegawai (non-manajemen &amp; non-supervisor)</th>\n",
       "      <td>5695</td>\n",
       "    </tr>\n",
       "    <tr>\n",
       "      <th>Supervisor/Koordinator</th>\n",
       "      <td>1568</td>\n",
       "    </tr>\n",
       "    <tr>\n",
       "      <th>Manajer/Asisten Manajer</th>\n",
       "      <td>1217</td>\n",
       "    </tr>\n",
       "    <tr>\n",
       "      <th>Lulusan baru/Pengalaman kerja kurang dari 1 tahun</th>\n",
       "      <td>703</td>\n",
       "    </tr>\n",
       "    <tr>\n",
       "      <th>CEO/GM/Direktur/Manajer Senior</th>\n",
       "      <td>169</td>\n",
       "    </tr>\n",
       "  </tbody>\n",
       "</table>\n",
       "</div>"
      ],
      "text/plain": [
       "                                                   count_career\n",
       "career_level                                                   \n",
       "Pegawai (non-manajemen & non-supervisor)                   5695\n",
       "Supervisor/Koordinator                                     1568\n",
       "Manajer/Asisten Manajer                                    1217\n",
       "Lulusan baru/Pengalaman kerja kurang dari 1 tahun           703\n",
       "CEO/GM/Direktur/Manajer Senior                              169"
      ]
     },
     "execution_count": 21,
     "metadata": {},
     "output_type": "execute_result"
    }
   ],
   "source": [
    "tableCareer.set_index(\"career_level\").sort_values(by=\"count_career\", ascending=False)"
   ]
  },
  {
   "cell_type": "code",
   "execution_count": 15,
   "metadata": {},
   "outputs": [
    {
     "data": {
      "image/png": "[encoded data removed]",
      "text/plain": [
       "<Figure size 720x360 with 1 Axes>"
      ]
     },
     "metadata": {
      "needs_background": "light"
     },
     "output_type": "display_data"
    }
   ],
   "source": [
    "xCareer = list(tableCareer.loc[:, \"career_level\"])\n",
    "yCareer = list(tableCareer.loc[:, \"count_career\"])\n",
    "\n",
    "plt.figure(figsize=(10, 5))\n",
    "plt.barh(xCareer, yCareer, color='green')\n",
    "plt.title(\"Number of Workers per level\")\n",
    "plt.xlabel(\"Number of Workers\")\n",
    "plt.show()"
   ]
  },
  {
   "cell_type": "code",
   "execution_count": 16,
   "metadata": {},
   "outputs": [
    {
     "data": {
      "text/plain": [
       "career_level\n",
       "CEO/GM/Direktur/Manajer Senior                       25860062\n",
       "Manajer/Asisten Manajer                              12982517\n",
       "Supervisor/Koordinator                                7728660\n",
       "Pegawai (non-manajemen & non-supervisor)              5880857\n",
       "Lulusan baru/Pengalaman kerja kurang dari 1 tahun     4324536\n",
       "Name: salary, dtype: int32"
      ]
     },
     "execution_count": 16,
     "metadata": {},
     "output_type": "execute_result"
    }
   ],
   "source": [
    "dataset.groupby(by=\"career_level\")[\"salary\"].mean().round(0).astype(\"int\").nlargest()"
   ]
  }
 ],
 "metadata": {
  "kernelspec": {
   "display_name": "Python 3.7.1 64-bit ('PYTHON_SERVER')",
   "language": "python",
   "name": "python3"
  },
  "language_info": {
   "codemirror_mode": {
    "name": "ipython",
    "version": 3
   },
   "file_extension": ".py",
   "mimetype": "text/x-python",
   "name": "python",
   "nbconvert_exporter": "python",
   "pygments_lexer": "ipython3",
   "version": "3.7.1"
  },
  "orig_nbformat": 4,
  "vscode": {
   "interpreter": {
    "hash": "7dd15e51a4470d085f7a243fb04650bc4fe166c7b9d4ae5b8d1a77af89f8b74e"
   }
  }
 },
 "nbformat": 4,
 "nbformat_minor": 2
}
