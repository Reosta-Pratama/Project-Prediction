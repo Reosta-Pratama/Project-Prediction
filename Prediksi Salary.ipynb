{
 "cells": [
  {
   "cell_type": "code",
   "execution_count": 283,
   "metadata": {},
   "outputs": [],
   "source": [
    "import pandas as pd\n",
    "import matplotlib.pyplot as plt"
   ]
  },
  {
   "cell_type": "code",
   "execution_count": 284,
   "metadata": {},
   "outputs": [],
   "source": [
    "tableSalary = pd.read_csv('salary.csv', sep='|')"
   ]
  },
  {
   "cell_type": "code",
   "execution_count": 285,
   "metadata": {},
   "outputs": [
    {
     "data": {
      "text/html": [
       "<div>\n",
       "<style scoped>\n",
       "    .dataframe tbody tr th:only-of-type {\n",
       "        vertical-align: middle;\n",
       "    }\n",
       "\n",
       "    .dataframe tbody tr th {\n",
       "        vertical-align: top;\n",
       "    }\n",
       "\n",
       "    .dataframe thead th {\n",
       "        text-align: right;\n",
       "    }\n",
       "</style>\n",
       "<table border=\"1\" class=\"dataframe\">\n",
       "  <thead>\n",
       "    <tr style=\"text-align: right;\">\n",
       "      <th></th>\n",
       "      <th>id</th>\n",
       "      <th>job_title</th>\n",
       "      <th>location</th>\n",
       "      <th>salary_currency</th>\n",
       "      <th>career_level</th>\n",
       "      <th>experience_level</th>\n",
       "      <th>education_level</th>\n",
       "      <th>employment_type</th>\n",
       "      <th>job_function</th>\n",
       "      <th>job_benefits</th>\n",
       "      <th>company_process_time</th>\n",
       "      <th>company_size</th>\n",
       "      <th>company_industry</th>\n",
       "      <th>job_description</th>\n",
       "      <th>salary</th>\n",
       "    </tr>\n",
       "  </thead>\n",
       "  <tbody>\n",
       "    <tr>\n",
       "      <th>0</th>\n",
       "      <td>1</td>\n",
       "      <td>Facility Maintenance &amp; Smart Warehouse Manager</td>\n",
       "      <td>Bandung</td>\n",
       "      <td>IDR</td>\n",
       "      <td>Manajer/Asisten Manajer</td>\n",
       "      <td>5 tahun</td>\n",
       "      <td>Sertifikat Professional, D3 (Diploma), D4 (Dip...</td>\n",
       "      <td>Penuh Waktu</td>\n",
       "      <td>Manufaktur,Pemeliharaan</td>\n",
       "      <td>NaN</td>\n",
       "      <td>NaN</td>\n",
       "      <td>NaN</td>\n",
       "      <td>NaN</td>\n",
       "      <td>Deskripsi PekerjaanRequirements :D3/SI from re...</td>\n",
       "      <td>NaN</td>\n",
       "    </tr>\n",
       "    <tr>\n",
       "      <th>1</th>\n",
       "      <td>2</td>\n",
       "      <td>Procurement Department Head</td>\n",
       "      <td>Jakarta Raya</td>\n",
       "      <td>IDR</td>\n",
       "      <td>Manajer/Asisten Manajer</td>\n",
       "      <td>5 tahun</td>\n",
       "      <td>Sarjana (S1), Diploma Pascasarjana, Gelar Prof...</td>\n",
       "      <td>Penuh Waktu</td>\n",
       "      <td>Manufaktur,Pembelian/Manajemen Material</td>\n",
       "      <td>NaN</td>\n",
       "      <td>25 days</td>\n",
       "      <td>51 - 200 pekerja</td>\n",
       "      <td>Manajemen/Konsulting HR</td>\n",
       "      <td>Job Role: 1. Responsible for material availabi...</td>\n",
       "      <td>NaN</td>\n",
       "    </tr>\n",
       "    <tr>\n",
       "      <th>2</th>\n",
       "      <td>3</td>\n",
       "      <td>SALES ADMIN</td>\n",
       "      <td>Jakarta Barat</td>\n",
       "      <td>IDR</td>\n",
       "      <td>Supervisor/Koordinator</td>\n",
       "      <td>4 tahun</td>\n",
       "      <td>Sarjana (S1)</td>\n",
       "      <td>Penuh Waktu</td>\n",
       "      <td>Penjualan / Pemasaran,Penjualan Ritel</td>\n",
       "      <td>Waktu regular, Senin - Jumat;Bisnis (contoh: K...</td>\n",
       "      <td>30 days</td>\n",
       "      <td>51 - 200 pekerja</td>\n",
       "      <td>Umum &amp; Grosir</td>\n",
       "      <td>Internal Sales &amp; AdminJob Description :We are ...</td>\n",
       "      <td>NaN</td>\n",
       "    </tr>\n",
       "    <tr>\n",
       "      <th>3</th>\n",
       "      <td>4</td>\n",
       "      <td>City Operation Lead Shopee Express (Cirebon)</td>\n",
       "      <td>Cirebon</td>\n",
       "      <td>IDR</td>\n",
       "      <td>Supervisor/Koordinator</td>\n",
       "      <td>5 tahun</td>\n",
       "      <td>Sarjana (S1), Diploma Pascasarjana, Gelar Prof...</td>\n",
       "      <td>Penuh Waktu</td>\n",
       "      <td>Pelayanan,Logistik/Rantai Pasokan</td>\n",
       "      <td>Tip;Waktu regular, Senin - Jumat;Kasual (conto...</td>\n",
       "      <td>21 days</td>\n",
       "      <td>2001 - 5000 pekerja</td>\n",
       "      <td>Retail/Merchandise</td>\n",
       "      <td>Job Description:Responsible for HSE implementa...</td>\n",
       "      <td>NaN</td>\n",
       "    </tr>\n",
       "    <tr>\n",
       "      <th>4</th>\n",
       "      <td>5</td>\n",
       "      <td>Japanese Interpreter</td>\n",
       "      <td>Bekasi</td>\n",
       "      <td>IDR</td>\n",
       "      <td>Pegawai (non-manajemen &amp; non-supervisor)</td>\n",
       "      <td>2 tahun</td>\n",
       "      <td>Sertifikat Professional, D3 (Diploma), D4 (Dip...</td>\n",
       "      <td>Penuh Waktu</td>\n",
       "      <td>Lainnya,Jurnalis/Editor</td>\n",
       "      <td>NaN</td>\n",
       "      <td>23 days</td>\n",
       "      <td>201 - 500 pekerja</td>\n",
       "      <td>Manajemen/Konsulting HR</td>\n",
       "      <td>Overview: Our clients is manufacture for autom...</td>\n",
       "      <td>NaN</td>\n",
       "    </tr>\n",
       "  </tbody>\n",
       "</table>\n",
       "</div>"
      ],
      "text/plain": [
       "   id                                       job_title       location  \\\n",
       "0   1  Facility Maintenance & Smart Warehouse Manager        Bandung   \n",
       "1   2                     Procurement Department Head   Jakarta Raya   \n",
       "2   3                                     SALES ADMIN  Jakarta Barat   \n",
       "3   4    City Operation Lead Shopee Express (Cirebon)        Cirebon   \n",
       "4   5                            Japanese Interpreter         Bekasi   \n",
       "\n",
       "  salary_currency                              career_level experience_level  \\\n",
       "0             IDR                   Manajer/Asisten Manajer          5 tahun   \n",
       "1             IDR                   Manajer/Asisten Manajer          5 tahun   \n",
       "2             IDR                    Supervisor/Koordinator          4 tahun   \n",
       "3             IDR                    Supervisor/Koordinator          5 tahun   \n",
       "4             IDR  Pegawai (non-manajemen & non-supervisor)          2 tahun   \n",
       "\n",
       "                                     education_level employment_type  \\\n",
       "0  Sertifikat Professional, D3 (Diploma), D4 (Dip...     Penuh Waktu   \n",
       "1  Sarjana (S1), Diploma Pascasarjana, Gelar Prof...     Penuh Waktu   \n",
       "2                                       Sarjana (S1)     Penuh Waktu   \n",
       "3  Sarjana (S1), Diploma Pascasarjana, Gelar Prof...     Penuh Waktu   \n",
       "4  Sertifikat Professional, D3 (Diploma), D4 (Dip...     Penuh Waktu   \n",
       "\n",
       "                              job_function  \\\n",
       "0                  Manufaktur,Pemeliharaan   \n",
       "1  Manufaktur,Pembelian/Manajemen Material   \n",
       "2    Penjualan / Pemasaran,Penjualan Ritel   \n",
       "3        Pelayanan,Logistik/Rantai Pasokan   \n",
       "4                  Lainnya,Jurnalis/Editor   \n",
       "\n",
       "                                        job_benefits company_process_time  \\\n",
       "0                                                NaN                  NaN   \n",
       "1                                                NaN              25 days   \n",
       "2  Waktu regular, Senin - Jumat;Bisnis (contoh: K...              30 days   \n",
       "3  Tip;Waktu regular, Senin - Jumat;Kasual (conto...              21 days   \n",
       "4                                                NaN              23 days   \n",
       "\n",
       "          company_size         company_industry  \\\n",
       "0                  NaN                      NaN   \n",
       "1     51 - 200 pekerja  Manajemen/Konsulting HR   \n",
       "2     51 - 200 pekerja            Umum & Grosir   \n",
       "3  2001 - 5000 pekerja       Retail/Merchandise   \n",
       "4    201 - 500 pekerja  Manajemen/Konsulting HR   \n",
       "\n",
       "                                     job_description  salary  \n",
       "0  Deskripsi PekerjaanRequirements :D3/SI from re...     NaN  \n",
       "1  Job Role: 1. Responsible for material availabi...     NaN  \n",
       "2  Internal Sales & AdminJob Description :We are ...     NaN  \n",
       "3  Job Description:Responsible for HSE implementa...     NaN  \n",
       "4  Overview: Our clients is manufacture for autom...     NaN  "
      ]
     },
     "execution_count": 285,
     "metadata": {},
     "output_type": "execute_result"
    }
   ],
   "source": [
    "tableSalary.head(5)"
   ]
  },
  {
   "cell_type": "code",
   "execution_count": 286,
   "metadata": {},
   "outputs": [
    {
     "data": {
      "text/plain": [
       "(34746, 15)"
      ]
     },
     "execution_count": 286,
     "metadata": {},
     "output_type": "execute_result"
    }
   ],
   "source": [
    "tableSalary.shape"
   ]
  },
  {
   "cell_type": "code",
   "execution_count": 287,
   "metadata": {},
   "outputs": [
    {
     "name": "stdout",
     "output_type": "stream",
     "text": [
      "<class 'pandas.core.frame.DataFrame'>\n",
      "RangeIndex: 34746 entries, 0 to 34745\n",
      "Data columns (total 15 columns):\n",
      "id                      34746 non-null int64\n",
      "job_title               34746 non-null object\n",
      "location                34746 non-null object\n",
      "salary_currency         34742 non-null object\n",
      "career_level            34746 non-null object\n",
      "experience_level        30205 non-null object\n",
      "education_level         34746 non-null object\n",
      "employment_type         33402 non-null object\n",
      "job_function            34746 non-null object\n",
      "job_benefits            27330 non-null object\n",
      "company_process_time    24555 non-null object\n",
      "company_size            29103 non-null object\n",
      "company_industry        33132 non-null object\n",
      "job_description         34745 non-null object\n",
      "salary                  9352 non-null float64\n",
      "dtypes: float64(1), int64(1), object(13)\n",
      "memory usage: 4.0+ MB\n"
     ]
    }
   ],
   "source": [
    "tableSalary.info()"
   ]
  },
  {
   "cell_type": "code",
   "execution_count": 288,
   "metadata": {},
   "outputs": [],
   "source": [
    "# Type of Jobs (visualization data)"
   ]
  },
  {
   "cell_type": "code",
   "execution_count": 292,
   "metadata": {},
   "outputs": [
    {
     "data": {
      "text/plain": [
       "location\n",
       "Aceh                  9482229.0\n",
       "Ambon                 4400000.0\n",
       "Badung                6224430.0\n",
       "Bali                  8902414.0\n",
       "Balikpapan            6835390.0\n",
       "Bandar Lampung        4463458.0\n",
       "Bandung               5548845.0\n",
       "Bangka                6416667.0\n",
       "Bangka Belitung       8483333.0\n",
       "Banjar               11250000.0\n",
       "Banjarbaru            4100000.0\n",
       "Banjarmasin           5440250.0\n",
       "Banjarnegara          3383333.0\n",
       "Banten                6262354.0\n",
       "Bantul                3534250.0\n",
       "Banyuwangi            3166667.0\n",
       "Batam                 7854730.0\n",
       "Batu                  3110000.0\n",
       "Bekasi                6300290.0\n",
       "Belitung              3250000.0\n",
       "Bengkulu              4159801.0\n",
       "Bima                  4600000.0\n",
       "Binjai                6530000.0\n",
       "Bintan                5283333.0\n",
       "Bitung                2250000.0\n",
       "Blitar                3716667.0\n",
       "Bogor                 5512379.0\n",
       "Bontang               8000000.0\n",
       "Brebes                3533333.0\n",
       "Bukittinggi           5291667.0\n",
       "                        ...    \n",
       "Serang                6845866.0\n",
       "Sibolga               5666667.0\n",
       "Sidoarjo              5707913.0\n",
       "Singkawang            8000000.0\n",
       "Sleman                3340000.0\n",
       "Sukabumi              4287462.0\n",
       "Sulawesi Barat        5648449.0\n",
       "Sulawesi Selatan      5673017.0\n",
       "Sulawesi Tengah       8514167.0\n",
       "Sulawesi Tenggara     7300000.0\n",
       "Sulawesi Utara       12662500.0\n",
       "Sumatera Barat        8447143.0\n",
       "Sumatera Selatan      7295209.0\n",
       "Sumatera Utara       11110000.0\n",
       "Surabaya              5375900.0\n",
       "Surakarta             4495000.0\n",
       "Tanah Bumbu           6575000.0\n",
       "Tangerang             9896213.0\n",
       "Tanjung Balai         4250000.0\n",
       "Tanjung Pinang        4050000.0\n",
       "Tarakan               7500000.0\n",
       "Tasikmalaya           4748750.0\n",
       "Tegal                 3585714.0\n",
       "Ternate               4293750.0\n",
       "Timika                4175000.0\n",
       "Tuban                 3625000.0\n",
       "Ubud                 33125000.0\n",
       "Ungaran               4397500.0\n",
       "Wonogiri              3750000.0\n",
       "Yogyakarta            5070808.0\n",
       "Name: salary, Length: 173, dtype: float64"
      ]
     },
     "execution_count": 292,
     "metadata": {},
     "output_type": "execute_result"
    }
   ],
   "source": [
    "# Top 10 Region (highest average salary)\n",
    "topRegion = tableSalary.loc[:, ['location', 'salary']]\n",
    "topRegion.sort_values(\"location\", inplace=True)\n",
    "topRegion.dropna(inplace=True)\n",
    "\n",
    "topRegion.groupby(\"location\")[\"salary\"].mean().round(0)"
   ]
  },
  {
   "cell_type": "code",
   "execution_count": 290,
   "metadata": {},
   "outputs": [
    {
     "data": {
      "image/png": "[encoded data removed]",
      "text/plain": [
       "<Figure size 432x288 with 1 Axes>"
      ]
     },
     "metadata": {
      "needs_background": "light"
     },
     "output_type": "display_data"
    }
   ],
   "source": [
    "xRegion = list(topRegion.iloc[:, 0])\n",
    "yRegion = list(topRegion.iloc[:, 1])\n",
    "  \n",
    "plt.bar(xRegion, yRegion, color='g')\n",
    "plt.title(\"Top 10 Region Highest Average Salary)\")\n",
    "plt.xlabel(\"Region\")\n",
    "plt.ylabel(\"Avg salary\")\n",
    "  \n",
    "plt.show()"
   ]
  }
 ],
 "metadata": {
  "kernelspec": {
   "display_name": "Python 3.7.1 64-bit ('PYTHON_SERVER')",
   "language": "python",
   "name": "python3"
  },
  "language_info": {
   "codemirror_mode": {
    "name": "ipython",
    "version": 3
   },
   "file_extension": ".py",
   "mimetype": "text/x-python",
   "name": "python",
   "nbconvert_exporter": "python",
   "pygments_lexer": "ipython3",
   "version": "3.7.1"
  },
  "orig_nbformat": 4,
  "vscode": {
   "interpreter": {
    "hash": "7dd15e51a4470d085f7a243fb04650bc4fe166c7b9d4ae5b8d1a77af89f8b74e"
   }
  }
 },
 "nbformat": 4,
 "nbformat_minor": 2
}
