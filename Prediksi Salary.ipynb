{
 "cells": [
  {
   "cell_type": "code",
   "execution_count": 19,
   "metadata": {},
   "outputs": [],
   "source": [
    "import pandas as pd\n",
    "import matplotlib.pyplot as plt\n",
    "from sklearn.linear_model import LinearRegression\n",
    "from sklearn.metrics import mean_squared_error\n",
    "from sklearn.model_selection import train_test_split"
   ]
  },
  {
   "cell_type": "markdown",
   "metadata": {},
   "source": [
    "<!-- Collecting Data -->"
   ]
  },
  {
   "cell_type": "code",
   "execution_count": 20,
   "metadata": {},
   "outputs": [],
   "source": [
    "# Import data salary\n",
    "tableSalary = pd.read_csv('salary.csv', sep='|')"
   ]
  },
  {
   "cell_type": "code",
   "execution_count": 21,
   "metadata": {},
   "outputs": [
    {
     "data": {
      "text/html": [
       "<div>\n",
       "<style scoped>\n",
       "    .dataframe tbody tr th:only-of-type {\n",
       "        vertical-align: middle;\n",
       "    }\n",
       "\n",
       "    .dataframe tbody tr th {\n",
       "        vertical-align: top;\n",
       "    }\n",
       "\n",
       "    .dataframe thead th {\n",
       "        text-align: right;\n",
       "    }\n",
       "</style>\n",
       "<table border=\"1\" class=\"dataframe\">\n",
       "  <thead>\n",
       "    <tr style=\"text-align: right;\">\n",
       "      <th></th>\n",
       "      <th>id</th>\n",
       "      <th>job_title</th>\n",
       "      <th>location</th>\n",
       "      <th>salary_currency</th>\n",
       "      <th>career_level</th>\n",
       "      <th>experience_level</th>\n",
       "      <th>education_level</th>\n",
       "      <th>employment_type</th>\n",
       "      <th>job_function</th>\n",
       "      <th>job_benefits</th>\n",
       "      <th>company_process_time</th>\n",
       "      <th>company_size</th>\n",
       "      <th>company_industry</th>\n",
       "      <th>job_description</th>\n",
       "      <th>salary</th>\n",
       "    </tr>\n",
       "  </thead>\n",
       "  <tbody>\n",
       "    <tr>\n",
       "      <th>0</th>\n",
       "      <td>1</td>\n",
       "      <td>Facility Maintenance &amp; Smart Warehouse Manager</td>\n",
       "      <td>Bandung</td>\n",
       "      <td>IDR</td>\n",
       "      <td>Manajer/Asisten Manajer</td>\n",
       "      <td>5 tahun</td>\n",
       "      <td>Sertifikat Professional, D3 (Diploma), D4 (Dip...</td>\n",
       "      <td>Penuh Waktu</td>\n",
       "      <td>Manufaktur,Pemeliharaan</td>\n",
       "      <td>NaN</td>\n",
       "      <td>NaN</td>\n",
       "      <td>NaN</td>\n",
       "      <td>NaN</td>\n",
       "      <td>Deskripsi PekerjaanRequirements :D3/SI from re...</td>\n",
       "      <td>NaN</td>\n",
       "    </tr>\n",
       "    <tr>\n",
       "      <th>1</th>\n",
       "      <td>2</td>\n",
       "      <td>Procurement Department Head</td>\n",
       "      <td>Jakarta Raya</td>\n",
       "      <td>IDR</td>\n",
       "      <td>Manajer/Asisten Manajer</td>\n",
       "      <td>5 tahun</td>\n",
       "      <td>Sarjana (S1), Diploma Pascasarjana, Gelar Prof...</td>\n",
       "      <td>Penuh Waktu</td>\n",
       "      <td>Manufaktur,Pembelian/Manajemen Material</td>\n",
       "      <td>NaN</td>\n",
       "      <td>25 days</td>\n",
       "      <td>51 - 200 pekerja</td>\n",
       "      <td>Manajemen/Konsulting HR</td>\n",
       "      <td>Job Role: 1. Responsible for material availabi...</td>\n",
       "      <td>NaN</td>\n",
       "    </tr>\n",
       "    <tr>\n",
       "      <th>2</th>\n",
       "      <td>3</td>\n",
       "      <td>SALES ADMIN</td>\n",
       "      <td>Jakarta Barat</td>\n",
       "      <td>IDR</td>\n",
       "      <td>Supervisor/Koordinator</td>\n",
       "      <td>4 tahun</td>\n",
       "      <td>Sarjana (S1)</td>\n",
       "      <td>Penuh Waktu</td>\n",
       "      <td>Penjualan / Pemasaran,Penjualan Ritel</td>\n",
       "      <td>Waktu regular, Senin - Jumat;Bisnis (contoh: K...</td>\n",
       "      <td>30 days</td>\n",
       "      <td>51 - 200 pekerja</td>\n",
       "      <td>Umum &amp; Grosir</td>\n",
       "      <td>Internal Sales &amp; AdminJob Description :We are ...</td>\n",
       "      <td>NaN</td>\n",
       "    </tr>\n",
       "    <tr>\n",
       "      <th>3</th>\n",
       "      <td>4</td>\n",
       "      <td>City Operation Lead Shopee Express (Cirebon)</td>\n",
       "      <td>Cirebon</td>\n",
       "      <td>IDR</td>\n",
       "      <td>Supervisor/Koordinator</td>\n",
       "      <td>5 tahun</td>\n",
       "      <td>Sarjana (S1), Diploma Pascasarjana, Gelar Prof...</td>\n",
       "      <td>Penuh Waktu</td>\n",
       "      <td>Pelayanan,Logistik/Rantai Pasokan</td>\n",
       "      <td>Tip;Waktu regular, Senin - Jumat;Kasual (conto...</td>\n",
       "      <td>21 days</td>\n",
       "      <td>2001 - 5000 pekerja</td>\n",
       "      <td>Retail/Merchandise</td>\n",
       "      <td>Job Description:Responsible for HSE implementa...</td>\n",
       "      <td>NaN</td>\n",
       "    </tr>\n",
       "    <tr>\n",
       "      <th>4</th>\n",
       "      <td>5</td>\n",
       "      <td>Japanese Interpreter</td>\n",
       "      <td>Bekasi</td>\n",
       "      <td>IDR</td>\n",
       "      <td>Pegawai (non-manajemen &amp; non-supervisor)</td>\n",
       "      <td>2 tahun</td>\n",
       "      <td>Sertifikat Professional, D3 (Diploma), D4 (Dip...</td>\n",
       "      <td>Penuh Waktu</td>\n",
       "      <td>Lainnya,Jurnalis/Editor</td>\n",
       "      <td>NaN</td>\n",
       "      <td>23 days</td>\n",
       "      <td>201 - 500 pekerja</td>\n",
       "      <td>Manajemen/Konsulting HR</td>\n",
       "      <td>Overview: Our clients is manufacture for autom...</td>\n",
       "      <td>NaN</td>\n",
       "    </tr>\n",
       "  </tbody>\n",
       "</table>\n",
       "</div>"
      ],
      "text/plain": [
       "   id                                       job_title       location  \\\n",
       "0   1  Facility Maintenance & Smart Warehouse Manager        Bandung   \n",
       "1   2                     Procurement Department Head   Jakarta Raya   \n",
       "2   3                                     SALES ADMIN  Jakarta Barat   \n",
       "3   4    City Operation Lead Shopee Express (Cirebon)        Cirebon   \n",
       "4   5                            Japanese Interpreter         Bekasi   \n",
       "\n",
       "  salary_currency                              career_level experience_level  \\\n",
       "0             IDR                   Manajer/Asisten Manajer          5 tahun   \n",
       "1             IDR                   Manajer/Asisten Manajer          5 tahun   \n",
       "2             IDR                    Supervisor/Koordinator          4 tahun   \n",
       "3             IDR                    Supervisor/Koordinator          5 tahun   \n",
       "4             IDR  Pegawai (non-manajemen & non-supervisor)          2 tahun   \n",
       "\n",
       "                                     education_level employment_type  \\\n",
       "0  Sertifikat Professional, D3 (Diploma), D4 (Dip...     Penuh Waktu   \n",
       "1  Sarjana (S1), Diploma Pascasarjana, Gelar Prof...     Penuh Waktu   \n",
       "2                                       Sarjana (S1)     Penuh Waktu   \n",
       "3  Sarjana (S1), Diploma Pascasarjana, Gelar Prof...     Penuh Waktu   \n",
       "4  Sertifikat Professional, D3 (Diploma), D4 (Dip...     Penuh Waktu   \n",
       "\n",
       "                              job_function  \\\n",
       "0                  Manufaktur,Pemeliharaan   \n",
       "1  Manufaktur,Pembelian/Manajemen Material   \n",
       "2    Penjualan / Pemasaran,Penjualan Ritel   \n",
       "3        Pelayanan,Logistik/Rantai Pasokan   \n",
       "4                  Lainnya,Jurnalis/Editor   \n",
       "\n",
       "                                        job_benefits company_process_time  \\\n",
       "0                                                NaN                  NaN   \n",
       "1                                                NaN              25 days   \n",
       "2  Waktu regular, Senin - Jumat;Bisnis (contoh: K...              30 days   \n",
       "3  Tip;Waktu regular, Senin - Jumat;Kasual (conto...              21 days   \n",
       "4                                                NaN              23 days   \n",
       "\n",
       "          company_size         company_industry  \\\n",
       "0                  NaN                      NaN   \n",
       "1     51 - 200 pekerja  Manajemen/Konsulting HR   \n",
       "2     51 - 200 pekerja            Umum & Grosir   \n",
       "3  2001 - 5000 pekerja       Retail/Merchandise   \n",
       "4    201 - 500 pekerja  Manajemen/Konsulting HR   \n",
       "\n",
       "                                     job_description  salary  \n",
       "0  Deskripsi PekerjaanRequirements :D3/SI from re...     NaN  \n",
       "1  Job Role: 1. Responsible for material availabi...     NaN  \n",
       "2  Internal Sales & AdminJob Description :We are ...     NaN  \n",
       "3  Job Description:Responsible for HSE implementa...     NaN  \n",
       "4  Overview: Our clients is manufacture for autom...     NaN  "
      ]
     },
     "execution_count": 21,
     "metadata": {},
     "output_type": "execute_result"
    }
   ],
   "source": [
    "# Head buat nampilin data teratas\n",
    "tableSalary.head(5)"
   ]
  },
  {
   "cell_type": "code",
   "execution_count": 22,
   "metadata": {},
   "outputs": [
    {
     "name": "stdout",
     "output_type": "stream",
     "text": [
      "<class 'pandas.core.frame.DataFrame'>\n",
      "RangeIndex: 34746 entries, 0 to 34745\n",
      "Data columns (total 15 columns):\n",
      "id                      34746 non-null int64\n",
      "job_title               34746 non-null object\n",
      "location                34746 non-null object\n",
      "salary_currency         34742 non-null object\n",
      "career_level            34746 non-null object\n",
      "experience_level        30205 non-null object\n",
      "education_level         34746 non-null object\n",
      "employment_type         33402 non-null object\n",
      "job_function            34746 non-null object\n",
      "job_benefits            27330 non-null object\n",
      "company_process_time    24555 non-null object\n",
      "company_size            29103 non-null object\n",
      "company_industry        33132 non-null object\n",
      "job_description         34745 non-null object\n",
      "salary                  9352 non-null float64\n",
      "dtypes: float64(1), int64(1), object(13)\n",
      "memory usage: 4.0+ MB\n"
     ]
    }
   ],
   "source": [
    "# Nampilin detail dataframe\n",
    "tableSalary.info()"
   ]
  },
  {
   "cell_type": "markdown",
   "metadata": {},
   "source": [
    "<!-- Cleaning Data -->"
   ]
  },
  {
   "cell_type": "code",
   "execution_count": 23,
   "metadata": {},
   "outputs": [
    {
     "data": {
      "text/plain": [
       "Index(['job_title', 'location', 'salary_currency', 'career_level',\n",
       "       'experience_level', 'education_level', 'employment_type',\n",
       "       'job_function', 'job_benefits', 'company_process_time', 'company_size',\n",
       "       'company_industry', 'job_description'],\n",
       "      dtype='object')"
      ]
     },
     "execution_count": 23,
     "metadata": {},
     "output_type": "execute_result"
    }
   ],
   "source": [
    "# Nampilin tipe kolom \"Object\"\n",
    "objectType = tableSalary.select_dtypes('object').columns\n",
    "objectType"
   ]
  },
  {
   "cell_type": "code",
   "execution_count": 24,
   "metadata": {},
   "outputs": [
    {
     "data": {
      "text/plain": [
       "Index(['id', 'salary'], dtype='object')"
      ]
     },
     "execution_count": 24,
     "metadata": {},
     "output_type": "execute_result"
    }
   ],
   "source": [
    "# Nampilin tipe kolom \"Numeric\"\n",
    "numericType = tableSalary.select_dtypes('number').columns\n",
    "numericType"
   ]
  },
  {
   "cell_type": "code",
   "execution_count": 25,
   "metadata": {},
   "outputs": [
    {
     "data": {
      "text/plain": [
       "id                          0\n",
       "job_title                   0\n",
       "location                    0\n",
       "salary_currency             4\n",
       "career_level                0\n",
       "experience_level         4541\n",
       "education_level             0\n",
       "employment_type          1344\n",
       "job_function                0\n",
       "job_benefits             7416\n",
       "company_process_time    10191\n",
       "company_size             5643\n",
       "company_industry         1614\n",
       "job_description             1\n",
       "salary                  25394\n",
       "dtype: int64"
      ]
     },
     "execution_count": 25,
     "metadata": {},
     "output_type": "execute_result"
    }
   ],
   "source": [
    "# Check data yang Null / NaN\n",
    "tableSalary.isnull().sum()"
   ]
  },
  {
   "cell_type": "code",
   "execution_count": 26,
   "metadata": {},
   "outputs": [],
   "source": [
    "# Transform Dataframe Disini / Manipulasi Data\n",
    "\n",
    "# Remove Salary = null\n",
    "# tableSalary.dropna(subset=[\"salary\"], inplace=True)\n",
    "# tableSalary[\"salary\"] = tableSalary[\"salary\"].astype('int')\n",
    "\n",
    "# Change Salary = null => 0\n",
    "tableSalary[\"salary\"] = tableSalary[\"salary\"].fillna(0).astype('int')\n",
    "\n",
    "# Add column year experience based on column experience_level\n",
    "tableSalary[\"years_experience\"] = tableSalary[\"experience_level\"]\n",
    "tableSalary[\"years_experience\"] = tableSalary[\"years_experience\"].str.replace(\"\\D\", \"\").fillna(0).astype('int')\n"
   ]
  },
  {
   "cell_type": "code",
   "execution_count": 27,
   "metadata": {},
   "outputs": [
    {
     "data": {
      "text/plain": [
       "id                          0\n",
       "job_title                   0\n",
       "location                    0\n",
       "salary_currency             4\n",
       "career_level                0\n",
       "experience_level         4541\n",
       "education_level             0\n",
       "employment_type          1344\n",
       "job_function                0\n",
       "job_benefits             7416\n",
       "company_process_time    10191\n",
       "company_size             5643\n",
       "company_industry         1614\n",
       "job_description             1\n",
       "salary                      0\n",
       "years_experience            0\n",
       "dtype: int64"
      ]
     },
     "execution_count": 27,
     "metadata": {},
     "output_type": "execute_result"
    }
   ],
   "source": [
    "# Re-check Isnull\n",
    "tableSalary.isnull().sum()"
   ]
  },
  {
   "cell_type": "code",
   "execution_count": 28,
   "metadata": {},
   "outputs": [
    {
     "data": {
      "text/html": [
       "<div>\n",
       "<style scoped>\n",
       "    .dataframe tbody tr th:only-of-type {\n",
       "        vertical-align: middle;\n",
       "    }\n",
       "\n",
       "    .dataframe tbody tr th {\n",
       "        vertical-align: top;\n",
       "    }\n",
       "\n",
       "    .dataframe thead th {\n",
       "        text-align: right;\n",
       "    }\n",
       "</style>\n",
       "<table border=\"1\" class=\"dataframe\">\n",
       "  <thead>\n",
       "    <tr style=\"text-align: right;\">\n",
       "      <th></th>\n",
       "      <th>id</th>\n",
       "      <th>salary</th>\n",
       "    </tr>\n",
       "  </thead>\n",
       "  <tbody>\n",
       "    <tr>\n",
       "      <th>count</th>\n",
       "      <td>34746.000000</td>\n",
       "      <td>3.474600e+04</td>\n",
       "    </tr>\n",
       "    <tr>\n",
       "      <th>mean</th>\n",
       "      <td>17373.500000</td>\n",
       "      <td>1.980667e+06</td>\n",
       "    </tr>\n",
       "    <tr>\n",
       "      <th>std</th>\n",
       "      <td>10030.450563</td>\n",
       "      <td>1.161218e+07</td>\n",
       "    </tr>\n",
       "    <tr>\n",
       "      <th>min</th>\n",
       "      <td>1.000000</td>\n",
       "      <td>0.000000e+00</td>\n",
       "    </tr>\n",
       "    <tr>\n",
       "      <th>25%</th>\n",
       "      <td>8687.250000</td>\n",
       "      <td>0.000000e+00</td>\n",
       "    </tr>\n",
       "    <tr>\n",
       "      <th>50%</th>\n",
       "      <td>17373.500000</td>\n",
       "      <td>0.000000e+00</td>\n",
       "    </tr>\n",
       "    <tr>\n",
       "      <th>75%</th>\n",
       "      <td>26059.750000</td>\n",
       "      <td>2.999829e+06</td>\n",
       "    </tr>\n",
       "    <tr>\n",
       "      <th>max</th>\n",
       "      <td>34746.000000</td>\n",
       "      <td>2.000000e+09</td>\n",
       "    </tr>\n",
       "  </tbody>\n",
       "</table>\n",
       "</div>"
      ],
      "text/plain": [
       "                 id        salary\n",
       "count  34746.000000  3.474600e+04\n",
       "mean   17373.500000  1.980667e+06\n",
       "std    10030.450563  1.161218e+07\n",
       "min        1.000000  0.000000e+00\n",
       "25%     8687.250000  0.000000e+00\n",
       "50%    17373.500000  0.000000e+00\n",
       "75%    26059.750000  2.999829e+06\n",
       "max    34746.000000  2.000000e+09"
      ]
     },
     "execution_count": 28,
     "metadata": {},
     "output_type": "execute_result"
    }
   ],
   "source": [
    "generalNumeric = tableSalary[numericType].describe()\n",
    "generalNumeric"
   ]
  },
  {
   "cell_type": "code",
   "execution_count": 29,
   "metadata": {},
   "outputs": [
    {
     "data": {
      "text/html": [
       "<div>\n",
       "<style scoped>\n",
       "    .dataframe tbody tr th:only-of-type {\n",
       "        vertical-align: middle;\n",
       "    }\n",
       "\n",
       "    .dataframe tbody tr th {\n",
       "        vertical-align: top;\n",
       "    }\n",
       "\n",
       "    .dataframe thead th {\n",
       "        text-align: right;\n",
       "    }\n",
       "</style>\n",
       "<table border=\"1\" class=\"dataframe\">\n",
       "  <thead>\n",
       "    <tr style=\"text-align: right;\">\n",
       "      <th></th>\n",
       "      <th>id</th>\n",
       "      <th>job_title</th>\n",
       "      <th>location</th>\n",
       "      <th>salary_currency</th>\n",
       "      <th>career_level</th>\n",
       "      <th>experience_level</th>\n",
       "      <th>education_level</th>\n",
       "      <th>employment_type</th>\n",
       "      <th>job_function</th>\n",
       "      <th>job_benefits</th>\n",
       "      <th>company_process_time</th>\n",
       "      <th>company_size</th>\n",
       "      <th>company_industry</th>\n",
       "      <th>job_description</th>\n",
       "      <th>salary</th>\n",
       "      <th>years_experience</th>\n",
       "    </tr>\n",
       "  </thead>\n",
       "  <tbody>\n",
       "    <tr>\n",
       "      <th>0</th>\n",
       "      <td>1</td>\n",
       "      <td>Facility Maintenance &amp; Smart Warehouse Manager</td>\n",
       "      <td>Bandung</td>\n",
       "      <td>IDR</td>\n",
       "      <td>Manajer/Asisten Manajer</td>\n",
       "      <td>5 tahun</td>\n",
       "      <td>Sertifikat Professional, D3 (Diploma), D4 (Dip...</td>\n",
       "      <td>Penuh Waktu</td>\n",
       "      <td>Manufaktur,Pemeliharaan</td>\n",
       "      <td>NaN</td>\n",
       "      <td>NaN</td>\n",
       "      <td>NaN</td>\n",
       "      <td>NaN</td>\n",
       "      <td>Deskripsi PekerjaanRequirements :D3/SI from re...</td>\n",
       "      <td>0</td>\n",
       "      <td>5</td>\n",
       "    </tr>\n",
       "    <tr>\n",
       "      <th>1</th>\n",
       "      <td>2</td>\n",
       "      <td>Procurement Department Head</td>\n",
       "      <td>Jakarta Raya</td>\n",
       "      <td>IDR</td>\n",
       "      <td>Manajer/Asisten Manajer</td>\n",
       "      <td>5 tahun</td>\n",
       "      <td>Sarjana (S1), Diploma Pascasarjana, Gelar Prof...</td>\n",
       "      <td>Penuh Waktu</td>\n",
       "      <td>Manufaktur,Pembelian/Manajemen Material</td>\n",
       "      <td>NaN</td>\n",
       "      <td>25 days</td>\n",
       "      <td>51 - 200 pekerja</td>\n",
       "      <td>Manajemen/Konsulting HR</td>\n",
       "      <td>Job Role: 1. Responsible for material availabi...</td>\n",
       "      <td>0</td>\n",
       "      <td>5</td>\n",
       "    </tr>\n",
       "    <tr>\n",
       "      <th>2</th>\n",
       "      <td>3</td>\n",
       "      <td>SALES ADMIN</td>\n",
       "      <td>Jakarta Barat</td>\n",
       "      <td>IDR</td>\n",
       "      <td>Supervisor/Koordinator</td>\n",
       "      <td>4 tahun</td>\n",
       "      <td>Sarjana (S1)</td>\n",
       "      <td>Penuh Waktu</td>\n",
       "      <td>Penjualan / Pemasaran,Penjualan Ritel</td>\n",
       "      <td>Waktu regular, Senin - Jumat;Bisnis (contoh: K...</td>\n",
       "      <td>30 days</td>\n",
       "      <td>51 - 200 pekerja</td>\n",
       "      <td>Umum &amp; Grosir</td>\n",
       "      <td>Internal Sales &amp; AdminJob Description :We are ...</td>\n",
       "      <td>0</td>\n",
       "      <td>4</td>\n",
       "    </tr>\n",
       "    <tr>\n",
       "      <th>3</th>\n",
       "      <td>4</td>\n",
       "      <td>City Operation Lead Shopee Express (Cirebon)</td>\n",
       "      <td>Cirebon</td>\n",
       "      <td>IDR</td>\n",
       "      <td>Supervisor/Koordinator</td>\n",
       "      <td>5 tahun</td>\n",
       "      <td>Sarjana (S1), Diploma Pascasarjana, Gelar Prof...</td>\n",
       "      <td>Penuh Waktu</td>\n",
       "      <td>Pelayanan,Logistik/Rantai Pasokan</td>\n",
       "      <td>Tip;Waktu regular, Senin - Jumat;Kasual (conto...</td>\n",
       "      <td>21 days</td>\n",
       "      <td>2001 - 5000 pekerja</td>\n",
       "      <td>Retail/Merchandise</td>\n",
       "      <td>Job Description:Responsible for HSE implementa...</td>\n",
       "      <td>0</td>\n",
       "      <td>5</td>\n",
       "    </tr>\n",
       "    <tr>\n",
       "      <th>4</th>\n",
       "      <td>5</td>\n",
       "      <td>Japanese Interpreter</td>\n",
       "      <td>Bekasi</td>\n",
       "      <td>IDR</td>\n",
       "      <td>Pegawai (non-manajemen &amp; non-supervisor)</td>\n",
       "      <td>2 tahun</td>\n",
       "      <td>Sertifikat Professional, D3 (Diploma), D4 (Dip...</td>\n",
       "      <td>Penuh Waktu</td>\n",
       "      <td>Lainnya,Jurnalis/Editor</td>\n",
       "      <td>NaN</td>\n",
       "      <td>23 days</td>\n",
       "      <td>201 - 500 pekerja</td>\n",
       "      <td>Manajemen/Konsulting HR</td>\n",
       "      <td>Overview: Our clients is manufacture for autom...</td>\n",
       "      <td>0</td>\n",
       "      <td>2</td>\n",
       "    </tr>\n",
       "  </tbody>\n",
       "</table>\n",
       "</div>"
      ],
      "text/plain": [
       "   id                                       job_title       location  \\\n",
       "0   1  Facility Maintenance & Smart Warehouse Manager        Bandung   \n",
       "1   2                     Procurement Department Head   Jakarta Raya   \n",
       "2   3                                     SALES ADMIN  Jakarta Barat   \n",
       "3   4    City Operation Lead Shopee Express (Cirebon)        Cirebon   \n",
       "4   5                            Japanese Interpreter         Bekasi   \n",
       "\n",
       "  salary_currency                              career_level experience_level  \\\n",
       "0             IDR                   Manajer/Asisten Manajer          5 tahun   \n",
       "1             IDR                   Manajer/Asisten Manajer          5 tahun   \n",
       "2             IDR                    Supervisor/Koordinator          4 tahun   \n",
       "3             IDR                    Supervisor/Koordinator          5 tahun   \n",
       "4             IDR  Pegawai (non-manajemen & non-supervisor)          2 tahun   \n",
       "\n",
       "                                     education_level employment_type  \\\n",
       "0  Sertifikat Professional, D3 (Diploma), D4 (Dip...     Penuh Waktu   \n",
       "1  Sarjana (S1), Diploma Pascasarjana, Gelar Prof...     Penuh Waktu   \n",
       "2                                       Sarjana (S1)     Penuh Waktu   \n",
       "3  Sarjana (S1), Diploma Pascasarjana, Gelar Prof...     Penuh Waktu   \n",
       "4  Sertifikat Professional, D3 (Diploma), D4 (Dip...     Penuh Waktu   \n",
       "\n",
       "                              job_function  \\\n",
       "0                  Manufaktur,Pemeliharaan   \n",
       "1  Manufaktur,Pembelian/Manajemen Material   \n",
       "2    Penjualan / Pemasaran,Penjualan Ritel   \n",
       "3        Pelayanan,Logistik/Rantai Pasokan   \n",
       "4                  Lainnya,Jurnalis/Editor   \n",
       "\n",
       "                                        job_benefits company_process_time  \\\n",
       "0                                                NaN                  NaN   \n",
       "1                                                NaN              25 days   \n",
       "2  Waktu regular, Senin - Jumat;Bisnis (contoh: K...              30 days   \n",
       "3  Tip;Waktu regular, Senin - Jumat;Kasual (conto...              21 days   \n",
       "4                                                NaN              23 days   \n",
       "\n",
       "          company_size         company_industry  \\\n",
       "0                  NaN                      NaN   \n",
       "1     51 - 200 pekerja  Manajemen/Konsulting HR   \n",
       "2     51 - 200 pekerja            Umum & Grosir   \n",
       "3  2001 - 5000 pekerja       Retail/Merchandise   \n",
       "4    201 - 500 pekerja  Manajemen/Konsulting HR   \n",
       "\n",
       "                                     job_description  salary  years_experience  \n",
       "0  Deskripsi PekerjaanRequirements :D3/SI from re...       0                 5  \n",
       "1  Job Role: 1. Responsible for material availabi...       0                 5  \n",
       "2  Internal Sales & AdminJob Description :We are ...       0                 4  \n",
       "3  Job Description:Responsible for HSE implementa...       0                 5  \n",
       "4  Overview: Our clients is manufacture for autom...       0                 2  "
      ]
     },
     "execution_count": 29,
     "metadata": {},
     "output_type": "execute_result"
    }
   ],
   "source": [
    "# Re-check table \n",
    "tableSalary.head(5)"
   ]
  },
  {
   "cell_type": "markdown",
   "metadata": {},
   "source": [
    "<!-- Analizing Data -->"
   ]
  },
  {
   "cell_type": "code",
   "execution_count": 30,
   "metadata": {},
   "outputs": [
    {
     "data": {
      "text/plain": [
       "location\n",
       "Ubud                   22083333.0\n",
       "Manokwari              14250000.0\n",
       "Kotabaru               12000000.0\n",
       "Penajam Paser Utara     7750000.0\n",
       "Klungkung               6141667.0\n",
       "Sumatera Utara          5893130.0\n",
       "Poso                    5858925.0\n",
       "Sibolga                 5666667.0\n",
       "Banjar                  5625000.0\n",
       "Rangkasbitung           5078571.0\n",
       "Name: salary, dtype: float64"
      ]
     },
     "execution_count": 30,
     "metadata": {},
     "output_type": "execute_result"
    }
   ],
   "source": [
    "# Top 10 Region (highest average salary)\n",
    "topRegion = tableSalary.loc[:, ['location', 'salary']]\n",
    "topRegion.sort_values(\"location\", inplace=True)\n",
    "\n",
    "topRegion.groupby(\"location\")[\"salary\"].mean().round(0).nlargest(10)"
   ]
  },
  {
   "cell_type": "code",
   "execution_count": 31,
   "metadata": {},
   "outputs": [],
   "source": [
    "# Simple Linear regression (predict the salary based on experience)\n",
    "xExp = tableSalary.loc[:, [\"years_experience\"]].values\n",
    "ySal = tableSalary.loc[:, [\"salary\"]].values"
   ]
  },
  {
   "cell_type": "code",
   "execution_count": 32,
   "metadata": {},
   "outputs": [],
   "source": [
    "xTrain, xTest, yTrain, yTest = train_test_split(xExp, ySal, test_size = 1/2, random_state = 0)\n",
    "\n",
    "model = LinearRegression()\n",
    "model.fit(xTrain, yTrain)\n",
    "y_pred = model.predict(xTest)"
   ]
  },
  {
   "cell_type": "code",
   "execution_count": 33,
   "metadata": {},
   "outputs": [
    {
     "data": {
      "image/png": "[encoded data removed]",
      "text/plain": [
       "<Figure size 720x360 with 1 Axes>"
      ]
     },
     "metadata": {
      "needs_background": "light"
     },
     "output_type": "display_data"
    }
   ],
   "source": [
    "# Kurang yakin \n",
    "plt.figure(figsize=(10, 5))\n",
    "plt.scatter(xTrain, yTrain, color = 'red')\n",
    "plt.plot(xTrain, model.predict(xTrain), color = 'blue')\n",
    "plt.title('Salary vs Experience (Training Set)')\n",
    "plt.xlabel('Years of Experience')\n",
    "plt.ylabel('Salary')\n",
    "plt.show()"
   ]
  },
  {
   "cell_type": "code",
   "execution_count": 34,
   "metadata": {},
   "outputs": [
    {
     "data": {
      "image/png": "[encoded data removed]",
      "text/plain": [
       "<Figure size 432x288 with 1 Axes>"
      ]
     },
     "metadata": {
      "needs_background": "light"
     },
     "output_type": "display_data"
    }
   ],
   "source": [
    "# Kurang yakin \n",
    "plt.scatter(xTest, yTest, color = 'red')\n",
    "plt.plot(xTrain, model.predict(xTrain), color = 'blue')\n",
    "plt.title('Salary vs Experience (Test set)')\n",
    "plt.xlabel('Years of Experience')\n",
    "plt.ylabel('Salary')\n",
    "plt.show()"
   ]
  },
  {
   "cell_type": "code",
   "execution_count": 35,
   "metadata": {},
   "outputs": [
    {
     "data": {
      "text/plain": [
       "array([[5245436.08165274]])"
      ]
     },
     "execution_count": 35,
     "metadata": {},
     "output_type": "execute_result"
    }
   ],
   "source": [
    "# Predict salary \n",
    "# model.predict(year)\n",
    "model.predict([[10]])"
   ]
  }
 ],
 "metadata": {
  "kernelspec": {
   "display_name": "Python 3.7.1 64-bit ('PYTHON_SERVER')",
   "language": "python",
   "name": "python3"
  },
  "language_info": {
   "codemirror_mode": {
    "name": "ipython",
    "version": 3
   },
   "file_extension": ".py",
   "mimetype": "text/x-python",
   "name": "python",
   "nbconvert_exporter": "python",
   "pygments_lexer": "ipython3",
   "version": "3.7.1"
  },
  "orig_nbformat": 4,
  "vscode": {
   "interpreter": {
    "hash": "7dd15e51a4470d085f7a243fb04650bc4fe166c7b9d4ae5b8d1a77af89f8b74e"
   }
  }
 },
 "nbformat": 4,
 "nbformat_minor": 2
}
