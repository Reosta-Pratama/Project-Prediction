{
 "cells": [
  {
   "cell_type": "code",
   "execution_count": 1,
   "metadata": {},
   "outputs": [],
   "source": [
    "import pandas as pd\n",
    "import matplotlib.pyplot as plt\n",
    "import seaborn as sns\n",
    "from sklearn.linear_model import LinearRegression\n",
    "from sklearn.metrics import mean_squared_error\n",
    "from sklearn.model_selection import train_test_split"
   ]
  },
  {
   "cell_type": "code",
   "execution_count": 2,
   "metadata": {},
   "outputs": [],
   "source": [
    "dataset = pd.read_csv('./data/salary.csv', sep='|')\n",
    "trainData = pd.read_csv('./data/train.csv', sep='|')\n",
    "testData = pd.read_csv('./data/test.csv', sep='|')"
   ]
  },
  {
   "cell_type": "code",
   "execution_count": 3,
   "metadata": {},
   "outputs": [],
   "source": [
    "dataset = dataset.drop(labels=[\"salary_currency\", \"job_benefits\", \"job_function\", \"company_industry\", \"job_description\",\n",
    "\"company_process_time\", \"company_size\"], axis=1)\n",
    "dataset.dropna(inplace=True)"
   ]
  },
  {
   "cell_type": "code",
   "execution_count": 4,
   "metadata": {},
   "outputs": [
    {
     "data": {
      "text/plain": [
       "id                  0\n",
       "job_title           0\n",
       "location            0\n",
       "career_level        0\n",
       "experience_level    0\n",
       "education_level     0\n",
       "employment_type     0\n",
       "salary              0\n",
       "dtype: int64"
      ]
     },
     "execution_count": 4,
     "metadata": {},
     "output_type": "execute_result"
    }
   ],
   "source": [
    "dataset.isnull().sum()"
   ]
  },
  {
   "cell_type": "code",
   "execution_count": 5,
   "metadata": {},
   "outputs": [
    {
     "data": {
      "text/html": [
       "<div>\n",
       "<style scoped>\n",
       "    .dataframe tbody tr th:only-of-type {\n",
       "        vertical-align: middle;\n",
       "    }\n",
       "\n",
       "    .dataframe tbody tr th {\n",
       "        vertical-align: top;\n",
       "    }\n",
       "\n",
       "    .dataframe thead th {\n",
       "        text-align: right;\n",
       "    }\n",
       "</style>\n",
       "<table border=\"1\" class=\"dataframe\">\n",
       "  <thead>\n",
       "    <tr style=\"text-align: right;\">\n",
       "      <th></th>\n",
       "      <th>id</th>\n",
       "      <th>job_title</th>\n",
       "      <th>location</th>\n",
       "      <th>career_level</th>\n",
       "      <th>experience_level</th>\n",
       "      <th>education_level</th>\n",
       "      <th>employment_type</th>\n",
       "      <th>salary</th>\n",
       "      <th>years_experience</th>\n",
       "    </tr>\n",
       "  </thead>\n",
       "  <tbody>\n",
       "    <tr>\n",
       "      <th>0</th>\n",
       "      <td>10</td>\n",
       "      <td>Tax Supervisor</td>\n",
       "      <td>Banten</td>\n",
       "      <td>Supervisor/Koordinator</td>\n",
       "      <td>3 tahun</td>\n",
       "      <td>Sertifikat Professional, D3 (Diploma), D4 (Dip...</td>\n",
       "      <td>Penuh Waktu</td>\n",
       "      <td>8000000</td>\n",
       "      <td>3</td>\n",
       "    </tr>\n",
       "    <tr>\n",
       "      <th>1</th>\n",
       "      <td>19</td>\n",
       "      <td>Accounting Staff</td>\n",
       "      <td>Jakarta Pusat</td>\n",
       "      <td>Pegawai (non-manajemen &amp; non-supervisor)</td>\n",
       "      <td>1 tahun</td>\n",
       "      <td>SMA, SMU/SMK/STM, Sertifikat Professional, D3 ...</td>\n",
       "      <td>Penuh Waktu</td>\n",
       "      <td>4750000</td>\n",
       "      <td>1</td>\n",
       "    </tr>\n",
       "    <tr>\n",
       "      <th>2</th>\n",
       "      <td>23</td>\n",
       "      <td>Senior Staff Purchasing</td>\n",
       "      <td>Surabaya</td>\n",
       "      <td>Pegawai (non-manajemen &amp; non-supervisor)</td>\n",
       "      <td>2 tahun</td>\n",
       "      <td>Sertifikat Professional, D3 (Diploma), D4 (Dip...</td>\n",
       "      <td>Penuh Waktu</td>\n",
       "      <td>5250000</td>\n",
       "      <td>2</td>\n",
       "    </tr>\n",
       "    <tr>\n",
       "      <th>3</th>\n",
       "      <td>27</td>\n",
       "      <td>MARKETING COMMUNICATION &amp; CHANNEL MANAGER</td>\n",
       "      <td>Jakarta Pusat</td>\n",
       "      <td>Manajer/Asisten Manajer</td>\n",
       "      <td>2 tahun</td>\n",
       "      <td>Tidak terspesifikasi</td>\n",
       "      <td>Penuh Waktu</td>\n",
       "      <td>15000000</td>\n",
       "      <td>2</td>\n",
       "    </tr>\n",
       "    <tr>\n",
       "      <th>4</th>\n",
       "      <td>29</td>\n",
       "      <td>Mechanic</td>\n",
       "      <td>Papua</td>\n",
       "      <td>Pegawai (non-manajemen &amp; non-supervisor)</td>\n",
       "      <td>1 tahun</td>\n",
       "      <td>Tidak terspesifikasi</td>\n",
       "      <td>Penuh Waktu</td>\n",
       "      <td>5040000</td>\n",
       "      <td>1</td>\n",
       "    </tr>\n",
       "  </tbody>\n",
       "</table>\n",
       "</div>"
      ],
      "text/plain": [
       "   id                                  job_title       location  \\\n",
       "0  10                             Tax Supervisor         Banten   \n",
       "1  19                           Accounting Staff  Jakarta Pusat   \n",
       "2  23                    Senior Staff Purchasing       Surabaya   \n",
       "3  27  MARKETING COMMUNICATION & CHANNEL MANAGER  Jakarta Pusat   \n",
       "4  29                                   Mechanic          Papua   \n",
       "\n",
       "                               career_level experience_level  \\\n",
       "0                    Supervisor/Koordinator          3 tahun   \n",
       "1  Pegawai (non-manajemen & non-supervisor)          1 tahun   \n",
       "2  Pegawai (non-manajemen & non-supervisor)          2 tahun   \n",
       "3                   Manajer/Asisten Manajer          2 tahun   \n",
       "4  Pegawai (non-manajemen & non-supervisor)          1 tahun   \n",
       "\n",
       "                                     education_level employment_type  \\\n",
       "0  Sertifikat Professional, D3 (Diploma), D4 (Dip...     Penuh Waktu   \n",
       "1  SMA, SMU/SMK/STM, Sertifikat Professional, D3 ...     Penuh Waktu   \n",
       "2  Sertifikat Professional, D3 (Diploma), D4 (Dip...     Penuh Waktu   \n",
       "3                               Tidak terspesifikasi     Penuh Waktu   \n",
       "4                               Tidak terspesifikasi     Penuh Waktu   \n",
       "\n",
       "     salary  years_experience  \n",
       "0   8000000                 3  \n",
       "1   4750000                 1  \n",
       "2   5250000                 2  \n",
       "3  15000000                 2  \n",
       "4   5040000                 1  "
      ]
     },
     "execution_count": 5,
     "metadata": {},
     "output_type": "execute_result"
    }
   ],
   "source": [
    "dataset[\"years_experience\"] = dataset[\"experience_level\"]\n",
    "dataset[\"years_experience\"] = dataset[\"years_experience\"].str.replace(\"\\D\", \"\").fillna(0).astype('int')\n",
    "dataset[\"salary\"] = dataset[\"salary\"].astype('int')\n",
    "dataset.reset_index(drop=True, inplace=True)\n",
    "dataset.head(5)"
   ]
  },
  {
   "cell_type": "code",
   "execution_count": 14,
   "metadata": {},
   "outputs": [
    {
     "data": {
      "text/plain": [
       "years_experience\n",
       "1      5756594\n",
       "2      6127222\n",
       "3      8628338\n",
       "4     10299937\n",
       "5     12183791\n",
       "6     15600000\n",
       "7     14263461\n",
       "8     19795109\n",
       "10    28079616\n",
       "11    14500000\n",
       "12    20187500\n",
       "15    34363636\n",
       "17     2160000\n",
       "20    36583333\n",
       "Name: salary, dtype: int32"
      ]
     },
     "execution_count": 14,
     "metadata": {},
     "output_type": "execute_result"
    }
   ],
   "source": [
    "dataset.groupby(by=\"years_experience\")[\"salary\"].mean().astype(\"int\")"
   ]
  },
  {
   "cell_type": "code",
   "execution_count": 7,
   "metadata": {},
   "outputs": [],
   "source": [
    "xYear = dataset.loc[:, [\"years_experience\"]].values\n",
    "ySal = dataset.loc[:, [\"salary\"]].values"
   ]
  },
  {
   "cell_type": "code",
   "execution_count": 8,
   "metadata": {},
   "outputs": [],
   "source": [
    "xTrain, xTest, yTrain, yTest = train_test_split(xYear, ySal)"
   ]
  },
  {
   "cell_type": "code",
   "execution_count": 9,
   "metadata": {},
   "outputs": [
    {
     "data": {
      "text/plain": [
       "array([[12462523.70471924],\n",
       "       [14408417.37631739],\n",
       "       [ 6624842.68992481],\n",
       "       ...,\n",
       "       [ 4678949.01832666],\n",
       "       [ 8570736.36152295],\n",
       "       [ 4678949.01832666]])"
      ]
     },
     "execution_count": 9,
     "metadata": {},
     "output_type": "execute_result"
    }
   ],
   "source": [
    "model = LinearRegression()\n",
    "model.fit(xTrain, yTrain)\n",
    "model.predict(xTest)"
   ]
  },
  {
   "cell_type": "code",
   "execution_count": 10,
   "metadata": {},
   "outputs": [
    {
     "data": {
      "image/png": "[encoded data removed]",
      "text/plain": [
       "<Figure size 720x360 with 1 Axes>"
      ]
     },
     "metadata": {
      "needs_background": "light"
     },
     "output_type": "display_data"
    }
   ],
   "source": [
    "plt.figure(figsize=(10, 5))\n",
    "plt.scatter(xTrain, yTrain, color = 'red')\n",
    "plt.plot(xTrain, model.predict(xTrain), color = 'blue')\n",
    "plt.title('Salary vs Experience (Training Set)')\n",
    "plt.xlabel('Years of Experience')\n",
    "plt.ylabel('Salary')\n",
    "plt.show()"
   ]
  },
  {
   "cell_type": "code",
   "execution_count": 11,
   "metadata": {},
   "outputs": [
    {
     "data": {
      "image/png": "[encoded data removed]",
      "text/plain": [
       "<Figure size 432x288 with 1 Axes>"
      ]
     },
     "metadata": {
      "needs_background": "light"
     },
     "output_type": "display_data"
    }
   ],
   "source": [
    "plt.scatter(xTest, yTest, color = 'red')\n",
    "plt.plot(xTrain, model.predict(xTrain), color = 'blue')\n",
    "plt.title('Salary vs Experience (Test set)')\n",
    "plt.xlabel('Years of Experience')\n",
    "plt.ylabel('Salary')\n",
    "plt.show()"
   ]
  },
  {
   "cell_type": "code",
   "execution_count": 12,
   "metadata": {},
   "outputs": [
    {
     "data": {
      "text/plain": [
       "array([[22191992.06270996]])"
      ]
     },
     "execution_count": 12,
     "metadata": {},
     "output_type": "execute_result"
    }
   ],
   "source": [
    "model.predict([[10]])"
   ]
  },
  {
   "cell_type": "code",
   "execution_count": 13,
   "metadata": {},
   "outputs": [
    {
     "data": {
      "text/plain": [
       "0.003786513669484237"
      ]
     },
     "execution_count": 13,
     "metadata": {},
     "output_type": "execute_result"
    }
   ],
   "source": [
    "model.score(xTest, yTest)"
   ]
  }
 ],
 "metadata": {
  "kernelspec": {
   "display_name": "Python 3.7.1 64-bit ('PYTHON_SERVER')",
   "language": "python",
   "name": "python3"
  },
  "language_info": {
   "codemirror_mode": {
    "name": "ipython",
    "version": 3
   },
   "file_extension": ".py",
   "mimetype": "text/x-python",
   "name": "python",
   "nbconvert_exporter": "python",
   "pygments_lexer": "ipython3",
   "version": "3.7.1"
  },
  "orig_nbformat": 4,
  "vscode": {
   "interpreter": {
    "hash": "7dd15e51a4470d085f7a243fb04650bc4fe166c7b9d4ae5b8d1a77af89f8b74e"
   }
  }
 },
 "nbformat": 4,
 "nbformat_minor": 2
}
