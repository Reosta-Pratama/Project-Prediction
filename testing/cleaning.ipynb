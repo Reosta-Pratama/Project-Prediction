{
 "cells": [
  {
   "cell_type": "markdown",
   "metadata": {},
   "source": [
    "**1. Read and import data**"
   ]
  },
  {
   "cell_type": "code",
   "execution_count": null,
   "metadata": {},
   "outputs": [],
   "source": [
    "import pandas as pd\n",
    "import matplotlib.pyplot as plt\n",
    "import seaborn as sns\n",
    "\n",
    "from sklearn.linear_model import LinearRegression\n",
    "from sklearn.model_selection import train_test_split"
   ]
  },
  {
   "cell_type": "code",
   "execution_count": null,
   "metadata": {},
   "outputs": [],
   "source": [
    "dataset = pd.read_csv('./data/salary.csv', sep='|')"
   ]
  },
  {
   "cell_type": "code",
   "execution_count": null,
   "metadata": {},
   "outputs": [],
   "source": [
    "dataset.head(2)"
   ]
  },
  {
   "cell_type": "markdown",
   "metadata": {},
   "source": [
    "**2. Cleaning the data**"
   ]
  },
  {
   "cell_type": "code",
   "execution_count": null,
   "metadata": {},
   "outputs": [],
   "source": [
    "dataset.info()"
   ]
  },
  {
   "cell_type": "code",
   "execution_count": null,
   "metadata": {},
   "outputs": [],
   "source": [
    "# Check null values\n",
    "dataset.isnull().sum()"
   ]
  },
  {
   "cell_type": "code",
   "execution_count": null,
   "metadata": {},
   "outputs": [],
   "source": [
    "# Remove Column \n",
    "dataset = dataset.drop(labels=[\"id\", \"salary_currency\", \"job_benefits\", \"job_function\", \"job_description\",\n",
    "\"company_process_time\", \"company_size\", \"company_industry\", \"employment_type\"], axis=1)"
   ]
  },
  {
   "cell_type": "markdown",
   "metadata": {},
   "source": [
    "Cleaning Salary"
   ]
  },
  {
   "cell_type": "code",
   "execution_count": null,
   "metadata": {},
   "outputs": [],
   "source": [
    "# job_title Lowercase\n",
    "dataset['job_title'] = dataset['job_title'].str.lower()"
   ]
  },
  {
   "cell_type": "code",
   "execution_count": null,
   "metadata": {},
   "outputs": [],
   "source": [
    "# Mengisi data salary yang nan atau null dengan median by job_title\n",
    "dataset['salary'].fillna(dataset.groupby(['job_title'])['salary'].transform('median'), inplace=True)\n",
    "\n",
    "# Mengisi data salary yang nan atau null dengan median by location\n",
    "# dataset['salary'].fillna(dataset.groupby(['location'])['salary'].transform('median'), inplace=True)\n",
    "\n",
    "# Drop salary nan atau null\n",
    "dataset.dropna(subset=['salary'], inplace=True)\n",
    "\n",
    "dataset['salary'] = dataset['salary'].round(0)"
   ]
  },
  {
   "cell_type": "markdown",
   "metadata": {},
   "source": [
    "Cleaning Experience Level"
   ]
  },
  {
   "cell_type": "code",
   "execution_count": null,
   "metadata": {},
   "outputs": [],
   "source": [
    "# Convert experience_level str => int\n",
    "dataset[\"experience_level\"] = dataset[\"experience_level\"].str.replace(\"\\D\", \"\").fillna(0).astype('float')"
   ]
  },
  {
   "cell_type": "code",
   "execution_count": null,
   "metadata": {},
   "outputs": [],
   "source": [
    "# Mengisi data experience_level yang 0 dengan median by job_title\n",
    "dataset['experience_level'].replace(to_replace=0, value=dataset.groupby('job_title')['experience_level'].transform('median'), inplace=True)"
   ]
  },
  {
   "cell_type": "code",
   "execution_count": null,
   "metadata": {},
   "outputs": [],
   "source": [
    "# Classification experience_level\n",
    "type_exp = []\n",
    "for i in dataset['experience_level']:\n",
    "    if i == 0:\n",
    "        type_exp.append('No Experience')\n",
    "    elif 1 <= i <= 4:\n",
    "        type_exp.append('1-4 Years')\n",
    "    elif 5 <= i <= 9:\n",
    "        type_exp.append('5-9 Years')\n",
    "    elif 10 <= i <= 14:\n",
    "        type_exp.append('10-14 Years') \n",
    "    elif 15 <= i <= 19:\n",
    "        type_exp.append('15-19 Years')            \n",
    "    else:\n",
    "        type_exp.append('20+ Years')\n",
    "dataset['type_of_experience'] = type_exp"
   ]
  },
  {
   "cell_type": "code",
   "execution_count": null,
   "metadata": {},
   "outputs": [],
   "source": [
    "dataset.shape"
   ]
  },
  {
   "cell_type": "code",
   "execution_count": null,
   "metadata": {},
   "outputs": [],
   "source": [
    "# Check null values\n",
    "dataset.isnull().sum()"
   ]
  },
  {
   "cell_type": "code",
   "execution_count": null,
   "metadata": {},
   "outputs": [],
   "source": [
    "dataset.reset_index(drop=True, inplace=True)\n",
    "dataset.head(5)"
   ]
  },
  {
   "cell_type": "code",
   "execution_count": null,
   "metadata": {},
   "outputs": [],
   "source": [
    "# Nampilin tipe kolom \"Object\" & \"Number\"\n",
    "objectType  = dataset.select_dtypes(['object']).columns\n",
    "numericType  = dataset.select_dtypes(['number']).columns\n",
    "print(objectType)\n",
    "print(numericType)"
   ]
  },
  {
   "cell_type": "code",
   "execution_count": null,
   "metadata": {},
   "outputs": [],
   "source": [
    "dataset[numericType].describe()"
   ]
  },
  {
   "cell_type": "markdown",
   "metadata": {},
   "source": [
    "**3. Discovering the data**"
   ]
  },
  {
   "cell_type": "code",
   "execution_count": null,
   "metadata": {},
   "outputs": [],
   "source": [
    "# Size grafik\n",
    "sns.set(rc={'figure.figsize':(10, 5)})"
   ]
  },
  {
   "cell_type": "markdown",
   "metadata": {},
   "source": [
    "**4. Predict the salary**"
   ]
  },
  {
   "cell_type": "markdown",
   "metadata": {},
   "source": [
    "Predict Salary Based on Experience"
   ]
  }
 ],
 "metadata": {
  "kernelspec": {
   "display_name": "Python 3.7.1 64-bit ('PYTHON_SERVER')",
   "language": "python",
   "name": "python3"
  },
  "language_info": {
   "codemirror_mode": {
    "name": "ipython",
    "version": 3
   },
   "file_extension": ".py",
   "mimetype": "text/x-python",
   "name": "python",
   "nbconvert_exporter": "python",
   "pygments_lexer": "ipython3",
   "version": "3.7.1"
  },
  "orig_nbformat": 4,
  "vscode": {
   "interpreter": {
    "hash": "7dd15e51a4470d085f7a243fb04650bc4fe166c7b9d4ae5b8d1a77af89f8b74e"
   }
  }
 },
 "nbformat": 4,
 "nbformat_minor": 2
}
