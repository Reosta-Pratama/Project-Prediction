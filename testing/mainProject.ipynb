{
 "cells": [
  {
   "cell_type": "markdown",
   "metadata": {},
   "source": [
    "# 1. Read and import data"
   ]
  },
  {
   "cell_type": "code",
   "execution_count": 1,
   "metadata": {},
   "outputs": [],
   "source": [
    "import numpy as np\n",
    "import pandas as pd\n",
    "\n",
    "import matplotlib.pyplot as plt\n",
    "import seaborn as sns\n",
    "\n",
    "import statsmodels.api as sm\n",
    "import statsmodels.formula.api as smf\n",
    "\n",
    "from sklearn.linear_model import LinearRegression\n",
    "from sklearn.ensemble import RandomForestRegressor\n",
    "from sklearn.model_selection import train_test_split\n",
    "from sklearn.metrics import mean_squared_error"
   ]
  },
  {
   "cell_type": "code",
   "execution_count": 2,
   "metadata": {},
   "outputs": [],
   "source": [
    "dataset = pd.read_csv('./data/salary.csv', sep='|')"
   ]
  },
  {
   "cell_type": "code",
   "execution_count": 3,
   "metadata": {},
   "outputs": [
    {
     "data": {
      "text/html": [
       "<div>\n",
       "<style scoped>\n",
       "    .dataframe tbody tr th:only-of-type {\n",
       "        vertical-align: middle;\n",
       "    }\n",
       "\n",
       "    .dataframe tbody tr th {\n",
       "        vertical-align: top;\n",
       "    }\n",
       "\n",
       "    .dataframe thead th {\n",
       "        text-align: right;\n",
       "    }\n",
       "</style>\n",
       "<table border=\"1\" class=\"dataframe\">\n",
       "  <thead>\n",
       "    <tr style=\"text-align: right;\">\n",
       "      <th></th>\n",
       "      <th>id</th>\n",
       "      <th>job_title</th>\n",
       "      <th>location</th>\n",
       "      <th>salary_currency</th>\n",
       "      <th>career_level</th>\n",
       "      <th>experience_level</th>\n",
       "      <th>education_level</th>\n",
       "      <th>employment_type</th>\n",
       "      <th>job_function</th>\n",
       "      <th>job_benefits</th>\n",
       "      <th>company_process_time</th>\n",
       "      <th>company_size</th>\n",
       "      <th>company_industry</th>\n",
       "      <th>job_description</th>\n",
       "      <th>salary</th>\n",
       "    </tr>\n",
       "  </thead>\n",
       "  <tbody>\n",
       "    <tr>\n",
       "      <th>0</th>\n",
       "      <td>1</td>\n",
       "      <td>Facility Maintenance &amp; Smart Warehouse Manager</td>\n",
       "      <td>Bandung</td>\n",
       "      <td>IDR</td>\n",
       "      <td>Manajer/Asisten Manajer</td>\n",
       "      <td>5 tahun</td>\n",
       "      <td>Sertifikat Professional, D3 (Diploma), D4 (Dip...</td>\n",
       "      <td>Penuh Waktu</td>\n",
       "      <td>Manufaktur,Pemeliharaan</td>\n",
       "      <td>NaN</td>\n",
       "      <td>NaN</td>\n",
       "      <td>NaN</td>\n",
       "      <td>NaN</td>\n",
       "      <td>Deskripsi PekerjaanRequirements :D3/SI from re...</td>\n",
       "      <td>NaN</td>\n",
       "    </tr>\n",
       "    <tr>\n",
       "      <th>1</th>\n",
       "      <td>2</td>\n",
       "      <td>Procurement Department Head</td>\n",
       "      <td>Jakarta Raya</td>\n",
       "      <td>IDR</td>\n",
       "      <td>Manajer/Asisten Manajer</td>\n",
       "      <td>5 tahun</td>\n",
       "      <td>Sarjana (S1), Diploma Pascasarjana, Gelar Prof...</td>\n",
       "      <td>Penuh Waktu</td>\n",
       "      <td>Manufaktur,Pembelian/Manajemen Material</td>\n",
       "      <td>NaN</td>\n",
       "      <td>25 days</td>\n",
       "      <td>51 - 200 pekerja</td>\n",
       "      <td>Manajemen/Konsulting HR</td>\n",
       "      <td>Job Role: 1. Responsible for material availabi...</td>\n",
       "      <td>NaN</td>\n",
       "    </tr>\n",
       "  </tbody>\n",
       "</table>\n",
       "</div>"
      ],
      "text/plain": [
       "   id                                       job_title      location  \\\n",
       "0   1  Facility Maintenance & Smart Warehouse Manager       Bandung   \n",
       "1   2                     Procurement Department Head  Jakarta Raya   \n",
       "\n",
       "  salary_currency             career_level experience_level  \\\n",
       "0             IDR  Manajer/Asisten Manajer          5 tahun   \n",
       "1             IDR  Manajer/Asisten Manajer          5 tahun   \n",
       "\n",
       "                                     education_level employment_type  \\\n",
       "0  Sertifikat Professional, D3 (Diploma), D4 (Dip...     Penuh Waktu   \n",
       "1  Sarjana (S1), Diploma Pascasarjana, Gelar Prof...     Penuh Waktu   \n",
       "\n",
       "                              job_function job_benefits company_process_time  \\\n",
       "0                  Manufaktur,Pemeliharaan          NaN                  NaN   \n",
       "1  Manufaktur,Pembelian/Manajemen Material          NaN              25 days   \n",
       "\n",
       "       company_size         company_industry  \\\n",
       "0               NaN                      NaN   \n",
       "1  51 - 200 pekerja  Manajemen/Konsulting HR   \n",
       "\n",
       "                                     job_description  salary  \n",
       "0  Deskripsi PekerjaanRequirements :D3/SI from re...     NaN  \n",
       "1  Job Role: 1. Responsible for material availabi...     NaN  "
      ]
     },
     "execution_count": 3,
     "metadata": {},
     "output_type": "execute_result"
    }
   ],
   "source": [
    "dataset.head(2)"
   ]
  },
  {
   "cell_type": "markdown",
   "metadata": {},
   "source": [
    "# 2. Cleaning the data"
   ]
  },
  {
   "cell_type": "code",
   "execution_count": 4,
   "metadata": {},
   "outputs": [
    {
     "name": "stdout",
     "output_type": "stream",
     "text": [
      "<class 'pandas.core.frame.DataFrame'>\n",
      "RangeIndex: 34746 entries, 0 to 34745\n",
      "Data columns (total 15 columns):\n",
      "id                      34746 non-null int64\n",
      "job_title               34746 non-null object\n",
      "location                34746 non-null object\n",
      "salary_currency         34742 non-null object\n",
      "career_level            34746 non-null object\n",
      "experience_level        30205 non-null object\n",
      "education_level         34746 non-null object\n",
      "employment_type         33402 non-null object\n",
      "job_function            34746 non-null object\n",
      "job_benefits            27330 non-null object\n",
      "company_process_time    24555 non-null object\n",
      "company_size            29103 non-null object\n",
      "company_industry        33132 non-null object\n",
      "job_description         34745 non-null object\n",
      "salary                  9352 non-null float64\n",
      "dtypes: float64(1), int64(1), object(13)\n",
      "memory usage: 4.0+ MB\n"
     ]
    }
   ],
   "source": [
    "dataset.info()"
   ]
  },
  {
   "cell_type": "code",
   "execution_count": 5,
   "metadata": {},
   "outputs": [
    {
     "data": {
      "text/plain": [
       "id                          0\n",
       "job_title                   0\n",
       "location                    0\n",
       "salary_currency             4\n",
       "career_level                0\n",
       "experience_level         4541\n",
       "education_level             0\n",
       "employment_type          1344\n",
       "job_function                0\n",
       "job_benefits             7416\n",
       "company_process_time    10191\n",
       "company_size             5643\n",
       "company_industry         1614\n",
       "job_description             1\n",
       "salary                  25394\n",
       "dtype: int64"
      ]
     },
     "execution_count": 5,
     "metadata": {},
     "output_type": "execute_result"
    }
   ],
   "source": [
    "# Check null values\n",
    "dataset.isnull().sum()"
   ]
  },
  {
   "cell_type": "markdown",
   "metadata": {},
   "source": [
    "**Drop kolom yang tidak diperlukan**"
   ]
  },
  {
   "cell_type": "code",
   "execution_count": 6,
   "metadata": {},
   "outputs": [],
   "source": [
    "# Remove Column \n",
    "dataset = dataset.drop(labels=[\"id\", \"salary_currency\", \"job_benefits\", \"job_function\", \"job_description\",\n",
    "\"company_process_time\", \"company_size\", \"company_industry\", \"employment_type\", \"location\"], axis=1)"
   ]
  },
  {
   "cell_type": "markdown",
   "metadata": {},
   "source": [
    "**Mengisi Missing Value Salary**"
   ]
  },
  {
   "cell_type": "code",
   "execution_count": 7,
   "metadata": {},
   "outputs": [],
   "source": [
    "# Mengisi data salary yang nan atau null dengan median\n",
    "dataset['salary'].fillna(dataset.groupby([\"experience_level\"])['salary'].transform('median'), inplace=True)\n",
    "dataset['salary'] = dataset['salary'].round(0)"
   ]
  },
  {
   "cell_type": "markdown",
   "metadata": {},
   "source": [
    "**Mengisi Missing Value Experience Level**"
   ]
  },
  {
   "cell_type": "code",
   "execution_count": 8,
   "metadata": {},
   "outputs": [],
   "source": [
    "# Convert experience_level str => float\n",
    "dataset[\"experience_level\"] = dataset[\"experience_level\"].str.replace(\"\\D\", \"\").fillna(0).astype('float')\n",
    "\n",
    "# Mengisi data experience_level yang 0 dengan median\n",
    "dataset['experience_level'].replace(to_replace=0, value=dataset.groupby([\"job_title\"])['experience_level'].transform('median'), inplace=True)"
   ]
  },
  {
   "cell_type": "markdown",
   "metadata": {},
   "source": [
    "**Mapping Education Level**"
   ]
  },
  {
   "cell_type": "code",
   "execution_count": 9,
   "metadata": {},
   "outputs": [],
   "source": [
    "# edu = []\n",
    "# for i in dataset['education_level']:\n",
    "#     if i == \"Sertifikat Professional, D3 (Diploma), D4 (Diploma), Sarjana (S1)\":\n",
    "#         edu.append('D3 - S2')\n",
    "#     elif i == \"Sarjana (S1), Diploma Pascasarjana, Gelar Professional, Magister (S2)\":\n",
    "#         edu.append(\"S1 - S2\")\n",
    "#     elif i == \"Sarjana (S1)\":\n",
    "#         edu.append(\"S1\")     \n",
    "#     elif i == \"SMA, SMU/SMK/STM\":\n",
    "#         edu.append(\"SMA/SMU\")      \n",
    "#     elif i == \"SMA, SMU/SMK/STM, Sertifikat Professional, D3 (Diploma), D4 (Diploma), Sarjana (S1)\":\n",
    "#         edu.append(\"SMA/SMU - S1\")  \n",
    "#     elif i == \"SMA, SMU/SMK/STM, Sertifikat Professional, D3 (Diploma), D4 (Diploma)\":\n",
    "#         edu.append(\"SMA/SMU - S1\")\n",
    "#     elif i == \"Sertifikat Professional, D3 (Diploma), D4 (Diploma), Sarjana (S1), Diploma Pascasarjana, Gelar Professional, Magister (S2)\":\n",
    "#         edu.append(\"D3 - S2\") \n",
    "#     elif i == \"Sertifikat Professional, D3 (Diploma), D4 (Diploma)\":\n",
    "#         edu.append(\"D3 - S1\") \n",
    "#     elif i == \"SMA, SMU/SMK/STM, Sarjana (S1)\":\n",
    "#         edu.append(\"SMA/SMU - S1\") \n",
    "#     elif i == \"Sarjana (S1), Diploma Pascasarjana, Gelar Professional, Magister (S2), Doktor (S3)\":\n",
    "#         edu.append(\"S1 - S3\")   \n",
    "#     elif i == \"Diploma Pascasarjana, Gelar Professional, Magister (S2)\":\n",
    "#         edu.append(\"S1 - S2\")  \n",
    "#     elif i == \"Sarjana (S1), Doktor (S3)\":\n",
    "#         edu.append(\"S1 - S3\")  \n",
    "#     elif i == \"Sertifikat Professional, D3 (Diploma), D4 (Diploma), Diploma Pascasarjana, Gelar Professional, Magister (S2)\":\n",
    "#         edu.append(\"D3 - S2\")         \n",
    "#     elif i == \"Diploma Pascasarjana, Gelar Professional, Magister (S2), Doktor (S3)\":\n",
    "#         edu.append(\"S1 - S2\")   \n",
    "#     elif i == \"Doktor (S3)\":\n",
    "#         edu.append(\"S3\")     \n",
    "#     elif i == \"SMA, SMU/SMK/STM, Sertifikat Professional, D3 (Diploma), D4 (Diploma), Diploma Pascasarjana, Gelar Professional, Magister (S2)\":\n",
    "#         edu.append(\"SMA/SMU - S2\")  \n",
    "#     elif i == \"SMA, SMU/SMK/STM, Sarjana (S1), Diploma Pascasarjana, Gelar Professional, Magister (S2)\":\n",
    "#         edu.append(\"SMA/SMU - S2\")\n",
    "#     elif i == \"SMA, SMU/SMK/STM, Sarjana (S1), Doktor (S3)\":\n",
    "#         edu.append(\"S1 - S3\")                                                                                                                                                                                         \n",
    "#     else:\n",
    "#         edu.append('Tidak terspesifikasi')\n",
    "# dataset['education_level'] = edu"
   ]
  },
  {
   "cell_type": "markdown",
   "metadata": {},
   "source": [
    "**Cek Duplikasi Data**"
   ]
  },
  {
   "cell_type": "code",
   "execution_count": 10,
   "metadata": {},
   "outputs": [
    {
     "name": "stdout",
     "output_type": "stream",
     "text": [
      "Duplikasi Sebelum Di Drop:  6976\n",
      "Duplikasi Setelah Di Drop:  0\n"
     ]
    }
   ],
   "source": [
    "print(\"Duplikasi Sebelum Di Drop: \", dataset.duplicated().sum())\n",
    "dataset.drop_duplicates(keep='first', inplace=True)\n",
    "print(\"Duplikasi Setelah Di Drop: \", dataset.duplicated().sum())"
   ]
  },
  {
   "cell_type": "markdown",
   "metadata": {},
   "source": [
    "**Outlier**"
   ]
  },
  {
   "cell_type": "code",
   "execution_count": 11,
   "metadata": {},
   "outputs": [],
   "source": [
    "dataset.dropna(inplace=True)"
   ]
  },
  {
   "cell_type": "code",
   "execution_count": 12,
   "metadata": {},
   "outputs": [
    {
     "data": {
      "image/png": "[encoded data removed]",
      "text/plain": [
       "<Figure size 432x288 with 1 Axes>"
      ]
     },
     "metadata": {
      "needs_background": "light"
     },
     "output_type": "display_data"
    }
   ],
   "source": [
    "# Experience\n",
    "per25Exp = dataset['experience_level'].quantile(0.25)\n",
    "per75Exp = dataset['experience_level'].quantile(0.75)\n",
    "iqrExp = per75Exp - per25Exp\n",
    "\n",
    "lower_limit = per25Exp - 1.5 * iqrExp\n",
    "upper_limit = per75Exp + 1.5 * iqrExp\n",
    "\n",
    "dataset = dataset[~((dataset[\"experience_level\"] < (lower_limit)) | (dataset[\"experience_level\"] > (upper_limit)))]\n",
    "\n",
    "sns.boxplot(dataset[\"experience_level\"])\n",
    "plt.show()"
   ]
  },
  {
   "cell_type": "code",
   "execution_count": 13,
   "metadata": {},
   "outputs": [
    {
     "data": {
      "image/png": "[encoded data removed]",
      "text/plain": [
       "<Figure size 432x288 with 1 Axes>"
      ]
     },
     "metadata": {
      "needs_background": "light"
     },
     "output_type": "display_data"
    }
   ],
   "source": [
    "# Salary\n",
    "per25Salary = dataset['salary'].quantile(0.25)\n",
    "per75Salary = dataset['salary'].quantile(0.75)\n",
    "iqrSalary = per75Salary - per25Salary\n",
    "\n",
    "lower_limit = per25Salary - 1.5 * iqrSalary\n",
    "upper_limit = per75Salary + 1.5 * iqrSalary\n",
    "\n",
    "dataset = dataset[~((dataset[\"salary\"] < (lower_limit)) | (dataset[\"salary\"] > (upper_limit)))]\n",
    "\n",
    "sns.boxplot(dataset[\"salary\"])\n",
    "plt.show()"
   ]
  },
  {
   "cell_type": "markdown",
   "metadata": {},
   "source": [
    "Result Cleaning"
   ]
  },
  {
   "cell_type": "code",
   "execution_count": 14,
   "metadata": {},
   "outputs": [
    {
     "data": {
      "text/plain": [
       "(22631, 5)"
      ]
     },
     "execution_count": 14,
     "metadata": {},
     "output_type": "execute_result"
    }
   ],
   "source": [
    "dataset.shape"
   ]
  },
  {
   "cell_type": "code",
   "execution_count": 15,
   "metadata": {},
   "outputs": [
    {
     "name": "stdout",
     "output_type": "stream",
     "text": [
      "<class 'pandas.core.frame.DataFrame'>\n",
      "Int64Index: 22631 entries, 0 to 34745\n",
      "Data columns (total 5 columns):\n",
      "job_title           22631 non-null object\n",
      "career_level        22631 non-null object\n",
      "experience_level    22631 non-null float64\n",
      "education_level     22631 non-null object\n",
      "salary              22631 non-null float64\n",
      "dtypes: float64(2), object(3)\n",
      "memory usage: 1.0+ MB\n"
     ]
    }
   ],
   "source": [
    "dataset.info()"
   ]
  },
  {
   "cell_type": "code",
   "execution_count": 16,
   "metadata": {},
   "outputs": [
    {
     "data": {
      "text/plain": [
       "job_title           0\n",
       "career_level        0\n",
       "experience_level    0\n",
       "education_level     0\n",
       "salary              0\n",
       "dtype: int64"
      ]
     },
     "execution_count": 16,
     "metadata": {},
     "output_type": "execute_result"
    }
   ],
   "source": [
    "# Check null values\n",
    "dataset.isnull().sum()"
   ]
  },
  {
   "cell_type": "code",
   "execution_count": 17,
   "metadata": {},
   "outputs": [
    {
     "data": {
      "text/html": [
       "<div>\n",
       "<style scoped>\n",
       "    .dataframe tbody tr th:only-of-type {\n",
       "        vertical-align: middle;\n",
       "    }\n",
       "\n",
       "    .dataframe tbody tr th {\n",
       "        vertical-align: top;\n",
       "    }\n",
       "\n",
       "    .dataframe thead th {\n",
       "        text-align: right;\n",
       "    }\n",
       "</style>\n",
       "<table border=\"1\" class=\"dataframe\">\n",
       "  <thead>\n",
       "    <tr style=\"text-align: right;\">\n",
       "      <th></th>\n",
       "      <th>experience_level</th>\n",
       "      <th>salary</th>\n",
       "    </tr>\n",
       "  </thead>\n",
       "  <tbody>\n",
       "    <tr>\n",
       "      <th>count</th>\n",
       "      <td>22631.000000</td>\n",
       "      <td>2.263100e+04</td>\n",
       "    </tr>\n",
       "    <tr>\n",
       "      <th>mean</th>\n",
       "      <td>2.180195</td>\n",
       "      <td>6.045104e+06</td>\n",
       "    </tr>\n",
       "    <tr>\n",
       "      <th>std</th>\n",
       "      <td>1.287327</td>\n",
       "      <td>1.963279e+06</td>\n",
       "    </tr>\n",
       "    <tr>\n",
       "      <th>min</th>\n",
       "      <td>0.000000</td>\n",
       "      <td>9.600000e+05</td>\n",
       "    </tr>\n",
       "    <tr>\n",
       "      <th>25%</th>\n",
       "      <td>1.000000</td>\n",
       "      <td>4.700000e+06</td>\n",
       "    </tr>\n",
       "    <tr>\n",
       "      <th>50%</th>\n",
       "      <td>2.000000</td>\n",
       "      <td>5.500000e+06</td>\n",
       "    </tr>\n",
       "    <tr>\n",
       "      <th>75%</th>\n",
       "      <td>3.000000</td>\n",
       "      <td>7.200000e+06</td>\n",
       "    </tr>\n",
       "    <tr>\n",
       "      <th>max</th>\n",
       "      <td>6.000000</td>\n",
       "      <td>1.080000e+07</td>\n",
       "    </tr>\n",
       "  </tbody>\n",
       "</table>\n",
       "</div>"
      ],
      "text/plain": [
       "       experience_level        salary\n",
       "count      22631.000000  2.263100e+04\n",
       "mean           2.180195  6.045104e+06\n",
       "std            1.287327  1.963279e+06\n",
       "min            0.000000  9.600000e+05\n",
       "25%            1.000000  4.700000e+06\n",
       "50%            2.000000  5.500000e+06\n",
       "75%            3.000000  7.200000e+06\n",
       "max            6.000000  1.080000e+07"
      ]
     },
     "execution_count": 17,
     "metadata": {},
     "output_type": "execute_result"
    }
   ],
   "source": [
    "dataset.describe()"
   ]
  },
  {
   "cell_type": "markdown",
   "metadata": {},
   "source": [
    "# Data Preprocessing"
   ]
  },
  {
   "cell_type": "code",
   "execution_count": 18,
   "metadata": {},
   "outputs": [],
   "source": [
    "X = pd.DataFrame(dataset, columns=[\"career_level\", \"experience_level\", \"education_level\"])\n",
    "Y = pd.DataFrame(dataset, columns=[\"salary\"])"
   ]
  },
  {
   "cell_type": "markdown",
   "metadata": {},
   "source": [
    "Metode OLS"
   ]
  },
  {
   "cell_type": "code",
   "execution_count": 19,
   "metadata": {},
   "outputs": [
    {
     "name": "stdout",
     "output_type": "stream",
     "text": [
      "                            OLS Regression Results                            \n",
      "==============================================================================\n",
      "Dep. Variable:                 salary   R-squared:                       0.712\n",
      "Model:                            OLS   Adj. R-squared:                  0.712\n",
      "Method:                 Least Squares   F-statistic:                     2329.\n",
      "Date:                Fri, 09 Jun 2023   Prob (F-statistic):               0.00\n",
      "Time:                        17:11:20   Log-Likelihood:            -3.4595e+05\n",
      "No. Observations:               22631   AIC:                         6.920e+05\n",
      "Df Residuals:                   22606   BIC:                         6.922e+05\n",
      "Df Model:                          24                                         \n",
      "Covariance Type:            nonrobust                                         \n",
      "=====================================================================================================================================================================================================================\n",
      "                                                                                                                                                        coef    std err          t      P>|t|      [0.025      0.975]\n",
      "---------------------------------------------------------------------------------------------------------------------------------------------------------------------------------------------------------------------\n",
      "Intercept                                                                                                                                          4.127e+06   1.53e+05     27.028      0.000    3.83e+06    4.43e+06\n",
      "career_level[T.Lulusan baru/Pengalaman kerja kurang dari 1 tahun]                                                                                  -5.08e+05   1.01e+05     -5.013      0.000   -7.07e+05   -3.09e+05\n",
      "career_level[T.Manajer/Asisten Manajer]                                                                                                           -8.536e+04    9.4e+04     -0.908      0.364    -2.7e+05    9.89e+04\n",
      "career_level[T.Pegawai (non-manajemen & non-supervisor)]                                                                                          -6.026e+05   9.37e+04     -6.434      0.000   -7.86e+05   -4.19e+05\n",
      "career_level[T.Supervisor/Koordinator]                                                                                                            -4.413e+05   9.35e+04     -4.720      0.000   -6.25e+05   -2.58e+05\n",
      "education_level[T.Diploma Pascasarjana, Gelar Professional, Magister (S2), Doktor (S3)]                                                            1.244e+05   2.35e+05      0.529      0.597   -3.36e+05    5.85e+05\n",
      "education_level[T.Doktor (S3)]                                                                                                                     6.233e+05   3.73e+05      1.672      0.095   -1.07e+05    1.35e+06\n",
      "education_level[T.SMA, SMU/SMK/STM]                                                                                                                -5.29e+05   1.28e+05     -4.127      0.000    -7.8e+05   -2.78e+05\n",
      "education_level[T.SMA, SMU/SMK/STM, Sarjana (S1)]                                                                                                 -4.101e+05   1.59e+05     -2.578      0.010   -7.22e+05   -9.83e+04\n",
      "education_level[T.SMA, SMU/SMK/STM, Sarjana (S1), Diploma Pascasarjana, Gelar Professional, Magister (S2)]                                        -2.478e+05   3.73e+05     -0.665      0.506   -9.79e+05    4.83e+05\n",
      "education_level[T.SMA, SMU/SMK/STM, Sarjana (S1), Doktor (S3)]                                                                                     9993.1173   1.06e+06      0.009      0.992   -2.07e+06    2.09e+06\n",
      "education_level[T.SMA, SMU/SMK/STM, Sertifikat Professional, D3 (Diploma), D4 (Diploma)]                                                          -4.001e+05   1.32e+05     -3.022      0.003    -6.6e+05   -1.41e+05\n",
      "education_level[T.SMA, SMU/SMK/STM, Sertifikat Professional, D3 (Diploma), D4 (Diploma), Diploma Pascasarjana, Gelar Professional, Magister (S2)] -1.081e+05   4.48e+05     -0.241      0.809   -9.86e+05     7.7e+05\n",
      "education_level[T.SMA, SMU/SMK/STM, Sertifikat Professional, D3 (Diploma), D4 (Diploma), Sarjana (S1)]                                            -2.931e+05   1.27e+05     -2.306      0.021   -5.42e+05    -4.4e+04\n",
      "education_level[T.Sarjana (S1)]                                                                                                                    2.404e+04   1.25e+05      0.192      0.848   -2.21e+05    2.69e+05\n",
      "education_level[T.Sarjana (S1), Diploma Pascasarjana, Gelar Professional, Magister (S2)]                                                           1.165e+05   1.27e+05      0.915      0.360   -1.33e+05    3.66e+05\n",
      "education_level[T.Sarjana (S1), Diploma Pascasarjana, Gelar Professional, Magister (S2), Doktor (S3)]                                               2.94e+05   1.88e+05      1.565      0.118   -7.43e+04    6.62e+05\n",
      "education_level[T.Sarjana (S1), Doktor (S3)]                                                                                                       6186.6763   5.42e+05      0.011      0.991   -1.06e+06    1.07e+06\n",
      "education_level[T.Sertifikat Professional, D3 (Diploma), D4 (Diploma)]                                                                            -3.048e+05   1.28e+05     -2.377      0.017   -5.56e+05   -5.35e+04\n",
      "education_level[T.Sertifikat Professional, D3 (Diploma), D4 (Diploma), Diploma Pascasarjana, Gelar Professional, Magister (S2)]                    4.012e+05   2.84e+05      1.410      0.158   -1.56e+05    9.59e+05\n",
      "education_level[T.Sertifikat Professional, D3 (Diploma), D4 (Diploma), Sarjana (S1)]                                                              -1.803e+05   1.26e+05     -1.435      0.151   -4.27e+05     6.6e+04\n",
      "education_level[T.Sertifikat Professional, D3 (Diploma), D4 (Diploma), Sarjana (S1), Diploma Pascasarjana, Gelar Professional, Magister (S2)]      2.033e+05   1.32e+05      1.542      0.123    -5.5e+04    4.62e+05\n",
      "education_level[T.Sertifikat Professional, D3 (Diploma), D4 (Diploma), Sarjana (S1), Doktor (S3)]                                                  1.547e+05   7.56e+05      0.205      0.838   -1.33e+06    1.64e+06\n",
      "education_level[T.Tidak terspesifikasi]                                                                                                           -2.007e+05   1.26e+05     -1.593      0.111   -4.48e+05    4.63e+04\n",
      "experience_level                                                                                                                                   1.166e+06   6673.147    174.729      0.000    1.15e+06    1.18e+06\n",
      "==============================================================================\n",
      "Omnibus:                     2899.767   Durbin-Watson:                   1.959\n",
      "Prob(Omnibus):                  0.000   Jarque-Bera (JB):            34482.119\n",
      "Skew:                           0.104   Prob(JB):                         0.00\n",
      "Kurtosis:                       9.044   Cond. No.                         421.\n",
      "==============================================================================\n",
      "\n",
      "Warnings:\n",
      "[1] Standard Errors assume that the covariance matrix of the errors is correctly specified.\n"
     ]
    }
   ],
   "source": [
    "modelOLS = smf.ols(\"salary~career_level + experience_level + education_level\", data=dataset).fit()\n",
    "print(modelOLS.summary())"
   ]
  },
  {
   "cell_type": "code",
   "execution_count": 20,
   "metadata": {},
   "outputs": [
    {
     "data": {
      "text/plain": [
       "0    9.690896e+06\n",
       "1    9.987757e+06\n",
       "2    8.373312e+06\n",
       "3    9.631795e+06\n",
       "4    5.675670e+06\n",
       "dtype: float64"
      ]
     },
     "execution_count": 20,
     "metadata": {},
     "output_type": "execute_result"
    }
   ],
   "source": [
    "yPredOLS = modelOLS.predict(X)\n",
    "yPredOLS.head()"
   ]
  },
  {
   "cell_type": "code",
   "execution_count": 21,
   "metadata": {},
   "outputs": [
    {
     "data": {
      "text/plain": [
       "1109883393784.7217"
      ]
     },
     "execution_count": 21,
     "metadata": {},
     "output_type": "execute_result"
    }
   ],
   "source": [
    "mean_squared_error(Y, yPredOLS)"
   ]
  },
  {
   "cell_type": "markdown",
   "metadata": {},
   "source": [
    "Metode Robust Reggression"
   ]
  },
  {
   "cell_type": "code",
   "execution_count": 22,
   "metadata": {},
   "outputs": [
    {
     "name": "stdout",
     "output_type": "stream",
     "text": [
      "                    Robust linear Model Regression Results                    \n",
      "==============================================================================\n",
      "Dep. Variable:                 salary   No. Observations:                22631\n",
      "Model:                            RLM   Df Residuals:                    22606\n",
      "Method:                          IRLS   Df Model:                           24\n",
      "Norm:                          HuberT                                         \n",
      "Scale Est.:                       mad                                         \n",
      "Cov Type:                          H1                                         \n",
      "Date:                Fri, 09 Jun 2023                                         \n",
      "Time:                        17:11:22                                         \n",
      "No. Iterations:                     5                                         \n",
      "=====================================================================================================================================================================================================================\n",
      "                                                                                                                                                        coef    std err          z      P>|z|      [0.025      0.975]\n",
      "---------------------------------------------------------------------------------------------------------------------------------------------------------------------------------------------------------------------\n",
      "Intercept                                                                                                                                          3.461e+06   7.27e+04     47.604      0.000    3.32e+06     3.6e+06\n",
      "career_level[T.Lulusan baru/Pengalaman kerja kurang dari 1 tahun]                                                                                 -1.546e+05   4.83e+04     -3.204      0.001   -2.49e+05      -6e+04\n",
      "career_level[T.Manajer/Asisten Manajer]                                                                                                           -8.695e+04   4.48e+04     -1.943      0.052   -1.75e+05     771.158\n",
      "career_level[T.Pegawai (non-manajemen & non-supervisor)]                                                                                          -2.763e+05   4.46e+04     -6.195      0.000   -3.64e+05   -1.89e+05\n",
      "career_level[T.Supervisor/Koordinator]                                                                                                             -2.85e+05   4.45e+04     -6.401      0.000   -3.72e+05   -1.98e+05\n",
      "education_level[T.Diploma Pascasarjana, Gelar Professional, Magister (S2), Doktor (S3)]                                                            2.339e+04   1.12e+05      0.209      0.834   -1.96e+05    2.43e+05\n",
      "education_level[T.Doktor (S3)]                                                                                                                     2.382e+05   1.78e+05      1.342      0.180    -1.1e+05    5.86e+05\n",
      "education_level[T.SMA, SMU/SMK/STM]                                                                                                               -1.787e+05    6.1e+04     -2.928      0.003   -2.98e+05   -5.91e+04\n",
      "education_level[T.SMA, SMU/SMK/STM, Sarjana (S1)]                                                                                                 -2.513e+05   7.58e+04     -3.317      0.001      -4e+05   -1.03e+05\n",
      "education_level[T.SMA, SMU/SMK/STM, Sarjana (S1), Diploma Pascasarjana, Gelar Professional, Magister (S2)]                                         1.132e+05   1.78e+05      0.638      0.524   -2.35e+05    4.61e+05\n",
      "education_level[T.SMA, SMU/SMK/STM, Sarjana (S1), Doktor (S3)]                                                                                     1.576e+05   5.05e+05      0.312      0.755   -8.33e+05    1.15e+06\n",
      "education_level[T.SMA, SMU/SMK/STM, Sertifikat Professional, D3 (Diploma), D4 (Diploma)]                                                          -1.567e+05    6.3e+04     -2.486      0.013    -2.8e+05   -3.31e+04\n",
      "education_level[T.SMA, SMU/SMK/STM, Sertifikat Professional, D3 (Diploma), D4 (Diploma), Diploma Pascasarjana, Gelar Professional, Magister (S2)] -8.194e+04   2.13e+05     -0.384      0.701      -5e+05    3.36e+05\n",
      "education_level[T.SMA, SMU/SMK/STM, Sertifikat Professional, D3 (Diploma), D4 (Diploma), Sarjana (S1)]                                            -1.324e+05   6.05e+04     -2.188      0.029   -2.51e+05   -1.38e+04\n",
      "education_level[T.Sarjana (S1)]                                                                                                                   -4.457e+04   5.96e+04     -0.748      0.454   -1.61e+05    7.21e+04\n",
      "education_level[T.Sarjana (S1), Diploma Pascasarjana, Gelar Professional, Magister (S2)]                                                           8216.5016   6.06e+04      0.135      0.892   -1.11e+05    1.27e+05\n",
      "education_level[T.Sarjana (S1), Diploma Pascasarjana, Gelar Professional, Magister (S2), Doktor (S3)]                                              7.903e+04   8.95e+04      0.883      0.377   -9.63e+04    2.54e+05\n",
      "education_level[T.Sarjana (S1), Doktor (S3)]                                                                                                       3.298e+04   2.58e+05      0.128      0.898   -4.72e+05    5.38e+05\n",
      "education_level[T.Sertifikat Professional, D3 (Diploma), D4 (Diploma)]                                                                            -1.518e+05    6.1e+04     -2.487      0.013   -2.71e+05   -3.22e+04\n",
      "education_level[T.Sertifikat Professional, D3 (Diploma), D4 (Diploma), Diploma Pascasarjana, Gelar Professional, Magister (S2)]                    1.652e+05   1.35e+05      1.220      0.222      -1e+05    4.31e+05\n",
      "education_level[T.Sertifikat Professional, D3 (Diploma), D4 (Diploma), Sarjana (S1)]                                                               -1.03e+05   5.98e+04     -1.722      0.085    -2.2e+05    1.42e+04\n",
      "education_level[T.Sertifikat Professional, D3 (Diploma), D4 (Diploma), Sarjana (S1), Diploma Pascasarjana, Gelar Professional, Magister (S2)]      2.382e+04   6.28e+04      0.380      0.704   -9.92e+04    1.47e+05\n",
      "education_level[T.Sertifikat Professional, D3 (Diploma), D4 (Diploma), Sarjana (S1), Doktor (S3)]                                                  3.594e+05    3.6e+05      0.999      0.318   -3.46e+05    1.06e+06\n",
      "education_level[T.Tidak terspesifikasi]                                                                                                           -1.102e+05      6e+04     -1.837      0.066   -2.28e+05    7395.654\n",
      "experience_level                                                                                                                                   1.358e+06   3177.592    427.321      0.000    1.35e+06    1.36e+06\n",
      "=====================================================================================================================================================================================================================\n",
      "\n",
      "If the model instance has been used for another fit with different fit\n",
      "parameters, then the fit options might not be the correct ones anymore .\n"
     ]
    }
   ],
   "source": [
    "modelRLM = smf.rlm(\"salary~career_level + experience_level + education_level\", data=dataset).fit()\n",
    "print(modelRLM.summary())"
   ]
  },
  {
   "cell_type": "code",
   "execution_count": 23,
   "metadata": {},
   "outputs": [
    {
     "data": {
      "text/plain": [
       "0    1.006012e+07\n",
       "1    1.017139e+07\n",
       "2    8.562667e+06\n",
       "3    9.973301e+06\n",
       "4    5.797221e+06\n",
       "dtype: float64"
      ]
     },
     "execution_count": 23,
     "metadata": {},
     "output_type": "execute_result"
    }
   ],
   "source": [
    "yPredRLM = modelRLM.predict(X)\n",
    "yPredRLM.head()"
   ]
  },
  {
   "cell_type": "code",
   "execution_count": 24,
   "metadata": {},
   "outputs": [
    {
     "data": {
      "text/plain": [
       "1161338536651.5696"
      ]
     },
     "execution_count": 24,
     "metadata": {},
     "output_type": "execute_result"
    }
   ],
   "source": [
    "mean_squared_error(Y, yPredRLM)"
   ]
  },
  {
   "cell_type": "markdown",
   "metadata": {},
   "source": [
    "Metode Random Forest"
   ]
  },
  {
   "cell_type": "code",
   "execution_count": 25,
   "metadata": {},
   "outputs": [],
   "source": [
    "xRF = dataset.drop(\"salary\", axis=1)\n",
    "yRF = dataset[\"salary\"]"
   ]
  },
  {
   "cell_type": "code",
   "execution_count": 26,
   "metadata": {},
   "outputs": [
    {
     "ename": "NameError",
     "evalue": "name 'train' is not defined",
     "output_type": "error",
     "traceback": [
      "\u001b[1;31m---------------------------------------------------------------------------\u001b[0m",
      "\u001b[1;31mNameError\u001b[0m                                 Traceback (most recent call last)",
      "\u001b[1;32m<ipython-input-26-e0d6a2357dba>\u001b[0m in \u001b[0;36m<module>\u001b[1;34m\u001b[0m\n\u001b[1;32m----> 1\u001b[1;33m \u001b[0mX_train\u001b[0m\u001b[1;33m,\u001b[0m \u001b[0mX_test\u001b[0m\u001b[1;33m,\u001b[0m \u001b[0my_train\u001b[0m\u001b[1;33m,\u001b[0m \u001b[0my_test\u001b[0m \u001b[1;33m=\u001b[0m \u001b[0mtrain\u001b[0m\u001b[1;33m\u001b[0m\u001b[1;33m\u001b[0m\u001b[0m\n\u001b[0m",
      "\u001b[1;31mNameError\u001b[0m: name 'train' is not defined"
     ]
    }
   ],
   "source": [
    "X_train, X_test, y_train, y_test = train"
   ]
  },
  {
   "cell_type": "markdown",
   "metadata": {},
   "source": [
    "**4. Visualization Data**"
   ]
  }
 ],
 "metadata": {
  "kernelspec": {
   "display_name": "Python 3.10.9 ('base')",
   "language": "python",
   "name": "python3"
  },
  "language_info": {
   "codemirror_mode": {
    "name": "ipython",
    "version": 3
   },
   "file_extension": ".py",
   "mimetype": "text/x-python",
   "name": "python",
   "nbconvert_exporter": "python",
   "pygments_lexer": "ipython3",
   "version": "3.10.9"
  },
  "orig_nbformat": 4,
  "vscode": {
   "interpreter": {
    "hash": "5faf7cf2303f867cb700a72830a1531b1508ead491941f06aa8dbd992b2ea060"
   }
  }
 },
 "nbformat": 4,
 "nbformat_minor": 2
}
